{
  "nbformat": 4,
  "nbformat_minor": 0,
  "metadata": {
    "colab": {
      "name": "RNN-Intro.ipynb",
      "provenance": [],
      "collapsed_sections": [],
      "authorship_tag": "ABX9TyPaowHFuRtLRtFscBH9rgnC",
      "include_colab_link": true
    },
    "kernelspec": {
      "name": "python3",
      "display_name": "Python 3"
    },
    "language_info": {
      "name": "python"
    },
    "accelerator": "GPU"
  },
  "cells": [
    {
      "cell_type": "markdown",
      "metadata": {
        "id": "view-in-github",
        "colab_type": "text"
      },
      "source": [
        "<a href=\"https://colab.research.google.com/github/vijayshankarrealdeal/GoogleColab/blob/main/RNN_Intro.ipynb\" target=\"_parent\"><img src=\"https://colab.research.google.com/assets/colab-badge.svg\" alt=\"Open In Colab\"/></a>"
      ]
    },
    {
      "cell_type": "code",
      "metadata": {
        "id": "YZ9J2dsmbz4i"
      },
      "source": [
        "import tensorflow as tf\n",
        "import numpy as np\n",
        "from tensorflow.keras.datasets import imdb"
      ],
      "execution_count": 1,
      "outputs": []
    },
    {
      "cell_type": "code",
      "metadata": {
        "id": "UjZW0ZSXqzzr"
      },
      "source": [
        "number_of_words = 20000\n",
        "max_len = 100"
      ],
      "execution_count": 2,
      "outputs": []
    },
    {
      "cell_type": "code",
      "metadata": {
        "colab": {
          "base_uri": "https://localhost:8080/"
        },
        "id": "08OVE32erFFB",
        "outputId": "b353e62f-859c-4be2-b691-b4bc26b56e82"
      },
      "source": [
        "(x_train,y_train),(x_test,y_test) = imdb.load_data(num_words=number_of_words)"
      ],
      "execution_count": 3,
      "outputs": [
        {
          "output_type": "stream",
          "text": [
            "<string>:6: VisibleDeprecationWarning: Creating an ndarray from ragged nested sequences (which is a list-or-tuple of lists-or-tuples-or ndarrays with different lengths or shapes) is deprecated. If you meant to do this, you must specify 'dtype=object' when creating the ndarray\n",
            "/usr/local/lib/python3.7/dist-packages/tensorflow/python/keras/datasets/imdb.py:159: VisibleDeprecationWarning: Creating an ndarray from ragged nested sequences (which is a list-or-tuple of lists-or-tuples-or ndarrays with different lengths or shapes) is deprecated. If you meant to do this, you must specify 'dtype=object' when creating the ndarray\n",
            "  x_train, y_train = np.array(xs[:idx]), np.array(labels[:idx])\n",
            "/usr/local/lib/python3.7/dist-packages/tensorflow/python/keras/datasets/imdb.py:160: VisibleDeprecationWarning: Creating an ndarray from ragged nested sequences (which is a list-or-tuple of lists-or-tuples-or ndarrays with different lengths or shapes) is deprecated. If you meant to do this, you must specify 'dtype=object' when creating the ndarray\n",
            "  x_test, y_test = np.array(xs[idx:]), np.array(labels[idx:])\n"
          ],
          "name": "stderr"
        }
      ]
    },
    {
      "cell_type": "code",
      "metadata": {
        "id": "hGrEbuThsMEd"
      },
      "source": [
        "x_train = tf.keras.preprocessing.sequence.pad_sequences(x_train,maxlen=max_len)\n",
        "x_test = tf.keras.preprocessing.sequence.pad_sequences(x_test,maxlen=max_len)"
      ],
      "execution_count": 4,
      "outputs": []
    },
    {
      "cell_type": "code",
      "metadata": {
        "id": "atCEUFMgtIWA"
      },
      "source": [
        "model = tf.keras.models.Sequential()"
      ],
      "execution_count": 5,
      "outputs": []
    },
    {
      "cell_type": "code",
      "metadata": {
        "id": "hPMlQGTxtKVX"
      },
      "source": [
        "model.add(tf.keras.layers.Embedding(input_dim=number_of_words,output_dim=128,input_shape=[100]))"
      ],
      "execution_count": 6,
      "outputs": []
    },
    {
      "cell_type": "code",
      "metadata": {
        "id": "CgLngyT813hT"
      },
      "source": [
        "model.add(tf.keras.layers.LSTM(units=128,activation='tanh'))"
      ],
      "execution_count": 7,
      "outputs": []
    },
    {
      "cell_type": "code",
      "metadata": {
        "id": "x1MVh5NZ2Utw"
      },
      "source": [
        "model.add(tf.keras.layers.Dense(1,activation='sigmoid'))"
      ],
      "execution_count": 8,
      "outputs": []
    },
    {
      "cell_type": "code",
      "metadata": {
        "id": "-nLa4G1G2VCm"
      },
      "source": [
        "model.compile(optimizer=\"rmsprop\",loss='binary_crossentropy',metrics=['accuracy'])"
      ],
      "execution_count": 9,
      "outputs": []
    },
    {
      "cell_type": "code",
      "metadata": {
        "colab": {
          "base_uri": "https://localhost:8080/"
        },
        "id": "jgWgPBMz6Hqt",
        "outputId": "da760a35-28c9-45e0-c7a4-e4307f299f31"
      },
      "source": [
        "model.summary()"
      ],
      "execution_count": 10,
      "outputs": [
        {
          "output_type": "stream",
          "text": [
            "Model: \"sequential\"\n",
            "_________________________________________________________________\n",
            "Layer (type)                 Output Shape              Param #   \n",
            "=================================================================\n",
            "embedding (Embedding)        (None, 100, 128)          2560000   \n",
            "_________________________________________________________________\n",
            "lstm (LSTM)                  (None, 128)               131584    \n",
            "_________________________________________________________________\n",
            "dense (Dense)                (None, 1)                 129       \n",
            "=================================================================\n",
            "Total params: 2,691,713\n",
            "Trainable params: 2,691,713\n",
            "Non-trainable params: 0\n",
            "_________________________________________________________________\n"
          ],
          "name": "stdout"
        }
      ]
    },
    {
      "cell_type": "code",
      "metadata": {
        "id": "W-BFuNkQI6qz"
      },
      "source": [
        "callback = tf.keras.callbacks.EarlyStopping(monitor='accuracy')"
      ],
      "execution_count": 11,
      "outputs": []
    },
    {
      "cell_type": "code",
      "metadata": {
        "colab": {
          "base_uri": "https://localhost:8080/"
        },
        "id": "Kw8_Q8Ct_Xm7",
        "outputId": "e450bba4-ae39-41dc-9dec-c9663593de62"
      },
      "source": [
        "model.fit(x_train,y_train,epochs=20,batch_size=128,callbacks=[callback])"
      ],
      "execution_count": 12,
      "outputs": [
        {
          "output_type": "stream",
          "text": [
            "Epoch 1/20\n",
            "196/196 [==============================] - 9s 24ms/step - loss: 0.5519 - accuracy: 0.7069\n",
            "Epoch 2/20\n",
            "196/196 [==============================] - 5s 23ms/step - loss: 0.2854 - accuracy: 0.8881\n",
            "Epoch 3/20\n",
            "196/196 [==============================] - 5s 23ms/step - loss: 0.2262 - accuracy: 0.9129\n",
            "Epoch 4/20\n",
            "196/196 [==============================] - 5s 24ms/step - loss: 0.1832 - accuracy: 0.9326\n",
            "Epoch 5/20\n",
            "196/196 [==============================] - 5s 23ms/step - loss: 0.1526 - accuracy: 0.9449\n",
            "Epoch 6/20\n",
            "196/196 [==============================] - 5s 23ms/step - loss: 0.1173 - accuracy: 0.9596\n",
            "Epoch 7/20\n",
            "196/196 [==============================] - 5s 23ms/step - loss: 0.0976 - accuracy: 0.9662\n",
            "Epoch 8/20\n",
            "196/196 [==============================] - 4s 23ms/step - loss: 0.0783 - accuracy: 0.9741\n",
            "Epoch 9/20\n",
            "196/196 [==============================] - 5s 24ms/step - loss: 0.0593 - accuracy: 0.9803\n",
            "Epoch 10/20\n",
            "196/196 [==============================] - 4s 23ms/step - loss: 0.0405 - accuracy: 0.9872\n",
            "Epoch 11/20\n",
            "196/196 [==============================] - 5s 23ms/step - loss: 0.0328 - accuracy: 0.9896\n",
            "Epoch 12/20\n",
            "196/196 [==============================] - 5s 23ms/step - loss: 0.0221 - accuracy: 0.9933\n",
            "Epoch 13/20\n",
            "196/196 [==============================] - 5s 23ms/step - loss: 0.0166 - accuracy: 0.9950\n",
            "Epoch 14/20\n",
            "196/196 [==============================] - 5s 23ms/step - loss: 0.0136 - accuracy: 0.9959\n",
            "Epoch 15/20\n",
            "196/196 [==============================] - 5s 23ms/step - loss: 0.0108 - accuracy: 0.9964\n",
            "Epoch 16/20\n",
            "196/196 [==============================] - 5s 23ms/step - loss: 0.0076 - accuracy: 0.9973\n",
            "Epoch 17/20\n",
            "196/196 [==============================] - 5s 23ms/step - loss: 0.0079 - accuracy: 0.9983\n",
            "Epoch 18/20\n",
            "196/196 [==============================] - 4s 23ms/step - loss: 0.0062 - accuracy: 0.9983\n"
          ],
          "name": "stdout"
        },
        {
          "output_type": "execute_result",
          "data": {
            "text/plain": [
              "<tensorflow.python.keras.callbacks.History at 0x7f03021a5750>"
            ]
          },
          "metadata": {
            "tags": []
          },
          "execution_count": 12
        }
      ]
    },
    {
      "cell_type": "code",
      "metadata": {
        "colab": {
          "base_uri": "https://localhost:8080/"
        },
        "id": "Nq85ZaL-_X-f",
        "outputId": "1a10f00e-75e8-408e-81de-ce26b1c19fad"
      },
      "source": [
        "model.evaluate(x_test,y_test)"
      ],
      "execution_count": 14,
      "outputs": [
        {
          "output_type": "stream",
          "text": [
            "782/782 [==============================] - 3s 4ms/step - loss: 1.0127 - accuracy: 0.8176\n"
          ],
          "name": "stdout"
        },
        {
          "output_type": "execute_result",
          "data": {
            "text/plain": [
              "[1.0127190351486206, 0.8175600171089172]"
            ]
          },
          "metadata": {
            "tags": []
          },
          "execution_count": 14
        }
      ]
    }
  ]
}