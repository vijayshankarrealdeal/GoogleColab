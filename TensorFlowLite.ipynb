{
  "nbformat": 4,
  "nbformat_minor": 0,
  "metadata": {
    "colab": {
      "name": "TensorFlowLite.ipynb",
      "provenance": [],
      "authorship_tag": "ABX9TyNJqSlRpVMCQPMrkw2mN9L8",
      "include_colab_link": true
    },
    "kernelspec": {
      "name": "python3",
      "display_name": "Python 3"
    },
    "language_info": {
      "name": "python"
    },
    "accelerator": "GPU"
  },
  "cells": [
    {
      "cell_type": "markdown",
      "metadata": {
        "id": "view-in-github",
        "colab_type": "text"
      },
      "source": [
        "<a href=\"https://colab.research.google.com/github/vijayshankarrealdeal/GoogleColab/blob/main/TensorFlowLite.ipynb\" target=\"_parent\"><img src=\"https://colab.research.google.com/assets/colab-badge.svg\" alt=\"Open In Colab\"/></a>"
      ]
    },
    {
      "cell_type": "code",
      "metadata": {
        "id": "aItlBQJ82ska"
      },
      "source": [
        "import tensorflow as tf\n",
        "import numpy as np\n",
        "from tensorflow.keras.datasets import fashion_mnist"
      ],
      "execution_count": 1,
      "outputs": []
    },
    {
      "cell_type": "code",
      "metadata": {
        "colab": {
          "base_uri": "https://localhost:8080/"
        },
        "id": "7np6GH6-5x3_",
        "outputId": "8e09da23-1902-4d1d-f835-566d7166e988"
      },
      "source": [
        "(x_train,y_train),(x_test,y_test) = fashion_mnist.load_data()"
      ],
      "execution_count": 2,
      "outputs": [
        {
          "output_type": "stream",
          "text": [
            "Downloading data from https://storage.googleapis.com/tensorflow/tf-keras-datasets/train-labels-idx1-ubyte.gz\n",
            "32768/29515 [=================================] - 0s 0us/step\n",
            "Downloading data from https://storage.googleapis.com/tensorflow/tf-keras-datasets/train-images-idx3-ubyte.gz\n",
            "26427392/26421880 [==============================] - 1s 0us/step\n",
            "Downloading data from https://storage.googleapis.com/tensorflow/tf-keras-datasets/t10k-labels-idx1-ubyte.gz\n",
            "8192/5148 [===============================================] - 0s 0us/step\n",
            "Downloading data from https://storage.googleapis.com/tensorflow/tf-keras-datasets/t10k-images-idx3-ubyte.gz\n",
            "4423680/4422102 [==============================] - 0s 0us/step\n"
          ],
          "name": "stdout"
        }
      ]
    },
    {
      "cell_type": "code",
      "metadata": {
        "id": "VcIoE7JF6SsM"
      },
      "source": [
        "x_train = x_train/255.0\n",
        "x_test = x_test/255.0"
      ],
      "execution_count": 3,
      "outputs": []
    },
    {
      "cell_type": "code",
      "metadata": {
        "id": "qXuC4zkE6ZGr"
      },
      "source": [
        "x_train = x_train.reshape(-1,28*28)\n",
        "x_test = x_test.reshape(-1,28*28)"
      ],
      "execution_count": 4,
      "outputs": []
    },
    {
      "cell_type": "code",
      "metadata": {
        "id": "Iv-yy0Vj6ihV"
      },
      "source": [
        "model = tf.keras.models.Sequential()"
      ],
      "execution_count": 5,
      "outputs": []
    },
    {
      "cell_type": "code",
      "metadata": {
        "id": "WZ_nMSRu6wtj"
      },
      "source": [
        "model.add(tf.keras.layers.Dense(128,activation='relu',input_shape = [784]))\n",
        "model.add(tf.keras.layers.Dropout(0.2))\n",
        "model.add(tf.keras.layers.Dense(10,activation='sigmoid'))"
      ],
      "execution_count": 6,
      "outputs": []
    },
    {
      "cell_type": "code",
      "metadata": {
        "id": "tA8jyVQj7Ntj"
      },
      "source": [
        "model.compile(optimizer='adam',loss='sparse_categorical_crossentropy',metrics=['sparse_categorical_accuracy'])"
      ],
      "execution_count": 7,
      "outputs": []
    },
    {
      "cell_type": "code",
      "metadata": {
        "id": "POphUbpF7iob"
      },
      "source": [
        "callback = tf.keras.callbacks.EarlyStopping(monitor='sparse_categorical_accuracy')"
      ],
      "execution_count": 8,
      "outputs": []
    },
    {
      "cell_type": "code",
      "metadata": {
        "colab": {
          "base_uri": "https://localhost:8080/"
        },
        "id": "szvm62gf7cMV",
        "outputId": "6551b089-1727-4d01-a9a7-dae087127c7f"
      },
      "source": [
        "model.fit(x_train,y_train,epochs = 200,callbacks=[callback])"
      ],
      "execution_count": 10,
      "outputs": [
        {
          "output_type": "stream",
          "text": [
            "Epoch 1/200\n",
            "1875/1875 [==============================] - 3s 2ms/step - loss: 0.2331 - sparse_categorical_accuracy: 0.9109\n",
            "Epoch 2/200\n",
            "1875/1875 [==============================] - 3s 2ms/step - loss: 0.2316 - sparse_categorical_accuracy: 0.9121\n",
            "Epoch 3/200\n",
            "1875/1875 [==============================] - 3s 2ms/step - loss: 0.2278 - sparse_categorical_accuracy: 0.9131\n",
            "Epoch 4/200\n",
            "1875/1875 [==============================] - 3s 2ms/step - loss: 0.2269 - sparse_categorical_accuracy: 0.9147\n",
            "Epoch 5/200\n",
            "1875/1875 [==============================] - 3s 2ms/step - loss: 0.2231 - sparse_categorical_accuracy: 0.9150\n",
            "Epoch 6/200\n",
            "1875/1875 [==============================] - 3s 2ms/step - loss: 0.2197 - sparse_categorical_accuracy: 0.9175\n",
            "Epoch 7/200\n",
            "1875/1875 [==============================] - 3s 2ms/step - loss: 0.2167 - sparse_categorical_accuracy: 0.9180\n",
            "Epoch 8/200\n",
            "1875/1875 [==============================] - 3s 2ms/step - loss: 0.2116 - sparse_categorical_accuracy: 0.9197\n",
            "Epoch 9/200\n",
            "1875/1875 [==============================] - 3s 2ms/step - loss: 0.2087 - sparse_categorical_accuracy: 0.9211\n",
            "Epoch 10/200\n",
            "1875/1875 [==============================] - 3s 2ms/step - loss: 0.2112 - sparse_categorical_accuracy: 0.9204\n"
          ],
          "name": "stdout"
        },
        {
          "output_type": "execute_result",
          "data": {
            "text/plain": [
              "<tensorflow.python.keras.callbacks.History at 0x7f5258413cd0>"
            ]
          },
          "metadata": {
            "tags": []
          },
          "execution_count": 10
        }
      ]
    },
    {
      "cell_type": "code",
      "metadata": {
        "colab": {
          "base_uri": "https://localhost:8080/"
        },
        "id": "9_WSqzH88QPj",
        "outputId": "07a0bbe7-3c02-467e-fa77-5de1befa9c58"
      },
      "source": [
        "model.evaluate(x_test,y_test)"
      ],
      "execution_count": 11,
      "outputs": [
        {
          "output_type": "stream",
          "text": [
            "313/313 [==============================] - 0s 1ms/step - loss: 0.3569 - sparse_categorical_accuracy: 0.8876\n"
          ],
          "name": "stdout"
        },
        {
          "output_type": "execute_result",
          "data": {
            "text/plain": [
              "[0.3569217324256897, 0.8876000046730042]"
            ]
          },
          "metadata": {
            "tags": []
          },
          "execution_count": 11
        }
      ]
    },
    {
      "cell_type": "code",
      "metadata": {
        "id": "-fnnbGhZ8Zxb"
      },
      "source": [
        "#Saving the model"
      ],
      "execution_count": null,
      "outputs": []
    },
    {
      "cell_type": "code",
      "metadata": {
        "id": "XUWn5jgr8olZ"
      },
      "source": [
        "model_name = 'keras_fashion.h5'"
      ],
      "execution_count": 12,
      "outputs": []
    },
    {
      "cell_type": "code",
      "metadata": {
        "id": "czTIp-u28tRa"
      },
      "source": [
        "tf.keras.models.save_model(model,model_name)"
      ],
      "execution_count": 13,
      "outputs": []
    },
    {
      "cell_type": "code",
      "metadata": {
        "id": "ZLhZNK_l86GG"
      },
      "source": [
        "#Creating the TFLITE version"
      ],
      "execution_count": 14,
      "outputs": []
    },
    {
      "cell_type": "code",
      "metadata": {
        "id": "kZRp3G1p-p7d"
      },
      "source": [
        "model = tf.keras.models.load_model(model_name)"
      ],
      "execution_count": 20,
      "outputs": []
    },
    {
      "cell_type": "code",
      "metadata": {
        "id": "86gRR9-D9KTV"
      },
      "source": [
        "converter = tf.lite.TFLiteConverter.from_keras_model(model)"
      ],
      "execution_count": 21,
      "outputs": []
    },
    {
      "cell_type": "code",
      "metadata": {
        "colab": {
          "base_uri": "https://localhost:8080/"
        },
        "id": "dqV82FMX9pr4",
        "outputId": "727943c1-1b0a-4859-c4d8-82b57f8c72d4"
      },
      "source": [
        "tf_lite_model = converter.convert()"
      ],
      "execution_count": 22,
      "outputs": [
        {
          "output_type": "stream",
          "text": [
            "INFO:tensorflow:Assets written to: /tmp/tmpa7wxqct_/assets\n"
          ],
          "name": "stdout"
        }
      ]
    },
    {
      "cell_type": "code",
      "metadata": {
        "id": "qaylov7r-LEy"
      },
      "source": [
        "with open(\"tf_model_fashion.tflite\",\"wb\") as f:\n",
        "  f.write(tf_lite_model)"
      ],
      "execution_count": 23,
      "outputs": []
    }
  ]
}