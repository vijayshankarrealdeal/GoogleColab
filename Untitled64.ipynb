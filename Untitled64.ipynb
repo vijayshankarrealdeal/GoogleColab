{
  "nbformat": 4,
  "nbformat_minor": 0,
  "metadata": {
    "colab": {
      "name": "Untitled64.ipynb",
      "provenance": [],
      "collapsed_sections": [],
      "authorship_tag": "ABX9TyPERqmOOP8+DeHYJvv9wNs0",
      "include_colab_link": true
    },
    "kernelspec": {
      "name": "python3",
      "display_name": "Python 3"
    },
    "language_info": {
      "name": "python"
    }
  },
  "cells": [
    {
      "cell_type": "markdown",
      "metadata": {
        "id": "view-in-github",
        "colab_type": "text"
      },
      "source": [
        "<a href=\"https://colab.research.google.com/github/vijayshankarrealdeal/GoogleColab/blob/main/Untitled64.ipynb\" target=\"_parent\"><img src=\"https://colab.research.google.com/assets/colab-badge.svg\" alt=\"Open In Colab\"/></a>"
      ]
    },
    {
      "cell_type": "code",
      "metadata": {
        "id": "ieGm-TBkRrsO"
      },
      "source": [
        "l=['Personal','Art','Wedding','Modeling','Fashion','Travel','Fitness','Yoga','Love','Food',\n",
        "'Pets',\n",
        "'Health',\n",
        "'WildLife',\n",
        "'Nature',\n",
        "'Festivals',\n",
        "'Universe',\n",
        "'Movie',\n",
        "'Finance',\n",
        "]\n",
        "story = ['Modeling','sexy','sexy model','sporty','happiness','erotic','cats','dogs','baby']\n",
        "\n",
        "l = l+story"
      ],
      "execution_count": 3,
      "outputs": []
    },
    {
      "cell_type": "code",
      "metadata": {
        "id": "YvBmNWeYWKWA"
      },
      "source": [
        "import pandas as pd"
      ],
      "execution_count": 4,
      "outputs": []
    },
    {
      "cell_type": "code",
      "metadata": {
        "id": "60al2AQ8SBxr"
      },
      "source": [
        "import requests\n",
        "key = \"563492ad6f9170000100000175f98a67ed5b474ead88abb30d655f08\""
      ],
      "execution_count": 5,
      "outputs": []
    },
    {
      "cell_type": "code",
      "metadata": {
        "id": "Y1FCpOZQWaHj"
      },
      "source": [
        "URL_ALL = []\n",
        "DURATION_ALL = []\n",
        "MEDIA_ALL = []\n",
        "Cat = []"
      ],
      "execution_count": 6,
      "outputs": []
    },
    {
      "cell_type": "code",
      "metadata": {
        "colab": {
          "base_uri": "https://localhost:8080/"
        },
        "id": "kb2DJj54ra_H",
        "outputId": "2d7662bb-8a58-4825-d770-7f520d6a796d"
      },
      "source": [
        " get_video = requests.get(\"https://api.pexels.com/videos/search?query=\"+l[0]+\"?orientation=portrait\"+\"&per_page=5\",headers = {'Authorization': key})\n",
        " get_video"
      ],
      "execution_count": 11,
      "outputs": [
        {
          "output_type": "execute_result",
          "data": {
            "text/plain": [
              "<Response [429]>"
            ]
          },
          "metadata": {
            "tags": []
          },
          "execution_count": 11
        }
      ]
    },
    {
      "cell_type": "code",
      "metadata": {
        "id": "5WhGtt08ZeiK",
        "colab": {
          "base_uri": "https://localhost:8080/",
          "height": 261
        },
        "outputId": "50938cbf-f2c3-4117-cc56-26231709f64b"
      },
      "source": [
        "for i in range(len(l)):\n",
        "  get_video = requests.get(\"https://api.pexels.com/videos/search?query=\"+l[i]+\"?orientation=portrait\"+\"&per_page=5\",headers = {'Authorization': key})\n",
        "  for j in range(len(get_video.json()['videos'])):\n",
        "    k = get_video.json()['videos'][j]['video_files']\n",
        "    for u in range(len(k)):\n",
        "      if k[u]['height'] == 1920:\n",
        "        URL_ALL.append(k[u]['link'])\n",
        "        Cat.append(l[i])\n",
        "        MEDIA_ALL.append(1)\n",
        "\n",
        "      "
      ],
      "execution_count": 9,
      "outputs": [
        {
          "output_type": "error",
          "ename": "KeyError",
          "evalue": "ignored",
          "traceback": [
            "\u001b[0;31m---------------------------------------------------------------------------\u001b[0m",
            "\u001b[0;31mKeyError\u001b[0m                                  Traceback (most recent call last)",
            "\u001b[0;32m<ipython-input-9-9adadafbfce0>\u001b[0m in \u001b[0;36m<module>\u001b[0;34m()\u001b[0m\n\u001b[1;32m      1\u001b[0m \u001b[0;32mfor\u001b[0m \u001b[0mi\u001b[0m \u001b[0;32min\u001b[0m \u001b[0mrange\u001b[0m\u001b[0;34m(\u001b[0m\u001b[0mlen\u001b[0m\u001b[0;34m(\u001b[0m\u001b[0ml\u001b[0m\u001b[0;34m)\u001b[0m\u001b[0;34m)\u001b[0m\u001b[0;34m:\u001b[0m\u001b[0;34m\u001b[0m\u001b[0;34m\u001b[0m\u001b[0m\n\u001b[1;32m      2\u001b[0m   \u001b[0mget_video\u001b[0m \u001b[0;34m=\u001b[0m \u001b[0mrequests\u001b[0m\u001b[0;34m.\u001b[0m\u001b[0mget\u001b[0m\u001b[0;34m(\u001b[0m\u001b[0;34m\"https://api.pexels.com/videos/search?query=\"\u001b[0m\u001b[0;34m+\u001b[0m\u001b[0ml\u001b[0m\u001b[0;34m[\u001b[0m\u001b[0mi\u001b[0m\u001b[0;34m]\u001b[0m\u001b[0;34m+\u001b[0m\u001b[0;34m\"?orientation=portrait\"\u001b[0m\u001b[0;34m+\u001b[0m\u001b[0;34m\"&per_page=5\"\u001b[0m\u001b[0;34m,\u001b[0m\u001b[0mheaders\u001b[0m \u001b[0;34m=\u001b[0m \u001b[0;34m{\u001b[0m\u001b[0;34m'Authorization'\u001b[0m\u001b[0;34m:\u001b[0m \u001b[0mkey\u001b[0m\u001b[0;34m}\u001b[0m\u001b[0;34m)\u001b[0m\u001b[0;34m\u001b[0m\u001b[0;34m\u001b[0m\u001b[0m\n\u001b[0;32m----> 3\u001b[0;31m   \u001b[0;32mfor\u001b[0m \u001b[0mj\u001b[0m \u001b[0;32min\u001b[0m \u001b[0mrange\u001b[0m\u001b[0;34m(\u001b[0m\u001b[0mlen\u001b[0m\u001b[0;34m(\u001b[0m\u001b[0mget_video\u001b[0m\u001b[0;34m.\u001b[0m\u001b[0mjson\u001b[0m\u001b[0;34m(\u001b[0m\u001b[0;34m)\u001b[0m\u001b[0;34m[\u001b[0m\u001b[0;34m'videos'\u001b[0m\u001b[0;34m]\u001b[0m\u001b[0;34m)\u001b[0m\u001b[0;34m)\u001b[0m\u001b[0;34m:\u001b[0m\u001b[0;34m\u001b[0m\u001b[0;34m\u001b[0m\u001b[0m\n\u001b[0m\u001b[1;32m      4\u001b[0m     \u001b[0mk\u001b[0m \u001b[0;34m=\u001b[0m \u001b[0mget_video\u001b[0m\u001b[0;34m.\u001b[0m\u001b[0mjson\u001b[0m\u001b[0;34m(\u001b[0m\u001b[0;34m)\u001b[0m\u001b[0;34m[\u001b[0m\u001b[0;34m'videos'\u001b[0m\u001b[0;34m]\u001b[0m\u001b[0;34m[\u001b[0m\u001b[0mj\u001b[0m\u001b[0;34m]\u001b[0m\u001b[0;34m[\u001b[0m\u001b[0;34m'video_files'\u001b[0m\u001b[0;34m]\u001b[0m\u001b[0;34m\u001b[0m\u001b[0;34m\u001b[0m\u001b[0m\n\u001b[1;32m      5\u001b[0m     \u001b[0;32mfor\u001b[0m \u001b[0mu\u001b[0m \u001b[0;32min\u001b[0m \u001b[0mrange\u001b[0m\u001b[0;34m(\u001b[0m\u001b[0mlen\u001b[0m\u001b[0;34m(\u001b[0m\u001b[0mk\u001b[0m\u001b[0;34m)\u001b[0m\u001b[0;34m)\u001b[0m\u001b[0;34m:\u001b[0m\u001b[0;34m\u001b[0m\u001b[0;34m\u001b[0m\u001b[0m\n",
            "\u001b[0;31mKeyError\u001b[0m: 'videos'"
          ]
        }
      ]
    },
    {
      "cell_type": "code",
      "metadata": {
        "id": "P6zkISZGp5Ss"
      },
      "source": [
        "for i in range(len(l)):\n",
        "  get = requests.get(\"https://api.pexels.com/v1/search?query=\"+l[i]+\"&per_page=5\",headers = {'Authorization': key})\n",
        "  js = get.json()\n",
        "  for j in range(len(js['photos'])):\n",
        "    URL_ALL.append(js['photos'][j]['src']['portrait'])\n",
        "    Cat.append(l[i])\n",
        "    MEDIA_ALL.append(0)"
      ],
      "execution_count": null,
      "outputs": []
    },
    {
      "cell_type": "code",
      "metadata": {
        "id": "5Tde9WSpa-DO"
      },
      "source": [
        "data = pd.DataFrame({'url':URL_ALL,'category':Cat,})"
      ],
      "execution_count": null,
      "outputs": []
    },
    {
      "cell_type": "code",
      "metadata": {
        "id": "MdlntuzspgJJ"
      },
      "source": [
        "data"
      ],
      "execution_count": null,
      "outputs": []
    },
    {
      "cell_type": "code",
      "metadata": {
        "id": "qJQFd7bPptiS"
      },
      "source": [
        "#UnSplash\n",
        "\n",
        "api_key = \"rmapkAe7-I9JtOQUn-Y6YgMQ_rf6d5aT8cZ5hdNBOP4\""
      ],
      "execution_count": 7,
      "outputs": []
    },
    {
      "cell_type": "code",
      "metadata": {
        "id": "u-7vHLa5r-pJ"
      },
      "source": [
        "base_url = \"https://api.unsplash.com/photos/?client_id=\"+api_key"
      ],
      "execution_count": 10,
      "outputs": []
    },
    {
      "cell_type": "code",
      "metadata": {
        "colab": {
          "base_uri": "https://localhost:8080/"
        },
        "id": "6KSqLdSJsH3J",
        "outputId": "f77c61dc-1ba6-4e13-82b4-33523a0313a7"
      },
      "source": [
        "get_unspla = requests.get(base_url)\n",
        "get_unspla"
      ],
      "execution_count": 11,
      "outputs": [
        {
          "output_type": "execute_result",
          "data": {
            "text/plain": [
              "<Response [200]>"
            ]
          },
          "metadata": {
            "tags": []
          },
          "execution_count": 11
        }
      ]
    },
    {
      "cell_type": "code",
      "metadata": {
        "colab": {
          "base_uri": "https://localhost:8080/"
        },
        "id": "UL-UoCaCsPsh",
        "outputId": "818ec883-305d-45fc-f7a0-ac8f33d7c5e1"
      },
      "source": [
        "!wget https://unsplash.com/data/lite/latest"
      ],
      "execution_count": 14,
      "outputs": [
        {
          "output_type": "stream",
          "text": [
            "--2021-08-08 12:21:08--  https://unsplash.com/data/lite/latest\n",
            "Resolving unsplash.com (unsplash.com)... 151.101.65.181, 151.101.129.181, 151.101.193.181, ...\n",
            "Connecting to unsplash.com (unsplash.com)|151.101.65.181|:443... connected.\n",
            "HTTP request sent, awaiting response... 302 Found\n",
            "Location: https://unsplash-datasets.s3.amazonaws.com/lite/latest/unsplash-research-dataset-lite-latest.zip [following]\n",
            "--2021-08-08 12:21:08--  https://unsplash-datasets.s3.amazonaws.com/lite/latest/unsplash-research-dataset-lite-latest.zip\n",
            "Resolving unsplash-datasets.s3.amazonaws.com (unsplash-datasets.s3.amazonaws.com)... 52.217.83.108\n",
            "Connecting to unsplash-datasets.s3.amazonaws.com (unsplash-datasets.s3.amazonaws.com)|52.217.83.108|:443... connected.\n",
            "HTTP request sent, awaiting response... 200 OK\n",
            "Length: 632351052 (603M) [application/zip]\n",
            "Saving to: ‘latest’\n",
            "\n",
            "latest              100%[===================>] 603.06M  42.9MB/s    in 32s     \n",
            "\n",
            "2021-08-08 12:21:41 (18.7 MB/s) - ‘latest’ saved [632351052/632351052]\n",
            "\n"
          ],
          "name": "stdout"
        }
      ]
    },
    {
      "cell_type": "code",
      "metadata": {
        "id": "hF9it-fQtaU_"
      },
      "source": [
        "import zipfile\n",
        "with zipfile.ZipFile('/content/latest.zip') as zip_ref:\n",
        "  zip_ref.extractall('/content/latest__')"
      ],
      "execution_count": 19,
      "outputs": []
    },
    {
      "cell_type": "code",
      "metadata": {
        "id": "TDOscCWLtqBW"
      },
      "source": [
        "import numpy as np\n",
        "import pandas as pd\n",
        "import glob"
      ],
      "execution_count": 20,
      "outputs": []
    },
    {
      "cell_type": "code",
      "metadata": {
        "id": "ITwAy8uguKkP"
      },
      "source": [
        "path = '/content/latest__/'\n",
        "documents = ['photos', 'keywords', 'collections', 'conversions', 'colors']\n",
        "datasets = {}\n",
        "\n",
        "for doc in documents:\n",
        "  files = glob.glob(path + doc + \".tsv*\")\n",
        "\n",
        "  subsets = []\n",
        "  for filename in files:\n",
        "    df = pd.read_csv(filename, sep='\\t', header=0)\n",
        "    subsets.append(df)\n",
        "\n",
        "  datasets[doc] = pd.concat(subsets, axis=0, ignore_index=True)"
      ],
      "execution_count": 24,
      "outputs": []
    },
    {
      "cell_type": "code",
      "metadata": {
        "colab": {
          "base_uri": "https://localhost:8080/",
          "height": 204
        },
        "id": "yDZZY2F4uOyE",
        "outputId": "8f77558f-0c87-41a6-b154-02a7962c2439"
      },
      "source": [
        "datasets['collections'].head()"
      ],
      "execution_count": 39,
      "outputs": [
        {
          "output_type": "execute_result",
          "data": {
            "text/html": [
              "<div>\n",
              "<style scoped>\n",
              "    .dataframe tbody tr th:only-of-type {\n",
              "        vertical-align: middle;\n",
              "    }\n",
              "\n",
              "    .dataframe tbody tr th {\n",
              "        vertical-align: top;\n",
              "    }\n",
              "\n",
              "    .dataframe thead th {\n",
              "        text-align: right;\n",
              "    }\n",
              "</style>\n",
              "<table border=\"1\" class=\"dataframe\">\n",
              "  <thead>\n",
              "    <tr style=\"text-align: right;\">\n",
              "      <th></th>\n",
              "      <th>photo_id</th>\n",
              "      <th>collection_id</th>\n",
              "      <th>collection_title</th>\n",
              "      <th>photo_collected_at</th>\n",
              "    </tr>\n",
              "  </thead>\n",
              "  <tbody>\n",
              "    <tr>\n",
              "      <th>0</th>\n",
              "      <td>--2IBUMom1I</td>\n",
              "      <td>9832457</td>\n",
              "      <td>business</td>\n",
              "      <td>2020-04-04 14:26:10.506402</td>\n",
              "    </tr>\n",
              "    <tr>\n",
              "      <th>1</th>\n",
              "      <td>--2IBUMom1I</td>\n",
              "      <td>162470</td>\n",
              "      <td>Majestical Sunsets</td>\n",
              "      <td>2016-03-15 17:04:25.089589</td>\n",
              "    </tr>\n",
              "    <tr>\n",
              "      <th>2</th>\n",
              "      <td>--2IBUMom1I</td>\n",
              "      <td>4916417</td>\n",
              "      <td>PESSOAS</td>\n",
              "      <td>2019-06-01 04:20:40.076819</td>\n",
              "    </tr>\n",
              "    <tr>\n",
              "      <th>3</th>\n",
              "      <td>--2IBUMom1I</td>\n",
              "      <td>88441555</td>\n",
              "      <td>ROCANCOURT</td>\n",
              "      <td>2020-10-26 10:53:03.931209</td>\n",
              "    </tr>\n",
              "    <tr>\n",
              "      <th>4</th>\n",
              "      <td>--2IBUMom1I</td>\n",
              "      <td>2143051</td>\n",
              "      <td>Travel / Places</td>\n",
              "      <td>2018-05-22 23:20:05.898545</td>\n",
              "    </tr>\n",
              "  </tbody>\n",
              "</table>\n",
              "</div>"
            ],
            "text/plain": [
              "      photo_id collection_id    collection_title          photo_collected_at\n",
              "0  --2IBUMom1I       9832457            business  2020-04-04 14:26:10.506402\n",
              "1  --2IBUMom1I        162470  Majestical Sunsets  2016-03-15 17:04:25.089589\n",
              "2  --2IBUMom1I       4916417             PESSOAS  2019-06-01 04:20:40.076819\n",
              "3  --2IBUMom1I      88441555          ROCANCOURT  2020-10-26 10:53:03.931209\n",
              "4  --2IBUMom1I       2143051     Travel / Places  2018-05-22 23:20:05.898545"
            ]
          },
          "metadata": {
            "tags": []
          },
          "execution_count": 39
        }
      ]
    },
    {
      "cell_type": "code",
      "metadata": {
        "id": "vtEQcsQSwk6S"
      },
      "source": [
        "df = pd.merge(datasets['photos'], datasets['collections'], on=\"photo_id\")"
      ],
      "execution_count": 53,
      "outputs": []
    },
    {
      "cell_type": "code",
      "metadata": {
        "colab": {
          "base_uri": "https://localhost:8080/"
        },
        "id": "Kahseb4lyvsu",
        "outputId": "7ec36626-b53e-41f7-fec0-1e393c02ea05"
      },
      "source": [
        "print(l[-8])"
      ],
      "execution_count": 58,
      "outputs": [
        {
          "output_type": "stream",
          "text": [
            "sexy\n"
          ],
          "name": "stdout"
        }
      ]
    },
    {
      "cell_type": "code",
      "metadata": {
        "colab": {
          "base_uri": "https://localhost:8080/"
        },
        "id": "PfUqTWQKumG4",
        "outputId": "8780b96b-206a-436f-c5d2-9fbce0e690c9"
      },
      "source": [
        "df[df['collection_title'] == 'cats']['photo_image_url']"
      ],
      "execution_count": 74,
      "outputs": [
        {
          "output_type": "execute_result",
          "data": {
            "text/plain": [
              "15538      https://images.unsplash.com/photo-145804691349...\n",
              "15564      https://images.unsplash.com/photo-145804691349...\n",
              "15589      https://images.unsplash.com/photo-145804691349...\n",
              "15598      https://images.unsplash.com/photo-145804691349...\n",
              "15622      https://images.unsplash.com/photo-145804691349...\n",
              "                                 ...                        \n",
              "2038549    https://images.unsplash.com/photo-157522124171...\n",
              "2048571    https://images.unsplash.com/photo-1555341029-f...\n",
              "2073147    https://images.unsplash.com/photo-1559744776-8...\n",
              "2075067    https://images.unsplash.com/photo-158103131435...\n",
              "2075092    https://images.unsplash.com/photo-158103131435...\n",
              "Name: photo_image_url, Length: 1427, dtype: object"
            ]
          },
          "metadata": {
            "tags": []
          },
          "execution_count": 74
        }
      ]
    },
    {
      "cell_type": "code",
      "metadata": {
        "colab": {
          "base_uri": "https://localhost:8080/",
          "height": 35
        },
        "id": "LVjx_AdOwrlh",
        "outputId": "f80561d8-4352-4a94-df96-7c424b6d2b1f"
      },
      "source": [
        "datasets['keywords'].keyword[0]"
      ],
      "execution_count": 86,
      "outputs": [
        {
          "output_type": "execute_result",
          "data": {
            "application/vnd.google.colaboratory.intrinsic+json": {
              "type": "string"
            },
            "text/plain": [
              "'grove'"
            ]
          },
          "metadata": {
            "tags": []
          },
          "execution_count": 86
        }
      ]
    },
    {
      "cell_type": "code",
      "metadata": {
        "id": "wAiRacYa1tRg"
      },
      "source": [
        "index = []"
      ],
      "execution_count": 88,
      "outputs": []
    },
    {
      "cell_type": "code",
      "metadata": {
        "id": "F89g1jhv0KOt"
      },
      "source": [
        "for i in range(len(datasets['keywords'].keyword)):\n",
        "  if datasets['keywords'].keyword[i] in l:\n",
        "    index.append(i)\n",
        "    print(i)"
      ],
      "execution_count": null,
      "outputs": []
    },
    {
      "cell_type": "code",
      "metadata": {
        "colab": {
          "base_uri": "https://localhost:8080/"
        },
        "id": "k4VZ45ka1w5X",
        "outputId": "b1808cc7-6b88-4028-c08f-4c32607f9d69"
      },
      "source": [
        "len(index)"
      ],
      "execution_count": 91,
      "outputs": [
        {
          "output_type": "execute_result",
          "data": {
            "text/plain": [
              "1836"
            ]
          },
          "metadata": {
            "tags": []
          },
          "execution_count": 91
        }
      ]
    },
    {
      "cell_type": "code",
      "metadata": {
        "id": "3W4wciOV2HWo"
      },
      "source": [
        "df = pd.merge(datasets['photos'], datasets['collections'], on=\"photo_id\")"
      ],
      "execution_count": 94,
      "outputs": []
    },
    {
      "cell_type": "code",
      "metadata": {
        "id": "u47IKLDx2TTz"
      },
      "source": [
        "fd = pd.merge( datasets['keywords'],df,on='photo_id')"
      ],
      "execution_count": null,
      "outputs": []
    },
    {
      "cell_type": "code",
      "metadata": {
        "colab": {
          "base_uri": "https://localhost:8080/",
          "height": 171
        },
        "id": "jkkS2c6e2eYL",
        "outputId": "e1f4e033-b530-4be5-c598-02e7e477f7f3"
      },
      "source": [
        "fd.head()"
      ],
      "execution_count": 1,
      "outputs": [
        {
          "output_type": "error",
          "ename": "NameError",
          "evalue": "ignored",
          "traceback": [
            "\u001b[0;31m---------------------------------------------------------------------------\u001b[0m",
            "\u001b[0;31mNameError\u001b[0m                                 Traceback (most recent call last)",
            "\u001b[0;32m<ipython-input-1-29e5200c4923>\u001b[0m in \u001b[0;36m<module>\u001b[0;34m()\u001b[0m\n\u001b[0;32m----> 1\u001b[0;31m \u001b[0mfd\u001b[0m\u001b[0;34m.\u001b[0m\u001b[0mhead\u001b[0m\u001b[0;34m(\u001b[0m\u001b[0;34m)\u001b[0m\u001b[0;34m\u001b[0m\u001b[0;34m\u001b[0m\u001b[0m\n\u001b[0m",
            "\u001b[0;31mNameError\u001b[0m: name 'fd' is not defined"
          ]
        }
      ]
    },
    {
      "cell_type": "code",
      "metadata": {
        "id": "b86v5JWB2lDz"
      },
      "source": [
        ""
      ],
      "execution_count": null,
      "outputs": []
    }
  ]
}