{
  "nbformat": 4,
  "nbformat_minor": 0,
  "metadata": {
    "colab": {
      "name": "FeedForward.ipynb",
      "provenance": [],
      "collapsed_sections": [],
      "authorship_tag": "ABX9TyNlzvnjrobLzimHEo+EJcYX",
      "include_colab_link": true
    },
    "kernelspec": {
      "display_name": "Python 3",
      "name": "python3"
    },
    "language_info": {
      "name": "python"
    },
    "accelerator": "GPU"
  },
  "cells": [
    {
      "cell_type": "markdown",
      "metadata": {
        "id": "view-in-github",
        "colab_type": "text"
      },
      "source": [
        "<a href=\"https://colab.research.google.com/github/vijayshankarrealdeal/GoogleColab/blob/main/FeedForward.ipynb\" target=\"_parent\"><img src=\"https://colab.research.google.com/assets/colab-badge.svg\" alt=\"Open In Colab\"/></a>"
      ]
    },
    {
      "cell_type": "code",
      "metadata": {
        "id": "axFllIRD-lWV"
      },
      "source": [
        "import torch\n",
        "import numpy as np\n",
        "import torch.nn as nn\n",
        "import matplotlib.pyplot as plt\n",
        "from torchvision.datasets import MNIST\n",
        "import torchvision.transforms as transforms\n",
        "from torch.utils.data import DataLoader"
      ],
      "execution_count": 73,
      "outputs": []
    },
    {
      "cell_type": "code",
      "metadata": {
        "id": "WEtT21JaS1zd"
      },
      "source": [
        "device = torch.device('cuda' if torch.cuda.is_available()else 'cpu')"
      ],
      "execution_count": 74,
      "outputs": []
    },
    {
      "cell_type": "code",
      "metadata": {
        "id": "-H_4sdOuFTzm"
      },
      "source": [
        "train_dataset = MNIST(root = '.',train=True,download=True,transform=transforms.ToTensor())\n",
        "test_dataset = MNIST(root = '.',train=False,download=True,transform=transforms.ToTensor())"
      ],
      "execution_count": 75,
      "outputs": []
    },
    {
      "cell_type": "code",
      "metadata": {
        "id": "2SupUQPILZRH"
      },
      "source": [
        "class Model(nn.Module):\n",
        "  def __init__(self,input_dim = 784,output_dim = 10,hidden_units = 64):\n",
        "    super(Model,self).__init__()\n",
        "    self.res = nn.Sequential(\n",
        "        nn.Linear(input_dim,hidden_units),\n",
        "        nn.ReLU(),\n",
        "        nn.Linear(hidden_units,hidden_units*2),\n",
        "        nn.ReLU(),\n",
        "        nn.Linear(hidden_units*2,output_dim),\n",
        "    )\n",
        "\n",
        "  def forward(self,x):\n",
        "    return self.res(x)"
      ],
      "execution_count": 76,
      "outputs": []
    },
    {
      "cell_type": "code",
      "metadata": {
        "id": "N3uTDQFMSDLg"
      },
      "source": [
        "criterion = nn.CrossEntropyLoss()\n",
        "model = Model().to(device)\n",
        "optimizer = torch.optim.Adam(model.parameters(),lr = 0.01)"
      ],
      "execution_count": 77,
      "outputs": []
    },
    {
      "cell_type": "code",
      "metadata": {
        "colab": {
          "base_uri": "https://localhost:8080/"
        },
        "id": "0Am87UFBUBgD",
        "outputId": "f00670eb-9d7c-43ff-f9be-29541c2806a6"
      },
      "source": [
        "model,device"
      ],
      "execution_count": 78,
      "outputs": [
        {
          "output_type": "execute_result",
          "data": {
            "text/plain": [
              "(Model(\n",
              "   (res): Sequential(\n",
              "     (0): Linear(in_features=784, out_features=64, bias=True)\n",
              "     (1): ReLU()\n",
              "     (2): Linear(in_features=64, out_features=128, bias=True)\n",
              "     (3): ReLU()\n",
              "     (4): Linear(in_features=128, out_features=10, bias=True)\n",
              "   )\n",
              " ), device(type='cuda'))"
            ]
          },
          "metadata": {
            "tags": []
          },
          "execution_count": 78
        }
      ]
    },
    {
      "cell_type": "code",
      "metadata": {
        "id": "ZmsRC_PjVWTJ"
      },
      "source": [
        "train_loader = DataLoader(dataset = train_dataset,batch_size = batch_size,shuffle=True)\n",
        "test_loader = DataLoader(dataset = test_dataset,batch_size = batch_size,shuffle=False)"
      ],
      "execution_count": 79,
      "outputs": []
    },
    {
      "cell_type": "code",
      "metadata": {
        "id": "zluWiypLXXbk"
      },
      "source": [
        "train_losses = np.zeros(n_epochs)\n",
        "test_losses = np.zeros(n_epochs)"
      ],
      "execution_count": 80,
      "outputs": []
    },
    {
      "cell_type": "code",
      "metadata": {
        "colab": {
          "base_uri": "https://localhost:8080/"
        },
        "id": "UOK0BT4UV73c",
        "outputId": "fe51de82-7c78-48c1-a8b7-ffd6e63d3250"
      },
      "source": [
        "n_epochs = 10\n",
        "train_losses = np.zeros(n_epochs)\n",
        "test_losses = np.zeros(n_epochs)\n",
        "\n",
        "for it in range(n_epochs):\n",
        "  train_loss = []\n",
        "  for inputs, targets in train_loader:\n",
        "    inputs, targets = inputs.to(device), targets.to(device)\n",
        "\n",
        "    inputs = inputs.view(-1, 784)/255.0\n",
        "\n",
        "    optimizer.zero_grad()\n",
        "    outputs = model(inputs)\n",
        "    loss = criterion(outputs, targets)\n",
        "    loss.backward()\n",
        "    optimizer.step()\n",
        "\n",
        "    train_loss.append(loss.item())\n",
        "\n",
        "  train_loss = np.mean(train_loss) \n",
        "  \n",
        "  test_loss = []\n",
        "  for inputs, targets in test_loader:\n",
        "    inputs, targets = inputs.to(device), targets.to(device)\n",
        "    inputs = inputs.view(-1, 784)/255.0\n",
        "    outputs = model(inputs)\n",
        "    loss = criterion(outputs, targets)\n",
        "    test_loss.append(loss.item())\n",
        "  test_loss = np.mean(test_loss)\n",
        "\n",
        "  train_losses[it] = train_loss\n",
        "  test_losses[it] = test_loss\n",
        "    \n",
        "  print(f'Epoch {it+1}/{n_epochs}, Train Loss: {train_loss:.4f}, Test Loss: {test_loss:.4f}')"
      ],
      "execution_count": 81,
      "outputs": [
        {
          "output_type": "stream",
          "text": [
            "Epoch 1/10, Train Loss: 0.7081, Test Loss: 0.3678\n",
            "Epoch 2/10, Train Loss: 0.3213, Test Loss: 0.2806\n",
            "Epoch 3/10, Train Loss: 0.2516, Test Loss: 0.2184\n",
            "Epoch 4/10, Train Loss: 0.2097, Test Loss: 0.2005\n",
            "Epoch 5/10, Train Loss: 0.1792, Test Loss: 0.1867\n",
            "Epoch 6/10, Train Loss: 0.1560, Test Loss: 0.1460\n",
            "Epoch 7/10, Train Loss: 0.1397, Test Loss: 0.1453\n",
            "Epoch 8/10, Train Loss: 0.1285, Test Loss: 0.1321\n",
            "Epoch 9/10, Train Loss: 0.1157, Test Loss: 0.1303\n",
            "Epoch 10/10, Train Loss: 0.1095, Test Loss: 0.1361\n"
          ],
          "name": "stdout"
        }
      ]
    },
    {
      "cell_type": "code",
      "metadata": {
        "colab": {
          "base_uri": "https://localhost:8080/",
          "height": 265
        },
        "id": "mz-6nt3Lc8U8",
        "outputId": "742c055b-8a5f-4323-9c60-c03e5a9efe8f"
      },
      "source": [
        "plt.plot(train_losses, label='train loss')\n",
        "plt.plot(test_losses, label='test loss')\n",
        "plt.legend()\n",
        "plt.show()"
      ],
      "execution_count": 82,
      "outputs": [
        {
          "output_type": "display_data",
          "data": {
            "image/png": "[encoded data removed]",
            "text/plain": [
              "<Figure size 432x288 with 1 Axes>"
            ]
          },
          "metadata": {
            "tags": [],
            "needs_background": "light"
          }
        }
      ]
    },
    {
      "cell_type": "code",
      "metadata": {
        "colab": {
          "base_uri": "https://localhost:8080/"
        },
        "id": "Hmz6_N3YdjDr",
        "outputId": "19666e43-b7b3-4853-96c4-f4ad37b44e56"
      },
      "source": [
        "n_correct = 0.\n",
        "n_total = 0.\n",
        "for inputs, targets in train_loader:\n",
        "  inputs, targets = inputs.to(device), targets.to(device)\n",
        "  inputs = inputs.view(-1, 784)\n",
        "  outputs = model(inputs)\n",
        "  _, predictions = torch.max(outputs, 1)\n",
        "  \n",
        "  n_correct += (predictions == targets).sum().item()\n",
        "  n_total += targets.shape[0]\n",
        "\n",
        "train_acc = n_correct / n_total\n",
        "\n",
        "\n",
        "n_correct = 0.\n",
        "n_total = 0.\n",
        "for inputs, targets in test_loader:\n",
        "  inputs, targets = inputs.to(device), targets.to(device)\n",
        "  inputs = inputs.view(-1, 784)\n",
        "  outputs = model(inputs)\n",
        "  _, predictions = torch.max(outputs, 1)\n",
        "  n_correct += (predictions == targets).sum().item()\n",
        "  n_total += targets.shape[0]\n",
        "\n",
        "test_acc = n_correct / n_total\n",
        "print(f\"Train acc: {train_acc:.4f}, Test acc: {test_acc:.4f}\")"
      ],
      "execution_count": 85,
      "outputs": [
        {
          "output_type": "stream",
          "text": [
            "Train acc: 0.9340, Test acc: 0.9356\n"
          ],
          "name": "stdout"
        }
      ]
    },
    {
      "cell_type": "code",
      "metadata": {
        "id": "0hNGudAlg1aD"
      },
      "source": [
        "from sklearn.metrics import confusion_matrix\n",
        "import itertools"
      ],
      "execution_count": 87,
      "outputs": []
    },
    {
      "cell_type": "code",
      "metadata": {
        "id": "TJZhqxEChE0S"
      },
      "source": [
        "def plot_confusion_matrix(cm, classes,\n",
        "                          normalize=False,\n",
        "                          title='Confusion matrix',\n",
        "                          cmap=plt.cm.Blues):\n",
        "  if normalize:\n",
        "      cm = cm.astype('float') / cm.sum(axis=1)[:, np.newaxis]\n",
        "      print(\"Normalized confusion matrix\")\n",
        "  else:\n",
        "      print('Confusion matrix, without normalization')\n",
        "\n",
        "  print(cm)\n",
        "\n",
        "  plt.imshow(cm, interpolation='nearest', cmap=cmap)\n",
        "  plt.title(title)\n",
        "  plt.colorbar()\n",
        "  tick_marks = np.arange(len(classes))\n",
        "  plt.xticks(tick_marks, classes, rotation=45)\n",
        "  plt.yticks(tick_marks, classes)\n",
        "\n",
        "  fmt = '.2f' if normalize else 'd'\n",
        "  thresh = cm.max() / 2.\n",
        "  for i, j in itertools.product(range(cm.shape[0]), range(cm.shape[1])):\n",
        "      plt.text(j, i, format(cm[i, j], fmt),\n",
        "               horizontalalignment=\"center\",\n",
        "               color=\"white\" if cm[i, j] > thresh else \"black\")\n",
        "\n",
        "  plt.tight_layout()\n",
        "  plt.ylabel('True label')\n",
        "  plt.xlabel('Predicted label')\n",
        "  plt.show()"
      ],
      "execution_count": 89,
      "outputs": []
    },
    {
      "cell_type": "code",
      "metadata": {
        "id": "6Oi-a4zxhw9u",
        "outputId": "821a926d-77a7-4410-f964-53cf63a8fa94",
        "colab": {
          "base_uri": "https://localhost:8080/",
          "height": 508
        }
      },
      "source": [
        "x_test = test_dataset.data.numpy()\n",
        "y_test = test_dataset.targets.numpy()\n",
        "p_test = np.array([])\n",
        "for inputs, targets in test_loader:\n",
        "  inputs = inputs.to(device)\n",
        "  inputs = inputs.view(-1, 784)\n",
        "  outputs = model(inputs)\n",
        "  _, predictions = torch.max(outputs, 1)\n",
        "  p_test = np.concatenate((p_test, predictions.cpu().numpy()))\n",
        "\n",
        "cm = confusion_matrix(y_test, p_test)\n",
        "plot_confusion_matrix(cm, list(range(10)))"
      ],
      "execution_count": 90,
      "outputs": [
        {
          "output_type": "stream",
          "text": [
            "Confusion matrix, without normalization\n",
            "[[ 961    0    5    2    1    1    0    1    4    5]\n",
            " [   0 1035    9    8    0    1    1    3   78    0]\n",
            " [   4    2  968   37    2    0    1    8   10    0]\n",
            " [   0    1    4  990    0    1    0    6    8    0]\n",
            " [   5    0   10    2  915    0    7    7   12   24]\n",
            " [   8    0    8   29    4  791    1    4   40    7]\n",
            " [  15    0   12    2    1    8  895    1   23    1]\n",
            " [   2    0   12   43    1    0    0  951    4   15]\n",
            " [   2    0    3   18    1    4    2    3  941    0]\n",
            " [   4    3    1   25   17    1    0   10   39  909]]\n"
          ],
          "name": "stdout"
        },
        {
          "output_type": "display_data",
          "data": {
            "image/png": "[encoded data removed]",
            "text/plain": [
              "<Figure size 432x288 with 2 Axes>"
            ]
          },
          "metadata": {
            "tags": [],
            "needs_background": "light"
          }
        }
      ]
    },
    {
      "cell_type": "code",
      "metadata": {
        "id": "nouoIbmriXoK",
        "outputId": "8678fad1-0f48-4eaa-df37-7d193f66e4e7",
        "colab": {
          "base_uri": "https://localhost:8080/",
          "height": 281
        }
      },
      "source": [
        "misclassified_idx = np.where(p_test != y_test)[0]\n",
        "i = np.random.choice(misclassified_idx)\n",
        "plt.imshow(x_test[i], cmap='gray')\n",
        "plt.title(\"True label: %s Predicted: %s\" % (y_test[i], int(p_test[i])));"
      ],
      "execution_count": 91,
      "outputs": [
        {
          "output_type": "display_data",
          "data": {
            "image/png": "[encoded data removed]",
            "text/plain": [
              "<Figure size 432x288 with 1 Axes>"
            ]
          },
          "metadata": {
            "tags": [],
            "needs_background": "light"
          }
        }
      ]
    }
  ]
}