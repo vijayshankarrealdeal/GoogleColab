{
  "nbformat": 4,
  "nbformat_minor": 0,
  "metadata": {
    "colab": {
      "name": "Kmeans.ipynb",
      "provenance": [],
      "collapsed_sections": [],
      "authorship_tag": "ABX9TyP5NhuUaKsBJmzDivmnJMGR",
      "include_colab_link": true
    },
    "kernelspec": {
      "name": "python3",
      "display_name": "Python 3"
    },
    "language_info": {
      "name": "python"
    }
  },
  "cells": [
    {
      "cell_type": "markdown",
      "metadata": {
        "id": "view-in-github",
        "colab_type": "text"
      },
      "source": [
        "<a href=\"https://colab.research.google.com/github/vijayshankarrealdeal/GoogleColab/blob/main/Kmeans.ipynb\" target=\"_parent\"><img src=\"https://colab.research.google.com/assets/colab-badge.svg\" alt=\"Open In Colab\"/></a>"
      ]
    },
    {
      "cell_type": "code",
      "metadata": {
        "id": "cQTptOs2C88p",
        "colab": {
          "base_uri": "https://localhost:8080/"
        },
        "outputId": "de01d07e-5440-4159-f1aa-2cc805889ddf"
      },
      "source": [
        "!pip install geopandas"
      ],
      "execution_count": 128,
      "outputs": [
        {
          "output_type": "stream",
          "text": [
            "Requirement already satisfied: geopandas in /usr/local/lib/python3.7/dist-packages (0.9.0)\n",
            "Requirement already satisfied: pyproj>=2.2.0 in /usr/local/lib/python3.7/dist-packages (from geopandas) (3.1.0)\n",
            "Requirement already satisfied: shapely>=1.6 in /usr/local/lib/python3.7/dist-packages (from geopandas) (1.7.1)\n",
            "Requirement already satisfied: fiona>=1.8 in /usr/local/lib/python3.7/dist-packages (from geopandas) (1.8.20)\n",
            "Requirement already satisfied: pandas>=0.24.0 in /usr/local/lib/python3.7/dist-packages (from geopandas) (1.1.5)\n",
            "Requirement already satisfied: click>=4.0 in /usr/local/lib/python3.7/dist-packages (from fiona>=1.8->geopandas) (7.1.2)\n",
            "Requirement already satisfied: attrs>=17 in /usr/local/lib/python3.7/dist-packages (from fiona>=1.8->geopandas) (21.2.0)\n",
            "Requirement already satisfied: setuptools in /usr/local/lib/python3.7/dist-packages (from fiona>=1.8->geopandas) (57.4.0)\n",
            "Requirement already satisfied: click-plugins>=1.0 in /usr/local/lib/python3.7/dist-packages (from fiona>=1.8->geopandas) (1.1.1)\n",
            "Requirement already satisfied: munch in /usr/local/lib/python3.7/dist-packages (from fiona>=1.8->geopandas) (2.5.0)\n",
            "Requirement already satisfied: six>=1.7 in /usr/local/lib/python3.7/dist-packages (from fiona>=1.8->geopandas) (1.15.0)\n",
            "Requirement already satisfied: certifi in /usr/local/lib/python3.7/dist-packages (from fiona>=1.8->geopandas) (2021.5.30)\n",
            "Requirement already satisfied: cligj>=0.5 in /usr/local/lib/python3.7/dist-packages (from fiona>=1.8->geopandas) (0.7.2)\n",
            "Requirement already satisfied: pytz>=2017.2 in /usr/local/lib/python3.7/dist-packages (from pandas>=0.24.0->geopandas) (2018.9)\n",
            "Requirement already satisfied: python-dateutil>=2.7.3 in /usr/local/lib/python3.7/dist-packages (from pandas>=0.24.0->geopandas) (2.8.2)\n",
            "Requirement already satisfied: numpy>=1.15.4 in /usr/local/lib/python3.7/dist-packages (from pandas>=0.24.0->geopandas) (1.19.5)\n"
          ],
          "name": "stdout"
        }
      ]
    },
    {
      "cell_type": "code",
      "metadata": {
        "id": "l68es11uAL9H"
      },
      "source": [
        "import os\n",
        "import numpy as np\n",
        "import pandas as pd\n",
        "import seaborn as sns\n",
        "import matplotlib.pyplot as plt\n",
        "%matplotlib inline\n",
        "\n",
        "from sklearn.preprocessing import MinMaxScaler\n",
        "from sklearn.preprocessing import StandardScaler\n",
        "\n",
        "from sklearn.cluster import KMeans\n",
        "from sklearn.metrics import silhouette_score\n",
        "from yellowbrick.cluster import SilhouetteVisualizer\n",
        "\n",
        "from sklearn import linear_model\n",
        "import geopandas as gpd\n",
        "from geopandas import GeoDataFrame as gdf\n",
        "import plotly.express as px\n"
      ],
      "execution_count": 129,
      "outputs": []
    },
    {
      "cell_type": "code",
      "metadata": {
        "id": "7jUoelP8Aa3Y"
      },
      "source": [
        "data = pd.read_csv('/content/Country-data.csv')\n",
        "country = data.country"
      ],
      "execution_count": 130,
      "outputs": []
    },
    {
      "cell_type": "code",
      "metadata": {
        "id": "iwloD8B-DxA-"
      },
      "source": [
        "title = pd.read_csv('/content/data-dictionary.csv')"
      ],
      "execution_count": 131,
      "outputs": []
    },
    {
      "cell_type": "code",
      "metadata": {
        "colab": {
          "base_uri": "https://localhost:8080/",
          "height": 363
        },
        "id": "lpTvUKwFDHe0",
        "outputId": "2d7599bd-560d-4691-d2fc-fb8ff17b19ed"
      },
      "source": [
        "data.head(10)"
      ],
      "execution_count": 132,
      "outputs": [
        {
          "output_type": "execute_result",
          "data": {
            "text/html": [
              "<div>\n",
              "<style scoped>\n",
              "    .dataframe tbody tr th:only-of-type {\n",
              "        vertical-align: middle;\n",
              "    }\n",
              "\n",
              "    .dataframe tbody tr th {\n",
              "        vertical-align: top;\n",
              "    }\n",
              "\n",
              "    .dataframe thead th {\n",
              "        text-align: right;\n",
              "    }\n",
              "</style>\n",
              "<table border=\"1\" class=\"dataframe\">\n",
              "  <thead>\n",
              "    <tr style=\"text-align: right;\">\n",
              "      <th></th>\n",
              "      <th>country</th>\n",
              "      <th>child_mort</th>\n",
              "      <th>exports</th>\n",
              "      <th>health</th>\n",
              "      <th>imports</th>\n",
              "      <th>income</th>\n",
              "      <th>inflation</th>\n",
              "      <th>life_expec</th>\n",
              "      <th>total_fer</th>\n",
              "      <th>gdpp</th>\n",
              "    </tr>\n",
              "  </thead>\n",
              "  <tbody>\n",
              "    <tr>\n",
              "      <th>0</th>\n",
              "      <td>Afghanistan</td>\n",
              "      <td>90.2</td>\n",
              "      <td>10.0</td>\n",
              "      <td>7.58</td>\n",
              "      <td>44.9</td>\n",
              "      <td>1610</td>\n",
              "      <td>9.440</td>\n",
              "      <td>56.2</td>\n",
              "      <td>5.82</td>\n",
              "      <td>553</td>\n",
              "    </tr>\n",
              "    <tr>\n",
              "      <th>1</th>\n",
              "      <td>Albania</td>\n",
              "      <td>16.6</td>\n",
              "      <td>28.0</td>\n",
              "      <td>6.55</td>\n",
              "      <td>48.6</td>\n",
              "      <td>9930</td>\n",
              "      <td>4.490</td>\n",
              "      <td>76.3</td>\n",
              "      <td>1.65</td>\n",
              "      <td>4090</td>\n",
              "    </tr>\n",
              "    <tr>\n",
              "      <th>2</th>\n",
              "      <td>Algeria</td>\n",
              "      <td>27.3</td>\n",
              "      <td>38.4</td>\n",
              "      <td>4.17</td>\n",
              "      <td>31.4</td>\n",
              "      <td>12900</td>\n",
              "      <td>16.100</td>\n",
              "      <td>76.5</td>\n",
              "      <td>2.89</td>\n",
              "      <td>4460</td>\n",
              "    </tr>\n",
              "    <tr>\n",
              "      <th>3</th>\n",
              "      <td>Angola</td>\n",
              "      <td>119.0</td>\n",
              "      <td>62.3</td>\n",
              "      <td>2.85</td>\n",
              "      <td>42.9</td>\n",
              "      <td>5900</td>\n",
              "      <td>22.400</td>\n",
              "      <td>60.1</td>\n",
              "      <td>6.16</td>\n",
              "      <td>3530</td>\n",
              "    </tr>\n",
              "    <tr>\n",
              "      <th>4</th>\n",
              "      <td>Antigua and Barbuda</td>\n",
              "      <td>10.3</td>\n",
              "      <td>45.5</td>\n",
              "      <td>6.03</td>\n",
              "      <td>58.9</td>\n",
              "      <td>19100</td>\n",
              "      <td>1.440</td>\n",
              "      <td>76.8</td>\n",
              "      <td>2.13</td>\n",
              "      <td>12200</td>\n",
              "    </tr>\n",
              "    <tr>\n",
              "      <th>5</th>\n",
              "      <td>Argentina</td>\n",
              "      <td>14.5</td>\n",
              "      <td>18.9</td>\n",
              "      <td>8.10</td>\n",
              "      <td>16.0</td>\n",
              "      <td>18700</td>\n",
              "      <td>20.900</td>\n",
              "      <td>75.8</td>\n",
              "      <td>2.37</td>\n",
              "      <td>10300</td>\n",
              "    </tr>\n",
              "    <tr>\n",
              "      <th>6</th>\n",
              "      <td>Armenia</td>\n",
              "      <td>18.1</td>\n",
              "      <td>20.8</td>\n",
              "      <td>4.40</td>\n",
              "      <td>45.3</td>\n",
              "      <td>6700</td>\n",
              "      <td>7.770</td>\n",
              "      <td>73.3</td>\n",
              "      <td>1.69</td>\n",
              "      <td>3220</td>\n",
              "    </tr>\n",
              "    <tr>\n",
              "      <th>7</th>\n",
              "      <td>Australia</td>\n",
              "      <td>4.8</td>\n",
              "      <td>19.8</td>\n",
              "      <td>8.73</td>\n",
              "      <td>20.9</td>\n",
              "      <td>41400</td>\n",
              "      <td>1.160</td>\n",
              "      <td>82.0</td>\n",
              "      <td>1.93</td>\n",
              "      <td>51900</td>\n",
              "    </tr>\n",
              "    <tr>\n",
              "      <th>8</th>\n",
              "      <td>Austria</td>\n",
              "      <td>4.3</td>\n",
              "      <td>51.3</td>\n",
              "      <td>11.00</td>\n",
              "      <td>47.8</td>\n",
              "      <td>43200</td>\n",
              "      <td>0.873</td>\n",
              "      <td>80.5</td>\n",
              "      <td>1.44</td>\n",
              "      <td>46900</td>\n",
              "    </tr>\n",
              "    <tr>\n",
              "      <th>9</th>\n",
              "      <td>Azerbaijan</td>\n",
              "      <td>39.2</td>\n",
              "      <td>54.3</td>\n",
              "      <td>5.88</td>\n",
              "      <td>20.7</td>\n",
              "      <td>16000</td>\n",
              "      <td>13.800</td>\n",
              "      <td>69.1</td>\n",
              "      <td>1.92</td>\n",
              "      <td>5840</td>\n",
              "    </tr>\n",
              "  </tbody>\n",
              "</table>\n",
              "</div>"
            ],
            "text/plain": [
              "               country  child_mort  exports  ...  life_expec  total_fer   gdpp\n",
              "0          Afghanistan        90.2     10.0  ...        56.2       5.82    553\n",
              "1              Albania        16.6     28.0  ...        76.3       1.65   4090\n",
              "2              Algeria        27.3     38.4  ...        76.5       2.89   4460\n",
              "3               Angola       119.0     62.3  ...        60.1       6.16   3530\n",
              "4  Antigua and Barbuda        10.3     45.5  ...        76.8       2.13  12200\n",
              "5            Argentina        14.5     18.9  ...        75.8       2.37  10300\n",
              "6              Armenia        18.1     20.8  ...        73.3       1.69   3220\n",
              "7            Australia         4.8     19.8  ...        82.0       1.93  51900\n",
              "8              Austria         4.3     51.3  ...        80.5       1.44  46900\n",
              "9           Azerbaijan        39.2     54.3  ...        69.1       1.92   5840\n",
              "\n",
              "[10 rows x 10 columns]"
            ]
          },
          "metadata": {},
          "execution_count": 132
        }
      ]
    },
    {
      "cell_type": "code",
      "metadata": {
        "colab": {
          "base_uri": "https://localhost:8080/"
        },
        "id": "4d1gbxvODIyc",
        "outputId": "8454a9f7-f201-4e99-e068-d1ae5e6a523d"
      },
      "source": [
        "data.isnull().sum()"
      ],
      "execution_count": 133,
      "outputs": [
        {
          "output_type": "execute_result",
          "data": {
            "text/plain": [
              "country       0\n",
              "child_mort    0\n",
              "exports       0\n",
              "health        0\n",
              "imports       0\n",
              "income        0\n",
              "inflation     0\n",
              "life_expec    0\n",
              "total_fer     0\n",
              "gdpp          0\n",
              "dtype: int64"
            ]
          },
          "metadata": {},
          "execution_count": 133
        }
      ]
    },
    {
      "cell_type": "code",
      "metadata": {
        "colab": {
          "base_uri": "https://localhost:8080/"
        },
        "id": "fkxTHbFgDQjF",
        "outputId": "07f6446e-c5a0-4866-9d8d-8a79e1fe6a95"
      },
      "source": [
        "len(data[data.duplicated()])"
      ],
      "execution_count": 134,
      "outputs": [
        {
          "output_type": "execute_result",
          "data": {
            "text/plain": [
              "0"
            ]
          },
          "metadata": {},
          "execution_count": 134
        }
      ]
    },
    {
      "cell_type": "code",
      "metadata": {
        "colab": {
          "base_uri": "https://localhost:8080/",
          "height": 394
        },
        "id": "BxFbfzVDDX0S",
        "outputId": "a50d53ab-db04-42e7-cb65-42f93be57476"
      },
      "source": [
        "data.describe(percentiles = [.25, .5, .75, .90 ,.95, .99])"
      ],
      "execution_count": 135,
      "outputs": [
        {
          "output_type": "execute_result",
          "data": {
            "text/html": [
              "<div>\n",
              "<style scoped>\n",
              "    .dataframe tbody tr th:only-of-type {\n",
              "        vertical-align: middle;\n",
              "    }\n",
              "\n",
              "    .dataframe tbody tr th {\n",
              "        vertical-align: top;\n",
              "    }\n",
              "\n",
              "    .dataframe thead th {\n",
              "        text-align: right;\n",
              "    }\n",
              "</style>\n",
              "<table border=\"1\" class=\"dataframe\">\n",
              "  <thead>\n",
              "    <tr style=\"text-align: right;\">\n",
              "      <th></th>\n",
              "      <th>child_mort</th>\n",
              "      <th>exports</th>\n",
              "      <th>health</th>\n",
              "      <th>imports</th>\n",
              "      <th>income</th>\n",
              "      <th>inflation</th>\n",
              "      <th>life_expec</th>\n",
              "      <th>total_fer</th>\n",
              "      <th>gdpp</th>\n",
              "    </tr>\n",
              "  </thead>\n",
              "  <tbody>\n",
              "    <tr>\n",
              "      <th>count</th>\n",
              "      <td>167.000000</td>\n",
              "      <td>167.000000</td>\n",
              "      <td>167.000000</td>\n",
              "      <td>167.000000</td>\n",
              "      <td>167.000000</td>\n",
              "      <td>167.000000</td>\n",
              "      <td>167.000000</td>\n",
              "      <td>167.000000</td>\n",
              "      <td>167.000000</td>\n",
              "    </tr>\n",
              "    <tr>\n",
              "      <th>mean</th>\n",
              "      <td>38.270060</td>\n",
              "      <td>41.108976</td>\n",
              "      <td>6.815689</td>\n",
              "      <td>46.890215</td>\n",
              "      <td>17144.688623</td>\n",
              "      <td>7.781832</td>\n",
              "      <td>70.555689</td>\n",
              "      <td>2.947964</td>\n",
              "      <td>12964.155689</td>\n",
              "    </tr>\n",
              "    <tr>\n",
              "      <th>std</th>\n",
              "      <td>40.328931</td>\n",
              "      <td>27.412010</td>\n",
              "      <td>2.746837</td>\n",
              "      <td>24.209589</td>\n",
              "      <td>19278.067698</td>\n",
              "      <td>10.570704</td>\n",
              "      <td>8.893172</td>\n",
              "      <td>1.513848</td>\n",
              "      <td>18328.704809</td>\n",
              "    </tr>\n",
              "    <tr>\n",
              "      <th>min</th>\n",
              "      <td>2.600000</td>\n",
              "      <td>0.109000</td>\n",
              "      <td>1.810000</td>\n",
              "      <td>0.065900</td>\n",
              "      <td>609.000000</td>\n",
              "      <td>-4.210000</td>\n",
              "      <td>32.100000</td>\n",
              "      <td>1.150000</td>\n",
              "      <td>231.000000</td>\n",
              "    </tr>\n",
              "    <tr>\n",
              "      <th>25%</th>\n",
              "      <td>8.250000</td>\n",
              "      <td>23.800000</td>\n",
              "      <td>4.920000</td>\n",
              "      <td>30.200000</td>\n",
              "      <td>3355.000000</td>\n",
              "      <td>1.810000</td>\n",
              "      <td>65.300000</td>\n",
              "      <td>1.795000</td>\n",
              "      <td>1330.000000</td>\n",
              "    </tr>\n",
              "    <tr>\n",
              "      <th>50%</th>\n",
              "      <td>19.300000</td>\n",
              "      <td>35.000000</td>\n",
              "      <td>6.320000</td>\n",
              "      <td>43.300000</td>\n",
              "      <td>9960.000000</td>\n",
              "      <td>5.390000</td>\n",
              "      <td>73.100000</td>\n",
              "      <td>2.410000</td>\n",
              "      <td>4660.000000</td>\n",
              "    </tr>\n",
              "    <tr>\n",
              "      <th>75%</th>\n",
              "      <td>62.100000</td>\n",
              "      <td>51.350000</td>\n",
              "      <td>8.600000</td>\n",
              "      <td>58.750000</td>\n",
              "      <td>22800.000000</td>\n",
              "      <td>10.750000</td>\n",
              "      <td>76.800000</td>\n",
              "      <td>3.880000</td>\n",
              "      <td>14050.000000</td>\n",
              "    </tr>\n",
              "    <tr>\n",
              "      <th>90%</th>\n",
              "      <td>100.220000</td>\n",
              "      <td>70.800000</td>\n",
              "      <td>10.940000</td>\n",
              "      <td>75.420000</td>\n",
              "      <td>41220.000000</td>\n",
              "      <td>16.640000</td>\n",
              "      <td>80.400000</td>\n",
              "      <td>5.322000</td>\n",
              "      <td>41840.000000</td>\n",
              "    </tr>\n",
              "    <tr>\n",
              "      <th>95%</th>\n",
              "      <td>116.000000</td>\n",
              "      <td>80.570000</td>\n",
              "      <td>11.570000</td>\n",
              "      <td>81.140000</td>\n",
              "      <td>48290.000000</td>\n",
              "      <td>20.870000</td>\n",
              "      <td>81.400000</td>\n",
              "      <td>5.861000</td>\n",
              "      <td>48610.000000</td>\n",
              "    </tr>\n",
              "    <tr>\n",
              "      <th>99%</th>\n",
              "      <td>153.400000</td>\n",
              "      <td>160.480000</td>\n",
              "      <td>13.474000</td>\n",
              "      <td>146.080000</td>\n",
              "      <td>84374.000000</td>\n",
              "      <td>41.478000</td>\n",
              "      <td>82.370000</td>\n",
              "      <td>6.563600</td>\n",
              "      <td>79088.000000</td>\n",
              "    </tr>\n",
              "    <tr>\n",
              "      <th>max</th>\n",
              "      <td>208.000000</td>\n",
              "      <td>200.000000</td>\n",
              "      <td>17.900000</td>\n",
              "      <td>174.000000</td>\n",
              "      <td>125000.000000</td>\n",
              "      <td>104.000000</td>\n",
              "      <td>82.800000</td>\n",
              "      <td>7.490000</td>\n",
              "      <td>105000.000000</td>\n",
              "    </tr>\n",
              "  </tbody>\n",
              "</table>\n",
              "</div>"
            ],
            "text/plain": [
              "       child_mort     exports  ...   total_fer           gdpp\n",
              "count  167.000000  167.000000  ...  167.000000     167.000000\n",
              "mean    38.270060   41.108976  ...    2.947964   12964.155689\n",
              "std     40.328931   27.412010  ...    1.513848   18328.704809\n",
              "min      2.600000    0.109000  ...    1.150000     231.000000\n",
              "25%      8.250000   23.800000  ...    1.795000    1330.000000\n",
              "50%     19.300000   35.000000  ...    2.410000    4660.000000\n",
              "75%     62.100000   51.350000  ...    3.880000   14050.000000\n",
              "90%    100.220000   70.800000  ...    5.322000   41840.000000\n",
              "95%    116.000000   80.570000  ...    5.861000   48610.000000\n",
              "99%    153.400000  160.480000  ...    6.563600   79088.000000\n",
              "max    208.000000  200.000000  ...    7.490000  105000.000000\n",
              "\n",
              "[11 rows x 9 columns]"
            ]
          },
          "metadata": {},
          "execution_count": 135
        }
      ]
    },
    {
      "cell_type": "code",
      "metadata": {
        "id": "k0QLZZhMDeBV"
      },
      "source": [
        "def get_histogram(data,index):\n",
        "  plt.figure(figsize=(10,4))\n",
        "  plt.title(title.loc[index]['Description'])\n",
        "  sns.histplot(data)\n",
        "  plt.show()"
      ],
      "execution_count": 136,
      "outputs": []
    },
    {
      "cell_type": "code",
      "metadata": {
        "colab": {
          "base_uri": "https://localhost:8080/",
          "height": 294
        },
        "id": "3uXnSfbSDqqX",
        "outputId": "37bbfe6c-feaa-490e-c360-93d0f7a8fdf1"
      },
      "source": [
        "get_histogram(data.child_mort,1)"
      ],
      "execution_count": 137,
      "outputs": [
        {
          "output_type": "display_data",
          "data": {
            "image/png": "[encoded data removed]",
            "text/plain": [
              "<Figure size 720x288 with 1 Axes>"
            ]
          },
          "metadata": {
            "needs_background": "light"
          }
        }
      ]
    },
    {
      "cell_type": "code",
      "metadata": {
        "colab": {
          "base_uri": "https://localhost:8080/",
          "height": 294
        },
        "id": "QFBW2xaTE1aq",
        "outputId": "3effde9f-517a-4570-d96e-cc4edc7bc87a"
      },
      "source": [
        "get_histogram(data.exports,2)"
      ],
      "execution_count": 138,
      "outputs": [
        {
          "output_type": "display_data",
          "data": {
            "image/png": "[encoded data removed]",
            "text/plain": [
              "<Figure size 720x288 with 1 Axes>"
            ]
          },
          "metadata": {
            "needs_background": "light"
          }
        }
      ]
    },
    {
      "cell_type": "code",
      "metadata": {
        "id": "oHiCbjXdE60i"
      },
      "source": [
        "def get_corr(method):\n",
        "  plt.figure(figsize= (15,10))\n",
        "  sns.heatmap(data.corr(method=method,min_periods=1),annot=True)"
      ],
      "execution_count": 139,
      "outputs": []
    },
    {
      "cell_type": "code",
      "metadata": {
        "colab": {
          "base_uri": "https://localhost:8080/",
          "height": 595
        },
        "id": "Bk9aIz9SFX6r",
        "outputId": "946c65bd-efc7-448f-d0fe-a65b274a5b65"
      },
      "source": [
        "get_corr('pearson')"
      ],
      "execution_count": 140,
      "outputs": [
        {
          "output_type": "display_data",
          "data": {
            "image/png": "[encoded data removed]",
            "text/plain": [
              "<Figure size 1080x720 with 2 Axes>"
            ]
          },
          "metadata": {
            "needs_background": "light"
          }
        }
      ]
    },
    {
      "cell_type": "code",
      "metadata": {
        "colab": {
          "base_uri": "https://localhost:8080/",
          "height": 595
        },
        "id": "7KSprwz9I-1L",
        "outputId": "ad1e2126-36cd-4176-d9fd-cb4e18652b32"
      },
      "source": [
        "get_corr(\"spearman\")"
      ],
      "execution_count": 141,
      "outputs": [
        {
          "output_type": "display_data",
          "data": {
            "image/png": "[encoded data removed]",
            "text/plain": [
              "<Figure size 1080x720 with 2 Axes>"
            ]
          },
          "metadata": {
            "needs_background": "light"
          }
        }
      ]
    },
    {
      "cell_type": "code",
      "metadata": {
        "colab": {
          "base_uri": "https://localhost:8080/",
          "height": 596
        },
        "id": "DXjjph0-JDqa",
        "outputId": "fcddb6eb-da7b-4498-bba8-8ad6744abaaa"
      },
      "source": [
        "get_corr(\"kendall\")"
      ],
      "execution_count": 142,
      "outputs": [
        {
          "output_type": "display_data",
          "data": {
            "image/png": "[encoded data removed]",
            "text/plain": [
              "<Figure size 1080x720 with 2 Axes>"
            ]
          },
          "metadata": {
            "needs_background": "light"
          }
        }
      ]
    },
    {
      "cell_type": "code",
      "metadata": {
        "id": "mLN0jc9_JI2h"
      },
      "source": [
        "data.drop(['country'],axis=1,inplace = True)"
      ],
      "execution_count": 143,
      "outputs": []
    },
    {
      "cell_type": "code",
      "metadata": {
        "colab": {
          "base_uri": "https://localhost:8080/",
          "height": 206
        },
        "id": "QRkn2v9PJfVH",
        "outputId": "2621f7c9-8083-45ff-afb1-9164d5baabcf"
      },
      "source": [
        "data.head()"
      ],
      "execution_count": 144,
      "outputs": [
        {
          "output_type": "execute_result",
          "data": {
            "text/html": [
              "<div>\n",
              "<style scoped>\n",
              "    .dataframe tbody tr th:only-of-type {\n",
              "        vertical-align: middle;\n",
              "    }\n",
              "\n",
              "    .dataframe tbody tr th {\n",
              "        vertical-align: top;\n",
              "    }\n",
              "\n",
              "    .dataframe thead th {\n",
              "        text-align: right;\n",
              "    }\n",
              "</style>\n",
              "<table border=\"1\" class=\"dataframe\">\n",
              "  <thead>\n",
              "    <tr style=\"text-align: right;\">\n",
              "      <th></th>\n",
              "      <th>child_mort</th>\n",
              "      <th>exports</th>\n",
              "      <th>health</th>\n",
              "      <th>imports</th>\n",
              "      <th>income</th>\n",
              "      <th>inflation</th>\n",
              "      <th>life_expec</th>\n",
              "      <th>total_fer</th>\n",
              "      <th>gdpp</th>\n",
              "    </tr>\n",
              "  </thead>\n",
              "  <tbody>\n",
              "    <tr>\n",
              "      <th>0</th>\n",
              "      <td>90.2</td>\n",
              "      <td>10.0</td>\n",
              "      <td>7.58</td>\n",
              "      <td>44.9</td>\n",
              "      <td>1610</td>\n",
              "      <td>9.44</td>\n",
              "      <td>56.2</td>\n",
              "      <td>5.82</td>\n",
              "      <td>553</td>\n",
              "    </tr>\n",
              "    <tr>\n",
              "      <th>1</th>\n",
              "      <td>16.6</td>\n",
              "      <td>28.0</td>\n",
              "      <td>6.55</td>\n",
              "      <td>48.6</td>\n",
              "      <td>9930</td>\n",
              "      <td>4.49</td>\n",
              "      <td>76.3</td>\n",
              "      <td>1.65</td>\n",
              "      <td>4090</td>\n",
              "    </tr>\n",
              "    <tr>\n",
              "      <th>2</th>\n",
              "      <td>27.3</td>\n",
              "      <td>38.4</td>\n",
              "      <td>4.17</td>\n",
              "      <td>31.4</td>\n",
              "      <td>12900</td>\n",
              "      <td>16.10</td>\n",
              "      <td>76.5</td>\n",
              "      <td>2.89</td>\n",
              "      <td>4460</td>\n",
              "    </tr>\n",
              "    <tr>\n",
              "      <th>3</th>\n",
              "      <td>119.0</td>\n",
              "      <td>62.3</td>\n",
              "      <td>2.85</td>\n",
              "      <td>42.9</td>\n",
              "      <td>5900</td>\n",
              "      <td>22.40</td>\n",
              "      <td>60.1</td>\n",
              "      <td>6.16</td>\n",
              "      <td>3530</td>\n",
              "    </tr>\n",
              "    <tr>\n",
              "      <th>4</th>\n",
              "      <td>10.3</td>\n",
              "      <td>45.5</td>\n",
              "      <td>6.03</td>\n",
              "      <td>58.9</td>\n",
              "      <td>19100</td>\n",
              "      <td>1.44</td>\n",
              "      <td>76.8</td>\n",
              "      <td>2.13</td>\n",
              "      <td>12200</td>\n",
              "    </tr>\n",
              "  </tbody>\n",
              "</table>\n",
              "</div>"
            ],
            "text/plain": [
              "   child_mort  exports  health  ...  life_expec  total_fer   gdpp\n",
              "0        90.2     10.0    7.58  ...        56.2       5.82    553\n",
              "1        16.6     28.0    6.55  ...        76.3       1.65   4090\n",
              "2        27.3     38.4    4.17  ...        76.5       2.89   4460\n",
              "3       119.0     62.3    2.85  ...        60.1       6.16   3530\n",
              "4        10.3     45.5    6.03  ...        76.8       2.13  12200\n",
              "\n",
              "[5 rows x 9 columns]"
            ]
          },
          "metadata": {},
          "execution_count": 144
        }
      ]
    },
    {
      "cell_type": "code",
      "metadata": {
        "colab": {
          "base_uri": "https://localhost:8080/"
        },
        "id": "tmVCrZsYJgHv",
        "outputId": "5fefc7a3-6011-44aa-974d-c36df47719db"
      },
      "source": [
        "cols =data.columns\n",
        "min_max = MinMaxScaler()\n",
        "rescaled = min_max.fit_transform(data)\n",
        "rescaled"
      ],
      "execution_count": 145,
      "outputs": [
        {
          "output_type": "execute_result",
          "data": {
            "text/plain": [
              "array([[0.42648491, 0.04948197, 0.35860783, ..., 0.47534517, 0.73659306,\n",
              "        0.00307343],\n",
              "       [0.06815969, 0.13953104, 0.29459291, ..., 0.87179487, 0.07886435,\n",
              "        0.03683341],\n",
              "       [0.12025316, 0.1915594 , 0.14667495, ..., 0.87573964, 0.27444795,\n",
              "        0.04036499],\n",
              "       ...,\n",
              "       [0.10077897, 0.35965101, 0.31261653, ..., 0.8086785 , 0.12618297,\n",
              "        0.01029885],\n",
              "       [0.26144109, 0.1495365 , 0.20944686, ..., 0.69822485, 0.55520505,\n",
              "        0.01029885],\n",
              "       [0.39191821, 0.18455558, 0.25357365, ..., 0.39250493, 0.670347  ,\n",
              "        0.01173057]])"
            ]
          },
          "metadata": {},
          "execution_count": 145
        }
      ]
    },
    {
      "cell_type": "code",
      "metadata": {
        "colab": {
          "base_uri": "https://localhost:8080/"
        },
        "id": "-kiwZ5-XJnsJ",
        "outputId": "4d865553-c6eb-49e1-c9d1-1250e22092d9"
      },
      "source": [
        "std_scaler = StandardScaler()\n",
        "std_scale = std_scaler.fit_transform(data)\n",
        "std_scale"
      ],
      "execution_count": 146,
      "outputs": [
        {
          "output_type": "execute_result",
          "data": {
            "text/plain": [
              "array([[ 1.29153238, -1.13827979,  0.27908825, ..., -1.61909203,\n",
              "         1.90288227, -0.67917961],\n",
              "       [-0.5389489 , -0.47965843, -0.09701618, ...,  0.64786643,\n",
              "        -0.85997281, -0.48562324],\n",
              "       [-0.27283273, -0.09912164, -0.96607302, ...,  0.67042323,\n",
              "        -0.0384044 , -0.46537561],\n",
              "       ...,\n",
              "       [-0.37231541,  1.13030491,  0.0088773 , ...,  0.28695762,\n",
              "        -0.66120626, -0.63775406],\n",
              "       [ 0.44841668, -0.40647827, -0.59727159, ..., -0.34463279,\n",
              "         1.14094382, -0.63775406],\n",
              "       [ 1.11495062, -0.15034774, -0.33801514, ..., -2.09278484,\n",
              "         1.6246091 , -0.62954556]])"
            ]
          },
          "metadata": {},
          "execution_count": 146
        }
      ]
    },
    {
      "cell_type": "code",
      "metadata": {
        "colab": {
          "base_uri": "https://localhost:8080/",
          "height": 423
        },
        "id": "pGZjHc-0KARO",
        "outputId": "b6cb9eb0-9eaf-49a8-b2f4-aa31516130ce"
      },
      "source": [
        "df_minmax = pd.DataFrame(data= rescaled , columns = cols )\n",
        "df_minmax"
      ],
      "execution_count": 147,
      "outputs": [
        {
          "output_type": "execute_result",
          "data": {
            "text/html": [
              "<div>\n",
              "<style scoped>\n",
              "    .dataframe tbody tr th:only-of-type {\n",
              "        vertical-align: middle;\n",
              "    }\n",
              "\n",
              "    .dataframe tbody tr th {\n",
              "        vertical-align: top;\n",
              "    }\n",
              "\n",
              "    .dataframe thead th {\n",
              "        text-align: right;\n",
              "    }\n",
              "</style>\n",
              "<table border=\"1\" class=\"dataframe\">\n",
              "  <thead>\n",
              "    <tr style=\"text-align: right;\">\n",
              "      <th></th>\n",
              "      <th>child_mort</th>\n",
              "      <th>exports</th>\n",
              "      <th>health</th>\n",
              "      <th>imports</th>\n",
              "      <th>income</th>\n",
              "      <th>inflation</th>\n",
              "      <th>life_expec</th>\n",
              "      <th>total_fer</th>\n",
              "      <th>gdpp</th>\n",
              "    </tr>\n",
              "  </thead>\n",
              "  <tbody>\n",
              "    <tr>\n",
              "      <th>0</th>\n",
              "      <td>0.426485</td>\n",
              "      <td>0.049482</td>\n",
              "      <td>0.358608</td>\n",
              "      <td>0.257765</td>\n",
              "      <td>0.008047</td>\n",
              "      <td>0.126144</td>\n",
              "      <td>0.475345</td>\n",
              "      <td>0.736593</td>\n",
              "      <td>0.003073</td>\n",
              "    </tr>\n",
              "    <tr>\n",
              "      <th>1</th>\n",
              "      <td>0.068160</td>\n",
              "      <td>0.139531</td>\n",
              "      <td>0.294593</td>\n",
              "      <td>0.279037</td>\n",
              "      <td>0.074933</td>\n",
              "      <td>0.080399</td>\n",
              "      <td>0.871795</td>\n",
              "      <td>0.078864</td>\n",
              "      <td>0.036833</td>\n",
              "    </tr>\n",
              "    <tr>\n",
              "      <th>2</th>\n",
              "      <td>0.120253</td>\n",
              "      <td>0.191559</td>\n",
              "      <td>0.146675</td>\n",
              "      <td>0.180149</td>\n",
              "      <td>0.098809</td>\n",
              "      <td>0.187691</td>\n",
              "      <td>0.875740</td>\n",
              "      <td>0.274448</td>\n",
              "      <td>0.040365</td>\n",
              "    </tr>\n",
              "    <tr>\n",
              "      <th>3</th>\n",
              "      <td>0.566699</td>\n",
              "      <td>0.311125</td>\n",
              "      <td>0.064636</td>\n",
              "      <td>0.246266</td>\n",
              "      <td>0.042535</td>\n",
              "      <td>0.245911</td>\n",
              "      <td>0.552268</td>\n",
              "      <td>0.790221</td>\n",
              "      <td>0.031488</td>\n",
              "    </tr>\n",
              "    <tr>\n",
              "      <th>4</th>\n",
              "      <td>0.037488</td>\n",
              "      <td>0.227079</td>\n",
              "      <td>0.262275</td>\n",
              "      <td>0.338255</td>\n",
              "      <td>0.148652</td>\n",
              "      <td>0.052213</td>\n",
              "      <td>0.881657</td>\n",
              "      <td>0.154574</td>\n",
              "      <td>0.114242</td>\n",
              "    </tr>\n",
              "    <tr>\n",
              "      <th>...</th>\n",
              "      <td>...</td>\n",
              "      <td>...</td>\n",
              "      <td>...</td>\n",
              "      <td>...</td>\n",
              "      <td>...</td>\n",
              "      <td>...</td>\n",
              "      <td>...</td>\n",
              "      <td>...</td>\n",
              "      <td>...</td>\n",
              "    </tr>\n",
              "    <tr>\n",
              "      <th>162</th>\n",
              "      <td>0.129503</td>\n",
              "      <td>0.232582</td>\n",
              "      <td>0.213797</td>\n",
              "      <td>0.302609</td>\n",
              "      <td>0.018820</td>\n",
              "      <td>0.063118</td>\n",
              "      <td>0.609467</td>\n",
              "      <td>0.370662</td>\n",
              "      <td>0.026143</td>\n",
              "    </tr>\n",
              "    <tr>\n",
              "      <th>163</th>\n",
              "      <td>0.070594</td>\n",
              "      <td>0.142032</td>\n",
              "      <td>0.192666</td>\n",
              "      <td>0.100809</td>\n",
              "      <td>0.127750</td>\n",
              "      <td>0.463081</td>\n",
              "      <td>0.854043</td>\n",
              "      <td>0.208202</td>\n",
              "      <td>0.126650</td>\n",
              "    </tr>\n",
              "    <tr>\n",
              "      <th>164</th>\n",
              "      <td>0.100779</td>\n",
              "      <td>0.359651</td>\n",
              "      <td>0.312617</td>\n",
              "      <td>0.460715</td>\n",
              "      <td>0.031200</td>\n",
              "      <td>0.150725</td>\n",
              "      <td>0.808679</td>\n",
              "      <td>0.126183</td>\n",
              "      <td>0.010299</td>\n",
              "    </tr>\n",
              "    <tr>\n",
              "      <th>165</th>\n",
              "      <td>0.261441</td>\n",
              "      <td>0.149536</td>\n",
              "      <td>0.209447</td>\n",
              "      <td>0.197397</td>\n",
              "      <td>0.031120</td>\n",
              "      <td>0.257000</td>\n",
              "      <td>0.698225</td>\n",
              "      <td>0.555205</td>\n",
              "      <td>0.010299</td>\n",
              "    </tr>\n",
              "    <tr>\n",
              "      <th>166</th>\n",
              "      <td>0.391918</td>\n",
              "      <td>0.184556</td>\n",
              "      <td>0.253574</td>\n",
              "      <td>0.177275</td>\n",
              "      <td>0.021473</td>\n",
              "      <td>0.168284</td>\n",
              "      <td>0.392505</td>\n",
              "      <td>0.670347</td>\n",
              "      <td>0.011731</td>\n",
              "    </tr>\n",
              "  </tbody>\n",
              "</table>\n",
              "<p>167 rows × 9 columns</p>\n",
              "</div>"
            ],
            "text/plain": [
              "     child_mort   exports    health  ...  life_expec  total_fer      gdpp\n",
              "0      0.426485  0.049482  0.358608  ...    0.475345   0.736593  0.003073\n",
              "1      0.068160  0.139531  0.294593  ...    0.871795   0.078864  0.036833\n",
              "2      0.120253  0.191559  0.146675  ...    0.875740   0.274448  0.040365\n",
              "3      0.566699  0.311125  0.064636  ...    0.552268   0.790221  0.031488\n",
              "4      0.037488  0.227079  0.262275  ...    0.881657   0.154574  0.114242\n",
              "..          ...       ...       ...  ...         ...        ...       ...\n",
              "162    0.129503  0.232582  0.213797  ...    0.609467   0.370662  0.026143\n",
              "163    0.070594  0.142032  0.192666  ...    0.854043   0.208202  0.126650\n",
              "164    0.100779  0.359651  0.312617  ...    0.808679   0.126183  0.010299\n",
              "165    0.261441  0.149536  0.209447  ...    0.698225   0.555205  0.010299\n",
              "166    0.391918  0.184556  0.253574  ...    0.392505   0.670347  0.011731\n",
              "\n",
              "[167 rows x 9 columns]"
            ]
          },
          "metadata": {},
          "execution_count": 147
        }
      ]
    },
    {
      "cell_type": "code",
      "metadata": {
        "colab": {
          "base_uri": "https://localhost:8080/",
          "height": 423
        },
        "id": "KA5lHI2wKEqN",
        "outputId": "e0019a9c-1fdc-4dba-bd2e-bb0ea5030618"
      },
      "source": [
        "df_stdc = pd.DataFrame(data= std_scale , columns = cols )\n",
        "df_stdc"
      ],
      "execution_count": 148,
      "outputs": [
        {
          "output_type": "execute_result",
          "data": {
            "text/html": [
              "<div>\n",
              "<style scoped>\n",
              "    .dataframe tbody tr th:only-of-type {\n",
              "        vertical-align: middle;\n",
              "    }\n",
              "\n",
              "    .dataframe tbody tr th {\n",
              "        vertical-align: top;\n",
              "    }\n",
              "\n",
              "    .dataframe thead th {\n",
              "        text-align: right;\n",
              "    }\n",
              "</style>\n",
              "<table border=\"1\" class=\"dataframe\">\n",
              "  <thead>\n",
              "    <tr style=\"text-align: right;\">\n",
              "      <th></th>\n",
              "      <th>child_mort</th>\n",
              "      <th>exports</th>\n",
              "      <th>health</th>\n",
              "      <th>imports</th>\n",
              "      <th>income</th>\n",
              "      <th>inflation</th>\n",
              "      <th>life_expec</th>\n",
              "      <th>total_fer</th>\n",
              "      <th>gdpp</th>\n",
              "    </tr>\n",
              "  </thead>\n",
              "  <tbody>\n",
              "    <tr>\n",
              "      <th>0</th>\n",
              "      <td>1.291532</td>\n",
              "      <td>-1.138280</td>\n",
              "      <td>0.279088</td>\n",
              "      <td>-0.082455</td>\n",
              "      <td>-0.808245</td>\n",
              "      <td>0.157336</td>\n",
              "      <td>-1.619092</td>\n",
              "      <td>1.902882</td>\n",
              "      <td>-0.679180</td>\n",
              "    </tr>\n",
              "    <tr>\n",
              "      <th>1</th>\n",
              "      <td>-0.538949</td>\n",
              "      <td>-0.479658</td>\n",
              "      <td>-0.097016</td>\n",
              "      <td>0.070837</td>\n",
              "      <td>-0.375369</td>\n",
              "      <td>-0.312347</td>\n",
              "      <td>0.647866</td>\n",
              "      <td>-0.859973</td>\n",
              "      <td>-0.485623</td>\n",
              "    </tr>\n",
              "    <tr>\n",
              "      <th>2</th>\n",
              "      <td>-0.272833</td>\n",
              "      <td>-0.099122</td>\n",
              "      <td>-0.966073</td>\n",
              "      <td>-0.641762</td>\n",
              "      <td>-0.220844</td>\n",
              "      <td>0.789274</td>\n",
              "      <td>0.670423</td>\n",
              "      <td>-0.038404</td>\n",
              "      <td>-0.465376</td>\n",
              "    </tr>\n",
              "    <tr>\n",
              "      <th>3</th>\n",
              "      <td>2.007808</td>\n",
              "      <td>0.775381</td>\n",
              "      <td>-1.448071</td>\n",
              "      <td>-0.165315</td>\n",
              "      <td>-0.585043</td>\n",
              "      <td>1.387054</td>\n",
              "      <td>-1.179234</td>\n",
              "      <td>2.128151</td>\n",
              "      <td>-0.516268</td>\n",
              "    </tr>\n",
              "    <tr>\n",
              "      <th>4</th>\n",
              "      <td>-0.695634</td>\n",
              "      <td>0.160668</td>\n",
              "      <td>-0.286894</td>\n",
              "      <td>0.497568</td>\n",
              "      <td>0.101732</td>\n",
              "      <td>-0.601749</td>\n",
              "      <td>0.704258</td>\n",
              "      <td>-0.541946</td>\n",
              "      <td>-0.041817</td>\n",
              "    </tr>\n",
              "    <tr>\n",
              "      <th>...</th>\n",
              "      <td>...</td>\n",
              "      <td>...</td>\n",
              "      <td>...</td>\n",
              "      <td>...</td>\n",
              "      <td>...</td>\n",
              "      <td>...</td>\n",
              "      <td>...</td>\n",
              "      <td>...</td>\n",
              "      <td>...</td>\n",
              "    </tr>\n",
              "    <tr>\n",
              "      <th>162</th>\n",
              "      <td>-0.225578</td>\n",
              "      <td>0.200917</td>\n",
              "      <td>-0.571711</td>\n",
              "      <td>0.240700</td>\n",
              "      <td>-0.738527</td>\n",
              "      <td>-0.489784</td>\n",
              "      <td>-0.852161</td>\n",
              "      <td>0.365754</td>\n",
              "      <td>-0.546913</td>\n",
              "    </tr>\n",
              "    <tr>\n",
              "      <th>163</th>\n",
              "      <td>-0.526514</td>\n",
              "      <td>-0.461363</td>\n",
              "      <td>-0.695862</td>\n",
              "      <td>-1.213499</td>\n",
              "      <td>-0.033542</td>\n",
              "      <td>3.616865</td>\n",
              "      <td>0.546361</td>\n",
              "      <td>-0.316678</td>\n",
              "      <td>0.029323</td>\n",
              "    </tr>\n",
              "    <tr>\n",
              "      <th>164</th>\n",
              "      <td>-0.372315</td>\n",
              "      <td>1.130305</td>\n",
              "      <td>0.008877</td>\n",
              "      <td>1.380030</td>\n",
              "      <td>-0.658404</td>\n",
              "      <td>0.409732</td>\n",
              "      <td>0.286958</td>\n",
              "      <td>-0.661206</td>\n",
              "      <td>-0.637754</td>\n",
              "    </tr>\n",
              "    <tr>\n",
              "      <th>165</th>\n",
              "      <td>0.448417</td>\n",
              "      <td>-0.406478</td>\n",
              "      <td>-0.597272</td>\n",
              "      <td>-0.517472</td>\n",
              "      <td>-0.658924</td>\n",
              "      <td>1.500916</td>\n",
              "      <td>-0.344633</td>\n",
              "      <td>1.140944</td>\n",
              "      <td>-0.637754</td>\n",
              "    </tr>\n",
              "    <tr>\n",
              "      <th>166</th>\n",
              "      <td>1.114951</td>\n",
              "      <td>-0.150348</td>\n",
              "      <td>-0.338015</td>\n",
              "      <td>-0.662477</td>\n",
              "      <td>-0.721358</td>\n",
              "      <td>0.590015</td>\n",
              "      <td>-2.092785</td>\n",
              "      <td>1.624609</td>\n",
              "      <td>-0.629546</td>\n",
              "    </tr>\n",
              "  </tbody>\n",
              "</table>\n",
              "<p>167 rows × 9 columns</p>\n",
              "</div>"
            ],
            "text/plain": [
              "     child_mort   exports    health  ...  life_expec  total_fer      gdpp\n",
              "0      1.291532 -1.138280  0.279088  ...   -1.619092   1.902882 -0.679180\n",
              "1     -0.538949 -0.479658 -0.097016  ...    0.647866  -0.859973 -0.485623\n",
              "2     -0.272833 -0.099122 -0.966073  ...    0.670423  -0.038404 -0.465376\n",
              "3      2.007808  0.775381 -1.448071  ...   -1.179234   2.128151 -0.516268\n",
              "4     -0.695634  0.160668 -0.286894  ...    0.704258  -0.541946 -0.041817\n",
              "..          ...       ...       ...  ...         ...        ...       ...\n",
              "162   -0.225578  0.200917 -0.571711  ...   -0.852161   0.365754 -0.546913\n",
              "163   -0.526514 -0.461363 -0.695862  ...    0.546361  -0.316678  0.029323\n",
              "164   -0.372315  1.130305  0.008877  ...    0.286958  -0.661206 -0.637754\n",
              "165    0.448417 -0.406478 -0.597272  ...   -0.344633   1.140944 -0.637754\n",
              "166    1.114951 -0.150348 -0.338015  ...   -2.092785   1.624609 -0.629546\n",
              "\n",
              "[167 rows x 9 columns]"
            ]
          },
          "metadata": {},
          "execution_count": 148
        }
      ]
    },
    {
      "cell_type": "code",
      "metadata": {
        "colab": {
          "base_uri": "https://localhost:8080/",
          "height": 297
        },
        "id": "n7glw_f5KO-f",
        "outputId": "7a698bf5-0b69-44a0-f6d5-17c276a0de07"
      },
      "source": [
        "plt.scatter(df_stdc['gdpp'], df_stdc['child_mort'],color = 'black')\n",
        "plt.scatter\n",
        "\n",
        "plt.xlabel('GDP per Person')\n",
        "plt.ylabel('Child Mortality')"
      ],
      "execution_count": 149,
      "outputs": [
        {
          "output_type": "execute_result",
          "data": {
            "text/plain": [
              "Text(0, 0.5, 'Child Mortality')"
            ]
          },
          "metadata": {},
          "execution_count": 149
        },
        {
          "output_type": "display_data",
          "data": {
            "image/png": "[encoded data removed]",
            "text/plain": [
              "<Figure size 432x288 with 1 Axes>"
            ]
          },
          "metadata": {
            "needs_background": "light"
          }
        }
      ]
    },
    {
      "cell_type": "code",
      "metadata": {
        "id": "cJORwSY2KTet",
        "colab": {
          "base_uri": "https://localhost:8080/",
          "height": 589
        },
        "outputId": "3d1b684d-fcff-42ff-a8df-c8f1105ba853"
      },
      "source": [
        "#PCA WITH MINMAX SCALED\n",
        "from sklearn.decomposition import PCA\n",
        "pca = PCA()\n",
        "pca_data_standard  =  pca.fit_transform(df_stdc)\n",
        "per_var = np.round(pca.explained_variance_ratio_*100, decimals =1)\n",
        "labels = ['PC' + str(x) for x in range (1, len(per_var)+1)]\n",
        "\n",
        "# plot the percentage of explained variance by principal component\n",
        "plt.bar(x=range(1,len(per_var)+1), height=per_var, tick_label = labels)\n",
        "plt.ylabel('Percentage of Explained Variance')\n",
        "plt.xlabel('Principal Component')\n",
        "plt.title('Scree Plot')\n",
        "plt.show()\n",
        "\n",
        "# plot pca\n",
        "pca_df_standard = pd.DataFrame(pca_data_standard, columns = labels)\n",
        "plt.scatter(pca_df_standard.PC1, pca_df_standard.PC2)\n",
        "plt.title('PCA')\n",
        "plt.xlabel('PC1 - {0}%'.format(per_var[0]))\n",
        "plt.ylabel('PC2 - {0}%'.format(per_var[1]))\n",
        "\n"
      ],
      "execution_count": 150,
      "outputs": [
        {
          "output_type": "display_data",
          "data": {
            "image/png": "[encoded data removed]",
            "text/plain": [
              "<Figure size 432x288 with 1 Axes>"
            ]
          },
          "metadata": {
            "needs_background": "light"
          }
        },
        {
          "output_type": "execute_result",
          "data": {
            "text/plain": [
              "Text(0, 0.5, 'PC2 - 17.2%')"
            ]
          },
          "metadata": {},
          "execution_count": 150
        },
        {
          "output_type": "display_data",
          "data": {
            "image/png": "[encoded data removed]",
            "text/plain": [
              "<Figure size 432x288 with 1 Axes>"
            ]
          },
          "metadata": {
            "needs_background": "light"
          }
        }
      ]
    },
    {
      "cell_type": "code",
      "metadata": {
        "id": "5IYlDprSwu-a"
      },
      "source": [
        "model = KMeans(n_clusters= 3,init='random',tol = 1e-4,random_state=0)"
      ],
      "execution_count": 151,
      "outputs": []
    },
    {
      "cell_type": "code",
      "metadata": {
        "colab": {
          "base_uri": "https://localhost:8080/"
        },
        "id": "8szYHHT4yRdj",
        "outputId": "1906d814-c7f7-4639-d43c-d59f4d596073"
      },
      "source": [
        "predict_minMax = model.fit_predict(df_minmax)\n",
        "predict_minMax"
      ],
      "execution_count": 152,
      "outputs": [
        {
          "output_type": "execute_result",
          "data": {
            "text/plain": [
              "array([2, 1, 1, 2, 1, 1, 1, 0, 0, 1, 1, 1, 1, 1, 1, 0, 1, 2, 1, 1, 1, 1,\n",
              "       1, 0, 1, 2, 2, 1, 2, 0, 1, 2, 2, 1, 1, 1, 2, 2, 2, 1, 2, 1, 0, 0,\n",
              "       0, 1, 1, 1, 1, 2, 2, 1, 1, 0, 0, 2, 2, 1, 0, 2, 0, 1, 1, 2, 2, 1,\n",
              "       2, 1, 0, 1, 1, 1, 2, 0, 0, 0, 1, 0, 1, 1, 2, 2, 0, 1, 2, 1, 1, 2,\n",
              "       2, 1, 1, 0, 1, 2, 2, 1, 1, 2, 0, 2, 1, 1, 1, 1, 1, 1, 2, 1, 2, 1,\n",
              "       0, 0, 2, 2, 0, 1, 2, 1, 1, 1, 1, 1, 0, 0, 1, 1, 2, 1, 1, 2, 1, 1,\n",
              "       2, 0, 0, 0, 2, 1, 0, 0, 1, 1, 2, 1, 0, 0, 1, 2, 1, 2, 2, 1, 1, 1,\n",
              "       1, 2, 1, 0, 0, 0, 1, 1, 1, 1, 1, 2, 2], dtype=int32)"
            ]
          },
          "metadata": {},
          "execution_count": 152
        }
      ]
    },
    {
      "cell_type": "code",
      "metadata": {
        "colab": {
          "base_uri": "https://localhost:8080/"
        },
        "id": "NNSAIm4myb65",
        "outputId": "d228c979-8507-420d-fdb6-ede14bbb9f8f"
      },
      "source": [
        "predict_standard = model.fit_predict(df_stdc)\n",
        "predict_standard"
      ],
      "execution_count": 153,
      "outputs": [
        {
          "output_type": "execute_result",
          "data": {
            "text/plain": [
              "array([2, 1, 1, 2, 1, 1, 1, 0, 0, 1, 1, 0, 1, 1, 1, 0, 1, 2, 1, 1, 1, 2,\n",
              "       1, 0, 1, 2, 2, 1, 2, 0, 1, 2, 2, 1, 1, 1, 2, 2, 2, 1, 2, 1, 0, 0,\n",
              "       0, 1, 1, 1, 1, 2, 2, 1, 1, 0, 0, 2, 2, 1, 0, 2, 0, 1, 1, 2, 2, 1,\n",
              "       2, 1, 0, 1, 1, 1, 2, 0, 0, 0, 1, 0, 1, 1, 2, 2, 0, 1, 2, 1, 1, 2,\n",
              "       2, 1, 1, 0, 1, 2, 2, 1, 1, 2, 0, 2, 1, 1, 1, 1, 1, 1, 2, 1, 2, 1,\n",
              "       0, 0, 2, 2, 0, 1, 2, 1, 1, 1, 1, 1, 0, 0, 1, 1, 2, 1, 1, 2, 1, 1,\n",
              "       2, 0, 0, 0, 1, 2, 0, 0, 1, 1, 2, 1, 0, 0, 1, 2, 1, 2, 2, 1, 1, 1,\n",
              "       1, 2, 1, 0, 0, 0, 1, 1, 1, 1, 1, 2, 2], dtype=int32)"
            ]
          },
          "metadata": {},
          "execution_count": 153
        }
      ]
    },
    {
      "cell_type": "code",
      "metadata": {
        "id": "nbCwRodSy5L2"
      },
      "source": [
        "data2 = pca_df_standard.drop(['PC5','PC6','PC7','PC8','PC9'], axis = 1)"
      ],
      "execution_count": 154,
      "outputs": []
    },
    {
      "cell_type": "code",
      "metadata": {
        "colab": {
          "base_uri": "https://localhost:8080/"
        },
        "id": "5WJ-9Kt3ymsM",
        "outputId": "32185358-e847-44a2-b132-a82fca212314"
      },
      "source": [
        "y_predicted_data2 = model.fit_predict(data2) \n",
        "y_predicted_data2"
      ],
      "execution_count": 155,
      "outputs": [
        {
          "output_type": "execute_result",
          "data": {
            "text/plain": [
              "array([0, 2, 2, 0, 2, 2, 2, 1, 1, 2, 2, 2, 2, 2, 2, 1, 2, 0, 2, 2, 2, 0,\n",
              "       2, 1, 2, 0, 0, 2, 0, 1, 2, 0, 0, 2, 2, 2, 0, 0, 0, 2, 0, 2, 1, 1,\n",
              "       1, 2, 2, 2, 2, 0, 0, 2, 2, 1, 1, 0, 0, 2, 1, 0, 1, 2, 2, 0, 0, 2,\n",
              "       0, 2, 1, 2, 2, 2, 0, 1, 1, 1, 2, 1, 2, 2, 0, 0, 1, 2, 0, 2, 2, 0,\n",
              "       0, 2, 2, 1, 2, 0, 0, 2, 2, 0, 1, 0, 2, 2, 2, 2, 2, 2, 0, 2, 0, 2,\n",
              "       1, 1, 0, 0, 1, 2, 0, 2, 2, 2, 2, 2, 1, 1, 2, 2, 0, 2, 2, 0, 2, 2,\n",
              "       0, 1, 1, 1, 0, 0, 1, 1, 2, 2, 0, 2, 1, 1, 2, 0, 2, 0, 0, 2, 2, 2,\n",
              "       2, 0, 2, 1, 1, 1, 2, 2, 2, 2, 2, 0, 0], dtype=int32)"
            ]
          },
          "metadata": {},
          "execution_count": 155
        }
      ]
    },
    {
      "cell_type": "code",
      "metadata": {
        "id": "Pwre-RuUy82r"
      },
      "source": [
        "#optimal k\n",
        "sse = []\n",
        "for i in range(1,11):\n",
        "  km = KMeans(n_clusters=i, init='random',n_init=10, max_iter=300,tol=1e-04, random_state=0)\n",
        "  km.fit(df_stdc)\n",
        "  sse.append(km.inertia_)"
      ],
      "execution_count": 156,
      "outputs": []
    },
    {
      "cell_type": "code",
      "metadata": {
        "colab": {
          "base_uri": "https://localhost:8080/",
          "height": 283
        },
        "id": "K0ZCJoudzgHC",
        "outputId": "7227e6e7-9979-42ad-9e6f-06d951821c72"
      },
      "source": [
        "plt.plot(range(1,11),sse,marker = 'o')"
      ],
      "execution_count": 157,
      "outputs": [
        {
          "output_type": "execute_result",
          "data": {
            "text/plain": [
              "[<matplotlib.lines.Line2D at 0x7f9ca0c9bdd0>]"
            ]
          },
          "metadata": {},
          "execution_count": 157
        },
        {
          "output_type": "display_data",
          "data": {
            "image/png": "[encoded data removed]",
            "text/plain": [
              "<Figure size 432x288 with 1 Axes>"
            ]
          },
          "metadata": {
            "needs_background": "light"
          }
        }
      ]
    },
    {
      "cell_type": "code",
      "metadata": {
        "id": "tOty7EBuzrq_"
      },
      "source": [
        "#optimal k\n",
        "sse_ = []\n",
        "for i in range(1,11):\n",
        "  km = KMeans(n_clusters=i, init='random',n_init=10, max_iter=300,tol=1e-04, random_state=0)\n",
        "  km.fit(df_minmax)\n",
        "  sse_.append(km.inertia_)"
      ],
      "execution_count": 158,
      "outputs": []
    },
    {
      "cell_type": "code",
      "metadata": {
        "colab": {
          "base_uri": "https://localhost:8080/",
          "height": 283
        },
        "id": "Uft69y2Hz0eM",
        "outputId": "d267c608-633b-4aca-979f-cc378715cf12"
      },
      "source": [
        "plt.plot(range(1,11),sse_,marker = 'o')"
      ],
      "execution_count": 159,
      "outputs": [
        {
          "output_type": "execute_result",
          "data": {
            "text/plain": [
              "[<matplotlib.lines.Line2D at 0x7f9ca0ea11d0>]"
            ]
          },
          "metadata": {},
          "execution_count": 159
        },
        {
          "output_type": "display_data",
          "data": {
            "image/png": "[encoded data removed]",
            "text/plain": [
              "<Figure size 432x288 with 1 Axes>"
            ]
          },
          "metadata": {
            "needs_background": "light"
          }
        }
      ]
    },
    {
      "cell_type": "code",
      "metadata": {
        "colab": {
          "base_uri": "https://localhost:8080/",
          "height": 423
        },
        "id": "5HrHnmQzz5IF",
        "outputId": "c3d465e3-952b-409f-b343-54d1f17aee1a"
      },
      "source": [
        "data['cluster'] = predict_standard.tolist()\n",
        "data"
      ],
      "execution_count": 160,
      "outputs": [
        {
          "output_type": "execute_result",
          "data": {
            "text/html": [
              "<div>\n",
              "<style scoped>\n",
              "    .dataframe tbody tr th:only-of-type {\n",
              "        vertical-align: middle;\n",
              "    }\n",
              "\n",
              "    .dataframe tbody tr th {\n",
              "        vertical-align: top;\n",
              "    }\n",
              "\n",
              "    .dataframe thead th {\n",
              "        text-align: right;\n",
              "    }\n",
              "</style>\n",
              "<table border=\"1\" class=\"dataframe\">\n",
              "  <thead>\n",
              "    <tr style=\"text-align: right;\">\n",
              "      <th></th>\n",
              "      <th>child_mort</th>\n",
              "      <th>exports</th>\n",
              "      <th>health</th>\n",
              "      <th>imports</th>\n",
              "      <th>income</th>\n",
              "      <th>inflation</th>\n",
              "      <th>life_expec</th>\n",
              "      <th>total_fer</th>\n",
              "      <th>gdpp</th>\n",
              "      <th>cluster</th>\n",
              "    </tr>\n",
              "  </thead>\n",
              "  <tbody>\n",
              "    <tr>\n",
              "      <th>0</th>\n",
              "      <td>90.2</td>\n",
              "      <td>10.0</td>\n",
              "      <td>7.58</td>\n",
              "      <td>44.9</td>\n",
              "      <td>1610</td>\n",
              "      <td>9.44</td>\n",
              "      <td>56.2</td>\n",
              "      <td>5.82</td>\n",
              "      <td>553</td>\n",
              "      <td>2</td>\n",
              "    </tr>\n",
              "    <tr>\n",
              "      <th>1</th>\n",
              "      <td>16.6</td>\n",
              "      <td>28.0</td>\n",
              "      <td>6.55</td>\n",
              "      <td>48.6</td>\n",
              "      <td>9930</td>\n",
              "      <td>4.49</td>\n",
              "      <td>76.3</td>\n",
              "      <td>1.65</td>\n",
              "      <td>4090</td>\n",
              "      <td>1</td>\n",
              "    </tr>\n",
              "    <tr>\n",
              "      <th>2</th>\n",
              "      <td>27.3</td>\n",
              "      <td>38.4</td>\n",
              "      <td>4.17</td>\n",
              "      <td>31.4</td>\n",
              "      <td>12900</td>\n",
              "      <td>16.10</td>\n",
              "      <td>76.5</td>\n",
              "      <td>2.89</td>\n",
              "      <td>4460</td>\n",
              "      <td>1</td>\n",
              "    </tr>\n",
              "    <tr>\n",
              "      <th>3</th>\n",
              "      <td>119.0</td>\n",
              "      <td>62.3</td>\n",
              "      <td>2.85</td>\n",
              "      <td>42.9</td>\n",
              "      <td>5900</td>\n",
              "      <td>22.40</td>\n",
              "      <td>60.1</td>\n",
              "      <td>6.16</td>\n",
              "      <td>3530</td>\n",
              "      <td>2</td>\n",
              "    </tr>\n",
              "    <tr>\n",
              "      <th>4</th>\n",
              "      <td>10.3</td>\n",
              "      <td>45.5</td>\n",
              "      <td>6.03</td>\n",
              "      <td>58.9</td>\n",
              "      <td>19100</td>\n",
              "      <td>1.44</td>\n",
              "      <td>76.8</td>\n",
              "      <td>2.13</td>\n",
              "      <td>12200</td>\n",
              "      <td>1</td>\n",
              "    </tr>\n",
              "    <tr>\n",
              "      <th>...</th>\n",
              "      <td>...</td>\n",
              "      <td>...</td>\n",
              "      <td>...</td>\n",
              "      <td>...</td>\n",
              "      <td>...</td>\n",
              "      <td>...</td>\n",
              "      <td>...</td>\n",
              "      <td>...</td>\n",
              "      <td>...</td>\n",
              "      <td>...</td>\n",
              "    </tr>\n",
              "    <tr>\n",
              "      <th>162</th>\n",
              "      <td>29.2</td>\n",
              "      <td>46.6</td>\n",
              "      <td>5.25</td>\n",
              "      <td>52.7</td>\n",
              "      <td>2950</td>\n",
              "      <td>2.62</td>\n",
              "      <td>63.0</td>\n",
              "      <td>3.50</td>\n",
              "      <td>2970</td>\n",
              "      <td>1</td>\n",
              "    </tr>\n",
              "    <tr>\n",
              "      <th>163</th>\n",
              "      <td>17.1</td>\n",
              "      <td>28.5</td>\n",
              "      <td>4.91</td>\n",
              "      <td>17.6</td>\n",
              "      <td>16500</td>\n",
              "      <td>45.90</td>\n",
              "      <td>75.4</td>\n",
              "      <td>2.47</td>\n",
              "      <td>13500</td>\n",
              "      <td>1</td>\n",
              "    </tr>\n",
              "    <tr>\n",
              "      <th>164</th>\n",
              "      <td>23.3</td>\n",
              "      <td>72.0</td>\n",
              "      <td>6.84</td>\n",
              "      <td>80.2</td>\n",
              "      <td>4490</td>\n",
              "      <td>12.10</td>\n",
              "      <td>73.1</td>\n",
              "      <td>1.95</td>\n",
              "      <td>1310</td>\n",
              "      <td>1</td>\n",
              "    </tr>\n",
              "    <tr>\n",
              "      <th>165</th>\n",
              "      <td>56.3</td>\n",
              "      <td>30.0</td>\n",
              "      <td>5.18</td>\n",
              "      <td>34.4</td>\n",
              "      <td>4480</td>\n",
              "      <td>23.60</td>\n",
              "      <td>67.5</td>\n",
              "      <td>4.67</td>\n",
              "      <td>1310</td>\n",
              "      <td>2</td>\n",
              "    </tr>\n",
              "    <tr>\n",
              "      <th>166</th>\n",
              "      <td>83.1</td>\n",
              "      <td>37.0</td>\n",
              "      <td>5.89</td>\n",
              "      <td>30.9</td>\n",
              "      <td>3280</td>\n",
              "      <td>14.00</td>\n",
              "      <td>52.0</td>\n",
              "      <td>5.40</td>\n",
              "      <td>1460</td>\n",
              "      <td>2</td>\n",
              "    </tr>\n",
              "  </tbody>\n",
              "</table>\n",
              "<p>167 rows × 10 columns</p>\n",
              "</div>"
            ],
            "text/plain": [
              "     child_mort  exports  health  ...  total_fer   gdpp  cluster\n",
              "0          90.2     10.0    7.58  ...       5.82    553        2\n",
              "1          16.6     28.0    6.55  ...       1.65   4090        1\n",
              "2          27.3     38.4    4.17  ...       2.89   4460        1\n",
              "3         119.0     62.3    2.85  ...       6.16   3530        2\n",
              "4          10.3     45.5    6.03  ...       2.13  12200        1\n",
              "..          ...      ...     ...  ...        ...    ...      ...\n",
              "162        29.2     46.6    5.25  ...       3.50   2970        1\n",
              "163        17.1     28.5    4.91  ...       2.47  13500        1\n",
              "164        23.3     72.0    6.84  ...       1.95   1310        1\n",
              "165        56.3     30.0    5.18  ...       4.67   1310        2\n",
              "166        83.1     37.0    5.89  ...       5.40   1460        2\n",
              "\n",
              "[167 rows x 10 columns]"
            ]
          },
          "metadata": {},
          "execution_count": 160
        }
      ]
    },
    {
      "cell_type": "code",
      "metadata": {
        "id": "hK7e72uo0YP3"
      },
      "source": [
        "country_ = pd.DataFrame(country,columns= ['country'])"
      ],
      "execution_count": 165,
      "outputs": []
    },
    {
      "cell_type": "code",
      "metadata": {
        "id": "llGQkwqu05lC"
      },
      "source": [
        "data_final = country_.join(data)"
      ],
      "execution_count": 167,
      "outputs": []
    },
    {
      "cell_type": "code",
      "metadata": {
        "colab": {
          "base_uri": "https://localhost:8080/"
        },
        "id": "PrK6oQDj1h3F",
        "outputId": "b5b39eca-f838-419c-c2b5-6ddfd9db66ab"
      },
      "source": [
        "data_final[data_final['cluster'] == 0 ].country"
      ],
      "execution_count": 171,
      "outputs": [
        {
          "output_type": "execute_result",
          "data": {
            "text/plain": [
              "7                 Australia\n",
              "8                   Austria\n",
              "11                  Bahrain\n",
              "15                  Belgium\n",
              "23                   Brunei\n",
              "29                   Canada\n",
              "42                   Cyprus\n",
              "43           Czech Republic\n",
              "44                  Denmark\n",
              "53                  Finland\n",
              "54                   France\n",
              "58                  Germany\n",
              "60                   Greece\n",
              "68                  Iceland\n",
              "73                  Ireland\n",
              "74                   Israel\n",
              "75                    Italy\n",
              "77                    Japan\n",
              "82                   Kuwait\n",
              "91               Luxembourg\n",
              "98                    Malta\n",
              "110             Netherlands\n",
              "111             New Zealand\n",
              "114                  Norway\n",
              "122                Portugal\n",
              "123                   Qatar\n",
              "133               Singapore\n",
              "134         Slovak Republic\n",
              "135                Slovenia\n",
              "138             South Korea\n",
              "139                   Spain\n",
              "144                  Sweden\n",
              "145             Switzerland\n",
              "157    United Arab Emirates\n",
              "158          United Kingdom\n",
              "159           United States\n",
              "Name: country, dtype: object"
            ]
          },
          "metadata": {},
          "execution_count": 171
        }
      ]
    },
    {
      "cell_type": "code",
      "metadata": {
        "colab": {
          "base_uri": "https://localhost:8080/"
        },
        "id": "s0bdMQHD1r28",
        "outputId": "5823e63f-6d70-4a6d-eb62-31a66ab55168"
      },
      "source": [
        "data_final[data_final['cluster'] == 1 ].country"
      ],
      "execution_count": 172,
      "outputs": [
        {
          "output_type": "execute_result",
          "data": {
            "text/plain": [
              "1                  Albania\n",
              "2                  Algeria\n",
              "4      Antigua and Barbuda\n",
              "5                Argentina\n",
              "6                  Armenia\n",
              "              ...         \n",
              "160                Uruguay\n",
              "161             Uzbekistan\n",
              "162                Vanuatu\n",
              "163              Venezuela\n",
              "164                Vietnam\n",
              "Name: country, Length: 84, dtype: object"
            ]
          },
          "metadata": {},
          "execution_count": 172
        }
      ]
    },
    {
      "cell_type": "code",
      "metadata": {
        "colab": {
          "base_uri": "https://localhost:8080/"
        },
        "id": "dOfzbzy711cq",
        "outputId": "c2821316-f87c-414a-8e11-969068ded49d"
      },
      "source": [
        "data_final[data_final['cluster'] == 2 ].country"
      ],
      "execution_count": 173,
      "outputs": [
        {
          "output_type": "execute_result",
          "data": {
            "text/plain": [
              "0                   Afghanistan\n",
              "3                        Angola\n",
              "17                        Benin\n",
              "21                     Botswana\n",
              "25                 Burkina Faso\n",
              "26                      Burundi\n",
              "28                     Cameroon\n",
              "31     Central African Republic\n",
              "32                         Chad\n",
              "36                      Comoros\n",
              "37             Congo, Dem. Rep.\n",
              "38                  Congo, Rep.\n",
              "40                Cote d'Ivoire\n",
              "49            Equatorial Guinea\n",
              "50                      Eritrea\n",
              "55                        Gabon\n",
              "56                       Gambia\n",
              "59                        Ghana\n",
              "63                       Guinea\n",
              "64                Guinea-Bissau\n",
              "66                        Haiti\n",
              "72                         Iraq\n",
              "80                        Kenya\n",
              "81                     Kiribati\n",
              "84                          Lao\n",
              "87                      Lesotho\n",
              "88                      Liberia\n",
              "93                   Madagascar\n",
              "94                       Malawi\n",
              "97                         Mali\n",
              "99                   Mauritania\n",
              "106                  Mozambique\n",
              "108                     Namibia\n",
              "112                       Niger\n",
              "113                     Nigeria\n",
              "116                    Pakistan\n",
              "126                      Rwanda\n",
              "129                     Senegal\n",
              "132                Sierra Leone\n",
              "137                South Africa\n",
              "142                       Sudan\n",
              "147                    Tanzania\n",
              "149                 Timor-Leste\n",
              "150                        Togo\n",
              "155                      Uganda\n",
              "165                       Yemen\n",
              "166                      Zambia\n",
              "Name: country, dtype: object"
            ]
          },
          "metadata": {},
          "execution_count": 173
        }
      ]
    },
    {
      "cell_type": "code",
      "metadata": {
        "id": "t1q31pzT13Ja"
      },
      "source": [
        ""
      ],
      "execution_count": null,
      "outputs": []
    }
  ]
}