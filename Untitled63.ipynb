{
  "nbformat": 4,
  "nbformat_minor": 0,
  "metadata": {
    "colab": {
      "name": "Untitled63.ipynb",
      "provenance": [],
      "collapsed_sections": [],
      "authorship_tag": "ABX9TyM7vDrb3MC+sKTzaS0mMhRl",
      "include_colab_link": true
    },
    "kernelspec": {
      "name": "python3",
      "display_name": "Python 3"
    },
    "language_info": {
      "name": "python"
    }
  },
  "cells": [
    {
      "cell_type": "markdown",
      "metadata": {
        "id": "view-in-github",
        "colab_type": "text"
      },
      "source": [
        "<a href=\"https://colab.research.google.com/github/vijayshankarrealdeal/GoogleColab/blob/main/Untitled63.ipynb\" target=\"_parent\"><img src=\"https://colab.research.google.com/assets/colab-badge.svg\" alt=\"Open In Colab\"/></a>"
      ]
    },
    {
      "cell_type": "code",
      "metadata": {
        "id": "-18hEo7BdT5t"
      },
      "source": [
        "l=['Personal','Art','Wedding','Modeling','Fashion','Travel','Fitness','Yoga','Love','Food',\n",
        "'Pets',\n",
        "'Health',\n",
        "'WildLife',\n",
        "'Nature',\n",
        "'Festivals'\n",
        "'Universe',\n",
        "'Movie',\n",
        "'Finance',\n",
        "]\n"
      ],
      "execution_count": 4,
      "outputs": []
    },
    {
      "cell_type": "code",
      "metadata": {
        "colab": {
          "base_uri": "https://localhost:8080/"
        },
        "id": "bgWZYTjQirFf",
        "outputId": "e368b71a-1d96-4808-e745-24599f3bb664"
      },
      "source": [
        "!curl -H \"Authorization: 563492ad6f9170000100000175f98a67ed5b474ead88abb30d655f08\" \\\n",
        "  \"https://api.pexels.com/v1/search?query=people\""
      ],
      "execution_count": 26,
      "outputs": [
        {
          "output_type": "stream",
          "text": [
            "{\"page\":1,\"per_page\":15,\"photos\":[{\"id\":7038116,\"width\":3500,\"height\":2333,\"url\":\"https://www.pexels.com/photo/person-in-jacket-running-on-snow-covered-ground-7038116/\",\"photographer\":\"cottonbro\",\"photographer_url\":\"https://www.pexels.com/@cottonbro\",\"photographer_id\":1437723,\"avg_color\":\"#C8D0D4\",\"src\":{\"original\":\"https://images.pexels.com/photos/7038116/pexels-photo-7038116.jpeg\",\"large2x\":\"https://images.pexels.com/photos/7038116/pexels-photo-7038116.jpeg?auto=compress\\u0026cs=tinysrgb\\u0026dpr=2\\u0026h=650\\u0026w=940\",\"large\":\"https://images.pexels.com/photos/7038116/pexels-photo-7038116.jpeg?auto=compress\\u0026cs=tinysrgb\\u0026h=650\\u0026w=940\",\"medium\":\"https://images.pexels.com/photos/7038116/pexels-photo-7038116.jpeg?auto=compress\\u0026cs=tinysrgb\\u0026h=350\",\"small\":\"https://images.pexels.com/photos/7038116/pexels-photo-7038116.jpeg?auto=compress\\u0026cs=tinysrgb\\u0026h=130\",\"portrait\":\"https://images.pexels.com/photos/7038116/pexels-photo-7038116.jpeg?auto=compress\\u0026cs=tinysrgb\\u0026fit=crop\\u0026h=1200\\u0026w=800\",\"landscape\":\"https://images.pexels.com/photos/7038116/pexels-photo-7038116.jpeg?auto=compress\\u0026cs=tinysrgb\\u0026fit=crop\\u0026h=627\\u0026w=1200\",\"tiny\":\"https://images.pexels.com/photos/7038116/pexels-photo-7038116.jpeg?auto=compress\\u0026cs=tinysrgb\\u0026dpr=1\\u0026fit=crop\\u0026h=200\\u0026w=280\"},\"liked\":false},{\"id\":8385367,\"width\":2000,\"height\":3000,\"url\":\"https://www.pexels.com/photo/man-people-woman-young-8385367/\",\"photographer\":\"Darina Belonogova\",\"photographer_url\":\"https://www.pexels.com/@darina-belonogova\",\"photographer_id\":22470218,\"avg_color\":\"#8A7466\",\"src\":{\"original\":\"https://images.pexels.com/photos/8385367/pexels-photo-8385367.jpeg\",\"large2x\":\"https://images.pexels.com/photos/8385367/pexels-photo-8385367.jpeg?auto=compress\\u0026cs=tinysrgb\\u0026dpr=2\\u0026h=650\\u0026w=940\",\"large\":\"https://images.pexels.com/photos/8385367/pexels-photo-8385367.jpeg?auto=compress\\u0026cs=tinysrgb\\u0026h=650\\u0026w=940\",\"medium\":\"https://images.pexels.com/photos/8385367/pexels-photo-8385367.jpeg?auto=compress\\u0026cs=tinysrgb\\u0026h=350\",\"small\":\"https://images.pexels.com/photos/8385367/pexels-photo-8385367.jpeg?auto=compress\\u0026cs=tinysrgb\\u0026h=130\",\"portrait\":\"https://images.pexels.com/photos/8385367/pexels-photo-8385367.jpeg?auto=compress\\u0026cs=tinysrgb\\u0026fit=crop\\u0026h=1200\\u0026w=800\",\"landscape\":\"https://images.pexels.com/photos/8385367/pexels-photo-8385367.jpeg?auto=compress\\u0026cs=tinysrgb\\u0026fit=crop\\u0026h=627\\u0026w=1200\",\"tiny\":\"https://images.pexels.com/photos/8385367/pexels-photo-8385367.jpeg?auto=compress\\u0026cs=tinysrgb\\u0026dpr=1\\u0026fit=crop\\u0026h=200\\u0026w=280\"},\"liked\":false},{\"id\":7038115,\"width\":3500,\"height\":2333,\"url\":\"https://www.pexels.com/photo/a-person-walking-on-snow-covered-field-7038115/\",\"photographer\":\"cottonbro\",\"photographer_url\":\"https://www.pexels.com/@cottonbro\",\"photographer_id\":1437723,\"avg_color\":\"#B6C4CC\",\"src\":{\"original\":\"https://images.pexels.com/photos/7038115/pexels-photo-7038115.jpeg\",\"large2x\":\"https://images.pexels.com/photos/7038115/pexels-photo-7038115.jpeg?auto=compress\\u0026cs=tinysrgb\\u0026dpr=2\\u0026h=650\\u0026w=940\",\"large\":\"https://images.pexels.com/photos/7038115/pexels-photo-7038115.jpeg?auto=compress\\u0026cs=tinysrgb\\u0026h=650\\u0026w=940\",\"medium\":\"https://images.pexels.com/photos/7038115/pexels-photo-7038115.jpeg?auto=compress\\u0026cs=tinysrgb\\u0026h=350\",\"small\":\"https://images.pexels.com/photos/7038115/pexels-photo-7038115.jpeg?auto=compress\\u0026cs=tinysrgb\\u0026h=130\",\"portrait\":\"https://images.pexels.com/photos/7038115/pexels-photo-7038115.jpeg?auto=compress\\u0026cs=tinysrgb\\u0026fit=crop\\u0026h=1200\\u0026w=800\",\"landscape\":\"https://images.pexels.com/photos/7038115/pexels-photo-7038115.jpeg?auto=compress\\u0026cs=tinysrgb\\u0026fit=crop\\u0026h=627\\u0026w=1200\",\"tiny\":\"https://images.pexels.com/photos/7038115/pexels-photo-7038115.jpeg?auto=compress\\u0026cs=tinysrgb\\u0026dpr=1\\u0026fit=crop\\u0026h=200\\u0026w=280\"},\"liked\":false},{\"id\":8869199,\"width\":5845,\"height\":3897,\"url\":\"https://www.pexels.com/photo/woman-standing-on-the-road-8869199/\",\"photographer\":\"MART PRODUCTION\",\"photographer_url\":\"https://www.pexels.com/@mart-production\",\"photographer_id\":30039676,\"avg_color\":\"#AEABA6\",\"src\":{\"original\":\"https://images.pexels.com/photos/8869199/pexels-photo-8869199.jpeg\",\"large2x\":\"https://images.pexels.com/photos/8869199/pexels-photo-8869199.jpeg?auto=compress\\u0026cs=tinysrgb\\u0026dpr=2\\u0026h=650\\u0026w=940\",\"large\":\"https://images.pexels.com/photos/8869199/pexels-photo-8869199.jpeg?auto=compress\\u0026cs=tinysrgb\\u0026h=650\\u0026w=940\",\"medium\":\"https://images.pexels.com/photos/8869199/pexels-photo-8869199.jpeg?auto=compress\\u0026cs=tinysrgb\\u0026h=350\",\"small\":\"https://images.pexels.com/photos/8869199/pexels-photo-8869199.jpeg?auto=compress\\u0026cs=tinysrgb\\u0026h=130\",\"portrait\":\"https://images.pexels.com/photos/8869199/pexels-photo-8869199.jpeg?auto=compress\\u0026cs=tinysrgb\\u0026fit=crop\\u0026h=1200\\u0026w=800\",\"landscape\":\"https://images.pexels.com/photos/8869199/pexels-photo-8869199.jpeg?auto=compress\\u0026cs=tinysrgb\\u0026fit=crop\\u0026h=627\\u0026w=1200\",\"tiny\":\"https://images.pexels.com/photos/8869199/pexels-photo-8869199.jpeg?auto=compress\\u0026cs=tinysrgb\\u0026dpr=1\\u0026fit=crop\\u0026h=200\\u0026w=280\"},\"liked\":false},{\"id\":8869198,\"width\":5950,\"height\":3967,\"url\":\"https://www.pexels.com/photo/woman-holding-a-map-8869198/\",\"photographer\":\"MART PRODUCTION\",\"photographer_url\":\"https://www.pexels.com/@mart-production\",\"photographer_id\":30039676,\"avg_color\":\"#9F9F9D\",\"src\":{\"original\":\"https://images.pexels.com/photos/8869198/pexels-photo-8869198.jpeg\",\"large2x\":\"https://images.pexels.com/photos/8869198/pexels-photo-8869198.jpeg?auto=compress\\u0026cs=tinysrgb\\u0026dpr=2\\u0026h=650\\u0026w=940\",\"large\":\"https://images.pexels.com/photos/8869198/pexels-photo-8869198.jpeg?auto=compress\\u0026cs=tinysrgb\\u0026h=650\\u0026w=940\",\"medium\":\"https://images.pexels.com/photos/8869198/pexels-photo-8869198.jpeg?auto=compress\\u0026cs=tinysrgb\\u0026h=350\",\"small\":\"https://images.pexels.com/photos/8869198/pexels-photo-8869198.jpeg?auto=compress\\u0026cs=tinysrgb\\u0026h=130\",\"portrait\":\"https://images.pexels.com/photos/8869198/pexels-photo-8869198.jpeg?auto=compress\\u0026cs=tinysrgb\\u0026fit=crop\\u0026h=1200\\u0026w=800\",\"landscape\":\"https://images.pexels.com/photos/8869198/pexels-photo-8869198.jpeg?auto=compress\\u0026cs=tinysrgb\\u0026fit=crop\\u0026h=627\\u0026w=1200\",\"tiny\":\"https://images.pexels.com/photos/8869198/pexels-photo-8869198.jpeg?auto=compress\\u0026cs=tinysrgb\\u0026dpr=1\\u0026fit=crop\\u0026h=200\\u0026w=280\"},\"liked\":false},{\"id\":8869196,\"width\":6000,\"height\":4000,\"url\":\"https://www.pexels.com/photo/woman-in-white-hat-and-plaid-dress-shirt-sitting-on-car-8869196/\",\"photographer\":\"MART PRODUCTION\",\"photographer_url\":\"https://www.pexels.com/@mart-production\",\"photographer_id\":30039676,\"avg_color\":\"#71716F\",\"src\":{\"original\":\"https://images.pexels.com/photos/8869196/pexels-photo-8869196.jpeg\",\"large2x\":\"https://images.pexels.com/photos/8869196/pexels-photo-8869196.jpeg?auto=compress\\u0026cs=tinysrgb\\u0026dpr=2\\u0026h=650\\u0026w=940\",\"large\":\"https://images.pexels.com/photos/8869196/pexels-photo-8869196.jpeg?auto=compress\\u0026cs=tinysrgb\\u0026h=650\\u0026w=940\",\"medium\":\"https://images.pexels.com/photos/8869196/pexels-photo-8869196.jpeg?auto=compress\\u0026cs=tinysrgb\\u0026h=350\",\"small\":\"https://images.pexels.com/photos/8869196/pexels-photo-8869196.jpeg?auto=compress\\u0026cs=tinysrgb\\u0026h=130\",\"portrait\":\"https://images.pexels.com/photos/8869196/pexels-photo-8869196.jpeg?auto=compress\\u0026cs=tinysrgb\\u0026fit=crop\\u0026h=1200\\u0026w=800\",\"landscape\":\"https://images.pexels.com/photos/8869196/pexels-photo-8869196.jpeg?auto=compress\\u0026cs=tinysrgb\\u0026fit=crop\\u0026h=627\\u0026w=1200\",\"tiny\":\"https://images.pexels.com/photos/8869196/pexels-photo-8869196.jpeg?auto=compress\\u0026cs=tinysrgb\\u0026dpr=1\\u0026fit=crop\\u0026h=200\\u0026w=280\"},\"liked\":false},{\"id\":8869195,\"width\":3715,\"height\":5572,\"url\":\"https://www.pexels.com/photo/man-checking-car-engine-8869195/\",\"photographer\":\"MART PRODUCTION\",\"photographer_url\":\"https://www.pexels.com/@mart-production\",\"photographer_id\":30039676,\"avg_color\":\"#A2A2A2\",\"src\":{\"original\":\"https://images.pexels.com/photos/8869195/pexels-photo-8869195.jpeg\",\"large2x\":\"https://images.pexels.com/photos/8869195/pexels-photo-8869195.jpeg?auto=compress\\u0026cs=tinysrgb\\u0026dpr=2\\u0026h=650\\u0026w=940\",\"large\":\"https://images.pexels.com/photos/8869195/pexels-photo-8869195.jpeg?auto=compress\\u0026cs=tinysrgb\\u0026h=650\\u0026w=940\",\"medium\":\"https://images.pexels.com/photos/8869195/pexels-photo-8869195.jpeg?auto=compress\\u0026cs=tinysrgb\\u0026h=350\",\"small\":\"https://images.pexels.com/photos/8869195/pexels-photo-8869195.jpeg?auto=compress\\u0026cs=tinysrgb\\u0026h=130\",\"portrait\":\"https://images.pexels.com/photos/8869195/pexels-photo-8869195.jpeg?auto=compress\\u0026cs=tinysrgb\\u0026fit=crop\\u0026h=1200\\u0026w=800\",\"landscape\":\"https://images.pexels.com/photos/8869195/pexels-photo-8869195.jpeg?auto=compress\\u0026cs=tinysrgb\\u0026fit=crop\\u0026h=627\\u0026w=1200\",\"tiny\":\"https://images.pexels.com/photos/8869195/pexels-photo-8869195.jpeg?auto=compress\\u0026cs=tinysrgb\\u0026dpr=1\\u0026fit=crop\\u0026h=200\\u0026w=280\"},\"liked\":false},{\"id\":8869197,\"width\":6000,\"height\":4000,\"url\":\"https://www.pexels.com/photo/man-drinking-from-clear-glass-bottle-8869197/\",\"photographer\":\"MART PRODUCTION\",\"photographer_url\":\"https://www.pexels.com/@mart-production\",\"photographer_id\":30039676,\"avg_color\":\"#8A939C\",\"src\":{\"original\":\"https://images.pexels.com/photos/8869197/pexels-photo-8869197.jpeg\",\"large2x\":\"https://images.pexels.com/photos/8869197/pexels-photo-8869197.jpeg?auto=compress\\u0026cs=tinysrgb\\u0026dpr=2\\u0026h=650\\u0026w=940\",\"large\":\"https://images.pexels.com/photos/8869197/pexels-photo-8869197.jpeg?auto=compress\\u0026cs=tinysrgb\\u0026h=650\\u0026w=940\",\"medium\":\"https://images.pexels.com/photos/8869197/pexels-photo-8869197.jpeg?auto=compress\\u0026cs=tinysrgb\\u0026h=350\",\"small\":\"https://images.pexels.com/photos/8869197/pexels-photo-8869197.jpeg?auto=compress\\u0026cs=tinysrgb\\u0026h=130\",\"portrait\":\"https://images.pexels.com/photos/8869197/pexels-photo-8869197.jpeg?auto=compress\\u0026cs=tinysrgb\\u0026fit=crop\\u0026h=1200\\u0026w=800\",\"landscape\":\"https://images.pexels.com/photos/8869197/pexels-photo-8869197.jpeg?auto=compress\\u0026cs=tinysrgb\\u0026fit=crop\\u0026h=627\\u0026w=1200\",\"tiny\":\"https://images.pexels.com/photos/8869197/pexels-photo-8869197.jpeg?auto=compress\\u0026cs=tinysrgb\\u0026dpr=1\\u0026fit=crop\\u0026h=200\\u0026w=280\"},\"liked\":false},{\"id\":8869194,\"width\":4000,\"height\":6000,\"url\":\"https://www.pexels.com/photo/close-up-shot-of-a-man-s-face-8869194/\",\"photographer\":\"MART PRODUCTION\",\"photographer_url\":\"https://www.pexels.com/@mart-production\",\"photographer_id\":30039676,\"avg_color\":\"#977A6C\",\"src\":{\"original\":\"https://images.pexels.com/photos/8869194/pexels-photo-8869194.jpeg\",\"large2x\":\"https://images.pexels.com/photos/8869194/pexels-photo-8869194.jpeg?auto=compress\\u0026cs=tinysrgb\\u0026dpr=2\\u0026h=650\\u0026w=940\",\"large\":\"https://images.pexels.com/photos/8869194/pexels-photo-8869194.jpeg?auto=compress\\u0026cs=tinysrgb\\u0026h=650\\u0026w=940\",\"medium\":\"https://images.pexels.com/photos/8869194/pexels-photo-8869194.jpeg?auto=compress\\u0026cs=tinysrgb\\u0026h=350\",\"small\":\"https://images.pexels.com/photos/8869194/pexels-photo-8869194.jpeg?auto=compress\\u0026cs=tinysrgb\\u0026h=130\",\"portrait\":\"https://images.pexels.com/photos/8869194/pexels-photo-8869194.jpeg?auto=compress\\u0026cs=tinysrgb\\u0026fit=crop\\u0026h=1200\\u0026w=800\",\"landscape\":\"https://images.pexels.com/photos/8869194/pexels-photo-8869194.jpeg?auto=compress\\u0026cs=tinysrgb\\u0026fit=crop\\u0026h=627\\u0026w=1200\",\"tiny\":\"https://images.pexels.com/photos/8869194/pexels-photo-8869194.jpeg?auto=compress\\u0026cs=tinysrgb\\u0026dpr=1\\u0026fit=crop\\u0026h=200\\u0026w=280\"},\"liked\":false},{\"id\":8869192,\"width\":5818,\"height\":3879,\"url\":\"https://www.pexels.com/photo/woman-in-plaid-shirt-using-laptop-computer-sitting-in-the-middle-of-the-road-8869192/\",\"photographer\":\"MART PRODUCTION\",\"photographer_url\":\"https://www.pexels.com/@mart-production\",\"photographer_id\":30039676,\"avg_color\":\"#A6A5A3\",\"src\":{\"original\":\"https://images.pexels.com/photos/8869192/pexels-photo-8869192.jpeg\",\"large2x\":\"https://images.pexels.com/photos/8869192/pexels-photo-8869192.jpeg?auto=compress\\u0026cs=tinysrgb\\u0026dpr=2\\u0026h=650\\u0026w=940\",\"large\":\"https://images.pexels.com/photos/8869192/pexels-photo-8869192.jpeg?auto=compress\\u0026cs=tinysrgb\\u0026h=650\\u0026w=940\",\"medium\":\"https://images.pexels.com/photos/8869192/pexels-photo-8869192.jpeg?auto=compress\\u0026cs=tinysrgb\\u0026h=350\",\"small\":\"https://images.pexels.com/photos/8869192/pexels-photo-8869192.jpeg?auto=compress\\u0026cs=tinysrgb\\u0026h=130\",\"portrait\":\"https://images.pexels.com/photos/8869192/pexels-photo-8869192.jpeg?auto=compress\\u0026cs=tinysrgb\\u0026fit=crop\\u0026h=1200\\u0026w=800\",\"landscape\":\"https://images.pexels.com/photos/8869192/pexels-photo-8869192.jpeg?auto=compress\\u0026cs=tinysrgb\\u0026fit=crop\\u0026h=627\\u0026w=1200\",\"tiny\":\"https://images.pexels.com/photos/8869192/pexels-photo-8869192.jpeg?auto=compress\\u0026cs=tinysrgb\\u0026dpr=1\\u0026fit=crop\\u0026h=200\\u0026w=280\"},\"liked\":false},{\"id\":8869188,\"width\":4000,\"height\":6000,\"url\":\"https://www.pexels.com/photo/woman-in-plaid-dress-shirt-using-a-laptop-on-sand-8869188/\",\"photographer\":\"MART PRODUCTION\",\"photographer_url\":\"https://www.pexels.com/@mart-production\",\"photographer_id\":30039676,\"avg_color\":\"#BBADA2\",\"src\":{\"original\":\"https://images.pexels.com/photos/8869188/pexels-photo-8869188.jpeg\",\"large2x\":\"https://images.pexels.com/photos/8869188/pexels-photo-8869188.jpeg?auto=compress\\u0026cs=tinysrgb\\u0026dpr=2\\u0026h=650\\u0026w=940\",\"large\":\"https://images.pexels.com/photos/8869188/pexels-photo-8869188.jpeg?auto=compress\\u0026cs=tinysrgb\\u0026h=650\\u0026w=940\",\"medium\":\"https://images.pexels.com/photos/8869188/pexels-photo-8869188.jpeg?auto=compress\\u0026cs=tinysrgb\\u0026h=350\",\"small\":\"https://images.pexels.com/photos/8869188/pexels-photo-8869188.jpeg?auto=compress\\u0026cs=tinysrgb\\u0026h=130\",\"portrait\":\"https://images.pexels.com/photos/8869188/pexels-photo-8869188.jpeg?auto=compress\\u0026cs=tinysrgb\\u0026fit=crop\\u0026h=1200\\u0026w=800\",\"landscape\":\"https://images.pexels.com/photos/8869188/pexels-photo-8869188.jpeg?auto=compress\\u0026cs=tinysrgb\\u0026fit=crop\\u0026h=627\\u0026w=1200\",\"tiny\":\"https://images.pexels.com/photos/8869188/pexels-photo-8869188.jpeg?auto=compress\\u0026cs=tinysrgb\\u0026dpr=1\\u0026fit=crop\\u0026h=200\\u0026w=280\"},\"liked\":false},{\"id\":8818593,\"width\":6000,\"height\":4000,\"url\":\"https://www.pexels.com/photo/woman-holding-gold-steel-cup-8818593/\",\"photographer\":\"Yan Krukov\",\"photographer_url\":\"https://www.pexels.com/@yankrukov\",\"photographer_id\":2905570,\"avg_color\":\"#712E13\",\"src\":{\"original\":\"https://images.pexels.com/photos/8818593/pexels-photo-8818593.jpeg\",\"large2x\":\"https://images.pexels.com/photos/8818593/pexels-photo-8818593.jpeg?auto=compress\\u0026cs=tinysrgb\\u0026dpr=2\\u0026h=650\\u0026w=940\",\"large\":\"https://images.pexels.com/photos/8818593/pexels-photo-8818593.jpeg?auto=compress\\u0026cs=tinysrgb\\u0026h=650\\u0026w=940\",\"medium\":\"https://images.pexels.com/photos/8818593/pexels-photo-8818593.jpeg?auto=compress\\u0026cs=tinysrgb\\u0026h=350\",\"small\":\"https://images.pexels.com/photos/8818593/pexels-photo-8818593.jpeg?auto=compress\\u0026cs=tinysrgb\\u0026h=130\",\"portrait\":\"https://images.pexels.com/photos/8818593/pexels-photo-8818593.jpeg?auto=compress\\u0026cs=tinysrgb\\u0026fit=crop\\u0026h=1200\\u0026w=800\",\"landscape\":\"https://images.pexels.com/photos/8818593/pexels-photo-8818593.jpeg?auto=compress\\u0026cs=tinysrgb\\u0026fit=crop\\u0026h=627\\u0026w=1200\",\"tiny\":\"https://images.pexels.com/photos/8818593/pexels-photo-8818593.jpeg?auto=compress\\u0026cs=tinysrgb\\u0026dpr=1\\u0026fit=crop\\u0026h=200\\u0026w=280\"},\"liked\":false},{\"id\":8818589,\"width\":4000,\"height\":6000,\"url\":\"https://www.pexels.com/photo/woman-holding-a-sparkler-8818589/\",\"photographer\":\"Yan Krukov\",\"photographer_url\":\"https://www.pexels.com/@yankrukov\",\"photographer_id\":2905570,\"avg_color\":\"#7B401E\",\"src\":{\"original\":\"https://images.pexels.com/photos/8818589/pexels-photo-8818589.jpeg\",\"large2x\":\"https://images.pexels.com/photos/8818589/pexels-photo-8818589.jpeg?auto=compress\\u0026cs=tinysrgb\\u0026dpr=2\\u0026h=650\\u0026w=940\",\"large\":\"https://images.pexels.com/photos/8818589/pexels-photo-8818589.jpeg?auto=compress\\u0026cs=tinysrgb\\u0026h=650\\u0026w=940\",\"medium\":\"https://images.pexels.com/photos/8818589/pexels-photo-8818589.jpeg?auto=compress\\u0026cs=tinysrgb\\u0026h=350\",\"small\":\"https://images.pexels.com/photos/8818589/pexels-photo-8818589.jpeg?auto=compress\\u0026cs=tinysrgb\\u0026h=130\",\"portrait\":\"https://images.pexels.com/photos/8818589/pexels-photo-8818589.jpeg?auto=compress\\u0026cs=tinysrgb\\u0026fit=crop\\u0026h=1200\\u0026w=800\",\"landscape\":\"https://images.pexels.com/photos/8818589/pexels-photo-8818589.jpeg?auto=compress\\u0026cs=tinysrgb\\u0026fit=crop\\u0026h=627\\u0026w=1200\",\"tiny\":\"https://images.pexels.com/photos/8818589/pexels-photo-8818589.jpeg?auto=compress\\u0026cs=tinysrgb\\u0026dpr=1\\u0026fit=crop\\u0026h=200\\u0026w=280\"},\"liked\":false},{\"id\":8818586,\"width\":4000,\"height\":6000,\"url\":\"https://www.pexels.com/photo/man-holding-a-sparkler-8818586/\",\"photographer\":\"Yan Krukov\",\"photographer_url\":\"https://www.pexels.com/@yankrukov\",\"photographer_id\":2905570,\"avg_color\":\"#5F3B25\",\"src\":{\"original\":\"https://images.pexels.com/photos/8818586/pexels-photo-8818586.jpeg\",\"large2x\":\"https://images.pexels.com/photos/8818586/pexels-photo-8818586.jpeg?auto=compress\\u0026cs=tinysrgb\\u0026dpr=2\\u0026h=650\\u0026w=940\",\"large\":\"https://images.pexels.com/photos/8818586/pexels-photo-8818586.jpeg?auto=compress\\u0026cs=tinysrgb\\u0026h=650\\u0026w=940\",\"medium\":\"https://images.pexels.com/photos/8818586/pexels-photo-8818586.jpeg?auto=compress\\u0026cs=tinysrgb\\u0026h=350\",\"small\":\"https://images.pexels.com/photos/8818586/pexels-photo-8818586.jpeg?auto=compress\\u0026cs=tinysrgb\\u0026h=130\",\"portrait\":\"https://images.pexels.com/photos/8818586/pexels-photo-8818586.jpeg?auto=compress\\u0026cs=tinysrgb\\u0026fit=crop\\u0026h=1200\\u0026w=800\",\"landscape\":\"https://images.pexels.com/photos/8818586/pexels-photo-8818586.jpeg?auto=compress\\u0026cs=tinysrgb\\u0026fit=crop\\u0026h=627\\u0026w=1200\",\"tiny\":\"https://images.pexels.com/photos/8818586/pexels-photo-8818586.jpeg?auto=compress\\u0026cs=tinysrgb\\u0026dpr=1\\u0026fit=crop\\u0026h=200\\u0026w=280\"},\"liked\":false},{\"id\":8447299,\"width\":3648,\"height\":5472,\"url\":\"https://www.pexels.com/photo/woman-in-white-dress-holding-bouquet-of-flowers-8447299/\",\"photographer\":\"Marina Abrosimova\",\"photographer_url\":\"https://www.pexels.com/@marina-abrosimova-3319804\",\"photographer_id\":3319804,\"avg_color\":\"#8A867B\",\"src\":{\"original\":\"https://images.pexels.com/photos/8447299/pexels-photo-8447299.jpeg\",\"large2x\":\"https://images.pexels.com/photos/8447299/pexels-photo-8447299.jpeg?auto=compress\\u0026cs=tinysrgb\\u0026dpr=2\\u0026h=650\\u0026w=940\",\"large\":\"https://images.pexels.com/photos/8447299/pexels-photo-8447299.jpeg?auto=compress\\u0026cs=tinysrgb\\u0026h=650\\u0026w=940\",\"medium\":\"https://images.pexels.com/photos/8447299/pexels-photo-8447299.jpeg?auto=compress\\u0026cs=tinysrgb\\u0026h=350\",\"small\":\"https://images.pexels.com/photos/8447299/pexels-photo-8447299.jpeg?auto=compress\\u0026cs=tinysrgb\\u0026h=130\",\"portrait\":\"https://images.pexels.com/photos/8447299/pexels-photo-8447299.jpeg?auto=compress\\u0026cs=tinysrgb\\u0026fit=crop\\u0026h=1200\\u0026w=800\",\"landscape\":\"https://images.pexels.com/photos/8447299/pexels-photo-8447299.jpeg?auto=compress\\u0026cs=tinysrgb\\u0026fit=crop\\u0026h=627\\u0026w=1200\",\"tiny\":\"https://images.pexels.com/photos/8447299/pexels-photo-8447299.jpeg?auto=compress\\u0026cs=tinysrgb\\u0026dpr=1\\u0026fit=crop\\u0026h=200\\u0026w=280\"},\"liked\":false}],\"total_results\":8000,\"next_page\":\"https://api.pexels.com/v1/search/?page=2\\u0026per_page=15\\u0026query=people\"}"
          ],
          "name": "stdout"
        }
      ]
    },
    {
      "cell_type": "code",
      "metadata": {
        "id": "dYLobwi2duqp"
      },
      "source": [
        "import requests"
      ],
      "execution_count": 6,
      "outputs": []
    },
    {
      "cell_type": "code",
      "metadata": {
        "id": "fPwF9yuRfiZh"
      },
      "source": [
        "key = \"563492ad6f9170000100000175f98a67ed5b474ead88abb30d655f08\""
      ],
      "execution_count": 76,
      "outputs": []
    },
    {
      "cell_type": "code",
      "metadata": {
        "id": "tUOF4INYmtKv"
      },
      "source": [
        "cat = []\n",
        "portrait = []\n",
        "landscape = []\n",
        "original = []"
      ],
      "execution_count": 90,
      "outputs": []
    },
    {
      "cell_type": "code",
      "metadata": {
        "colab": {
          "base_uri": "https://localhost:8080/"
        },
        "id": "Hs-WJiX2f-GN",
        "outputId": "110d927e-ba31-4b77-9155-6749e55b15bd"
      },
      "source": [
        "for i in range(len(l)):\n",
        "  get = requests.get(\"https://api.pexels.com/v1/search?query=\"+l[i]+\"&per_page=40\",headers = {'Authorization': key})\n",
        "  js = get.json()\n",
        "  for j in range(len(js['photos'])):\n",
        "    portrait.append(js['photos'][j]['src']['portrait'])\n",
        "    landscape.append(js['photos'][j]['src']['landscape'])\n",
        "    original.append(js['photos'][j]['src']['original'])\n",
        "    cat.append(l[i])\n",
        "\n",
        "print('Done')"
      ],
      "execution_count": 91,
      "outputs": [
        {
          "output_type": "stream",
          "text": [
            "Done\n"
          ],
          "name": "stdout"
        }
      ]
    },
    {
      "cell_type": "code",
      "metadata": {
        "id": "UerYZURahCkQ"
      },
      "source": [
        "import pandas as pd"
      ],
      "execution_count": 92,
      "outputs": []
    },
    {
      "cell_type": "code",
      "metadata": {
        "id": "YxhmURuFjRwY"
      },
      "source": [
        "df = pd.DataFrame({\n",
        "    'category':cat,\n",
        "    'portrait':portrait,\n",
        "    'landscape':landscape,\n",
        "    'original':original,\n",
        "})"
      ],
      "execution_count": 93,
      "outputs": []
    },
    {
      "cell_type": "code",
      "metadata": {
        "colab": {
          "base_uri": "https://localhost:8080/",
          "height": 224
        },
        "id": "W-Lr4mx_jVqD",
        "outputId": "00ce2661-a7be-402a-a6a7-72aea2bf45bb"
      },
      "source": [
        "df.head()"
      ],
      "execution_count": 94,
      "outputs": [
        {
          "output_type": "execute_result",
          "data": {
            "text/html": [
              "<div>\n",
              "<style scoped>\n",
              "    .dataframe tbody tr th:only-of-type {\n",
              "        vertical-align: middle;\n",
              "    }\n",
              "\n",
              "    .dataframe tbody tr th {\n",
              "        vertical-align: top;\n",
              "    }\n",
              "\n",
              "    .dataframe thead th {\n",
              "        text-align: right;\n",
              "    }\n",
              "</style>\n",
              "<table border=\"1\" class=\"dataframe\">\n",
              "  <thead>\n",
              "    <tr style=\"text-align: right;\">\n",
              "      <th></th>\n",
              "      <th>category</th>\n",
              "      <th>portrait</th>\n",
              "      <th>landscape</th>\n",
              "      <th>original</th>\n",
              "    </tr>\n",
              "  </thead>\n",
              "  <tbody>\n",
              "    <tr>\n",
              "      <th>0</th>\n",
              "      <td>Personal</td>\n",
              "      <td>https://images.pexels.com/photos/6045232/pexel...</td>\n",
              "      <td>https://images.pexels.com/photos/6045232/pexel...</td>\n",
              "      <td>https://images.pexels.com/photos/6045232/pexel...</td>\n",
              "    </tr>\n",
              "    <tr>\n",
              "      <th>1</th>\n",
              "      <td>Personal</td>\n",
              "      <td>https://images.pexels.com/photos/6045237/pexel...</td>\n",
              "      <td>https://images.pexels.com/photos/6045237/pexel...</td>\n",
              "      <td>https://images.pexels.com/photos/6045237/pexel...</td>\n",
              "    </tr>\n",
              "    <tr>\n",
              "      <th>2</th>\n",
              "      <td>Personal</td>\n",
              "      <td>https://images.pexels.com/photos/6045233/pexel...</td>\n",
              "      <td>https://images.pexels.com/photos/6045233/pexel...</td>\n",
              "      <td>https://images.pexels.com/photos/6045233/pexel...</td>\n",
              "    </tr>\n",
              "    <tr>\n",
              "      <th>3</th>\n",
              "      <td>Personal</td>\n",
              "      <td>https://images.pexels.com/photos/7188677/pexel...</td>\n",
              "      <td>https://images.pexels.com/photos/7188677/pexel...</td>\n",
              "      <td>https://images.pexels.com/photos/7188677/pexel...</td>\n",
              "    </tr>\n",
              "    <tr>\n",
              "      <th>4</th>\n",
              "      <td>Personal</td>\n",
              "      <td>https://images.pexels.com/photos/6177572/pexel...</td>\n",
              "      <td>https://images.pexels.com/photos/6177572/pexel...</td>\n",
              "      <td>https://images.pexels.com/photos/6177572/pexel...</td>\n",
              "    </tr>\n",
              "  </tbody>\n",
              "</table>\n",
              "</div>"
            ],
            "text/plain": [
              "   category  ...                                           original\n",
              "0  Personal  ...  https://images.pexels.com/photos/6045232/pexel...\n",
              "1  Personal  ...  https://images.pexels.com/photos/6045237/pexel...\n",
              "2  Personal  ...  https://images.pexels.com/photos/6045233/pexel...\n",
              "3  Personal  ...  https://images.pexels.com/photos/7188677/pexel...\n",
              "4  Personal  ...  https://images.pexels.com/photos/6177572/pexel...\n",
              "\n",
              "[5 rows x 4 columns]"
            ]
          },
          "metadata": {
            "tags": []
          },
          "execution_count": 94
        }
      ]
    },
    {
      "cell_type": "code",
      "metadata": {
        "colab": {
          "base_uri": "https://localhost:8080/"
        },
        "id": "gPN04Ge0n8Q6",
        "outputId": "26c375e7-bf50-4d4a-ae3e-55a4b99c44b9"
      },
      "source": [
        "df.shape"
      ],
      "execution_count": 95,
      "outputs": [
        {
          "output_type": "execute_result",
          "data": {
            "text/plain": [
              "(640, 4)"
            ]
          },
          "metadata": {
            "tags": []
          },
          "execution_count": 95
        }
      ]
    },
    {
      "cell_type": "code",
      "metadata": {
        "id": "WSIpVtJioGoe"
      },
      "source": [
        "!pip install firebase\n",
        "!pip install firebase-admin"
      ],
      "execution_count": null,
      "outputs": []
    },
    {
      "cell_type": "code",
      "metadata": {
        "id": "a0eNhjBxoMay"
      },
      "source": [
        "import pandas as pd\n",
        "import firebase_admin\n",
        "from firebase_admin import credentials ,firestore"
      ],
      "execution_count": 97,
      "outputs": []
    },
    {
      "cell_type": "code",
      "metadata": {
        "id": "EbTzDIJGoQ7I"
      },
      "source": [
        "cred = credentials.Certificate('/content/admin.json')\n",
        "default_app = firebase_admin.initialize_app(cred)"
      ],
      "execution_count": 98,
      "outputs": []
    },
    {
      "cell_type": "code",
      "metadata": {
        "id": "-hfif_gHoWVt"
      },
      "source": [
        "db = firestore.client()"
      ],
      "execution_count": 99,
      "outputs": []
    },
    {
      "cell_type": "code",
      "metadata": {
        "id": "xO4AA1mbofCR"
      },
      "source": [
        "import string\n",
        "import random\n",
        "def id_generator(size=6, chars=string.ascii_uppercase + string.digits):\n",
        "  return ''.join(random.choice(chars) for _ in range(size))"
      ],
      "execution_count": 100,
      "outputs": []
    },
    {
      "cell_type": "code",
      "metadata": {
        "id": "z8cTYzCio3Ug"
      },
      "source": [
        "import time"
      ],
      "execution_count": 110,
      "outputs": []
    },
    {
      "cell_type": "code",
      "metadata": {
        "id": "c-i63qQIoiNC"
      },
      "source": [
        "for i in range(len(df)):\n",
        "  x = id_generator()\n",
        "  doc_ref = db.collection('feeds').document(x)\n",
        "  t = round(time.time() * 1000)\n",
        "  doc_ref.set({\n",
        "      'id':x,\n",
        "      'portrait':df.loc[i].portrait,\n",
        "      'landscape':df.loc[i].landscape,\n",
        "      'original':df.loc[i].original,\n",
        "      'category':df.loc[i].category,\n",
        "      'time':firestore.SERVER_TIMESTAMP\n",
        "  })"
      ],
      "execution_count": 118,
      "outputs": []
    },
    {
      "cell_type": "code",
      "metadata": {
        "id": "lsyXgIuqpryl"
      },
      "source": [
        ""
      ],
      "execution_count": null,
      "outputs": []
    }
  ]
}