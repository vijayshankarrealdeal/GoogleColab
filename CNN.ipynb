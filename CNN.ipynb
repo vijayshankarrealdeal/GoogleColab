{
  "nbformat": 4,
  "nbformat_minor": 0,
  "metadata": {
    "colab": {
      "name": "CNN.ipynb",
      "provenance": [],
      "collapsed_sections": [],
      "authorship_tag": "ABX9TyNNaLd26kMM/13BbeF3wW+l",
      "include_colab_link": true
    },
    "kernelspec": {
      "name": "python3",
      "display_name": "Python 3"
    },
    "language_info": {
      "name": "python"
    },
    "accelerator": "GPU"
  },
  "cells": [
    {
      "cell_type": "markdown",
      "metadata": {
        "id": "view-in-github",
        "colab_type": "text"
      },
      "source": [
        "<a href=\"https://colab.research.google.com/github/vijayshankarrealdeal/GoogleColab/blob/main/CNN.ipynb\" target=\"_parent\"><img src=\"https://colab.research.google.com/assets/colab-badge.svg\" alt=\"Open In Colab\"/></a>"
      ]
    },
    {
      "cell_type": "code",
      "metadata": {
        "id": "_yi2TKCZl0v4"
      },
      "source": [
        "import torch\n",
        "import torch.nn as nn\n",
        "import matplotlib.pyplot as plt\n",
        "from torchvision.datasets import FashionMNIST\n",
        "import torchvision.transforms as transforms\n",
        "from torch.utils.data import DataLoader\n",
        "import numpy as np\n",
        "import matplotlib.pyplot as plt"
      ],
      "execution_count": 30,
      "outputs": []
    },
    {
      "cell_type": "code",
      "metadata": {
        "colab": {
          "base_uri": "https://localhost:8080/"
        },
        "id": "TVJxscRtuPYj",
        "outputId": "f4bd65f4-474c-481c-e5e9-6c64e9261004"
      },
      "source": [
        "device = torch.device('cuda' if torch.cuda.is_available() else 'cpu')\n",
        "device"
      ],
      "execution_count": null,
      "outputs": [
        {
          "output_type": "execute_result",
          "data": {
            "text/plain": [
              "device(type='cuda')"
            ]
          },
          "metadata": {
            "tags": []
          },
          "execution_count": 14
        }
      ]
    },
    {
      "cell_type": "code",
      "metadata": {
        "id": "qbhcOcEcvRlm"
      },
      "source": [
        "train_dataset  =  FashionMNIST(root = '.',train = True,transform=transforms.ToTensor(),download=True)\n",
        "test_dataset  =  FashionMNIST(root = '.',train = False,transform=transforms.ToTensor(),download=True)"
      ],
      "execution_count": null,
      "outputs": []
    },
    {
      "cell_type": "code",
      "metadata": {
        "id": "nBPNNZleyaqv",
        "colab": {
          "base_uri": "https://localhost:8080/"
        },
        "outputId": "be286a93-2cdf-46ac-e200-eaca63ff660d"
      },
      "source": [
        "test_dataset.classes"
      ],
      "execution_count": null,
      "outputs": [
        {
          "output_type": "execute_result",
          "data": {
            "text/plain": [
              "['T-shirt/top',\n",
              " 'Trouser',\n",
              " 'Pullover',\n",
              " 'Dress',\n",
              " 'Coat',\n",
              " 'Sandal',\n",
              " 'Shirt',\n",
              " 'Sneaker',\n",
              " 'Bag',\n",
              " 'Ankle boot']"
            ]
          },
          "metadata": {
            "tags": []
          },
          "execution_count": 16
        }
      ]
    },
    {
      "cell_type": "code",
      "metadata": {
        "id": "LWmHxnQGvvo1"
      },
      "source": [
        "class CNN(nn.Module):\n",
        "  def __init__(self):\n",
        "    super(CNN,self).__init__()\n",
        "    self.conv = nn.Sequential(\n",
        "        nn.Conv2d(1,32,kernel_size=3,stride = 2),\n",
        "        nn.ReLU(),\n",
        "        nn.Conv2d(32,64,kernel_size=3,stride = 2),\n",
        "        nn.ReLU(),\n",
        "        nn.Conv2d(64,128,kernel_size=3,stride = 2),\n",
        "        nn.ReLU(),\n",
        "    )\n",
        "    self.fullLayer = nn.Sequential(\n",
        "        nn.Dropout(0.2),\n",
        "        nn.Linear(128*2*2,1024),\n",
        "        nn.ReLU(),\n",
        "        nn.Linear(1024,10)\n",
        "    )\n",
        "\n",
        "  def forward(self,x):\n",
        "    x = self.conv(x)\n",
        "    x = x.view(x.size(0),-1)\n",
        "    x = self.fullLayer(x)\n",
        "    return x"
      ],
      "execution_count": null,
      "outputs": []
    },
    {
      "cell_type": "code",
      "metadata": {
        "id": "nfftZfGcyxN6"
      },
      "source": [
        "n_epochs = 100\n",
        "batch_size = 128"
      ],
      "execution_count": 33,
      "outputs": []
    },
    {
      "cell_type": "code",
      "metadata": {
        "id": "JFkQu9-Yyphl"
      },
      "source": [
        "train_loader = DataLoader(train_dataset,batch_size=batch_size,shuffle=True)\n",
        "test_loader = DataLoader(test_dataset,batch_size=batch_size,shuffle=False)"
      ],
      "execution_count": null,
      "outputs": []
    },
    {
      "cell_type": "code",
      "metadata": {
        "id": "Nzxgp27J1P5g"
      },
      "source": [
        "loss_fn = nn.CrossEntropyLoss()\n",
        "model = CNN().to(device)\n",
        "optimizers = torch.optim.Adam(model.parameters(),lr = 0.01)"
      ],
      "execution_count": null,
      "outputs": []
    },
    {
      "cell_type": "code",
      "metadata": {
        "id": "itqQTgVEy9nu",
        "colab": {
          "base_uri": "https://localhost:8080/"
        },
        "outputId": "4325ac77-6818-45ec-baa3-5766fc8bfecb"
      },
      "source": [
        "train_losses = []\n",
        "test_losses = []\n",
        "for ep in range(n_epochs):\n",
        "  train_loss = []\n",
        "  for inputs,targets in train_loader:\n",
        "    optimizers.zero_grad()\n",
        "\n",
        "    inputs,target = inputs.to(device),targets.to(device)\n",
        "\n",
        "    output = model(inputs)\n",
        "  \n",
        "    loss = loss_fn(output,target)\n",
        "    loss.backward()\n",
        "    optimizers.step()\n",
        "    train_loss.append(loss.item())\n",
        "  train_loss = np.mean(train_loss)\n",
        "\n",
        "  test_loss = []\n",
        "  for inputs_test,targets_test in test_loader:\n",
        "    inputs_test,targets_test = inputs_test.to(device),targets_test.to(device)\n",
        "    output_test = model(inputs_test)\n",
        "    loss_test = loss_fn(output_test,targets_test)\n",
        "    test_loss.append(loss_test.item())\n",
        "  test_loss = np.mean(test_loss)\n",
        "\n",
        "  train_losses.append(train_loss)\n",
        "  test_losses.append(test_loss)\n",
        "  print(f'Epoch {ep+1}/{n_epochs}, Train Loss: {train_loss:.4f}, Test Loss: {test_loss:.4f}')\n",
        "\n"
      ],
      "execution_count": 34,
      "outputs": [
        {
          "output_type": "stream",
          "text": [
            "Epoch 1/100, Train Loss: 0.3511, Test Loss: 0.4480\n",
            "Epoch 2/100, Train Loss: 0.3548, Test Loss: 0.4226\n",
            "Epoch 3/100, Train Loss: 0.3473, Test Loss: 0.4183\n",
            "Epoch 4/100, Train Loss: 0.3481, Test Loss: 0.4253\n",
            "Epoch 5/100, Train Loss: 0.3479, Test Loss: 0.4418\n",
            "Epoch 6/100, Train Loss: 0.3487, Test Loss: 0.4134\n",
            "Epoch 7/100, Train Loss: 0.3399, Test Loss: 0.4493\n",
            "Epoch 8/100, Train Loss: 0.3461, Test Loss: 0.4237\n",
            "Epoch 9/100, Train Loss: 0.3380, Test Loss: 0.4529\n",
            "Epoch 10/100, Train Loss: 0.3463, Test Loss: 0.4511\n",
            "Epoch 11/100, Train Loss: 0.3572, Test Loss: 0.4436\n",
            "Epoch 12/100, Train Loss: 0.3544, Test Loss: 0.4275\n",
            "Epoch 13/100, Train Loss: 0.3310, Test Loss: 0.4403\n",
            "Epoch 14/100, Train Loss: 0.3488, Test Loss: 0.4530\n",
            "Epoch 15/100, Train Loss: 0.3551, Test Loss: 0.4363\n",
            "Epoch 16/100, Train Loss: 0.3483, Test Loss: 0.4376\n",
            "Epoch 17/100, Train Loss: 0.3532, Test Loss: 0.4359\n",
            "Epoch 18/100, Train Loss: 0.3480, Test Loss: 0.4227\n",
            "Epoch 19/100, Train Loss: 0.3354, Test Loss: 0.4268\n",
            "Epoch 20/100, Train Loss: 0.3429, Test Loss: 0.4492\n",
            "Epoch 21/100, Train Loss: 0.3382, Test Loss: 0.4567\n",
            "Epoch 22/100, Train Loss: 0.3431, Test Loss: 0.4359\n",
            "Epoch 23/100, Train Loss: 0.3373, Test Loss: 0.4358\n",
            "Epoch 24/100, Train Loss: 0.3415, Test Loss: 0.4578\n",
            "Epoch 25/100, Train Loss: 0.3441, Test Loss: 0.4317\n",
            "Epoch 26/100, Train Loss: 0.3394, Test Loss: 0.4577\n",
            "Epoch 27/100, Train Loss: 0.3399, Test Loss: 0.4220\n",
            "Epoch 28/100, Train Loss: 0.3364, Test Loss: 0.4704\n",
            "Epoch 29/100, Train Loss: 0.3362, Test Loss: 0.4436\n",
            "Epoch 30/100, Train Loss: 0.3357, Test Loss: 0.4869\n",
            "Epoch 31/100, Train Loss: 0.3435, Test Loss: 0.4746\n",
            "Epoch 32/100, Train Loss: 0.3381, Test Loss: 0.4309\n",
            "Epoch 33/100, Train Loss: 0.3364, Test Loss: 0.4353\n",
            "Epoch 34/100, Train Loss: 0.3251, Test Loss: 0.4887\n",
            "Epoch 35/100, Train Loss: 0.3345, Test Loss: 0.4743\n",
            "Epoch 36/100, Train Loss: 0.3357, Test Loss: 0.4522\n",
            "Epoch 37/100, Train Loss: 0.3452, Test Loss: 0.4795\n",
            "Epoch 38/100, Train Loss: 0.3628, Test Loss: 0.4471\n",
            "Epoch 39/100, Train Loss: 0.3429, Test Loss: 0.4463\n",
            "Epoch 40/100, Train Loss: 0.3276, Test Loss: 0.4589\n",
            "Epoch 41/100, Train Loss: 0.3290, Test Loss: 0.4748\n",
            "Epoch 42/100, Train Loss: 0.3438, Test Loss: 0.4620\n",
            "Epoch 43/100, Train Loss: 0.3294, Test Loss: 0.4430\n",
            "Epoch 44/100, Train Loss: 0.3340, Test Loss: 0.4540\n",
            "Epoch 45/100, Train Loss: 0.3412, Test Loss: 0.4364\n",
            "Epoch 46/100, Train Loss: 0.3463, Test Loss: 0.4585\n",
            "Epoch 47/100, Train Loss: 0.3341, Test Loss: 0.5008\n",
            "Epoch 48/100, Train Loss: 0.3448, Test Loss: 0.4520\n",
            "Epoch 49/100, Train Loss: 0.3549, Test Loss: 0.4387\n",
            "Epoch 50/100, Train Loss: 0.3502, Test Loss: 0.4529\n",
            "Epoch 51/100, Train Loss: 0.3293, Test Loss: 0.4680\n",
            "Epoch 52/100, Train Loss: 0.3352, Test Loss: 0.4548\n",
            "Epoch 53/100, Train Loss: 0.3403, Test Loss: 0.4794\n",
            "Epoch 54/100, Train Loss: 0.3351, Test Loss: 0.4367\n",
            "Epoch 55/100, Train Loss: 0.3260, Test Loss: 0.4437\n",
            "Epoch 56/100, Train Loss: 0.3398, Test Loss: 0.4563\n",
            "Epoch 57/100, Train Loss: 0.3327, Test Loss: 0.4472\n",
            "Epoch 58/100, Train Loss: 0.3369, Test Loss: 0.4859\n",
            "Epoch 59/100, Train Loss: 0.3468, Test Loss: 0.4431\n",
            "Epoch 60/100, Train Loss: 0.3438, Test Loss: 0.4677\n",
            "Epoch 61/100, Train Loss: 0.3421, Test Loss: 0.4762\n",
            "Epoch 62/100, Train Loss: 0.3305, Test Loss: 0.4485\n",
            "Epoch 63/100, Train Loss: 0.3221, Test Loss: 0.4909\n",
            "Epoch 64/100, Train Loss: 0.3264, Test Loss: 0.4881\n",
            "Epoch 65/100, Train Loss: 0.3478, Test Loss: 0.5016\n",
            "Epoch 66/100, Train Loss: 0.3411, Test Loss: 0.4630\n",
            "Epoch 67/100, Train Loss: 0.3324, Test Loss: 0.4445\n",
            "Epoch 68/100, Train Loss: 0.3338, Test Loss: 0.4430\n",
            "Epoch 69/100, Train Loss: 0.3357, Test Loss: 0.4630\n",
            "Epoch 70/100, Train Loss: 0.3233, Test Loss: 0.4705\n",
            "Epoch 71/100, Train Loss: 0.3545, Test Loss: 0.4672\n",
            "Epoch 72/100, Train Loss: 0.3382, Test Loss: 0.5010\n",
            "Epoch 73/100, Train Loss: 0.3425, Test Loss: 0.5368\n",
            "Epoch 74/100, Train Loss: 0.3416, Test Loss: 0.4922\n",
            "Epoch 75/100, Train Loss: 0.3328, Test Loss: 0.4790\n",
            "Epoch 76/100, Train Loss: 0.3301, Test Loss: 0.5243\n",
            "Epoch 77/100, Train Loss: 0.3379, Test Loss: 0.4947\n",
            "Epoch 78/100, Train Loss: 0.3594, Test Loss: 0.4679\n",
            "Epoch 79/100, Train Loss: 0.3486, Test Loss: 0.5036\n",
            "Epoch 80/100, Train Loss: 0.3481, Test Loss: 0.5061\n",
            "Epoch 81/100, Train Loss: 0.3361, Test Loss: 0.4491\n",
            "Epoch 82/100, Train Loss: 0.3311, Test Loss: 0.4952\n",
            "Epoch 83/100, Train Loss: 0.3472, Test Loss: 0.4550\n",
            "Epoch 84/100, Train Loss: 0.3324, Test Loss: 0.5333\n",
            "Epoch 85/100, Train Loss: 0.3227, Test Loss: 0.4688\n",
            "Epoch 86/100, Train Loss: 0.3605, Test Loss: 0.5083\n",
            "Epoch 87/100, Train Loss: 0.3351, Test Loss: 0.4822\n",
            "Epoch 88/100, Train Loss: 0.3352, Test Loss: 0.5053\n",
            "Epoch 89/100, Train Loss: 0.3499, Test Loss: 0.4775\n",
            "Epoch 90/100, Train Loss: 0.3456, Test Loss: 0.4880\n",
            "Epoch 91/100, Train Loss: 0.3409, Test Loss: 0.4777\n",
            "Epoch 92/100, Train Loss: 0.3788, Test Loss: 0.4922\n",
            "Epoch 93/100, Train Loss: 0.3388, Test Loss: 0.4638\n",
            "Epoch 94/100, Train Loss: 0.3299, Test Loss: 0.5616\n",
            "Epoch 95/100, Train Loss: 0.3253, Test Loss: 0.4980\n",
            "Epoch 96/100, Train Loss: 0.3871, Test Loss: 0.5255\n",
            "Epoch 97/100, Train Loss: 0.3418, Test Loss: 0.4801\n",
            "Epoch 98/100, Train Loss: 0.3437, Test Loss: 0.4305\n",
            "Epoch 99/100, Train Loss: 0.3367, Test Loss: 0.4467\n",
            "Epoch 100/100, Train Loss: 0.3509, Test Loss: 0.4888\n"
          ],
          "name": "stdout"
        }
      ]
    },
    {
      "cell_type": "code",
      "metadata": {
        "id": "ZCMx98yy-xg8",
        "colab": {
          "base_uri": "https://localhost:8080/",
          "height": 265
        },
        "outputId": "b4531f91-02cf-4a9c-a1e9-ccf371a85db2"
      },
      "source": [
        "plt.plot(train_losses)\n",
        "plt.plot(test_losses)\n",
        "plt.show()"
      ],
      "execution_count": 35,
      "outputs": [
        {
          "output_type": "display_data",
          "data": {
            "image/png": "[encoded data removed]",
            "text/plain": [
              "<Figure size 432x288 with 1 Axes>"
            ]
          },
          "metadata": {
            "tags": [],
            "needs_background": "light"
          }
        }
      ]
    },
    {
      "cell_type": "code",
      "metadata": {
        "id": "_9DbgtohC6yp"
      },
      "source": [
        "n_correct = 0\n",
        "n_total = 0\n",
        "for inputs,targets in train_loader:\n",
        "  inputs,target = inputs.to(device),targets.to(device)\n",
        "  outputs = model(inputs)\n",
        "  _,pred = torch.max(outputs,1)\n",
        "  n_correct += (pred == target).sum().item()\n",
        "  n_total += target.shape[0]\n",
        "train_acc = n_correct/n_total\n",
        "n_correct = 0\n",
        "n_total = 0\n",
        "for inputs,targets in test_loader:\n",
        "  inputs,target = inputs.to(device),targets.to(device)\n",
        "  outputs = model(inputs)\n",
        "  _,pred = torch.max(outputs,1)\n",
        "  n_correct += (pred == target).sum().item()\n",
        "  n_total += target.shape[0]\n",
        "test_acc = n_correct/n_total"
      ],
      "execution_count": 37,
      "outputs": []
    },
    {
      "cell_type": "code",
      "metadata": {
        "colab": {
          "base_uri": "https://localhost:8080/"
        },
        "id": "YHr1Uox1Iv2H",
        "outputId": "54a63bb5-ce98-45bc-a3c1-6de7ebf3e332"
      },
      "source": [
        "train_acc,test_acc"
      ],
      "execution_count": 38,
      "outputs": [
        {
          "output_type": "execute_result",
          "data": {
            "text/plain": [
              "(0.8719, 0.8449)"
            ]
          },
          "metadata": {
            "tags": []
          },
          "execution_count": 38
        }
      ]
    }
  ]
}