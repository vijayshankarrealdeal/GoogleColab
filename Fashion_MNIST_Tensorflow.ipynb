{
  "nbformat": 4,
  "nbformat_minor": 0,
  "metadata": {
    "colab": {
      "name": "Fashion MNIST-Tensorflow.ipynb",
      "provenance": [],
      "collapsed_sections": [],
      "authorship_tag": "ABX9TyPbWU2uaO07EwFBaRs1xxP8",
      "include_colab_link": true
    },
    "kernelspec": {
      "name": "python3",
      "display_name": "Python 3"
    },
    "language_info": {
      "name": "python"
    }
  },
  "cells": [
    {
      "cell_type": "markdown",
      "metadata": {
        "id": "view-in-github",
        "colab_type": "text"
      },
      "source": [
        "<a href=\"https://colab.research.google.com/github/vijayshankarrealdeal/GoogleColab/blob/main/Fashion_MNIST_Tensorflow.ipynb\" target=\"_parent\"><img src=\"https://colab.research.google.com/assets/colab-badge.svg\" alt=\"Open In Colab\"/></a>"
      ]
    },
    {
      "cell_type": "code",
      "metadata": {
        "id": "Z-DVckn_3djS"
      },
      "source": [
        "import numpy as np\n",
        "import datetime\n",
        "import tensorflow as tf\n",
        "from tensorflow.keras.datasets import fashion_mnist\n",
        "import matplotlib.pyplot as plt\n"
      ],
      "execution_count": 59,
      "outputs": []
    },
    {
      "cell_type": "code",
      "metadata": {
        "id": "lUYRS7Pb4Op8"
      },
      "source": [
        "(x_train,y_train),(x_test,y_test) =  fashion_mnist.load_data()"
      ],
      "execution_count": 60,
      "outputs": []
    },
    {
      "cell_type": "code",
      "metadata": {
        "id": "xEVJV5Iu4SUf"
      },
      "source": [
        "x_train = x_train/255.0\n",
        "x_test = x_test/255.0"
      ],
      "execution_count": 61,
      "outputs": []
    },
    {
      "cell_type": "code",
      "metadata": {
        "id": "HyDtvNLP6OYp"
      },
      "source": [
        "x_train = x_train.reshape(-1,28*28)\n",
        "x_test = x_test.reshape(-1,28*28)"
      ],
      "execution_count": 62,
      "outputs": []
    },
    {
      "cell_type": "code",
      "metadata": {
        "id": "V_nizSu67q76"
      },
      "source": [
        "model = tf.keras.models.Sequential()"
      ],
      "execution_count": 63,
      "outputs": []
    },
    {
      "cell_type": "code",
      "metadata": {
        "id": "jq5BhfczSS7E"
      },
      "source": [
        "model.add(tf.keras.layers.Dense(128,activation=\"relu\",input_shape = [784]))\n",
        "model.add(tf.keras.layers.Dropout(0.2))"
      ],
      "execution_count": 64,
      "outputs": []
    },
    {
      "cell_type": "code",
      "metadata": {
        "id": "lFj97qyTSoqJ"
      },
      "source": [
        "model.add(tf.keras.layers.Dense(256,activation=\"relu\"))\n",
        "model.add(tf.keras.layers.Dropout(0.2))"
      ],
      "execution_count": 65,
      "outputs": []
    },
    {
      "cell_type": "code",
      "metadata": {
        "id": "3KxZTN3CS257"
      },
      "source": [
        "model.add(tf.keras.layers.Dense(128,activation=\"relu\"))\n",
        "model.add(tf.keras.layers.Dropout(0.2))"
      ],
      "execution_count": 66,
      "outputs": []
    },
    {
      "cell_type": "code",
      "metadata": {
        "id": "rhla0we9S3jG"
      },
      "source": [
        "model.add(tf.keras.layers.Dense(10,activation=\"softmax\"))\n"
      ],
      "execution_count": 67,
      "outputs": []
    },
    {
      "cell_type": "code",
      "metadata": {
        "id": "jPfhmzI5TC9z"
      },
      "source": [
        "model.compile(optimizer=\"adam\",loss='sparse_categorical_crossentropy',metrics=['sparse_categorical_accuracy'])"
      ],
      "execution_count": 68,
      "outputs": []
    },
    {
      "cell_type": "code",
      "metadata": {
        "colab": {
          "base_uri": "https://localhost:8080/"
        },
        "id": "eXIuxMfWV9Nx",
        "outputId": "823d33ed-59fc-48a3-f10f-91e923f3a8d3"
      },
      "source": [
        "model.summary()"
      ],
      "execution_count": 69,
      "outputs": [
        {
          "output_type": "stream",
          "text": [
            "Model: \"sequential_4\"\n",
            "_________________________________________________________________\n",
            "Layer (type)                 Output Shape              Param #   \n",
            "=================================================================\n",
            "dense_11 (Dense)             (None, 128)               100480    \n",
            "_________________________________________________________________\n",
            "dropout_7 (Dropout)          (None, 128)               0         \n",
            "_________________________________________________________________\n",
            "dense_12 (Dense)             (None, 256)               33024     \n",
            "_________________________________________________________________\n",
            "dropout_8 (Dropout)          (None, 256)               0         \n",
            "_________________________________________________________________\n",
            "dense_13 (Dense)             (None, 128)               32896     \n",
            "_________________________________________________________________\n",
            "dropout_9 (Dropout)          (None, 128)               0         \n",
            "_________________________________________________________________\n",
            "dense_14 (Dense)             (None, 10)                1290      \n",
            "=================================================================\n",
            "Total params: 167,690\n",
            "Trainable params: 167,690\n",
            "Non-trainable params: 0\n",
            "_________________________________________________________________\n"
          ],
          "name": "stdout"
        }
      ]
    },
    {
      "cell_type": "code",
      "metadata": {
        "id": "hdbO06xZWFws"
      },
      "source": [
        "callbacks = tf.keras.callbacks.EarlyStopping(monitor=\"sparse_categorical_accuracy\",\n",
        "    min_delta=0,\n",
        "    patience=0,\n",
        "    verbose=0,\n",
        "    mode=\"auto\",)"
      ],
      "execution_count": 70,
      "outputs": []
    },
    {
      "cell_type": "code",
      "metadata": {
        "colab": {
          "base_uri": "https://localhost:8080/"
        },
        "id": "xV0ubPBbVp1r",
        "outputId": "b69d2f73-e1f6-41de-c73f-0c6f77fde895"
      },
      "source": [
        "h = model.fit(x_train,y_train,epochs=2000,callbacks=[callbacks])"
      ],
      "execution_count": 71,
      "outputs": [
        {
          "output_type": "stream",
          "text": [
            "Epoch 1/2000\n",
            "1875/1875 [==============================] - 6s 3ms/step - loss: 0.7348 - sparse_categorical_accuracy: 0.7329\n",
            "Epoch 2/2000\n",
            "1875/1875 [==============================] - 6s 3ms/step - loss: 0.4364 - sparse_categorical_accuracy: 0.8417\n",
            "Epoch 3/2000\n",
            "1875/1875 [==============================] - 6s 3ms/step - loss: 0.4008 - sparse_categorical_accuracy: 0.8533\n",
            "Epoch 4/2000\n",
            "1875/1875 [==============================] - 6s 3ms/step - loss: 0.3724 - sparse_categorical_accuracy: 0.8644\n",
            "Epoch 5/2000\n",
            "1875/1875 [==============================] - 6s 3ms/step - loss: 0.3584 - sparse_categorical_accuracy: 0.8679\n",
            "Epoch 6/2000\n",
            "1875/1875 [==============================] - 6s 3ms/step - loss: 0.3459 - sparse_categorical_accuracy: 0.8742\n",
            "Epoch 7/2000\n",
            "1875/1875 [==============================] - 6s 3ms/step - loss: 0.3404 - sparse_categorical_accuracy: 0.8746\n",
            "Epoch 8/2000\n",
            "1875/1875 [==============================] - 6s 3ms/step - loss: 0.3281 - sparse_categorical_accuracy: 0.8797\n",
            "Epoch 9/2000\n",
            "1875/1875 [==============================] - 6s 3ms/step - loss: 0.3175 - sparse_categorical_accuracy: 0.8844\n",
            "Epoch 10/2000\n",
            "1875/1875 [==============================] - 6s 3ms/step - loss: 0.3109 - sparse_categorical_accuracy: 0.8858\n",
            "Epoch 11/2000\n",
            "1875/1875 [==============================] - 6s 3ms/step - loss: 0.3023 - sparse_categorical_accuracy: 0.8898\n",
            "Epoch 12/2000\n",
            "1875/1875 [==============================] - 6s 3ms/step - loss: 0.3028 - sparse_categorical_accuracy: 0.8869\n"
          ],
          "name": "stdout"
        }
      ]
    },
    {
      "cell_type": "code",
      "metadata": {
        "colab": {
          "base_uri": "https://localhost:8080/"
        },
        "id": "8WBTn3cXY3hY",
        "outputId": "b896f5fa-41a3-4620-f694-748c4080a900"
      },
      "source": [
        "predict = model.evaluate(x_test,y_test)"
      ],
      "execution_count": 72,
      "outputs": [
        {
          "output_type": "stream",
          "text": [
            "313/313 [==============================] - 1s 1ms/step - loss: 0.3388 - sparse_categorical_accuracy: 0.8798\n"
          ],
          "name": "stdout"
        }
      ]
    },
    {
      "cell_type": "code",
      "metadata": {
        "colab": {
          "base_uri": "https://localhost:8080/"
        },
        "id": "oZ1820LCaW5m",
        "outputId": "830696bb-de2d-4dcd-8c9d-47e7d5936b46"
      },
      "source": [
        "predict"
      ],
      "execution_count": 73,
      "outputs": [
        {
          "output_type": "execute_result",
          "data": {
            "text/plain": [
              "[0.33882081508636475, 0.879800021648407]"
            ]
          },
          "metadata": {
            "tags": []
          },
          "execution_count": 73
        }
      ]
    },
    {
      "cell_type": "code",
      "metadata": {
        "id": "buHnA1Gqayxl"
      },
      "source": [
        "xx = np.arange(0,len(x_test))"
      ],
      "execution_count": 74,
      "outputs": []
    },
    {
      "cell_type": "code",
      "metadata": {
        "id": "f82YiHgwaalT"
      },
      "source": [
        "perd = model.predict(x_test)\n"
      ],
      "execution_count": 77,
      "outputs": []
    }
  ]
}