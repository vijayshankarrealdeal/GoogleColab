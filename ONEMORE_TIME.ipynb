{
  "nbformat": 4,
  "nbformat_minor": 0,
  "metadata": {
    "colab": {
      "name": "ONEMORE TIME.ipynb",
      "provenance": [],
      "collapsed_sections": [],
      "authorship_tag": "ABX9TyMQkD0Cdbeu+dW3EiVobTEO",
      "include_colab_link": true
    },
    "kernelspec": {
      "name": "python3",
      "display_name": "Python 3"
    },
    "language_info": {
      "name": "python"
    },
    "accelerator": "GPU"
  },
  "cells": [
    {
      "cell_type": "markdown",
      "metadata": {
        "id": "view-in-github",
        "colab_type": "text"
      },
      "source": [
        "<a href=\"https://colab.research.google.com/github/vijayshankarrealdeal/GoogleColab/blob/main/ONEMORE_TIME.ipynb\" target=\"_parent\"><img src=\"https://colab.research.google.com/assets/colab-badge.svg\" alt=\"Open In Colab\"/></a>"
      ]
    },
    {
      "cell_type": "code",
      "metadata": {
        "id": "rz2-SzLe1lMl"
      },
      "source": [
        "! mkdir ~/.kaggle\n",
        "! cp kaggle.json ~/.kaggle/\n",
        "! chmod 600 ~/.kaggle/kaggle.json\n",
        "!kaggle competitions download -c jigsaw-toxic-comment-classification-challenge\n",
        "!unzip \"/content/train.csv.zip\" -d \"/content/d/\"\n",
        "!unzip \"/content/test.csv.zip\" -d \"/content/d/\""
      ],
      "execution_count": null,
      "outputs": []
    },
    {
      "cell_type": "code",
      "metadata": {
        "colab": {
          "base_uri": "https://localhost:8080/"
        },
        "id": "Fn7y2cQ-5Rb7",
        "outputId": "d141c022-08f5-4069-9803-44024267abe7"
      },
      "source": [
        "!unzip '/content/sample_submission.csv.zip' -d '/content/d'"
      ],
      "execution_count": 7,
      "outputs": [
        {
          "output_type": "stream",
          "text": [
            "Archive:  /content/sample_submission.csv.zip\n",
            "  inflating: /content/d/sample_submission.csv  \n"
          ],
          "name": "stdout"
        }
      ]
    },
    {
      "cell_type": "code",
      "metadata": {
        "colab": {
          "base_uri": "https://localhost:8080/"
        },
        "id": "lJfsqtkO2l9A",
        "outputId": "d6b4c9d6-bf06-4d61-a2c7-1df20f60ad86"
      },
      "source": [
        "!kaggle datasets download -d takuok/glove840b300dtxt"
      ],
      "execution_count": 4,
      "outputs": [
        {
          "output_type": "stream",
          "text": [
            "Downloading glove840b300dtxt.zip to /content\n",
            "100% 2.07G/2.08G [00:25<00:00, 58.5MB/s]\n",
            "100% 2.08G/2.08G [00:25<00:00, 86.1MB/s]\n"
          ],
          "name": "stdout"
        }
      ]
    },
    {
      "cell_type": "code",
      "metadata": {
        "colab": {
          "base_uri": "https://localhost:8080/"
        },
        "id": "2nR2p3qE2tHT",
        "outputId": "72838a36-df66-4dff-dd6e-1af47df93b84"
      },
      "source": [
        "!kaggle datasets download -d yekenot/fasttext-crawl-300d-2m"
      ],
      "execution_count": 5,
      "outputs": [
        {
          "output_type": "stream",
          "text": [
            "Downloading fasttext-crawl-300d-2m.zip to /content\n",
            " 99% 1.42G/1.44G [00:32<00:00, 33.6MB/s]\n",
            "100% 1.44G/1.44G [00:32<00:00, 47.5MB/s]\n"
          ],
          "name": "stdout"
        }
      ]
    },
    {
      "cell_type": "code",
      "metadata": {
        "id": "aD_aKJEl1j8h"
      },
      "source": [
        "import numpy as np\n",
        "import pandas as pd\n",
        "import os\n",
        "from keras.models import Model\n",
        "from keras.layers import Input, Dense, Embedding, SpatialDropout1D, add, concatenate\n",
        "from keras.layers import CuDNNLSTM, Bidirectional, GlobalMaxPooling1D, GlobalAveragePooling1D, CuDNNGRU, Conv1D\n",
        "from keras.preprocessing import text, sequence\n",
        "from keras.callbacks import LearningRateScheduler\n",
        "from sklearn.metrics import roc_auc_score\n",
        "from sklearn.model_selection import train_test_split\n",
        "import tensorflow as tf\n",
        "print(tf.__version__)\n",
        "tf.test.is_gpu_available(\n",
        "    cuda_only=False,\n",
        "    min_cuda_compute_capability=None\n",
        ")"
      ],
      "execution_count": null,
      "outputs": []
    },
    {
      "cell_type": "code",
      "metadata": {
        "colab": {
          "base_uri": "https://localhost:8080/"
        },
        "id": "Q1xFlitN22JR",
        "outputId": "1d977dfb-2312-4677-8b8c-8ee8e0a30c14"
      },
      "source": [
        "!unzip '/content/glove840b300dtxt.zip' -d '/content/extra_d'\n",
        "!unzip '/content/fasttext-crawl-300d-2m.zip' -d '/content/extra_d'"
      ],
      "execution_count": 6,
      "outputs": [
        {
          "output_type": "stream",
          "text": [
            "Archive:  /content/glove840b300dtxt.zip\n",
            "  inflating: /content/extra_d/glove.840B.300d.txt  \n",
            "Archive:  /content/fasttext-crawl-300d-2m.zip\n",
            "  inflating: /content/extra_d/crawl-300d-2M.vec  \n"
          ],
          "name": "stdout"
        }
      ]
    },
    {
      "cell_type": "code",
      "metadata": {
        "id": "jgBRB_P72fhI"
      },
      "source": [
        "EMBEDDING_FILES = [\n",
        "        '/content/extra_d/crawl-300d-2M.vec',\n",
        "    '/content/extra_d/glove.840B.300d.txt'\n",
        "]\n",
        "BATCH_SIZE = 512\n",
        "LSTM_UNITS = 128\n",
        "DENSE_HIDDEN_UNITS = 4 * LSTM_UNITS\n",
        "EPOCHS = 4\n",
        "MAX_LEN = 220"
      ],
      "execution_count": 9,
      "outputs": []
    },
    {
      "cell_type": "code",
      "metadata": {
        "id": "Jsklg-jy44b3"
      },
      "source": [
        "target_labels = [\"toxic\", \"severe_toxic\", \"obscene\", \"threat\", \"insult\", \"identity_hate\"]\n",
        "special_chars = '!\"#$%&()*+,-./:;<=>?@[\\\\]^_`{|}~\\t\\n“”’\\'∞θ÷α•à−β∅³π‘₹´°£€\\×™√²—'"
      ],
      "execution_count": 10,
      "outputs": []
    },
    {
      "cell_type": "code",
      "metadata": {
        "id": "r-vx5y6v5Itt"
      },
      "source": [
        "train_df = pd.read_csv('/content/d/train.csv')\n",
        "test_df = pd.read_csv('/content/d/test.csv')\n",
        "submission = pd.read_csv(\"/content/d/sample_submission.csv\")\n",
        "\n",
        "y = train_df[target_labels].values\n",
        "x_train = train_df['comment_text'].astype(str)\n",
        "y_train = y\n",
        "x_test = test_df['comment_text'].astype(str)"
      ],
      "execution_count": 12,
      "outputs": []
    },
    {
      "cell_type": "code",
      "metadata": {
        "id": "E47xXwqG5lLA"
      },
      "source": [
        "def get_coefs(word, *arr):\n",
        "    return word, np.asarray(arr, dtype='float32')\n",
        "\n",
        "\n",
        "def load_embeddings(path):\n",
        "    with open(path) as f:\n",
        "        return dict(get_coefs(*line.strip().split(' ')) for line in f)"
      ],
      "execution_count": 14,
      "outputs": []
    },
    {
      "cell_type": "code",
      "metadata": {
        "id": "5nBbMGe6515u"
      },
      "source": [
        "def build_matrix(word_index, path):\n",
        "    embedding_index = load_embeddings(path)\n",
        "    embedding_matrix = np.zeros((len(word_index) + 1, 300))\n",
        "    for word, i in word_index.items():\n",
        "        try:\n",
        "            embedding_matrix[i] = embedding_index[word]\n",
        "        except KeyError:\n",
        "            pass\n",
        "    return embedding_matrix\n",
        "\n",
        "def build_model(embedding_matrix):\n",
        "    words = Input(shape=(None,))\n",
        "    x = Embedding(*embedding_matrix.shape, weights=[embedding_matrix], trainable=False)(words)\n",
        "    x = SpatialDropout1D(0.2)(x)\n",
        "    x = Bidirectional(CuDNNLSTM(LSTM_UNITS, return_sequences=True))(x)\n",
        "    x = Bidirectional(CuDNNLSTM(LSTM_UNITS, return_sequences=True))(x)\n",
        "\n",
        "    hidden = concatenate([\n",
        "        GlobalMaxPooling1D()(x),\n",
        "        GlobalAveragePooling1D()(x),\n",
        "    ])\n",
        "    hidden = add([hidden, Dense(DENSE_HIDDEN_UNITS, activation='relu')(hidden)])\n",
        "    hidden = add([hidden, Dense(DENSE_HIDDEN_UNITS, activation='relu')(hidden)])\n",
        "    result = Dense(6, activation='sigmoid')(hidden)\n",
        "    \n",
        "    \n",
        "    model = Model(inputs=words, outputs=result)\n",
        "    model.compile(loss='binary_crossentropy', optimizer='adam')\n",
        "\n",
        "    return model"
      ],
      "execution_count": 17,
      "outputs": []
    },
    {
      "cell_type": "code",
      "metadata": {
        "id": "FS-2HInt6Dy8"
      },
      "source": [
        "tokenizer = text.Tokenizer(filters=special_chars)\n",
        "tokenizer.fit_on_texts(list(x_train) + list(x_test))\n",
        "x_train = tokenizer.texts_to_sequences(x_train)\n",
        "x_test = tokenizer.texts_to_sequences(x_test)\n",
        "x_train = sequence.pad_sequences(x_train, maxlen=MAX_LEN)\n",
        "x_test = sequence.pad_sequences(x_test, maxlen=MAX_LEN)"
      ],
      "execution_count": 15,
      "outputs": []
    },
    {
      "cell_type": "code",
      "metadata": {
        "id": "vf0Bdofm6HfQ"
      },
      "source": [
        "embedding_matrix = np.concatenate(\n",
        "    [build_matrix(tokenizer.word_index, f) for f in EMBEDDING_FILES], axis=-1)"
      ],
      "execution_count": 18,
      "outputs": []
    },
    {
      "cell_type": "code",
      "metadata": {
        "id": "6FpFurGt6QAZ"
      },
      "source": [
        "X_train, X_valid, Y_train, Y_valid = train_test_split(x_train, y_train, test_size = 0.1)"
      ],
      "execution_count": 19,
      "outputs": []
    },
    {
      "cell_type": "code",
      "metadata": {
        "id": "G1QaIKlu6X-U"
      },
      "source": [
        "EPOCHS = 5\n",
        "SEEDS = 10\n",
        "pred = 0"
      ],
      "execution_count": 20,
      "outputs": []
    },
    {
      "cell_type": "code",
      "metadata": {
        "colab": {
          "base_uri": "https://localhost:8080/"
        },
        "id": "spC3siOP6dYS",
        "outputId": "fd2803e6-8461-4991-dedc-28bd76c3d0a6"
      },
      "source": [
        "for ii in range(SEEDS):\n",
        "    model = build_model(embedding_matrix)\n",
        "    for global_epoch in range(EPOCHS):\n",
        "        print(global_epoch)\n",
        "        model.fit(\n",
        "                    X_train,\n",
        "                    Y_train,\n",
        "                    validation_data = (X_valid, Y_valid),\n",
        "                    batch_size=128,\n",
        "                    epochs=1,\n",
        "                    verbose=2,\n",
        "                    callbacks=[\n",
        "                        LearningRateScheduler(lambda _: 1e-3 * (0.55 ** global_epoch))\n",
        "                    ]\n",
        "                )\n",
        "        val_preds_3 = model.predict(X_valid)\n",
        "        AUC = 0\n",
        "        for i in range(6):\n",
        "             AUC += roc_auc_score(Y_valid[:,i], val_preds_3[:,i])/6.\n",
        "        print(AUC)\n",
        "\n",
        "    pred += model.predict(x_test, batch_size = 1024, verbose = 1)/SEEDS\n",
        "    model.save_weights('model_weights_'+str(ii)+'.h5')\n",
        "    os.system('gzip '+'model_weights_'+str(ii)+'.h5')\n"
      ],
      "execution_count": 21,
      "outputs": [
        {
          "output_type": "stream",
          "text": [
            "0\n",
            "1122/1122 - 128s - loss: 0.0501 - val_loss: 0.0405\n",
            "0.986545434635814\n",
            "1\n",
            "1122/1122 - 122s - loss: 0.0391 - val_loss: 0.0386\n",
            "0.9897863994269387\n",
            "2\n",
            "1122/1122 - 123s - loss: 0.0358 - val_loss: 0.0378\n",
            "0.9896304125593662\n",
            "3\n",
            "1122/1122 - 123s - loss: 0.0334 - val_loss: 0.0383\n",
            "0.9900989259026562\n",
            "4\n",
            "1122/1122 - 123s - loss: 0.0317 - val_loss: 0.0380\n",
            "0.9898513166825671\n",
            "150/150 [==============================] - 35s 220ms/step\n",
            "0\n",
            "1122/1122 - 124s - loss: 0.0506 - val_loss: 0.0401\n",
            "0.9871825924595783\n",
            "1\n",
            "1122/1122 - 124s - loss: 0.0390 - val_loss: 0.0379\n",
            "0.9903141125362994\n",
            "2\n",
            "1122/1122 - 123s - loss: 0.0357 - val_loss: 0.0371\n",
            "0.9906148951982034\n",
            "3\n",
            "1122/1122 - 122s - loss: 0.0334 - val_loss: 0.0374\n",
            "0.9903393262747885\n",
            "4\n",
            "1122/1122 - 122s - loss: 0.0317 - val_loss: 0.0376\n",
            "0.9901061536712232\n",
            "150/150 [==============================] - 31s 207ms/step\n",
            "0\n",
            "1122/1122 - 124s - loss: 0.0504 - val_loss: 0.0408\n",
            "0.9884082276748174\n",
            "1\n",
            "1122/1122 - 123s - loss: 0.0388 - val_loss: 0.0381\n",
            "0.9902785269105762\n",
            "2\n",
            "1122/1122 - 125s - loss: 0.0356 - val_loss: 0.0382\n",
            "0.9906513271882563\n",
            "3\n",
            "1122/1122 - 125s - loss: 0.0335 - val_loss: 0.0373\n",
            "0.9905433852434076\n",
            "4\n",
            "1122/1122 - 125s - loss: 0.0317 - val_loss: 0.0376\n",
            "0.9901629777056226\n",
            "150/150 [==============================] - 33s 218ms/step\n",
            "0\n",
            "1122/1122 - 128s - loss: 0.0509 - val_loss: 0.0401\n",
            "0.9883169134218837\n",
            "1\n",
            "1122/1122 - 125s - loss: 0.0390 - val_loss: 0.0381\n",
            "0.9899379939589253\n",
            "2\n",
            "1122/1122 - 125s - loss: 0.0357 - val_loss: 0.0383\n",
            "0.9901309128344554\n",
            "3\n",
            "1122/1122 - 125s - loss: 0.0335 - val_loss: 0.0373\n",
            "0.9901061495618004\n",
            "4\n",
            "1122/1122 - 125s - loss: 0.0317 - val_loss: 0.0377\n",
            "0.990178805978085\n",
            "150/150 [==============================] - 32s 213ms/step\n",
            "0\n",
            "1122/1122 - 127s - loss: 0.0508 - val_loss: 0.0410\n",
            "0.9869381251435269\n",
            "1\n",
            "1122/1122 - 124s - loss: 0.0391 - val_loss: 0.0380\n",
            "0.9901619843806647\n",
            "2\n",
            "1122/1122 - 124s - loss: 0.0359 - val_loss: 0.0376\n",
            "0.9904448492340476\n",
            "3\n",
            "1122/1122 - 123s - loss: 0.0335 - val_loss: 0.0373\n",
            "0.9904490463634116\n",
            "4\n",
            "1122/1122 - 124s - loss: 0.0319 - val_loss: 0.0374\n",
            "0.9902765359218446\n",
            "150/150 [==============================] - 33s 219ms/step\n",
            "0\n",
            "1122/1122 - 127s - loss: 0.0516 - val_loss: 0.0428\n",
            "0.9870972690464481\n",
            "1\n",
            "1122/1122 - 124s - loss: 0.0393 - val_loss: 0.0381\n",
            "0.9903804325510561\n",
            "2\n",
            "1122/1122 - 125s - loss: 0.0359 - val_loss: 0.0372\n",
            "0.9906992677947897\n",
            "3\n",
            "1122/1122 - 124s - loss: 0.0337 - val_loss: 0.0373\n",
            "0.9906160956466117\n",
            "4\n",
            "1122/1122 - 125s - loss: 0.0321 - val_loss: 0.0378\n",
            "0.9905318189657201\n",
            "150/150 [==============================] - 32s 212ms/step\n",
            "0\n",
            "1122/1122 - 127s - loss: 0.0503 - val_loss: 0.0443\n",
            "0.9873940634950977\n",
            "1\n",
            "1122/1122 - 125s - loss: 0.0392 - val_loss: 0.0387\n",
            "0.9899189011784955\n",
            "2\n",
            "1122/1122 - 125s - loss: 0.0357 - val_loss: 0.0378\n",
            "0.9898764713941762\n",
            "3\n",
            "1122/1122 - 125s - loss: 0.0335 - val_loss: 0.0373\n",
            "0.9900771692761183\n",
            "4\n",
            "1122/1122 - 125s - loss: 0.0318 - val_loss: 0.0379\n",
            "0.9898839639291166\n",
            "150/150 [==============================] - 33s 219ms/step\n",
            "0\n",
            "1122/1122 - 128s - loss: 0.0504 - val_loss: 0.0409\n",
            "0.9873747574418877\n",
            "1\n",
            "1122/1122 - 125s - loss: 0.0390 - val_loss: 0.0388\n",
            "0.9898354743413366\n",
            "2\n",
            "1122/1122 - 125s - loss: 0.0358 - val_loss: 0.0374\n",
            "0.9904596617645821\n",
            "3\n",
            "1122/1122 - 124s - loss: 0.0336 - val_loss: 0.0371\n",
            "0.9906189676044558\n",
            "4\n",
            "1122/1122 - 125s - loss: 0.0318 - val_loss: 0.0376\n",
            "0.9902287785592162\n",
            "150/150 [==============================] - 33s 219ms/step\n",
            "0\n",
            "1122/1122 - 127s - loss: 0.0511 - val_loss: 0.0425\n",
            "0.9871406374303082\n",
            "1\n",
            "1122/1122 - 125s - loss: 0.0391 - val_loss: 0.0388\n",
            "0.9898011066797587\n",
            "2\n",
            "1122/1122 - 125s - loss: 0.0360 - val_loss: 0.0371\n",
            "0.9901921374019707\n",
            "3\n",
            "1122/1122 - 125s - loss: 0.0336 - val_loss: 0.0374\n",
            "0.9900369484460176\n",
            "4\n",
            "1122/1122 - 125s - loss: 0.0318 - val_loss: 0.0378\n",
            "0.9895689469683061\n",
            "150/150 [==============================] - 33s 219ms/step\n",
            "0\n",
            "1122/1122 - 126s - loss: 0.0508 - val_loss: 0.0424\n",
            "0.9878791971338012\n",
            "1\n",
            "1122/1122 - 124s - loss: 0.0392 - val_loss: 0.0383\n",
            "0.989994263170221\n",
            "2\n",
            "1122/1122 - 123s - loss: 0.0359 - val_loss: 0.0376\n",
            "0.9909229396104912\n",
            "3\n",
            "1122/1122 - 124s - loss: 0.0338 - val_loss: 0.0377\n",
            "0.9907220074240721\n",
            "4\n",
            "1122/1122 - 123s - loss: 0.0321 - val_loss: 0.0373\n",
            "0.9908312641083113\n",
            "150/150 [==============================] - 32s 214ms/step\n"
          ],
          "name": "stdout"
        }
      ]
    },
    {
      "cell_type": "code",
      "metadata": {
        "id": "Kp4ESnDS6tHB"
      },
      "source": [
        "submission[target_labels] = (pred)\n",
        "submission.to_csv(\"submission.csv\", index = False)"
      ],
      "execution_count": 23,
      "outputs": []
    },
    {
      "cell_type": "code",
      "metadata": {
        "id": "X0-wYkK6a4ny"
      },
      "source": [
        ""
      ],
      "execution_count": null,
      "outputs": []
    }
  ]
}