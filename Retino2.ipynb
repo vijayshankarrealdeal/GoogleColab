{
  "nbformat": 4,
  "nbformat_minor": 0,
  "metadata": {
    "colab": {
      "name": "Retino2.ipynb",
      "provenance": [],
      "collapsed_sections": [],
      "authorship_tag": "ABX9TyN0mavkwNvIaFwP1NoEiQwA",
      "include_colab_link": true
    },
    "kernelspec": {
      "name": "python3",
      "display_name": "Python 3"
    },
    "language_info": {
      "name": "python"
    },
    "accelerator": "GPU"
  },
  "cells": [
    {
      "cell_type": "markdown",
      "metadata": {
        "id": "view-in-github",
        "colab_type": "text"
      },
      "source": [
        "<a href=\"https://colab.research.google.com/github/vijayshankarrealdeal/GoogleColab/blob/main/Retino2.ipynb\" target=\"_parent\"><img src=\"https://colab.research.google.com/assets/colab-badge.svg\" alt=\"Open In Colab\"/></a>"
      ]
    },
    {
      "cell_type": "code",
      "metadata": {
        "id": "o6FNFBovmIqg"
      },
      "source": [
        "! mkdir ~/.kaggle\n",
        "! cp kaggle.json ~/.kaggle/\n",
        "! chmod 600 ~/.kaggle/kaggle.json"
      ],
      "execution_count": 1,
      "outputs": []
    },
    {
      "cell_type": "code",
      "metadata": {
        "id": "yTv1xXntmt_B"
      },
      "source": [
        "!kaggle datasets download -d dola1507108/diabetic-retinopathy-organized"
      ],
      "execution_count": null,
      "outputs": []
    },
    {
      "cell_type": "code",
      "metadata": {
        "id": "NHh9VpJImvkk"
      },
      "source": [
        "!unzip '/content/diabetic-retinopathy-organized.zip' -d '/content/'"
      ],
      "execution_count": null,
      "outputs": []
    },
    {
      "cell_type": "code",
      "metadata": {
        "id": "CUxMJ609oKRI"
      },
      "source": [
        "import pandas as pd\n",
        "import os\n",
        "import matplotlib.pyplot as plt\n",
        "import numpy as np\n",
        "import tensorflow as tf\n",
        "from keras.preprocessing.image import ImageDataGenerator\n",
        "from tensorflow.keras.models import Model\n",
        "from tensorflow.keras.layers import Input, Dense, GlobalAveragePooling2D, Dropout"
      ],
      "execution_count": 97,
      "outputs": []
    },
    {
      "cell_type": "code",
      "metadata": {
        "id": "mm25aaZZoSrc"
      },
      "source": [
        "datagen = ImageDataGenerator(  \n",
        "    rescale=1. / 255,\n",
        "    rotation_range=40,\n",
        "    width_shift_range=0.2,\n",
        "    height_shift_range=0.2,\n",
        "    shear_range=0.2,\n",
        "    zoom_range=0.2,\n",
        "    horizontal_flip=True,\n",
        "    fill_mode='nearest' \n",
        "    )"
      ],
      "execution_count": 5,
      "outputs": []
    },
    {
      "cell_type": "code",
      "metadata": {
        "colab": {
          "base_uri": "https://localhost:8080/"
        },
        "id": "-tinA3gy74_q",
        "outputId": "d9283354-2dcb-4fc4-d25b-87bcfce6de76"
      },
      "source": [
        "train_data = datagen.flow_from_directory(\n",
        "    '/content/Diabetic Retinopathy Classified/Train',\n",
        "    target_size = (224,224),\n",
        "    class_mode = 'categorical',\n",
        "    batch_size = 64,\n",
        "    shuffle = True,\n",
        ")"
      ],
      "execution_count": 156,
      "outputs": [
        {
          "output_type": "stream",
          "name": "stdout",
          "text": [
            "Found 31619 images belonging to 5 classes.\n"
          ]
        }
      ]
    },
    {
      "cell_type": "code",
      "metadata": {
        "colab": {
          "base_uri": "https://localhost:8080/"
        },
        "id": "68dx4ovbSUsO",
        "outputId": "d4c96b9e-23a7-4e60-a080-aa86d220f0ac"
      },
      "source": [
        "validation_datagen = ImageDataGenerator(\n",
        "    rescale=1. / 255,\n",
        ")\n",
        "validation_data = validation_datagen.flow_from_directory(\n",
        "    '/content/Diabetic Retinopathy Classified/Validation',\n",
        "    target_size = (224,224),\n",
        "    class_mode = 'categorical',\n",
        "    shuffle = True,\n",
        ")"
      ],
      "execution_count": 175,
      "outputs": [
        {
          "output_type": "stream",
          "name": "stdout",
          "text": [
            "Found 1755 images belonging to 6 classes.\n"
          ]
        }
      ]
    },
    {
      "cell_type": "code",
      "metadata": {
        "id": "TaZSBTbVpzLf"
      },
      "source": [
        "base_model = tf.keras.applications.VGG16(weights='imagenet', include_top=False,\n",
        "                                            input_tensor = Input(shape = (224, 224, 3)))"
      ],
      "execution_count": 176,
      "outputs": []
    },
    {
      "cell_type": "code",
      "metadata": {
        "colab": {
          "base_uri": "https://localhost:8080/"
        },
        "id": "31WVEd5Ger36",
        "outputId": "8a2a5a74-4289-47e4-bf55-aa5582eaf9e9"
      },
      "source": [
        "len(base_model.layers)"
      ],
      "execution_count": 177,
      "outputs": [
        {
          "output_type": "execute_result",
          "data": {
            "text/plain": [
              "19"
            ]
          },
          "metadata": {},
          "execution_count": 177
        }
      ]
    },
    {
      "cell_type": "code",
      "metadata": {
        "id": "4BnMlsc2bVne"
      },
      "source": [
        "for layers in base_model.layers:\n",
        "  layers.trainable = True"
      ],
      "execution_count": 178,
      "outputs": []
    },
    {
      "cell_type": "code",
      "metadata": {
        "id": "UawS6x7CUuEc"
      },
      "source": [
        "head_model = base_model.output\n",
        "head_model = GlobalAveragePooling2D()(head_model)\n",
        "head_model = Dense(units = 1025, activation='relu')(head_model)\n",
        "head_model = Dropout(rate = 0.2)(head_model)\n",
        "head_model = Dense(units = 1025, activation='relu')(head_model)\n",
        "head_model = Dropout(rate = 0.2)(head_model)\n",
        "head_model = Dense(5, activation='softmax')(head_model)"
      ],
      "execution_count": 179,
      "outputs": []
    },
    {
      "cell_type": "code",
      "metadata": {
        "id": "eGBy_dK6WBjz"
      },
      "source": [
        "network = Model(inputs = base_model.input, outputs = head_model)"
      ],
      "execution_count": 180,
      "outputs": []
    },
    {
      "cell_type": "code",
      "metadata": {
        "colab": {
          "base_uri": "https://localhost:8080/"
        },
        "id": "jN33S1F4WJF4",
        "outputId": "eaa98af5-a149-4e8e-c7c1-e12a74f8ea15"
      },
      "source": [
        "network.summary()"
      ],
      "execution_count": 181,
      "outputs": [
        {
          "output_type": "stream",
          "name": "stdout",
          "text": [
            "Model: \"model_15\"\n",
            "_________________________________________________________________\n",
            "Layer (type)                 Output Shape              Param #   \n",
            "=================================================================\n",
            "input_20 (InputLayer)        [(None, 224, 224, 3)]     0         \n",
            "_________________________________________________________________\n",
            "block1_conv1 (Conv2D)        (None, 224, 224, 64)      1792      \n",
            "_________________________________________________________________\n",
            "block1_conv2 (Conv2D)        (None, 224, 224, 64)      36928     \n",
            "_________________________________________________________________\n",
            "block1_pool (MaxPooling2D)   (None, 112, 112, 64)      0         \n",
            "_________________________________________________________________\n",
            "block2_conv1 (Conv2D)        (None, 112, 112, 128)     73856     \n",
            "_________________________________________________________________\n",
            "block2_conv2 (Conv2D)        (None, 112, 112, 128)     147584    \n",
            "_________________________________________________________________\n",
            "block2_pool (MaxPooling2D)   (None, 56, 56, 128)       0         \n",
            "_________________________________________________________________\n",
            "block3_conv1 (Conv2D)        (None, 56, 56, 256)       295168    \n",
            "_________________________________________________________________\n",
            "block3_conv2 (Conv2D)        (None, 56, 56, 256)       590080    \n",
            "_________________________________________________________________\n",
            "block3_conv3 (Conv2D)        (None, 56, 56, 256)       590080    \n",
            "_________________________________________________________________\n",
            "block3_pool (MaxPooling2D)   (None, 28, 28, 256)       0         \n",
            "_________________________________________________________________\n",
            "block4_conv1 (Conv2D)        (None, 28, 28, 512)       1180160   \n",
            "_________________________________________________________________\n",
            "block4_conv2 (Conv2D)        (None, 28, 28, 512)       2359808   \n",
            "_________________________________________________________________\n",
            "block4_conv3 (Conv2D)        (None, 28, 28, 512)       2359808   \n",
            "_________________________________________________________________\n",
            "block4_pool (MaxPooling2D)   (None, 14, 14, 512)       0         \n",
            "_________________________________________________________________\n",
            "block5_conv1 (Conv2D)        (None, 14, 14, 512)       2359808   \n",
            "_________________________________________________________________\n",
            "block5_conv2 (Conv2D)        (None, 14, 14, 512)       2359808   \n",
            "_________________________________________________________________\n",
            "block5_conv3 (Conv2D)        (None, 14, 14, 512)       2359808   \n",
            "_________________________________________________________________\n",
            "block5_pool (MaxPooling2D)   (None, 7, 7, 512)         0         \n",
            "_________________________________________________________________\n",
            "global_average_pooling2d_10  (None, 512)               0         \n",
            "_________________________________________________________________\n",
            "dense_68 (Dense)             (None, 1025)              525825    \n",
            "_________________________________________________________________\n",
            "dropout_27 (Dropout)         (None, 1025)              0         \n",
            "_________________________________________________________________\n",
            "dense_69 (Dense)             (None, 1025)              1051650   \n",
            "_________________________________________________________________\n",
            "dropout_28 (Dropout)         (None, 1025)              0         \n",
            "_________________________________________________________________\n",
            "dense_70 (Dense)             (None, 5)                 5130      \n",
            "=================================================================\n",
            "Total params: 16,297,293\n",
            "Trainable params: 16,297,293\n",
            "Non-trainable params: 0\n",
            "_________________________________________________________________\n"
          ]
        }
      ]
    },
    {
      "cell_type": "code",
      "metadata": {
        "id": "THfjxMW7Lyvl"
      },
      "source": [
        "network.compile(optimizer='Adam', loss = 'categorical_crossentropy', metrics=['accuracy'])"
      ],
      "execution_count": 182,
      "outputs": []
    },
    {
      "cell_type": "code",
      "metadata": {
        "id": "S1ft07dRL0yF"
      },
      "source": [
        "class Callbacks(tf.keras.callbacks.Callback):\n",
        "  def on_epoch_end(self, epoch, logs={}):\n",
        "    if (logs.get('accuracy') > 0.75):\n",
        "      self.model.stop_training = True\n",
        "call = Callbacks()"
      ],
      "execution_count": 184,
      "outputs": []
    },
    {
      "cell_type": "code",
      "metadata": {
        "colab": {
          "base_uri": "https://localhost:8080/"
        },
        "id": "vsrhsnYdL2NR",
        "outputId": "099e1c0f-eec6-46fd-a9db-b256d86915a5"
      },
      "source": [
        "history = network.fit(train_data,\n",
        "                    epochs=50,\n",
        "                    batch_size=64,\n",
        "                    callbacks=call,\n",
        "                    #validation_data = validation_data,\n",
        "                    steps_per_epoch=len(train_data) /64,\n",
        "                    )"
      ],
      "execution_count": 185,
      "outputs": [
        {
          "output_type": "stream",
          "name": "stdout",
          "text": [
            "Epoch 1/50\n",
            "7/7 [==============================] - 60s 2s/step - loss: 3.5808 - accuracy: 0.6543\n",
            "Epoch 2/50\n",
            "7/7 [==============================] - 18s 2s/step - loss: 0.9429 - accuracy: 0.7461\n",
            "Epoch 3/50\n",
            "7/7 [==============================] - 18s 2s/step - loss: 0.9308 - accuracy: 0.7266\n",
            "Epoch 4/50\n",
            "7/7 [==============================] - 19s 2s/step - loss: 0.8888 - accuracy: 0.7363\n",
            "Epoch 5/50\n",
            "7/7 [==============================] - 18s 2s/step - loss: 0.7795 - accuracy: 0.7656\n"
          ]
        }
      ]
    },
    {
      "cell_type": "code",
      "metadata": {
        "colab": {
          "base_uri": "https://localhost:8080/",
          "height": 265
        },
        "id": "tn6pF6TkL8Vr",
        "outputId": "5c91a71d-a61d-4cb3-a676-3ae559c69c9c"
      },
      "source": [
        "plt.plot(history.history['loss'],label='loss')\n",
        "plt.plot(history.history['accuracy'],label='accuracy')\n",
        "plt.legend()\n",
        "plt.show()"
      ],
      "execution_count": 186,
      "outputs": [
        {
          "output_type": "display_data",
          "data": {
            "image/png": "[encoded data removed]",
            "text/plain": [
              "<Figure size 432x288 with 1 Axes>"
            ]
          },
          "metadata": {
            "needs_background": "light"
          }
        }
      ]
    },
    {
      "cell_type": "code",
      "metadata": {
        "colab": {
          "base_uri": "https://localhost:8080/"
        },
        "id": "3PDKVjR2QSEO",
        "outputId": "a5ab216b-7067-4e03-d51b-73288832242d"
      },
      "source": [
        "test_datagen = ImageDataGenerator(\n",
        "    rescale=1. / 255,\n",
        ")\n",
        "test_data = test_datagen.flow_from_directory(\n",
        "    '/content/Diabetic Retinopathy Classified/Test',\n",
        "    target_size = (224,224),\n",
        ")"
      ],
      "execution_count": 187,
      "outputs": [
        {
          "output_type": "stream",
          "name": "stdout",
          "text": [
            "Found 1754 images belonging to 5 classes.\n"
          ]
        }
      ]
    },
    {
      "cell_type": "code",
      "metadata": {
        "id": "ZNEHlv8iQylK"
      },
      "source": [
        "predict = network.predict(test_data)"
      ],
      "execution_count": 188,
      "outputs": []
    },
    {
      "cell_type": "code",
      "metadata": {
        "id": "IUnSpG78Q3_L"
      },
      "source": [
        "final_res = np.argmax(predict,axis = 1)"
      ],
      "execution_count": 189,
      "outputs": []
    },
    {
      "cell_type": "code",
      "metadata": {
        "id": "UMzHtAyeRQy1"
      },
      "source": [
        "import seaborn as sns\n",
        "from sklearn.metrics import accuracy_score\n",
        "from sklearn.metrics import confusion_matrix"
      ],
      "execution_count": 190,
      "outputs": []
    },
    {
      "cell_type": "code",
      "metadata": {
        "colab": {
          "base_uri": "https://localhost:8080/",
          "height": 283
        },
        "id": "olG12Y2_rb8s",
        "outputId": "502c1145-7c1d-4aed-9470-c645b6fefcb7"
      },
      "source": [
        "cm = confusion_matrix(test_data.classes,final_res)\n",
        "sns.heatmap(cm,annot=True)"
      ],
      "execution_count": 191,
      "outputs": [
        {
          "output_type": "execute_result",
          "data": {
            "text/plain": [
              "<matplotlib.axes._subplots.AxesSubplot at 0x7f3a441131d0>"
            ]
          },
          "metadata": {},
          "execution_count": 191
        },
        {
          "output_type": "display_data",
          "data": {
            "image/png": "[encoded data removed]",
            "text/plain": [
              "<Figure size 432x288 with 2 Axes>"
            ]
          },
          "metadata": {
            "needs_background": "light"
          }
        }
      ]
    },
    {
      "cell_type": "code",
      "metadata": {
        "colab": {
          "base_uri": "https://localhost:8080/"
        },
        "id": "CQ85aQ5TR09K",
        "outputId": "edc0446a-c79c-496e-a3c6-38af7445d8ca"
      },
      "source": [
        "accuracy_score(test_data.classes,final_res)*100"
      ],
      "execution_count": 192,
      "outputs": [
        {
          "output_type": "execute_result",
          "data": {
            "text/plain": [
              "73.66020524515393"
            ]
          },
          "metadata": {},
          "execution_count": 192
        }
      ]
    },
    {
      "cell_type": "code",
      "metadata": {
        "id": "SsmND91DSB5G"
      },
      "source": [
        ""
      ],
      "execution_count": null,
      "outputs": []
    }
  ]
}