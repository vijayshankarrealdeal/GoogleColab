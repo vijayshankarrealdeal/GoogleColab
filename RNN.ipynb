{
  "nbformat": 4,
  "nbformat_minor": 0,
  "metadata": {
    "colab": {
      "name": "RNN.ipynb",
      "provenance": [],
      "collapsed_sections": [],
      "authorship_tag": "ABX9TyPY6EDtusZWaY9wCULs2RP5",
      "include_colab_link": true
    },
    "kernelspec": {
      "name": "python3",
      "display_name": "Python 3"
    },
    "language_info": {
      "name": "python"
    }
  },
  "cells": [
    {
      "cell_type": "markdown",
      "metadata": {
        "id": "view-in-github",
        "colab_type": "text"
      },
      "source": [
        "<a href=\"https://colab.research.google.com/github/vijayshankarrealdeal/GoogleColab/blob/main/RNN.ipynb\" target=\"_parent\"><img src=\"https://colab.research.google.com/assets/colab-badge.svg\" alt=\"Open In Colab\"/></a>"
      ]
    },
    {
      "cell_type": "code",
      "metadata": {
        "id": "t5XVXwnqLvrv"
      },
      "source": [
        "import torch\n",
        "import torch.nn as nn\n",
        "import numpy as np\n"
      ],
      "execution_count": 1,
      "outputs": []
    },
    {
      "cell_type": "code",
      "metadata": {
        "id": "DwZ9VQ6-Nqh_"
      },
      "source": [
        "device = torch.device('cuda' if torch.cuda.is_available() else 'cpu')"
      ],
      "execution_count": 2,
      "outputs": []
    },
    {
      "cell_type": "code",
      "metadata": {
        "id": "V_2hmBPpLQXp"
      },
      "source": [
        "class RNN(nn.Module):\n",
        "  def __init__(self,n_input,n_output,n_hidden,n_rnnlayers):\n",
        "    super(RNN,self).__init__()\n",
        "    self.D = n_input\n",
        "    self.M = n_hidden\n",
        "    self.K = n_output\n",
        "    self.L = n_rnnlayers\n",
        "    self.rnn = nn.RNN(\n",
        "        input_size = self.D,\n",
        "        hidden_size = self.M,\n",
        "        num_layers = self.L,\n",
        "        nonlinearity = 'relu',\n",
        "        batch_first = True,\n",
        "    )\n",
        "    self.fc = nn.Linear(self.M,self.K)\n",
        "\n",
        "  def forward(self,X):\n",
        "    h0 = torch.zeros(self.L,X.size(0),self.M).to(device)\n",
        "\n",
        "    out,_ = self.rnn(X,h0)\n",
        "\n",
        "    out = self.fc(out[:,-1,:])\n",
        "    return out\n"
      ],
      "execution_count": 3,
      "outputs": []
    },
    {
      "cell_type": "code",
      "metadata": {
        "id": "PconKsvYRJP4"
      },
      "source": [
        ""
      ],
      "execution_count": null,
      "outputs": []
    }
  ]
}