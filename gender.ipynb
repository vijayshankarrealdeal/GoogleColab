{
  "nbformat": 4,
  "nbformat_minor": 0,
  "metadata": {
    "colab": {
      "name": "gender.ipynb",
      "provenance": [],
      "collapsed_sections": [],
      "authorship_tag": "ABX9TyOT/Bp1ccgwGNH9V3G0yW3l",
      "include_colab_link": true
    },
    "kernelspec": {
      "name": "python3",
      "display_name": "Python 3"
    },
    "language_info": {
      "name": "python"
    },
    "accelerator": "GPU"
  },
  "cells": [
    {
      "cell_type": "markdown",
      "metadata": {
        "id": "view-in-github",
        "colab_type": "text"
      },
      "source": [
        "<a href=\"https://colab.research.google.com/github/vijayshankarrealdeal/GoogleColab/blob/main/gender.ipynb\" target=\"_parent\"><img src=\"https://colab.research.google.com/assets/colab-badge.svg\" alt=\"Open In Colab\"/></a>"
      ]
    },
    {
      "cell_type": "code",
      "metadata": {
        "id": "rdx9_y7EuJJC"
      },
      "source": [
        "from google.colab import drive"
      ],
      "execution_count": 471,
      "outputs": []
    },
    {
      "cell_type": "code",
      "metadata": {
        "id": "BLtMRWcbua0f"
      },
      "source": [
        "# drive.mount(\"gdrive\")"
      ],
      "execution_count": 472,
      "outputs": []
    },
    {
      "cell_type": "code",
      "metadata": {
        "id": "GHT6BjVjxcR8"
      },
      "source": [
        "path = '/content/gdrive/MyDrive/Dataset'\n",
        "import pandas as pd\n",
        "import numpy as np\n",
        "import tensorflow as tf\n",
        "import tensorflow_datasets  as tfds\n",
        "import re"
      ],
      "execution_count": 473,
      "outputs": []
    },
    {
      "cell_type": "code",
      "metadata": {
        "colab": {
          "base_uri": "https://localhost:8080/"
        },
        "id": "-3MTX4r2xyWY",
        "outputId": "8cf14e7f-3b35-4494-c873-e377fbf05ad2"
      },
      "source": [
        "dataset = pd.read_csv(path+'/wgnd_ctry.csv')"
      ],
      "execution_count": 474,
      "outputs": [
        {
          "output_type": "stream",
          "text": [
            "/usr/local/lib/python3.7/dist-packages/IPython/core/interactiveshell.py:2718: DtypeWarning: Columns (3,4,5) have mixed types.Specify dtype option on import or set low_memory=False.\n",
            "  interactivity=interactivity, compiler=compiler, result=result)\n"
          ],
          "name": "stderr"
        }
      ]
    },
    {
      "cell_type": "code",
      "metadata": {
        "id": "eQR7hdgTx9uF"
      },
      "source": [
        "dataset = dataset.drop(['gchar12','gchar1','gchar2'],axis = 1)"
      ],
      "execution_count": 475,
      "outputs": []
    },
    {
      "cell_type": "code",
      "metadata": {
        "id": "P_eUamcnyVXJ"
      },
      "source": [
        "import matplotlib.pyplot as plt"
      ],
      "execution_count": 476,
      "outputs": []
    },
    {
      "cell_type": "code",
      "metadata": {
        "id": "CcyfAZoc047X"
      },
      "source": [
        "def convertFM(data):\n",
        "  if data == 'F':\n",
        "    return 0\n",
        "  else:\n",
        "    return 1"
      ],
      "execution_count": 477,
      "outputs": []
    },
    {
      "cell_type": "code",
      "metadata": {
        "id": "t5sAJFGV1BXL"
      },
      "source": [
        "dataset.gender = dataset.gender.apply(lambda x: convertFM(x))"
      ],
      "execution_count": 478,
      "outputs": []
    },
    {
      "cell_type": "code",
      "metadata": {
        "id": "e-dafRmg7B2f"
      },
      "source": [
        "dataset = dataset[dataset.code != 'KR']\n",
        "dataset = dataset[dataset.code != 'CN']"
      ],
      "execution_count": 479,
      "outputs": []
    },
    {
      "cell_type": "code",
      "metadata": {
        "id": "pn5T27bI7H1J"
      },
      "source": [
        "df = dataset[dataset.code == 'IN']\n",
        "dff = dataset[dataset.code == 'AM']\n",
        "dfff = dataset[dataset.code == 'US']"
      ],
      "execution_count": 480,
      "outputs": []
    },
    {
      "cell_type": "code",
      "metadata": {
        "id": "zmJfQ-iq7cYk"
      },
      "source": [
        "new_dataset = pd.concat([df,dff,dfff])"
      ],
      "execution_count": 481,
      "outputs": []
    },
    {
      "cell_type": "code",
      "metadata": {
        "id": "67vuziHF9qWP"
      },
      "source": [
        "new_dataset.drop(['code'],inplace=True,axis = 1)"
      ],
      "execution_count": 482,
      "outputs": []
    },
    {
      "cell_type": "code",
      "metadata": {
        "colab": {
          "base_uri": "https://localhost:8080/",
          "height": 419
        },
        "id": "CJvwl0F8OA1g",
        "outputId": "804c5532-6fa5-44f6-b789-ddfcdb9a6959"
      },
      "source": [
        "new_dataset"
      ],
      "execution_count": 483,
      "outputs": [
        {
          "output_type": "execute_result",
          "data": {
            "text/html": [
              "<div>\n",
              "<style scoped>\n",
              "    .dataframe tbody tr th:only-of-type {\n",
              "        vertical-align: middle;\n",
              "    }\n",
              "\n",
              "    .dataframe tbody tr th {\n",
              "        vertical-align: top;\n",
              "    }\n",
              "\n",
              "    .dataframe thead th {\n",
              "        text-align: right;\n",
              "    }\n",
              "</style>\n",
              "<table border=\"1\" class=\"dataframe\">\n",
              "  <thead>\n",
              "    <tr style=\"text-align: right;\">\n",
              "      <th></th>\n",
              "      <th>name</th>\n",
              "      <th>gender</th>\n",
              "    </tr>\n",
              "  </thead>\n",
              "  <tbody>\n",
              "    <tr>\n",
              "      <th>61</th>\n",
              "      <td>AADHYA</td>\n",
              "      <td>0</td>\n",
              "    </tr>\n",
              "    <tr>\n",
              "      <th>448</th>\n",
              "      <td>AAMOD</td>\n",
              "      <td>1</td>\n",
              "    </tr>\n",
              "    <tr>\n",
              "      <th>449</th>\n",
              "      <td>AAMOD AAMOD</td>\n",
              "      <td>1</td>\n",
              "    </tr>\n",
              "    <tr>\n",
              "      <th>450</th>\n",
              "      <td>AAMOD DINKAR</td>\n",
              "      <td>1</td>\n",
              "    </tr>\n",
              "    <tr>\n",
              "      <th>513</th>\n",
              "      <td>AANYA</td>\n",
              "      <td>0</td>\n",
              "    </tr>\n",
              "    <tr>\n",
              "      <th>...</th>\n",
              "      <td>...</td>\n",
              "      <td>...</td>\n",
              "    </tr>\n",
              "    <tr>\n",
              "      <th>289448</th>\n",
              "      <td>ZYTAVION</td>\n",
              "      <td>1</td>\n",
              "    </tr>\n",
              "    <tr>\n",
              "      <th>289449</th>\n",
              "      <td>ZYTAVIOUS</td>\n",
              "      <td>1</td>\n",
              "    </tr>\n",
              "    <tr>\n",
              "      <th>289451</th>\n",
              "      <td>ZYVION</td>\n",
              "      <td>1</td>\n",
              "    </tr>\n",
              "    <tr>\n",
              "      <th>289453</th>\n",
              "      <td>ZYYANNA</td>\n",
              "      <td>0</td>\n",
              "    </tr>\n",
              "    <tr>\n",
              "      <th>289455</th>\n",
              "      <td>ZZYZX</td>\n",
              "      <td>1</td>\n",
              "    </tr>\n",
              "  </tbody>\n",
              "</table>\n",
              "<p>100025 rows × 2 columns</p>\n",
              "</div>"
            ],
            "text/plain": [
              "                name  gender\n",
              "61            AADHYA       0\n",
              "448            AAMOD       1\n",
              "449      AAMOD AAMOD       1\n",
              "450     AAMOD DINKAR       1\n",
              "513            AANYA       0\n",
              "...              ...     ...\n",
              "289448      ZYTAVION       1\n",
              "289449     ZYTAVIOUS       1\n",
              "289451        ZYVION       1\n",
              "289453       ZYYANNA       0\n",
              "289455         ZZYZX       1\n",
              "\n",
              "[100025 rows x 2 columns]"
            ]
          },
          "metadata": {
            "tags": []
          },
          "execution_count": 483
        }
      ]
    },
    {
      "cell_type": "code",
      "metadata": {
        "id": "w9VuKbC9OEMH"
      },
      "source": [
        "X = new_dataset.name"
      ],
      "execution_count": 484,
      "outputs": []
    },
    {
      "cell_type": "code",
      "metadata": {
        "id": "g4mnuDcVq_PS"
      },
      "source": [
        "y = new_dataset.gender.values"
      ],
      "execution_count": 485,
      "outputs": []
    },
    {
      "cell_type": "code",
      "metadata": {
        "id": "jjj2H0BiOHe7"
      },
      "source": [
        "def token_stem(S):\n",
        "  S = S.lower()\n",
        "  S = re.sub('[^a-zA-Z]',' ',str(S))\n",
        "  S = re.sub(r\"^\\s+\",'',S)\n",
        "  S = ''.join(S)\n",
        "  # S = np.array([str(k) for k in S])\n",
        "  return S"
      ],
      "execution_count": 486,
      "outputs": []
    },
    {
      "cell_type": "code",
      "metadata": {
        "id": "FgVtXq3SANeg"
      },
      "source": [
        "X = X.apply(lambda x:token_stem(str(x)))\n"
      ],
      "execution_count": 487,
      "outputs": []
    },
    {
      "cell_type": "code",
      "metadata": {
        "id": "TVtQETWuRiyZ"
      },
      "source": [
        "X = X.values"
      ],
      "execution_count": 488,
      "outputs": []
    },
    {
      "cell_type": "code",
      "metadata": {
        "colab": {
          "base_uri": "https://localhost:8080/"
        },
        "id": "f9nAfEqTTDgG",
        "outputId": "06017d24-f5cc-4c07-e6a7-33815847ee9b"
      },
      "source": [
        "X"
      ],
      "execution_count": 489,
      "outputs": [
        {
          "output_type": "execute_result",
          "data": {
            "text/plain": [
              "array(['aadhya', 'aamod', 'aamod aamod', ..., 'zyvion', 'zyyanna',\n",
              "       'zzyzx'], dtype=object)"
            ]
          },
          "metadata": {
            "tags": []
          },
          "execution_count": 489
        }
      ]
    },
    {
      "cell_type": "code",
      "metadata": {
        "id": "wqu8bmLWTDSy"
      },
      "source": [
        "tokenizer = tfds.deprecated.text.SubwordTextEncoder.build_from_corpus(\n",
        "    X,target_vocab_size = 2**16\n",
        ")"
      ],
      "execution_count": 490,
      "outputs": []
    },
    {
      "cell_type": "code",
      "metadata": {
        "id": "vhAV5XJtiVBi"
      },
      "source": [
        "tokenizer.save_to_file(\"hello\")"
      ],
      "execution_count": 491,
      "outputs": []
    },
    {
      "cell_type": "code",
      "metadata": {
        "id": "zpmCsLh0c9fL"
      },
      "source": [
        "data_input = [tokenizer.encode(sentences) for sentences in X]"
      ],
      "execution_count": 492,
      "outputs": []
    },
    {
      "cell_type": "code",
      "metadata": {
        "id": "lS9u-PCYdKhX"
      },
      "source": [
        "Max_len = max([len(u) for u in data_input])\n",
        "data_inputs = tf.keras.preprocessing.sequence.pad_sequences(\n",
        "    data_input,\n",
        "            value = 0,\n",
        "            padding = \"post\",\n",
        "            maxlen = Max_len\n",
        ")\n"
      ],
      "execution_count": 493,
      "outputs": []
    },
    {
      "cell_type": "code",
      "metadata": {
        "colab": {
          "base_uri": "https://localhost:8080/"
        },
        "id": "61zycDSuJij4",
        "outputId": "03e548a4-38a6-4816-c890-e769ed4085d4"
      },
      "source": [
        "Max_len"
      ],
      "execution_count": 494,
      "outputs": [
        {
          "output_type": "execute_result",
          "data": {
            "text/plain": [
              "8"
            ]
          },
          "metadata": {
            "tags": []
          },
          "execution_count": 494
        }
      ]
    },
    {
      "cell_type": "code",
      "metadata": {
        "colab": {
          "base_uri": "https://localhost:8080/"
        },
        "id": "_FwvjEy-dfOp",
        "outputId": "fa726e0d-c893-4548-ea68-88ac148bf8bb"
      },
      "source": [
        "data_inputs[0]"
      ],
      "execution_count": 495,
      "outputs": [
        {
          "output_type": "execute_result",
          "data": {
            "text/plain": [
              "array([15374,     0,     0,     0,     0,     0,     0,     0],\n",
              "      dtype=int32)"
            ]
          },
          "metadata": {
            "tags": []
          },
          "execution_count": 495
        }
      ]
    },
    {
      "cell_type": "code",
      "metadata": {
        "id": "ufH2F2YNeAV0"
      },
      "source": [
        "from sklearn.model_selection import train_test_split\n",
        "x_train,x_test,y_train,y_test = train_test_split(data_inputs,y,test_size = 0.30,random_state = 0)"
      ],
      "execution_count": 496,
      "outputs": []
    },
    {
      "cell_type": "code",
      "metadata": {
        "colab": {
          "base_uri": "https://localhost:8080/"
        },
        "id": "TC24EFxseD91",
        "outputId": "6423e6a8-1ce5-4360-b85c-85c499b7b0fc"
      },
      "source": [
        "x_train.shape"
      ],
      "execution_count": 497,
      "outputs": [
        {
          "output_type": "execute_result",
          "data": {
            "text/plain": [
              "(70017, 8)"
            ]
          },
          "metadata": {
            "tags": []
          },
          "execution_count": 497
        }
      ]
    },
    {
      "cell_type": "code",
      "metadata": {
        "id": "uuDw7w5jeeRd"
      },
      "source": [
        "class DeepCNN(tf.keras.Model):\n",
        "    def __init__(self,\n",
        "                 vocab_size,\n",
        "                 emb_dim = 128,\n",
        "                 nb_filter = 50,\n",
        "                 FNN_units = 512,\n",
        "                 nb_classes = 2,\n",
        "                 dropout_rate  = 0.1,\n",
        "                 training = False,\n",
        "                 name = 'deep_cnn'\n",
        "                ):\n",
        "        super(DeepCNN,self).__init__(name = name)\n",
        "        \n",
        "        self.embedding = tf.keras.layers.Embedding(vocab_size,emb_dim)\n",
        "        #define three layers of filters\n",
        "        self.bigram = tf.keras.layers.Conv1D(filters = nb_filter,\n",
        "                                             kernel_size = 2,\n",
        "                                             padding = \"valid\",\n",
        "                                             activation = 'relu'\n",
        "                                             )\n",
        "        self.pool_1= tf.keras.layers.GlobalMaxPool1D() \n",
        "\n",
        "        self.trigram = tf.keras.layers.Conv1D(filters = nb_filter,\n",
        "                                              kernel_size = 3,\n",
        "                                             padding = \"valid\",\n",
        "                                             activation = 'relu'\n",
        "                                             )\n",
        "        self.pool_2= tf.keras.layers.GlobalMaxPool1D() \n",
        "\n",
        "        self.fourgram = tf.keras.layers.Conv1D(filters = nb_filter,\n",
        "                                               kernel_size = 4,\n",
        "                                             padding = \"valid\",\n",
        "                                             activation = 'relu'\n",
        "                                             )\n",
        "        self.pool_3= tf.keras.layers.GlobalMaxPool1D() \n",
        "\n",
        "        self.dense_1 = tf.keras.layers.Dense(units = FNN_units,\n",
        "                                             activation='relu')\n",
        "        \n",
        "        self.dropout = tf.keras.layers.Dropout(dropout_rate)\n",
        "\n",
        "        self.last_dense = tf.keras.layers.Dense(units = 1,\n",
        "                                                activation='sigmoid')\n",
        "\n",
        "    def call(self,inputs,training):\n",
        "      x = self.embedding(inputs)\n",
        "      x_1 = self.bigram(x)\n",
        "      x_1 = self.pool_1(x_1)\n",
        "\n",
        "      x_2 = self.trigram(x)\n",
        "      x_2 = self.pool_1(x_2)\n",
        "\n",
        "      x_3 = self.fourgram(x)\n",
        "      x_3 = self.pool_1(x_3)\n",
        "\n",
        "\n",
        "      merged = tf.concat([x_1,x_2,x_3],axis = -1)\n",
        "      merged = self.dense_1(merged)\n",
        "      merged = self.dropout(merged,training)\n",
        "\n",
        "      output = self.last_dense(merged)\n",
        "\n",
        "      return output"
      ],
      "execution_count": 498,
      "outputs": []
    },
    {
      "cell_type": "code",
      "metadata": {
        "id": "wISes_0zoEqa"
      },
      "source": [
        "VOCAB_SIZE = tokenizer.vocab_size\n",
        "EMB_DIM = 200\n",
        "FILTERS = 100\n",
        "FNN_UNITS = 256\n",
        "BATCH_SIZE = 32\n",
        "DROPOUT_RATE = 0.2\n",
        "EPOCHS = 3\n",
        "NB_CLASSES = 2"
      ],
      "execution_count": 499,
      "outputs": []
    },
    {
      "cell_type": "code",
      "metadata": {
        "id": "pXEUPhdgpfla"
      },
      "source": [
        "cnn = DeepCNN(vocab_size=VOCAB_SIZE,\n",
        "              FNN_units=FNN_UNITS,\n",
        "              emb_dim=EMB_DIM,\n",
        "              nb_filter=FILTERS,\n",
        "              nb_classes = NB_CLASSES,\n",
        "              dropout_rate=DROPOUT_RATE\n",
        "              )"
      ],
      "execution_count": 500,
      "outputs": []
    },
    {
      "cell_type": "code",
      "metadata": {
        "id": "uZ39ZhJPpoNh"
      },
      "source": [
        "cnn.compile(optimizer='adam',\n",
        "            loss='binary_crossentropy',\n",
        "            metrics=['accuracy'])"
      ],
      "execution_count": 501,
      "outputs": []
    },
    {
      "cell_type": "code",
      "metadata": {
        "colab": {
          "base_uri": "https://localhost:8080/"
        },
        "id": "fWPGGl3cqmYE",
        "outputId": "fb617f09-acf5-4c39-9fba-521000fa6d09"
      },
      "source": [
        "cnn.fit(x_train,\n",
        "        y_train,\n",
        "        batch_size=BATCH_SIZE,\n",
        "        epochs=EPOCHS)"
      ],
      "execution_count": 502,
      "outputs": [
        {
          "output_type": "stream",
          "text": [
            "Epoch 1/3\n",
            "2189/2189 [==============================] - 196s 89ms/step - loss: 0.4961 - accuracy: 0.7385\n",
            "Epoch 2/3\n",
            "2189/2189 [==============================] - 196s 90ms/step - loss: 0.1706 - accuracy: 0.9356\n",
            "Epoch 3/3\n",
            "2189/2189 [==============================] - 196s 89ms/step - loss: 0.0589 - accuracy: 0.9773\n"
          ],
          "name": "stdout"
        },
        {
          "output_type": "execute_result",
          "data": {
            "text/plain": [
              "<tensorflow.python.keras.callbacks.History at 0x7f3f7e843510>"
            ]
          },
          "metadata": {
            "tags": []
          },
          "execution_count": 502
        }
      ]
    },
    {
      "cell_type": "code",
      "metadata": {
        "colab": {
          "base_uri": "https://localhost:8080/"
        },
        "id": "88QGsQIJyHvK",
        "outputId": "94d173fb-0e15-4a0a-f8f0-70132cc347a9"
      },
      "source": [
        "result = cnn.evaluate(x_test,y_test,batch_size=BATCH_SIZE)\n",
        "print(result)"
      ],
      "execution_count": 503,
      "outputs": [
        {
          "output_type": "stream",
          "text": [
            "938/938 [==============================] - 4s 4ms/step - loss: 0.6746 - accuracy: 0.7927\n",
            "[0.6746255159378052, 0.7926552891731262]\n"
          ],
          "name": "stdout"
        }
      ]
    },
    {
      "cell_type": "code",
      "metadata": {
        "id": "BFsmMwyJF8_X"
      },
      "source": [
        "def rXX(ss):\n",
        "  if ss > 0.8:\n",
        "    return 1\n",
        "  else:\n",
        "    return 0"
      ],
      "execution_count": 504,
      "outputs": []
    },
    {
      "cell_type": "code",
      "metadata": {
        "id": "0i3_VAz0Hp5B"
      },
      "source": [
        ""
      ],
      "execution_count": 504,
      "outputs": []
    },
    {
      "cell_type": "code",
      "metadata": {
        "colab": {
          "base_uri": "https://localhost:8080/"
        },
        "id": "LrtlsnukCnX-",
        "outputId": "1a785743-037a-4793-a273-a5d2a532edeb"
      },
      "source": [
        "inputText = \"Steve jobs\"\n",
        "text = inputText[:8]\n",
        "f = np.array([tokenizer.encode(text)])\n",
        "l = [0 for i in range(8)]\n",
        "for i in range(len(f[0])):\n",
        "  l[i] = f[0][i]\n",
        "\n",
        "fgg = np.array([l])\n",
        "fgg\n",
        "ta = cnn(fgg, training=False).numpy()[0][0]\n",
        "rXX(ta)"
      ],
      "execution_count": 505,
      "outputs": [
        {
          "output_type": "execute_result",
          "data": {
            "text/plain": [
              "1"
            ]
          },
          "metadata": {
            "tags": []
          },
          "execution_count": 505
        }
      ]
    }
  ]
}