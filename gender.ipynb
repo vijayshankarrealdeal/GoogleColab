{
  "nbformat": 4,
  "nbformat_minor": 0,
  "metadata": {
    "colab": {
      "name": "gender.ipynb",
      "provenance": [],
      "collapsed_sections": [],
      "authorship_tag": "ABX9TyNYTWmngbl9xXD4aVgNM2Ed",
      "include_colab_link": true
    },
    "kernelspec": {
      "name": "python3",
      "display_name": "Python 3"
    },
    "language_info": {
      "name": "python"
    },
    "accelerator": "GPU"
  },
  "cells": [
    {
      "cell_type": "markdown",
      "metadata": {
        "id": "view-in-github",
        "colab_type": "text"
      },
      "source": [
        "<a href=\"https://colab.research.google.com/github/vijayshankarrealdeal/GoogleColab/blob/main/gender.ipynb\" target=\"_parent\"><img src=\"https://colab.research.google.com/assets/colab-badge.svg\" alt=\"Open In Colab\"/></a>"
      ]
    },
    {
      "cell_type": "code",
      "metadata": {
        "id": "rdx9_y7EuJJC"
      },
      "source": [
        "from google.colab import drive"
      ],
      "execution_count": 5,
      "outputs": []
    },
    {
      "cell_type": "code",
      "metadata": {
        "id": "BLtMRWcbua0f",
        "colab": {
          "base_uri": "https://localhost:8080/"
        },
        "outputId": "76118cfd-4fe0-45d4-de30-61f3e83bd336"
      },
      "source": [
        "drive.mount(\"gdrive\")"
      ],
      "execution_count": 6,
      "outputs": [
        {
          "output_type": "stream",
          "text": [
            "Mounted at gdrive\n"
          ],
          "name": "stdout"
        }
      ]
    },
    {
      "cell_type": "code",
      "metadata": {
        "id": "GHT6BjVjxcR8"
      },
      "source": [
        "path = '/content/gdrive/MyDrive/Dataset'\n",
        "import pandas as pd\n",
        "import numpy as np\n",
        "import tensorflow as tf\n",
        "import tensorflow_datasets  as tfds\n",
        "import re"
      ],
      "execution_count": 7,
      "outputs": []
    },
    {
      "cell_type": "code",
      "metadata": {
        "colab": {
          "base_uri": "https://localhost:8080/"
        },
        "id": "-3MTX4r2xyWY",
        "outputId": "878d70e9-8a0f-4151-c413-dea986e41848"
      },
      "source": [
        "dataset = pd.read_csv(path+'/wgnd_ctry.csv')"
      ],
      "execution_count": 8,
      "outputs": [
        {
          "output_type": "stream",
          "text": [
            "/usr/local/lib/python3.7/dist-packages/IPython/core/interactiveshell.py:2718: DtypeWarning: Columns (3,4,5) have mixed types.Specify dtype option on import or set low_memory=False.\n",
            "  interactivity=interactivity, compiler=compiler, result=result)\n"
          ],
          "name": "stderr"
        }
      ]
    },
    {
      "cell_type": "code",
      "metadata": {
        "id": "eQR7hdgTx9uF"
      },
      "source": [
        "dataset = dataset.drop(['gchar12','gchar1','gchar2'],axis = 1)"
      ],
      "execution_count": 9,
      "outputs": []
    },
    {
      "cell_type": "code",
      "metadata": {
        "id": "P_eUamcnyVXJ"
      },
      "source": [
        "import matplotlib.pyplot as plt"
      ],
      "execution_count": 10,
      "outputs": []
    },
    {
      "cell_type": "code",
      "metadata": {
        "id": "CcyfAZoc047X"
      },
      "source": [
        "def convertFM(data):\n",
        "  if data == 'F':\n",
        "    return 0\n",
        "  else:\n",
        "    return 1"
      ],
      "execution_count": 11,
      "outputs": []
    },
    {
      "cell_type": "code",
      "metadata": {
        "id": "t5sAJFGV1BXL"
      },
      "source": [
        "dataset.gender = dataset.gender.apply(lambda x: convertFM(x))"
      ],
      "execution_count": 12,
      "outputs": []
    },
    {
      "cell_type": "code",
      "metadata": {
        "id": "e-dafRmg7B2f"
      },
      "source": [
        "dataset = dataset[dataset.code != 'KR']\n",
        "dataset = dataset[dataset.code != 'CN']"
      ],
      "execution_count": 13,
      "outputs": []
    },
    {
      "cell_type": "code",
      "metadata": {
        "id": "pn5T27bI7H1J"
      },
      "source": [
        "df = dataset[dataset.code == 'IN']\n",
        "dff = dataset[dataset.code == 'AM']\n",
        "dfff = dataset[dataset.code == 'US']"
      ],
      "execution_count": 14,
      "outputs": []
    },
    {
      "cell_type": "code",
      "metadata": {
        "id": "zmJfQ-iq7cYk"
      },
      "source": [
        "new_dataset = pd.concat([df,dff,dfff])"
      ],
      "execution_count": 15,
      "outputs": []
    },
    {
      "cell_type": "code",
      "metadata": {
        "id": "67vuziHF9qWP"
      },
      "source": [
        "new_dataset.drop(['code'],inplace=True,axis = 1)"
      ],
      "execution_count": 16,
      "outputs": []
    },
    {
      "cell_type": "code",
      "metadata": {
        "colab": {
          "base_uri": "https://localhost:8080/",
          "height": 419
        },
        "id": "CJvwl0F8OA1g",
        "outputId": "41aba691-2834-4d18-a499-eace887070d6"
      },
      "source": [
        "new_dataset"
      ],
      "execution_count": 17,
      "outputs": [
        {
          "output_type": "execute_result",
          "data": {
            "text/html": [
              "<div>\n",
              "<style scoped>\n",
              "    .dataframe tbody tr th:only-of-type {\n",
              "        vertical-align: middle;\n",
              "    }\n",
              "\n",
              "    .dataframe tbody tr th {\n",
              "        vertical-align: top;\n",
              "    }\n",
              "\n",
              "    .dataframe thead th {\n",
              "        text-align: right;\n",
              "    }\n",
              "</style>\n",
              "<table border=\"1\" class=\"dataframe\">\n",
              "  <thead>\n",
              "    <tr style=\"text-align: right;\">\n",
              "      <th></th>\n",
              "      <th>name</th>\n",
              "      <th>gender</th>\n",
              "    </tr>\n",
              "  </thead>\n",
              "  <tbody>\n",
              "    <tr>\n",
              "      <th>61</th>\n",
              "      <td>AADHYA</td>\n",
              "      <td>0</td>\n",
              "    </tr>\n",
              "    <tr>\n",
              "      <th>448</th>\n",
              "      <td>AAMOD</td>\n",
              "      <td>1</td>\n",
              "    </tr>\n",
              "    <tr>\n",
              "      <th>449</th>\n",
              "      <td>AAMOD AAMOD</td>\n",
              "      <td>1</td>\n",
              "    </tr>\n",
              "    <tr>\n",
              "      <th>450</th>\n",
              "      <td>AAMOD DINKAR</td>\n",
              "      <td>1</td>\n",
              "    </tr>\n",
              "    <tr>\n",
              "      <th>513</th>\n",
              "      <td>AANYA</td>\n",
              "      <td>0</td>\n",
              "    </tr>\n",
              "    <tr>\n",
              "      <th>...</th>\n",
              "      <td>...</td>\n",
              "      <td>...</td>\n",
              "    </tr>\n",
              "    <tr>\n",
              "      <th>289448</th>\n",
              "      <td>ZYTAVION</td>\n",
              "      <td>1</td>\n",
              "    </tr>\n",
              "    <tr>\n",
              "      <th>289449</th>\n",
              "      <td>ZYTAVIOUS</td>\n",
              "      <td>1</td>\n",
              "    </tr>\n",
              "    <tr>\n",
              "      <th>289451</th>\n",
              "      <td>ZYVION</td>\n",
              "      <td>1</td>\n",
              "    </tr>\n",
              "    <tr>\n",
              "      <th>289453</th>\n",
              "      <td>ZYYANNA</td>\n",
              "      <td>0</td>\n",
              "    </tr>\n",
              "    <tr>\n",
              "      <th>289455</th>\n",
              "      <td>ZZYZX</td>\n",
              "      <td>1</td>\n",
              "    </tr>\n",
              "  </tbody>\n",
              "</table>\n",
              "<p>100025 rows × 2 columns</p>\n",
              "</div>"
            ],
            "text/plain": [
              "                name  gender\n",
              "61            AADHYA       0\n",
              "448            AAMOD       1\n",
              "449      AAMOD AAMOD       1\n",
              "450     AAMOD DINKAR       1\n",
              "513            AANYA       0\n",
              "...              ...     ...\n",
              "289448      ZYTAVION       1\n",
              "289449     ZYTAVIOUS       1\n",
              "289451        ZYVION       1\n",
              "289453       ZYYANNA       0\n",
              "289455         ZZYZX       1\n",
              "\n",
              "[100025 rows x 2 columns]"
            ]
          },
          "metadata": {
            "tags": []
          },
          "execution_count": 17
        }
      ]
    },
    {
      "cell_type": "code",
      "metadata": {
        "id": "w9VuKbC9OEMH"
      },
      "source": [
        "X = new_dataset.name"
      ],
      "execution_count": 18,
      "outputs": []
    },
    {
      "cell_type": "code",
      "metadata": {
        "id": "g4mnuDcVq_PS"
      },
      "source": [
        "y = new_dataset.gender.values"
      ],
      "execution_count": 19,
      "outputs": []
    },
    {
      "cell_type": "code",
      "metadata": {
        "id": "jjj2H0BiOHe7"
      },
      "source": [
        "def token_stem(S):\n",
        "  S = S.lower()\n",
        "  S = re.sub('[^a-zA-Z]',' ',str(S))\n",
        "  S = re.sub(r\"^\\s+\",'',S)\n",
        "  S = ''.join(S)\n",
        "  # S = np.array([str(k) for k in S])\n",
        "  return S"
      ],
      "execution_count": 20,
      "outputs": []
    },
    {
      "cell_type": "code",
      "metadata": {
        "id": "FgVtXq3SANeg"
      },
      "source": [
        "X = X.apply(lambda x:token_stem(str(x)))\n"
      ],
      "execution_count": 21,
      "outputs": []
    },
    {
      "cell_type": "code",
      "metadata": {
        "id": "TVtQETWuRiyZ"
      },
      "source": [
        "X = X.values"
      ],
      "execution_count": 22,
      "outputs": []
    },
    {
      "cell_type": "code",
      "metadata": {
        "colab": {
          "base_uri": "https://localhost:8080/"
        },
        "id": "f9nAfEqTTDgG",
        "outputId": "25b3190e-e122-4b03-9a86-cbf29f8a6e9f"
      },
      "source": [
        "X"
      ],
      "execution_count": 23,
      "outputs": [
        {
          "output_type": "execute_result",
          "data": {
            "text/plain": [
              "array(['aadhya', 'aamod', 'aamod aamod', ..., 'zyvion', 'zyyanna',\n",
              "       'zzyzx'], dtype=object)"
            ]
          },
          "metadata": {
            "tags": []
          },
          "execution_count": 23
        }
      ]
    },
    {
      "cell_type": "code",
      "metadata": {
        "id": "wqu8bmLWTDSy"
      },
      "source": [
        "tokenizer = tfds.deprecated.text.SubwordTextEncoder.build_from_corpus(\n",
        "    X,target_vocab_size = 2**16\n",
        ")"
      ],
      "execution_count": 24,
      "outputs": []
    },
    {
      "cell_type": "code",
      "metadata": {
        "id": "vhAV5XJtiVBi"
      },
      "source": [
        "tokenizer.save_to_file(\"hello\")"
      ],
      "execution_count": 25,
      "outputs": []
    },
    {
      "cell_type": "code",
      "metadata": {
        "id": "zpmCsLh0c9fL"
      },
      "source": [
        "data_input = [tokenizer.encode(sentences) for sentences in X]"
      ],
      "execution_count": 26,
      "outputs": []
    },
    {
      "cell_type": "code",
      "metadata": {
        "id": "lS9u-PCYdKhX"
      },
      "source": [
        "Max_len = max([len(u) for u in data_input])\n",
        "data_inputs = tf.keras.preprocessing.sequence.pad_sequences(\n",
        "    data_input,\n",
        "            value = 0,\n",
        "            padding = \"post\",\n",
        "            maxlen = Max_len\n",
        ")\n"
      ],
      "execution_count": 27,
      "outputs": []
    },
    {
      "cell_type": "code",
      "metadata": {
        "colab": {
          "base_uri": "https://localhost:8080/"
        },
        "id": "61zycDSuJij4",
        "outputId": "80147c4d-7dbf-49cb-a6d8-451ea33a537d"
      },
      "source": [
        "Max_len"
      ],
      "execution_count": 28,
      "outputs": [
        {
          "output_type": "execute_result",
          "data": {
            "text/plain": [
              "8"
            ]
          },
          "metadata": {
            "tags": []
          },
          "execution_count": 28
        }
      ]
    },
    {
      "cell_type": "code",
      "metadata": {
        "colab": {
          "base_uri": "https://localhost:8080/"
        },
        "id": "_FwvjEy-dfOp",
        "outputId": "07aea4e2-e58a-495c-e3f9-7da837fa19c6"
      },
      "source": [
        "data_inputs[0]"
      ],
      "execution_count": 29,
      "outputs": [
        {
          "output_type": "execute_result",
          "data": {
            "text/plain": [
              "array([15374,     0,     0,     0,     0,     0,     0,     0],\n",
              "      dtype=int32)"
            ]
          },
          "metadata": {
            "tags": []
          },
          "execution_count": 29
        }
      ]
    },
    {
      "cell_type": "code",
      "metadata": {
        "id": "ufH2F2YNeAV0"
      },
      "source": [
        "from sklearn.model_selection import train_test_split\n",
        "x_train,x_test,y_train,y_test = train_test_split(data_inputs,y,test_size = 0.30,random_state = 0)"
      ],
      "execution_count": 30,
      "outputs": []
    },
    {
      "cell_type": "code",
      "metadata": {
        "colab": {
          "base_uri": "https://localhost:8080/"
        },
        "id": "TC24EFxseD91",
        "outputId": "10027301-b551-4d02-c69e-27677039f297"
      },
      "source": [
        "x_train.shape"
      ],
      "execution_count": 31,
      "outputs": [
        {
          "output_type": "execute_result",
          "data": {
            "text/plain": [
              "(70017, 8)"
            ]
          },
          "metadata": {
            "tags": []
          },
          "execution_count": 31
        }
      ]
    },
    {
      "cell_type": "code",
      "metadata": {
        "id": "uuDw7w5jeeRd"
      },
      "source": [
        "class DeepCNN(tf.keras.Model):\n",
        "    def __init__(self,\n",
        "                 vocab_size,\n",
        "                 emb_dim = 128,\n",
        "                 nb_filter = 50,\n",
        "                 FNN_units = 512,\n",
        "                 nb_classes = 2,\n",
        "                 dropout_rate  = 0.1,\n",
        "                 training = False,\n",
        "                 name = 'deep_cnn'\n",
        "                ):\n",
        "        super(DeepCNN,self).__init__(name = name)\n",
        "        \n",
        "        self.embedding = tf.keras.layers.Embedding(vocab_size,emb_dim)\n",
        "        #define three layers of filters\n",
        "        self.bigram = tf.keras.layers.Conv1D(filters = nb_filter,\n",
        "                                             kernel_size = 2,\n",
        "                                             padding = \"valid\",\n",
        "                                             activation = 'relu'\n",
        "                                             )\n",
        "        self.pool_1= tf.keras.layers.GlobalMaxPool1D() \n",
        "\n",
        "        self.trigram = tf.keras.layers.Conv1D(filters = nb_filter,\n",
        "                                              kernel_size = 3,\n",
        "                                             padding = \"valid\",\n",
        "                                             activation = 'relu'\n",
        "                                             )\n",
        "        self.pool_2= tf.keras.layers.GlobalMaxPool1D() \n",
        "\n",
        "        self.fourgram = tf.keras.layers.Conv1D(filters = nb_filter,\n",
        "                                               kernel_size = 4,\n",
        "                                             padding = \"valid\",\n",
        "                                             activation = 'relu'\n",
        "                                             )\n",
        "        self.pool_3= tf.keras.layers.GlobalMaxPool1D() \n",
        "\n",
        "        self.dense_1 = tf.keras.layers.Dense(units = FNN_units,\n",
        "                                             activation='relu')\n",
        "        \n",
        "        self.dropout = tf.keras.layers.Dropout(dropout_rate)\n",
        "\n",
        "        self.last_dense = tf.keras.layers.Dense(units = 1,\n",
        "                                                activation='sigmoid')\n",
        "\n",
        "    def call(self,inputs,training):\n",
        "      x = self.embedding(inputs)\n",
        "      x_1 = self.bigram(x)\n",
        "      x_1 = self.pool_1(x_1)\n",
        "\n",
        "      x_2 = self.trigram(x)\n",
        "      x_2 = self.pool_1(x_2)\n",
        "\n",
        "      x_3 = self.fourgram(x)\n",
        "      x_3 = self.pool_1(x_3)\n",
        "\n",
        "\n",
        "      merged = tf.concat([x_1,x_2,x_3],axis = -1)\n",
        "      merged = self.dense_1(merged)\n",
        "      merged = self.dropout(merged,training)\n",
        "\n",
        "      output = self.last_dense(merged)\n",
        "\n",
        "      return output"
      ],
      "execution_count": 32,
      "outputs": []
    },
    {
      "cell_type": "code",
      "metadata": {
        "id": "wISes_0zoEqa"
      },
      "source": [
        "VOCAB_SIZE = tokenizer.vocab_size\n",
        "EMB_DIM = 200\n",
        "FILTERS = 100\n",
        "FNN_UNITS = 256\n",
        "BATCH_SIZE = 32\n",
        "DROPOUT_RATE = 0.2\n",
        "EPOCHS = 3\n",
        "NB_CLASSES = 2"
      ],
      "execution_count": 33,
      "outputs": []
    },
    {
      "cell_type": "code",
      "metadata": {
        "id": "pXEUPhdgpfla"
      },
      "source": [
        "cnn = DeepCNN(vocab_size=VOCAB_SIZE,\n",
        "              FNN_units=FNN_UNITS,\n",
        "              emb_dim=EMB_DIM,\n",
        "              nb_filter=FILTERS,\n",
        "              nb_classes = NB_CLASSES,\n",
        "              dropout_rate=DROPOUT_RATE\n",
        "              )"
      ],
      "execution_count": 34,
      "outputs": []
    },
    {
      "cell_type": "code",
      "metadata": {
        "id": "uZ39ZhJPpoNh"
      },
      "source": [
        "cnn.compile(optimizer='adam',\n",
        "            loss='binary_crossentropy',\n",
        "            metrics=['accuracy'])"
      ],
      "execution_count": 35,
      "outputs": []
    },
    {
      "cell_type": "code",
      "metadata": {
        "colab": {
          "base_uri": "https://localhost:8080/"
        },
        "id": "fWPGGl3cqmYE",
        "outputId": "dd446bef-9f00-41ca-ae4e-46ce26f9c800"
      },
      "source": [
        "cnn.fit(x_train,\n",
        "        y_train,\n",
        "        batch_size=BATCH_SIZE,\n",
        "        epochs=EPOCHS)"
      ],
      "execution_count": 36,
      "outputs": [
        {
          "output_type": "stream",
          "text": [
            "Epoch 1/3\n",
            "2189/2189 [==============================] - 216s 85ms/step - loss: 0.4986 - accuracy: 0.7324\n",
            "Epoch 2/3\n",
            "2189/2189 [==============================] - 186s 85ms/step - loss: 0.1701 - accuracy: 0.9363\n",
            "Epoch 3/3\n",
            "2189/2189 [==============================] - 185s 85ms/step - loss: 0.0572 - accuracy: 0.9775\n"
          ],
          "name": "stdout"
        },
        {
          "output_type": "execute_result",
          "data": {
            "text/plain": [
              "<tensorflow.python.keras.callbacks.History at 0x7f831b024d90>"
            ]
          },
          "metadata": {
            "tags": []
          },
          "execution_count": 36
        }
      ]
    },
    {
      "cell_type": "code",
      "metadata": {
        "colab": {
          "base_uri": "https://localhost:8080/"
        },
        "id": "88QGsQIJyHvK",
        "outputId": "42d90411-b101-4f4a-8a45-724adb2c1eb4"
      },
      "source": [
        "result = cnn.evaluate(x_test,y_test,batch_size=BATCH_SIZE)\n",
        "print(result)"
      ],
      "execution_count": 37,
      "outputs": [
        {
          "output_type": "stream",
          "text": [
            "938/938 [==============================] - 3s 3ms/step - loss: 0.6456 - accuracy: 0.7816\n",
            "[0.6455623507499695, 0.7815582752227783]\n"
          ],
          "name": "stdout"
        }
      ]
    },
    {
      "cell_type": "code",
      "metadata": {
        "id": "BFsmMwyJF8_X"
      },
      "source": [
        "def rXX(ss):\n",
        "  if ss > 0.8:\n",
        "    return 1\n",
        "  else:\n",
        "    return 0"
      ],
      "execution_count": 38,
      "outputs": []
    },
    {
      "cell_type": "code",
      "metadata": {
        "colab": {
          "base_uri": "https://localhost:8080/"
        },
        "id": "LrtlsnukCnX-",
        "outputId": "535a42a8-2436-46e9-a3b5-463f740d5eca"
      },
      "source": [
        "inputText = \"Steve jobs\"\n",
        "text = inputText[:8]\n",
        "f = np.array([tokenizer.encode(text)])\n",
        "l = [0 for i in range(8)]\n",
        "for i in range(len(f[0])):\n",
        "  l[i] = f[0][i]\n",
        "\n",
        "fgg = np.array([l])\n",
        "fgg\n",
        "ta = cnn(fgg, training=False).numpy()[0][0]\n",
        "rXX(ta)"
      ],
      "execution_count": 39,
      "outputs": [
        {
          "output_type": "execute_result",
          "data": {
            "text/plain": [
              "1"
            ]
          },
          "metadata": {
            "tags": []
          },
          "execution_count": 39
        }
      ]
    },
    {
      "cell_type": "code",
      "metadata": {
        "id": "bHgPKdpNiwt4"
      },
      "source": [
        ""
      ],
      "execution_count": 40,
      "outputs": []
    },
    {
      "cell_type": "code",
      "metadata": {
        "id": "HTOy1tW9luIB"
      },
      "source": [
        "converter = tf.lite.TFLiteConverter.from_keras_model(cnn)"
      ],
      "execution_count": 44,
      "outputs": []
    },
    {
      "cell_type": "code",
      "metadata": {
        "colab": {
          "base_uri": "https://localhost:8080/"
        },
        "id": "lUnSPQsgiy0L",
        "outputId": "7aa5e0b1-6d11-4203-acac-2819c93402b1"
      },
      "source": [
        "tf_lite_model = converter.convert()"
      ],
      "execution_count": 45,
      "outputs": [
        {
          "output_type": "stream",
          "text": [
            "WARNING:tensorflow:Skipping full serialization of Keras layer <tensorflow.python.keras.layers.pooling.GlobalMaxPooling1D object at 0x7f831abd0710>, because it is not built.\n"
          ],
          "name": "stdout"
        },
        {
          "output_type": "stream",
          "text": [
            "WARNING:tensorflow:Skipping full serialization of Keras layer <tensorflow.python.keras.layers.pooling.GlobalMaxPooling1D object at 0x7f831abd0710>, because it is not built.\n"
          ],
          "name": "stderr"
        },
        {
          "output_type": "stream",
          "text": [
            "WARNING:tensorflow:Skipping full serialization of Keras layer <tensorflow.python.keras.layers.pooling.GlobalMaxPooling1D object at 0x7f831b2fc9d0>, because it is not built.\n"
          ],
          "name": "stdout"
        },
        {
          "output_type": "stream",
          "text": [
            "WARNING:tensorflow:Skipping full serialization of Keras layer <tensorflow.python.keras.layers.pooling.GlobalMaxPooling1D object at 0x7f831b2fc9d0>, because it is not built.\n"
          ],
          "name": "stderr"
        },
        {
          "output_type": "stream",
          "text": [
            "INFO:tensorflow:Assets written to: /tmp/tmpyn2gfiwy/assets\n"
          ],
          "name": "stdout"
        },
        {
          "output_type": "stream",
          "text": [
            "INFO:tensorflow:Assets written to: /tmp/tmpyn2gfiwy/assets\n"
          ],
          "name": "stderr"
        }
      ]
    },
    {
      "cell_type": "code",
      "metadata": {
        "id": "yOiTshGsl-pd"
      },
      "source": [
        "\n",
        "with open(\"genderandName.tflite\",\"wb\") as f:\n",
        "  f.write(tf_lite_model)"
      ],
      "execution_count": 46,
      "outputs": []
    }
  ]
}