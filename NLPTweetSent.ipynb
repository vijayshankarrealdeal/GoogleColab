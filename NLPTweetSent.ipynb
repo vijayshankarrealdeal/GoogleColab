{
 "metadata": {
  "language_info": {
   "codemirror_mode": {
    "name": "ipython",
    "version": 3
   },
   "file_extension": ".py",
   "mimetype": "text/x-python",
   "name": "python",
   "nbconvert_exporter": "python",
   "pygments_lexer": "ipython3",
   "version": "3.8.5"
  },
  "orig_nbformat": 2,
  "kernelspec": {
   "name": "python385jvsc74a57bd0b29899aa62f2b30ec2742237071653659f4b39358391c93d67545d4ce7dab313",
   "display_name": "Python 3.8.5 64-bit ('tf-gpu': conda)"
  }
 },
 "nbformat": 4,
 "nbformat_minor": 2,
 "cells": [
  {
   "cell_type": "code",
   "execution_count": 2,
   "metadata": {},
   "outputs": [],
   "source": [
    "import pandas as pd\n",
    "import numpy as np"
   ]
  },
  {
   "cell_type": "code",
   "execution_count": 4,
   "metadata": {},
   "outputs": [],
   "source": [
    "dataset_train = pd.read_csv('Datasets/training.1600000.processed.noemoticon.csv')\n",
    "dataset_test = pd.read_csv(\"Datasets/testdata.manual.2009.06.14.csv\")"
   ]
  },
  {
   "cell_type": "code",
   "execution_count": 6,
   "metadata": {},
   "outputs": [
    {
     "output_type": "execute_result",
     "data": {
      "text/plain": [
       "         0  1467810369  Mon Apr 06 22:19:45 PDT 2009  NO_QUERY  \\\n",
       "1599979  4  2193578679  Tue Jun 16 08:38:56 PDT 2009  NO_QUERY   \n",
       "1599980  4  2193578716  Tue Jun 16 08:38:57 PDT 2009  NO_QUERY   \n",
       "1599981  4  2193578739  Tue Jun 16 08:38:57 PDT 2009  NO_QUERY   \n",
       "1599982  4  2193578758  Tue Jun 16 08:38:57 PDT 2009  NO_QUERY   \n",
       "1599983  4  2193578847  Tue Jun 16 08:38:57 PDT 2009  NO_QUERY   \n",
       "1599984  4  2193578982  Tue Jun 16 08:38:58 PDT 2009  NO_QUERY   \n",
       "1599985  4  2193579087  Tue Jun 16 08:38:58 PDT 2009  NO_QUERY   \n",
       "1599986  4  2193579092  Tue Jun 16 08:38:58 PDT 2009  NO_QUERY   \n",
       "1599987  4  2193579191  Tue Jun 16 08:38:59 PDT 2009  NO_QUERY   \n",
       "1599988  4  2193579211  Tue Jun 16 08:38:59 PDT 2009  NO_QUERY   \n",
       "1599989  4  2193579249  Tue Jun 16 08:38:59 PDT 2009  NO_QUERY   \n",
       "1599990  4  2193579284  Tue Jun 16 08:38:59 PDT 2009  NO_QUERY   \n",
       "1599991  4  2193579434  Tue Jun 16 08:39:00 PDT 2009  NO_QUERY   \n",
       "1599992  4  2193579477  Tue Jun 16 08:39:00 PDT 2009  NO_QUERY   \n",
       "1599993  4  2193579489  Tue Jun 16 08:39:00 PDT 2009  NO_QUERY   \n",
       "1599994  4  2193601966  Tue Jun 16 08:40:49 PDT 2009  NO_QUERY   \n",
       "1599995  4  2193601969  Tue Jun 16 08:40:49 PDT 2009  NO_QUERY   \n",
       "1599996  4  2193601991  Tue Jun 16 08:40:49 PDT 2009  NO_QUERY   \n",
       "1599997  4  2193602064  Tue Jun 16 08:40:49 PDT 2009  NO_QUERY   \n",
       "1599998  4  2193602129  Tue Jun 16 08:40:50 PDT 2009  NO_QUERY   \n",
       "\n",
       "         _TheSpecialOne_  \\\n",
       "1599979        puchal_ek   \n",
       "1599980    youtubelatest   \n",
       "1599981  Mandi_Davenport   \n",
       "1599982         xoAurixo   \n",
       "1599983       RobFoxKerr   \n",
       "1599984         LISKFEST   \n",
       "1599985          marhgil   \n",
       "1599986        cathriiin   \n",
       "1599987          tellman   \n",
       "1599988        jazzstixx   \n",
       "1599989    razzberry5594   \n",
       "1599990        AgustinaP   \n",
       "1599991    sdancingsteph   \n",
       "1599992      ChloeAmisha   \n",
       "1599993        EvolveTom   \n",
       "1599994  AmandaMarie1028   \n",
       "1599995      TheWDBoards   \n",
       "1599996           bpbabe   \n",
       "1599997     tinydiamondz   \n",
       "1599998   RyanTrevMorris   \n",
       "\n",
       "        @switchfoot http://twitpic.com/2y1zl - Awww, that's a bummer.  You shoulda got David Carr of Third Day to do it. ;D  \n",
       "1599979  @myheartandmind jo jen by nemuselo zrovna té h...                                                                   \n",
       "1599980  Another Commenting Contest! [;: Yay!!!  http:/...                                                                   \n",
       "1599981  @thrillmesoon i figured out how to see my twee...                                                                   \n",
       "1599982  @oxhot theri tomorrow, drinking coffee, talkin...                                                                   \n",
       "1599983  You heard it here first -- We're having a girl...                                                                   \n",
       "1599984  if ur the lead singer in a band, beware fallin...                                                                   \n",
       "1599985              @tarayqueen too much ads on my blog.                                                                    \n",
       "1599986  @La_r_a NEVEER  I think that you both will get...                                                                   \n",
       "1599987  @Roy_Everitt ha- good job. that's right - we g...                                                                   \n",
       "1599988                 @Ms_Hip_Hop im glad ur doing well                                                                    \n",
       "1599989                              WOOOOO! Xbox is back                                                                    \n",
       "1599990  @rmedina @LaTati Mmmm  That sounds absolutely ...                                                                   \n",
       "1599991                  ReCoVeRiNg FrOm ThE lOnG wEeKeNd                                                                    \n",
       "1599992                                  @SCOOBY_GRITBOYS                                                                    \n",
       "1599993  @Cliff_Forster Yeah, that does work better tha...                                                                   \n",
       "1599994  Just woke up. Having no school is the best fee...                                                                   \n",
       "1599995  TheWDB.com - Very cool to hear old Walt interv...                                                                   \n",
       "1599996  Are you ready for your MoJo Makeover? Ask me f...                                                                   \n",
       "1599997  Happy 38th Birthday to my boo of alll time!!! ...                                                                   \n",
       "1599998  happy #charitytuesday @theNSPCC @SparksCharity...                                                                   "
      ],
      "text/html": "<div>\n<style scoped>\n    .dataframe tbody tr th:only-of-type {\n        vertical-align: middle;\n    }\n\n    .dataframe tbody tr th {\n        vertical-align: top;\n    }\n\n    .dataframe thead th {\n        text-align: right;\n    }\n</style>\n<table border=\"1\" class=\"dataframe\">\n  <thead>\n    <tr style=\"text-align: right;\">\n      <th></th>\n      <th>0</th>\n      <th>1467810369</th>\n      <th>Mon Apr 06 22:19:45 PDT 2009</th>\n      <th>NO_QUERY</th>\n      <th>_TheSpecialOne_</th>\n      <th>@switchfoot http://twitpic.com/2y1zl - Awww, that's a bummer.  You shoulda got David Carr of Third Day to do it. ;D</th>\n    </tr>\n  </thead>\n  <tbody>\n    <tr>\n      <th>1599979</th>\n      <td>4</td>\n      <td>2193578679</td>\n      <td>Tue Jun 16 08:38:56 PDT 2009</td>\n      <td>NO_QUERY</td>\n      <td>puchal_ek</td>\n      <td>@myheartandmind jo jen by nemuselo zrovna té h...</td>\n    </tr>\n    <tr>\n      <th>1599980</th>\n      <td>4</td>\n      <td>2193578716</td>\n      <td>Tue Jun 16 08:38:57 PDT 2009</td>\n      <td>NO_QUERY</td>\n      <td>youtubelatest</td>\n      <td>Another Commenting Contest! [;: Yay!!!  http:/...</td>\n    </tr>\n    <tr>\n      <th>1599981</th>\n      <td>4</td>\n      <td>2193578739</td>\n      <td>Tue Jun 16 08:38:57 PDT 2009</td>\n      <td>NO_QUERY</td>\n      <td>Mandi_Davenport</td>\n      <td>@thrillmesoon i figured out how to see my twee...</td>\n    </tr>\n    <tr>\n      <th>1599982</th>\n      <td>4</td>\n      <td>2193578758</td>\n      <td>Tue Jun 16 08:38:57 PDT 2009</td>\n      <td>NO_QUERY</td>\n      <td>xoAurixo</td>\n      <td>@oxhot theri tomorrow, drinking coffee, talkin...</td>\n    </tr>\n    <tr>\n      <th>1599983</th>\n      <td>4</td>\n      <td>2193578847</td>\n      <td>Tue Jun 16 08:38:57 PDT 2009</td>\n      <td>NO_QUERY</td>\n      <td>RobFoxKerr</td>\n      <td>You heard it here first -- We're having a girl...</td>\n    </tr>\n    <tr>\n      <th>1599984</th>\n      <td>4</td>\n      <td>2193578982</td>\n      <td>Tue Jun 16 08:38:58 PDT 2009</td>\n      <td>NO_QUERY</td>\n      <td>LISKFEST</td>\n      <td>if ur the lead singer in a band, beware fallin...</td>\n    </tr>\n    <tr>\n      <th>1599985</th>\n      <td>4</td>\n      <td>2193579087</td>\n      <td>Tue Jun 16 08:38:58 PDT 2009</td>\n      <td>NO_QUERY</td>\n      <td>marhgil</td>\n      <td>@tarayqueen too much ads on my blog.</td>\n    </tr>\n    <tr>\n      <th>1599986</th>\n      <td>4</td>\n      <td>2193579092</td>\n      <td>Tue Jun 16 08:38:58 PDT 2009</td>\n      <td>NO_QUERY</td>\n      <td>cathriiin</td>\n      <td>@La_r_a NEVEER  I think that you both will get...</td>\n    </tr>\n    <tr>\n      <th>1599987</th>\n      <td>4</td>\n      <td>2193579191</td>\n      <td>Tue Jun 16 08:38:59 PDT 2009</td>\n      <td>NO_QUERY</td>\n      <td>tellman</td>\n      <td>@Roy_Everitt ha- good job. that's right - we g...</td>\n    </tr>\n    <tr>\n      <th>1599988</th>\n      <td>4</td>\n      <td>2193579211</td>\n      <td>Tue Jun 16 08:38:59 PDT 2009</td>\n      <td>NO_QUERY</td>\n      <td>jazzstixx</td>\n      <td>@Ms_Hip_Hop im glad ur doing well</td>\n    </tr>\n    <tr>\n      <th>1599989</th>\n      <td>4</td>\n      <td>2193579249</td>\n      <td>Tue Jun 16 08:38:59 PDT 2009</td>\n      <td>NO_QUERY</td>\n      <td>razzberry5594</td>\n      <td>WOOOOO! Xbox is back</td>\n    </tr>\n    <tr>\n      <th>1599990</th>\n      <td>4</td>\n      <td>2193579284</td>\n      <td>Tue Jun 16 08:38:59 PDT 2009</td>\n      <td>NO_QUERY</td>\n      <td>AgustinaP</td>\n      <td>@rmedina @LaTati Mmmm  That sounds absolutely ...</td>\n    </tr>\n    <tr>\n      <th>1599991</th>\n      <td>4</td>\n      <td>2193579434</td>\n      <td>Tue Jun 16 08:39:00 PDT 2009</td>\n      <td>NO_QUERY</td>\n      <td>sdancingsteph</td>\n      <td>ReCoVeRiNg FrOm ThE lOnG wEeKeNd</td>\n    </tr>\n    <tr>\n      <th>1599992</th>\n      <td>4</td>\n      <td>2193579477</td>\n      <td>Tue Jun 16 08:39:00 PDT 2009</td>\n      <td>NO_QUERY</td>\n      <td>ChloeAmisha</td>\n      <td>@SCOOBY_GRITBOYS</td>\n    </tr>\n    <tr>\n      <th>1599993</th>\n      <td>4</td>\n      <td>2193579489</td>\n      <td>Tue Jun 16 08:39:00 PDT 2009</td>\n      <td>NO_QUERY</td>\n      <td>EvolveTom</td>\n      <td>@Cliff_Forster Yeah, that does work better tha...</td>\n    </tr>\n    <tr>\n      <th>1599994</th>\n      <td>4</td>\n      <td>2193601966</td>\n      <td>Tue Jun 16 08:40:49 PDT 2009</td>\n      <td>NO_QUERY</td>\n      <td>AmandaMarie1028</td>\n      <td>Just woke up. Having no school is the best fee...</td>\n    </tr>\n    <tr>\n      <th>1599995</th>\n      <td>4</td>\n      <td>2193601969</td>\n      <td>Tue Jun 16 08:40:49 PDT 2009</td>\n      <td>NO_QUERY</td>\n      <td>TheWDBoards</td>\n      <td>TheWDB.com - Very cool to hear old Walt interv...</td>\n    </tr>\n    <tr>\n      <th>1599996</th>\n      <td>4</td>\n      <td>2193601991</td>\n      <td>Tue Jun 16 08:40:49 PDT 2009</td>\n      <td>NO_QUERY</td>\n      <td>bpbabe</td>\n      <td>Are you ready for your MoJo Makeover? Ask me f...</td>\n    </tr>\n    <tr>\n      <th>1599997</th>\n      <td>4</td>\n      <td>2193602064</td>\n      <td>Tue Jun 16 08:40:49 PDT 2009</td>\n      <td>NO_QUERY</td>\n      <td>tinydiamondz</td>\n      <td>Happy 38th Birthday to my boo of alll time!!! ...</td>\n    </tr>\n    <tr>\n      <th>1599998</th>\n      <td>4</td>\n      <td>2193602129</td>\n      <td>Tue Jun 16 08:40:50 PDT 2009</td>\n      <td>NO_QUERY</td>\n      <td>RyanTrevMorris</td>\n      <td>happy #charitytuesday @theNSPCC @SparksCharity...</td>\n    </tr>\n  </tbody>\n</table>\n</div>"
     },
     "metadata": {},
     "execution_count": 6
    }
   ],
   "source": [
    "dataset_train.tail(20)\r\n"
   ]
  }
 ]
}