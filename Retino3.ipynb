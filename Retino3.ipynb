{
  "nbformat": 4,
  "nbformat_minor": 0,
  "metadata": {
    "accelerator": "GPU",
    "colab": {
      "name": "Retino3.ipynb",
      "provenance": [],
      "mount_file_id": "1Ea0PXKO6RETd4uZ4tkoHpS-sGn0Eg7AG",
      "authorship_tag": "ABX9TyMthvA4tG5nYYxU5elZLou4",
      "include_colab_link": true
    },
    "kernelspec": {
      "display_name": "Python 3",
      "name": "python3"
    },
    "language_info": {
      "name": "python"
    }
  },
  "cells": [
    {
      "cell_type": "markdown",
      "metadata": {
        "id": "view-in-github",
        "colab_type": "text"
      },
      "source": [
        "<a href=\"https://colab.research.google.com/github/vijayshankarrealdeal/GoogleColab/blob/main/Retino3.ipynb\" target=\"_parent\"><img src=\"https://colab.research.google.com/assets/colab-badge.svg\" alt=\"Open In Colab\"/></a>"
      ]
    },
    {
      "cell_type": "code",
      "metadata": {
        "colab": {
          "base_uri": "https://localhost:8080/"
        },
        "id": "Zx_DKZO3dwpN",
        "outputId": "19495faf-f045-4d55-d8c7-4a38ba18be79"
      },
      "source": [
        "!pip install -U -q kaggle==1.5.8"
      ],
      "execution_count": 3,
      "outputs": [
        {
          "output_type": "stream",
          "name": "stdout",
          "text": [
            "\u001b[?25l\r\u001b[K     |█████▌                          | 10 kB 25.0 MB/s eta 0:00:01\r\u001b[K     |███████████                     | 20 kB 27.0 MB/s eta 0:00:01\r\u001b[K     |████████████████▋               | 30 kB 22.1 MB/s eta 0:00:01\r\u001b[K     |██████████████████████▏         | 40 kB 17.5 MB/s eta 0:00:01\r\u001b[K     |███████████████████████████▊    | 51 kB 14.4 MB/s eta 0:00:01\r\u001b[K     |████████████████████████████████| 59 kB 4.3 MB/s \n",
            "\u001b[?25h  Building wheel for kaggle (setup.py) ... \u001b[?25l\u001b[?25hdone\n",
            "  Building wheel for slugify (setup.py) ... \u001b[?25l\u001b[?25hdone\n"
          ]
        }
      ]
    },
    {
      "cell_type": "code",
      "metadata": {
        "id": "kDVJV9R4SlEA",
        "colab": {
          "base_uri": "https://localhost:8080/"
        },
        "outputId": "e0cbb841-2b9a-4cd5-e418-ba9209a40b21"
      },
      "source": [
        "! mkdir ~/.kaggle\n",
        "! cp kaggle.json ~/.kaggle/\n",
        "! chmod 600 ~/.kaggle/kaggle.json"
      ],
      "execution_count": 4,
      "outputs": [
        {
          "output_type": "stream",
          "name": "stdout",
          "text": [
            "mkdir: cannot create directory ‘/root/.kaggle’: File exists\n"
          ]
        }
      ]
    },
    {
      "cell_type": "code",
      "metadata": {
        "colab": {
          "base_uri": "https://localhost:8080/"
        },
        "id": "EOz5AbhBS3AS",
        "outputId": "dda9ad5e-a8cf-4b89-f8d8-2a6d6b546c7b"
      },
      "source": [
        "!kaggle competitions download -c aptos2019-blindness-detection"
      ],
      "execution_count": 5,
      "outputs": [
        {
          "output_type": "stream",
          "name": "stdout",
          "text": [
            "Downloading aptos2019-blindness-detection.zip to /content\n",
            "100% 9.51G/9.51G [03:23<00:00, 93.4MB/s]\n",
            "100% 9.51G/9.51G [03:23<00:00, 50.1MB/s]\n"
          ]
        }
      ]
    },
    {
      "cell_type": "code",
      "metadata": {
        "id": "6r4B1X3AT1Hz"
      },
      "source": [
        "!unzip '/content/aptos2019-blindness-detection.zip'  -d '/content/data/'"
      ],
      "execution_count": null,
      "outputs": []
    },
    {
      "cell_type": "code",
      "metadata": {
        "id": "127uJhSVclq8"
      },
      "source": [
        "import os\n",
        "os.remove(\"/content/aptos2019-blindness-detection.zip\")"
      ],
      "execution_count": 7,
      "outputs": []
    },
    {
      "cell_type": "code",
      "metadata": {
        "colab": {
          "base_uri": "https://localhost:8080/",
          "height": 35
        },
        "id": "BPyIOXnTf48K",
        "outputId": "fbfba424-3b04-487d-c185-4a994e6a74b0"
      },
      "source": [
        "from shutil import copy\n",
        "copy('/content/drive/MyDrive/Weight Incepv3/inception_v3_weights_tf_dim_ordering_tf_kernels_notop.h5', '/content/data/')"
      ],
      "execution_count": 20,
      "outputs": [
        {
          "output_type": "execute_result",
          "data": {
            "application/vnd.google.colaboratory.intrinsic+json": {
              "type": "string"
            },
            "text/plain": [
              "'/content/data/inception_v3_weights_tf_dim_ordering_tf_kernels_notop.h5'"
            ]
          },
          "metadata": {},
          "execution_count": 20
        }
      ]
    },
    {
      "cell_type": "code",
      "metadata": {
        "id": "yNwMR228gIwu"
      },
      "source": [
        "import numpy as np\n",
        "import pandas as pd\n",
        "import tensorflow as tf\n",
        "from sklearn.model_selection import train_test_split\n",
        "from tqdm import tqdm\n",
        "import math\n",
        "import matplotlib.pyplot as plt"
      ],
      "execution_count": 68,
      "outputs": []
    },
    {
      "cell_type": "code",
      "metadata": {
        "colab": {
          "base_uri": "https://localhost:8080/"
        },
        "id": "ZNuaqEsbg7kY",
        "outputId": "12a90440-6229-461f-9d20-5a114cd3ca5b"
      },
      "source": [
        "print(os.listdir('/content/data'))"
      ],
      "execution_count": 9,
      "outputs": [
        {
          "output_type": "stream",
          "name": "stdout",
          "text": [
            "['test.csv', 'test_images', 'sample_submission.csv', 'train_images', 'train.csv']\n"
          ]
        }
      ]
    },
    {
      "cell_type": "code",
      "metadata": {
        "id": "CtPc0gj6g-w5"
      },
      "source": [
        "dir = '/content/data'\n",
        "IMG_DIM = 299\n",
        "BATCH_SIZE = 8\n",
        "CHANNEL_SIZE = 3\n",
        "NUM_EPOCHS = 60\n",
        "TRAIN_DIR = 'train_images'\n",
        "TEST_DIR = 'test_images'\n",
        "FREEZE_LAYERS = 2\n",
        "CLASSS = {0: \"No DR\", 1: \"Mild\", 2: \"Moderate\", 3: \"Severe\", 4: \"Proliferative DR\"}\n",
        "NUM_CLASSS = 5"
      ],
      "execution_count": 10,
      "outputs": []
    },
    {
      "cell_type": "code",
      "metadata": {
        "id": "XfjzJtyshPF0"
      },
      "source": [
        "ROOT_PATH = '/content/data'\n",
        "TRAIN_PATH = '/content/data/' + TRAIN_DIR \n",
        "TEST_PATH = '/content/data/' + TEST_DIR \n",
        "dir_path = ROOT_PATH + '/'"
      ],
      "execution_count": 11,
      "outputs": []
    },
    {
      "cell_type": "code",
      "metadata": {
        "id": "mkMKRmU0hU6c"
      },
      "source": [
        "df_train = pd.read_csv(ROOT_PATH + '/train.csv')\n",
        "df_test = pd.read_csv(ROOT_PATH + '/test.csv')"
      ],
      "execution_count": 14,
      "outputs": []
    },
    {
      "cell_type": "code",
      "metadata": {
        "id": "AxQOZLkZhvYk"
      },
      "source": [
        "x_train, x_test, y_train, y_test = train_test_split(df_train.id_code, df_train.diagnosis, test_size=0.2,\n",
        "                                                    random_state=0,)"
      ],
      "execution_count": 16,
      "outputs": []
    },
    {
      "cell_type": "code",
      "metadata": {
        "id": "HtYlKtL7hyUW"
      },
      "source": [
        "input = tf.keras.layers.Input(shape =(299,299,3))\n",
        "base_model = tf.keras.applications.InceptionV3(weights=None, include_top=False, input_tensor=input)\n",
        "base_model.load_weights('/content/data/inception_v3_weights_tf_dim_ordering_tf_kernels_notop.h5')"
      ],
      "execution_count": 21,
      "outputs": []
    },
    {
      "cell_type": "code",
      "metadata": {
        "id": "E9-4QdZRiph2"
      },
      "source": [
        "x = base_model.output\n",
        "head_model = tf.keras.layers.BatchNormalization()(x)\n",
        "head_model = tf.keras.layers.GlobalAveragePooling2D()(head_model)\n",
        "head_model = tf.keras.layers.Dense(1024,activation = 'relu')(head_model)\n",
        "predictions =  tf.keras.layers.Dense(5, activation='softmax')(head_model)\n",
        "network = tf.keras.Model(inputs = base_model.input,outputs = predictions)"
      ],
      "execution_count": 27,
      "outputs": []
    },
    {
      "cell_type": "code",
      "metadata": {
        "id": "rUjVGYJ6jtUy"
      },
      "source": [
        "for layer in base_model.layers:\n",
        "    layer.trainable = False\n",
        "\n",
        "for layer in network.layers:\n",
        "    layer.trainable = True\n",
        "    \n",
        "print(network.summary())"
      ],
      "execution_count": null,
      "outputs": []
    },
    {
      "cell_type": "code",
      "metadata": {
        "id": "v3vkidO1mNj2"
      },
      "source": [
        "epochs = 25\n",
        "lrate = 0.01\n",
        "decay = lrate/epochs\n",
        "sgd = tf.keras.optimizers.SGD(learning_rate=lrate, momentum=0.9, decay=decay, nesterov=False)\n",
        "network.compile(loss='categorical_crossentropy', optimizer=sgd, metrics=['accuracy'])"
      ],
      "execution_count": 42,
      "outputs": []
    },
    {
      "cell_type": "code",
      "metadata": {
        "id": "Dwo2asMYkCiU"
      },
      "source": [
        "df_train.id_code = df_train.id_code.apply(lambda x : x +'.png')\n",
        "df_test.id_code = df_test.id_code.apply(lambda x : x +'.png')\n",
        "df_train['diagnosis'] = df_train['diagnosis'].astype('str')"
      ],
      "execution_count": 30,
      "outputs": []
    },
    {
      "cell_type": "code",
      "metadata": {
        "id": "yXe1pU1XO7Ad"
      },
      "source": [
        "df_train.head()"
      ],
      "execution_count": null,
      "outputs": []
    },
    {
      "cell_type": "code",
      "metadata": {
        "id": "p6SBgi7NkrGa"
      },
      "source": [
        "train_datagen = tf.keras.preprocessing.image.ImageDataGenerator(rescale=1. / 255,\n",
        "                                         validation_split=0.15,\n",
        "                                         horizontal_flip=True,\n",
        "                                         vertical_flip=True,\n",
        "                                         rotation_range=360,\n",
        "                                         zoom_range=0.2,\n",
        "                                         shear_range=0.1)"
      ],
      "execution_count": 31,
      "outputs": []
    },
    {
      "cell_type": "code",
      "metadata": {
        "colab": {
          "base_uri": "https://localhost:8080/"
        },
        "id": "z--OxNcFkxDE",
        "outputId": "d1f18dc8-088c-4a91-b00d-01fdaabae837"
      },
      "source": [
        "train_genrator = train_datagen.flow_from_dataframe(\n",
        "                                                    dataframe=df_train,\n",
        "                                                    directory= TRAIN_PATH + '/',\n",
        "                                                    x_col='id_code',\n",
        "                                                    y_col='diagnosis',\n",
        "                                                    batch_size=BATCH_SIZE,\n",
        "                                                    class_mode='categorical',\n",
        "                                                    target_size=(IMG_DIM, IMG_DIM),\n",
        "                                                    subset='training',\n",
        "                                                    shaffle=True,\n",
        "                                                    seed=0\n",
        ")\n",
        "valid_generator = train_datagen.flow_from_dataframe(dataframe=df_train,\n",
        "                                                    directory= TRAIN_PATH + '/',\n",
        "                                                    x_col='id_code',\n",
        "                                                    y_col='diagnosis',\n",
        "                                                    batch_size=BATCH_SIZE,\n",
        "                                                    class_mode='categorical',\n",
        "                                                    target_size=(IMG_DIM, IMG_DIM),\n",
        "                                                    subset='validation',\n",
        "                                                    shaffle=True,\n",
        "                                                    seed=42\n",
        "                                                    )"
      ],
      "execution_count": 34,
      "outputs": [
        {
          "output_type": "stream",
          "name": "stdout",
          "text": [
            "Found 3113 validated image filenames belonging to 5 classes.\n",
            "Found 549 validated image filenames belonging to 5 classes.\n"
          ]
        }
      ]
    },
    {
      "cell_type": "code",
      "metadata": {
        "colab": {
          "base_uri": "https://localhost:8080/"
        },
        "id": "PZvGq84Mlc_8",
        "outputId": "3792a0c5-2b0a-4945-e64a-ae9c6aa4ec23"
      },
      "source": [
        "NUB_TRAIN_STEPS = train_genrator.n // train_genrator.batch_size\n",
        "NUB_VALID_STEPS = valid_generator.n // valid_generator.batch_size\n",
        "NUB_TRAIN_STEPS, NUB_VALID_STEPS"
      ],
      "execution_count": 36,
      "outputs": [
        {
          "output_type": "execute_result",
          "data": {
            "text/plain": [
              "(389, 68)"
            ]
          },
          "metadata": {},
          "execution_count": 36
        }
      ]
    },
    {
      "cell_type": "code",
      "metadata": {
        "id": "6ON4jw-hlrLC"
      },
      "source": [
        "eraly_stop = tf.keras.callbacks.EarlyStopping(monitor='val_loss', min_delta=0.0001, patience=3, verbose=1, mode='auto')\n",
        "# Reducing the Learning Rate if result is not improving. \n",
        "reduce_lr = tf.keras.callbacks.ReduceLROnPlateau(monitor='val_loss', min_delta=0.0004, patience=2, factor=0.1, min_lr=1e-6, mode='auto',\n",
        "                              verbose=1)"
      ],
      "execution_count": 37,
      "outputs": []
    },
    {
      "cell_type": "code",
      "metadata": {
        "colab": {
          "base_uri": "https://localhost:8080/"
        },
        "id": "hxDt1LhTl6HU",
        "outputId": "a9baed28-5b28-46ff-a5af-63b784a4bf7b"
      },
      "source": [
        "history = network.fit(train_genrator,\n",
        "                                     steps_per_epoch=NUB_TRAIN_STEPS,\n",
        "                                     validation_data=valid_generator,\n",
        "                                     validation_steps=NUB_VALID_STEPS,\n",
        "                                     epochs=NUM_EPOCHS,\n",
        "                                     #shuffle=True,  \n",
        "                                     callbacks=[eraly_stop, reduce_lr],\n",
        "                                     verbose=1)"
      ],
      "execution_count": 45,
      "outputs": [
        {
          "output_type": "stream",
          "name": "stdout",
          "text": [
            "Epoch 1/60\n",
            "389/389 [==============================] - 598s 2s/step - loss: 1.0675 - accuracy: 0.6409 - val_loss: 0.9176 - val_accuracy: 0.6673\n",
            "Epoch 2/60\n",
            "389/389 [==============================] - 601s 2s/step - loss: 0.7885 - accuracy: 0.7163 - val_loss: 0.7250 - val_accuracy: 0.7188\n",
            "Epoch 3/60\n",
            "389/389 [==============================] - 596s 2s/step - loss: 0.7434 - accuracy: 0.7327 - val_loss: 0.6918 - val_accuracy: 0.7408\n",
            "Epoch 4/60\n",
            "389/389 [==============================] - 594s 2s/step - loss: 0.6775 - accuracy: 0.7491 - val_loss: 0.6295 - val_accuracy: 0.7739\n",
            "Epoch 5/60\n",
            "389/389 [==============================] - 600s 2s/step - loss: 0.6424 - accuracy: 0.7597 - val_loss: 0.6794 - val_accuracy: 0.7555\n",
            "Epoch 6/60\n",
            "389/389 [==============================] - 605s 2s/step - loss: 0.6042 - accuracy: 0.7755 - val_loss: 0.6654 - val_accuracy: 0.7629\n",
            "\n",
            "Epoch 00006: ReduceLROnPlateau reducing learning rate to 0.0009999999776482583.\n",
            "Epoch 7/60\n",
            "389/389 [==============================] - 607s 2s/step - loss: 0.5671 - accuracy: 0.7804 - val_loss: 0.5663 - val_accuracy: 0.7923\n",
            "Epoch 8/60\n",
            "389/389 [==============================] - 610s 2s/step - loss: 0.5374 - accuracy: 0.7916 - val_loss: 0.5566 - val_accuracy: 0.7776\n",
            "Epoch 9/60\n",
            "389/389 [==============================] - 598s 2s/step - loss: 0.5419 - accuracy: 0.7997 - val_loss: 0.5406 - val_accuracy: 0.7849\n",
            "Epoch 10/60\n",
            "389/389 [==============================] - 601s 2s/step - loss: 0.5181 - accuracy: 0.8061 - val_loss: 0.5115 - val_accuracy: 0.7886\n",
            "Epoch 11/60\n",
            "389/389 [==============================] - 600s 2s/step - loss: 0.5059 - accuracy: 0.8081 - val_loss: 0.5274 - val_accuracy: 0.8088\n",
            "Epoch 12/60\n",
            "389/389 [==============================] - 610s 2s/step - loss: 0.4991 - accuracy: 0.8064 - val_loss: 0.5013 - val_accuracy: 0.8180\n",
            "Epoch 13/60\n",
            "389/389 [==============================] - 607s 2s/step - loss: 0.4871 - accuracy: 0.8081 - val_loss: 0.5466 - val_accuracy: 0.7849\n",
            "Epoch 14/60\n",
            "389/389 [==============================] - 610s 2s/step - loss: 0.5018 - accuracy: 0.8045 - val_loss: 0.5223 - val_accuracy: 0.8143\n",
            "\n",
            "Epoch 00014: ReduceLROnPlateau reducing learning rate to 9.999999310821295e-05.\n",
            "Epoch 15/60\n",
            "389/389 [==============================] - 603s 2s/step - loss: 0.4898 - accuracy: 0.8132 - val_loss: 0.5279 - val_accuracy: 0.8033\n",
            "Epoch 00015: early stopping\n"
          ]
        }
      ]
    },
    {
      "cell_type": "code",
      "metadata": {
        "colab": {
          "base_uri": "https://localhost:8080/"
        },
        "id": "wpfxEjyGl_g6",
        "outputId": "b8d477d3-b606-4b0c-925e-5a0fd3597324"
      },
      "source": [
        "(eval_loss, eval_accuracy) = tqdm(network.evaluate(valid_generator, steps=NUB_VALID_STEPS))\n",
        "print(f'\\naccuracy:{eval_accuracy * 100}')\n",
        "print(\"Loss: {}\".format(eval_loss))"
      ],
      "execution_count": 70,
      "outputs": [
        {
          "output_type": "stream",
          "name": "stdout",
          "text": [
            "68/68 [==============================] - 79s 1s/step - loss: 0.5198 - accuracy: 0.8051\n"
          ]
        },
        {
          "output_type": "stream",
          "name": "stderr",
          "text": [
            "100%|██████████| 2/2 [00:00<00:00, 13684.52it/s]"
          ]
        },
        {
          "output_type": "stream",
          "name": "stdout",
          "text": [
            "\n",
            "accuracy:80.51470518112183\n",
            "Loss: 0.5197727084159851\n"
          ]
        },
        {
          "output_type": "stream",
          "name": "stderr",
          "text": [
            "\n"
          ]
        }
      ]
    },
    {
      "cell_type": "code",
      "metadata": {
        "colab": {
          "base_uri": "https://localhost:8080/",
          "height": 281
        },
        "id": "Ct7XqYRmK8UQ",
        "outputId": "7da4e8bb-0724-4c95-e618-fec65225c44f"
      },
      "source": [
        "accu = history.history['accuracy']\n",
        "val_acc = history.history['val_accuracy']\n",
        "plt.plot(accu, label=\"Accuracy\")\n",
        "plt.plot(val_acc)\n",
        "plt.xlabel(\"Epoch\")\n",
        "plt.ylabel(\"Accuracy\")\n",
        "plt.legend(['Acc', 'val_acc'])\n",
        "plt.plot(np.argmax(history.history[\"val_accuracy\"]), np.max(history.history[\"val_accuracy\"]), marker=\"x\", color=\"r\")\n",
        "plt.show()"
      ],
      "execution_count": 71,
      "outputs": [
        {
          "output_type": "display_data",
          "data": {
            "image/png": "[encoded data removed]",
            "text/plain": [
              "<Figure size 432x288 with 1 Axes>"
            ]
          },
          "metadata": {
            "needs_background": "light"
          }
        }
      ]
    },
    {
      "cell_type": "code",
      "metadata": {
        "colab": {
          "base_uri": "https://localhost:8080/"
        },
        "id": "V1qXwdrDLkn4",
        "outputId": "c3e372ce-cdff-44ff-e412-ec7d526f8346"
      },
      "source": [
        "test_datagen = tf.keras.preprocessing.image.ImageDataGenerator(rescale=1. / 255, validation_split=0.2, horizontal_flip=True)\n",
        "\n",
        "test_generator = test_datagen.flow_from_dataframe(dataframe=df_test,\n",
        "                                                  directory= TEST_PATH  + '/',\n",
        "                                                  x_col=\"id_code\",\n",
        "                                                  target_size=(IMG_DIM, IMG_DIM),\n",
        "                                                  batch_size=1,\n",
        "                                                  shuffle=False,\n",
        "                                                  class_mode=None,\n",
        "                                                  seed=0)\n",
        "print(df_test.shape[0])"
      ],
      "execution_count": 72,
      "outputs": [
        {
          "output_type": "stream",
          "name": "stdout",
          "text": [
            "Found 1928 validated image filenames.\n",
            "1928\n"
          ]
        }
      ]
    },
    {
      "cell_type": "code",
      "metadata": {
        "colab": {
          "base_uri": "https://localhost:8080/"
        },
        "id": "qVVkGJWFL5EN",
        "outputId": "b82641d1-720d-493b-cfa4-cf5a3805981c"
      },
      "source": [
        "tta_steps = 5\n",
        "preds_tta = []\n",
        "for i in tqdm(range(tta_steps)):\n",
        "    test_generator.reset()\n",
        "    preds = network.predict(test_generator, steps=math.ceil(df_test.shape[0]))\n",
        "    preds_tta.append(preds)"
      ],
      "execution_count": 78,
      "outputs": [
        {
          "output_type": "stream",
          "name": "stderr",
          "text": [
            "100%|██████████| 5/5 [08:07<00:00, 97.56s/it]\n"
          ]
        }
      ]
    },
    {
      "cell_type": "code",
      "metadata": {
        "colab": {
          "base_uri": "https://localhost:8080/"
        },
        "id": "j9efRAPvOg6y",
        "outputId": "d9745803-cd38-48e0-e29b-e060efbb91b5"
      },
      "source": [
        "final_pred = np.mean(preds_tta, axis=0)\n",
        "predicted_class_indices = np.argmax(final_pred, axis=1)\n",
        "predicted_class_indices"
      ],
      "execution_count": 82,
      "outputs": [
        {
          "output_type": "execute_result",
          "data": {
            "text/plain": [
              "array([2, 2, 4, ..., 2, 3, 2])"
            ]
          },
          "metadata": {},
          "execution_count": 82
        }
      ]
    },
    {
      "cell_type": "code",
      "metadata": {
        "id": "unDSPt6fMH4V"
      },
      "source": [
        "network.save_weights(\"/content/Retinomodel.h5\")"
      ],
      "execution_count": 75,
      "outputs": []
    },
    {
      "cell_type": "code",
      "metadata": {
        "colab": {
          "base_uri": "https://localhost:8080/",
          "height": 35
        },
        "id": "dTIGzZKuN6kN",
        "outputId": "45565e22-7fc0-4ddb-9acb-c314f8e95542"
      },
      "source": [
        "copy('/content/Retinomodel.h5','/content/drive/MyDrive/Weight Incepv3/')"
      ],
      "execution_count": 77,
      "outputs": [
        {
          "output_type": "execute_result",
          "data": {
            "application/vnd.google.colaboratory.intrinsic+json": {
              "type": "string"
            },
            "text/plain": [
              "'/content/drive/MyDrive/Weight Incepv3/Retinomodel.h5'"
            ]
          },
          "metadata": {},
          "execution_count": 77
        }
      ]
    },
    {
      "cell_type": "code",
      "metadata": {
        "id": "lmtheLEEOJd9"
      },
      "source": [
        ""
      ],
      "execution_count": null,
      "outputs": []
    }
  ]
}