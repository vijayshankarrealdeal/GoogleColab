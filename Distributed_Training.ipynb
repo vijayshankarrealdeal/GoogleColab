{
  "nbformat": 4,
  "nbformat_minor": 0,
  "metadata": {
    "colab": {
      "name": "Distributed Training.ipynb",
      "provenance": [],
      "authorship_tag": "ABX9TyN3ICvGAiOj8QX/HX+trK9T",
      "include_colab_link": true
    },
    "kernelspec": {
      "name": "python3",
      "display_name": "Python 3"
    },
    "language_info": {
      "name": "python"
    },
    "accelerator": "GPU"
  },
  "cells": [
    {
      "cell_type": "markdown",
      "metadata": {
        "id": "view-in-github",
        "colab_type": "text"
      },
      "source": [
        "<a href=\"https://colab.research.google.com/github/vijayshankarrealdeal/GoogleColab/blob/main/Distributed_Training.ipynb\" target=\"_parent\"><img src=\"https://colab.research.google.com/assets/colab-badge.svg\" alt=\"Open In Colab\"/></a>"
      ]
    },
    {
      "cell_type": "code",
      "metadata": {
        "colab": {
          "base_uri": "https://localhost:8080/"
        },
        "id": "10NOXtG5n0KP",
        "outputId": "dbfc7bf0-11a0-44f9-bb95-13f9e59422c5"
      },
      "source": [
        "!pip install tensorflow-gpu\n"
      ],
      "execution_count": 1,
      "outputs": [
        {
          "output_type": "stream",
          "text": [
            "Collecting tensorflow-gpu\n",
            "\u001b[?25l  Downloading https://files.pythonhosted.org/packages/85/cc/a27e73cf8b23f2ce4bdd2b7089a42a7819ce6dd7366dceba406ddc5daa9c/tensorflow_gpu-2.4.1-cp37-cp37m-manylinux2010_x86_64.whl (394.3MB)\n",
            "\u001b[K     |████████████████████████████████| 394.3MB 45kB/s \n",
            "\u001b[?25hRequirement already satisfied: typing-extensions~=3.7.4 in /usr/local/lib/python3.7/dist-packages (from tensorflow-gpu) (3.7.4.3)\n",
            "Requirement already satisfied: wheel~=0.35 in /usr/local/lib/python3.7/dist-packages (from tensorflow-gpu) (0.36.2)\n",
            "Requirement already satisfied: astunparse~=1.6.3 in /usr/local/lib/python3.7/dist-packages (from tensorflow-gpu) (1.6.3)\n",
            "Requirement already satisfied: h5py~=2.10.0 in /usr/local/lib/python3.7/dist-packages (from tensorflow-gpu) (2.10.0)\n",
            "Requirement already satisfied: protobuf>=3.9.2 in /usr/local/lib/python3.7/dist-packages (from tensorflow-gpu) (3.12.4)\n",
            "Requirement already satisfied: tensorflow-estimator<2.5.0,>=2.4.0 in /usr/local/lib/python3.7/dist-packages (from tensorflow-gpu) (2.4.0)\n",
            "Requirement already satisfied: google-pasta~=0.2 in /usr/local/lib/python3.7/dist-packages (from tensorflow-gpu) (0.2.0)\n",
            "Requirement already satisfied: wrapt~=1.12.1 in /usr/local/lib/python3.7/dist-packages (from tensorflow-gpu) (1.12.1)\n",
            "Requirement already satisfied: grpcio~=1.32.0 in /usr/local/lib/python3.7/dist-packages (from tensorflow-gpu) (1.32.0)\n",
            "Requirement already satisfied: tensorboard~=2.4 in /usr/local/lib/python3.7/dist-packages (from tensorflow-gpu) (2.4.1)\n",
            "Requirement already satisfied: flatbuffers~=1.12.0 in /usr/local/lib/python3.7/dist-packages (from tensorflow-gpu) (1.12)\n",
            "Requirement already satisfied: numpy~=1.19.2 in /usr/local/lib/python3.7/dist-packages (from tensorflow-gpu) (1.19.5)\n",
            "Requirement already satisfied: termcolor~=1.1.0 in /usr/local/lib/python3.7/dist-packages (from tensorflow-gpu) (1.1.0)\n",
            "Requirement already satisfied: opt-einsum~=3.3.0 in /usr/local/lib/python3.7/dist-packages (from tensorflow-gpu) (3.3.0)\n",
            "Requirement already satisfied: absl-py~=0.10 in /usr/local/lib/python3.7/dist-packages (from tensorflow-gpu) (0.12.0)\n",
            "Requirement already satisfied: gast==0.3.3 in /usr/local/lib/python3.7/dist-packages (from tensorflow-gpu) (0.3.3)\n",
            "Requirement already satisfied: six~=1.15.0 in /usr/local/lib/python3.7/dist-packages (from tensorflow-gpu) (1.15.0)\n",
            "Requirement already satisfied: keras-preprocessing~=1.1.2 in /usr/local/lib/python3.7/dist-packages (from tensorflow-gpu) (1.1.2)\n",
            "Requirement already satisfied: setuptools in /usr/local/lib/python3.7/dist-packages (from protobuf>=3.9.2->tensorflow-gpu) (56.0.0)\n",
            "Requirement already satisfied: tensorboard-plugin-wit>=1.6.0 in /usr/local/lib/python3.7/dist-packages (from tensorboard~=2.4->tensorflow-gpu) (1.8.0)\n",
            "Requirement already satisfied: requests<3,>=2.21.0 in /usr/local/lib/python3.7/dist-packages (from tensorboard~=2.4->tensorflow-gpu) (2.23.0)\n",
            "Requirement already satisfied: google-auth<2,>=1.6.3 in /usr/local/lib/python3.7/dist-packages (from tensorboard~=2.4->tensorflow-gpu) (1.28.1)\n",
            "Requirement already satisfied: markdown>=2.6.8 in /usr/local/lib/python3.7/dist-packages (from tensorboard~=2.4->tensorflow-gpu) (3.3.4)\n",
            "Requirement already satisfied: google-auth-oauthlib<0.5,>=0.4.1 in /usr/local/lib/python3.7/dist-packages (from tensorboard~=2.4->tensorflow-gpu) (0.4.4)\n",
            "Requirement already satisfied: werkzeug>=0.11.15 in /usr/local/lib/python3.7/dist-packages (from tensorboard~=2.4->tensorflow-gpu) (1.0.1)\n",
            "Requirement already satisfied: idna<3,>=2.5 in /usr/local/lib/python3.7/dist-packages (from requests<3,>=2.21.0->tensorboard~=2.4->tensorflow-gpu) (2.10)\n",
            "Requirement already satisfied: chardet<4,>=3.0.2 in /usr/local/lib/python3.7/dist-packages (from requests<3,>=2.21.0->tensorboard~=2.4->tensorflow-gpu) (3.0.4)\n",
            "Requirement already satisfied: urllib3!=1.25.0,!=1.25.1,<1.26,>=1.21.1 in /usr/local/lib/python3.7/dist-packages (from requests<3,>=2.21.0->tensorboard~=2.4->tensorflow-gpu) (1.24.3)\n",
            "Requirement already satisfied: certifi>=2017.4.17 in /usr/local/lib/python3.7/dist-packages (from requests<3,>=2.21.0->tensorboard~=2.4->tensorflow-gpu) (2020.12.5)\n",
            "Requirement already satisfied: pyasn1-modules>=0.2.1 in /usr/local/lib/python3.7/dist-packages (from google-auth<2,>=1.6.3->tensorboard~=2.4->tensorflow-gpu) (0.2.8)\n",
            "Requirement already satisfied: rsa<5,>=3.1.4; python_version >= \"3.6\" in /usr/local/lib/python3.7/dist-packages (from google-auth<2,>=1.6.3->tensorboard~=2.4->tensorflow-gpu) (4.7.2)\n",
            "Requirement already satisfied: cachetools<5.0,>=2.0.0 in /usr/local/lib/python3.7/dist-packages (from google-auth<2,>=1.6.3->tensorboard~=2.4->tensorflow-gpu) (4.2.1)\n",
            "Requirement already satisfied: importlib-metadata; python_version < \"3.8\" in /usr/local/lib/python3.7/dist-packages (from markdown>=2.6.8->tensorboard~=2.4->tensorflow-gpu) (3.10.1)\n",
            "Requirement already satisfied: requests-oauthlib>=0.7.0 in /usr/local/lib/python3.7/dist-packages (from google-auth-oauthlib<0.5,>=0.4.1->tensorboard~=2.4->tensorflow-gpu) (1.3.0)\n",
            "Requirement already satisfied: pyasn1<0.5.0,>=0.4.6 in /usr/local/lib/python3.7/dist-packages (from pyasn1-modules>=0.2.1->google-auth<2,>=1.6.3->tensorboard~=2.4->tensorflow-gpu) (0.4.8)\n",
            "Requirement already satisfied: zipp>=0.5 in /usr/local/lib/python3.7/dist-packages (from importlib-metadata; python_version < \"3.8\"->markdown>=2.6.8->tensorboard~=2.4->tensorflow-gpu) (3.4.1)\n",
            "Requirement already satisfied: oauthlib>=3.0.0 in /usr/local/lib/python3.7/dist-packages (from requests-oauthlib>=0.7.0->google-auth-oauthlib<0.5,>=0.4.1->tensorboard~=2.4->tensorflow-gpu) (3.1.0)\n",
            "Installing collected packages: tensorflow-gpu\n",
            "Successfully installed tensorflow-gpu-2.4.1\n"
          ],
          "name": "stdout"
        }
      ]
    },
    {
      "cell_type": "code",
      "metadata": {
        "id": "ShwlZ0uorU0U"
      },
      "source": [
        "import time\n",
        "import numpy as np\n",
        "import tensorflow as tf\n"
      ],
      "execution_count": 3,
      "outputs": []
    },
    {
      "cell_type": "code",
      "metadata": {
        "colab": {
          "base_uri": "https://localhost:8080/"
        },
        "id": "OtZV11kmsGgD",
        "outputId": "6f24ee97-ffb4-4a9a-89bf-6537ec5fcf97"
      },
      "source": [
        "(x_train,y_train),(x_test,y_test) = tf.keras.datasets.mnist.load_data()"
      ],
      "execution_count": 4,
      "outputs": [
        {
          "output_type": "stream",
          "text": [
            "Downloading data from https://storage.googleapis.com/tensorflow/tf-keras-datasets/mnist.npz\n",
            "11493376/11490434 [==============================] - 0s 0us/step\n"
          ],
          "name": "stdout"
        }
      ]
    },
    {
      "cell_type": "code",
      "metadata": {
        "colab": {
          "base_uri": "https://localhost:8080/"
        },
        "id": "LXGo05UKtI8i",
        "outputId": "0f928a42-efa3-43f2-f24d-9596be6c4fba"
      },
      "source": [
        "x_train.shape"
      ],
      "execution_count": 6,
      "outputs": [
        {
          "output_type": "execute_result",
          "data": {
            "text/plain": [
              "(60000, 28, 28)"
            ]
          },
          "metadata": {
            "tags": []
          },
          "execution_count": 6
        }
      ]
    },
    {
      "cell_type": "code",
      "metadata": {
        "id": "8or9F8qftpo9"
      },
      "source": [
        "x_train = x_train/255.0\n",
        "x_test = x_test/255.0"
      ],
      "execution_count": 7,
      "outputs": []
    },
    {
      "cell_type": "code",
      "metadata": {
        "id": "5WCjQ1kztvDk"
      },
      "source": [
        "x_train = x_train.reshape(-1,28*28)\n",
        "x_test = x_test.reshape(-1,28*28)"
      ],
      "execution_count": 8,
      "outputs": []
    },
    {
      "cell_type": "code",
      "metadata": {
        "id": "sbz2RrY2t4ZC"
      },
      "source": [
        "model_normal = tf.keras.models.Sequential()\n",
        "model_normal.add(tf.keras.layers.Dense(128,activation='relu',input_shape = [784]))\n",
        "model_normal.add(tf.keras.layers.Dropout(0.2))\n",
        "model_normal.add(tf.keras.layers.Dense(10,activation='softmax'))\n",
        "model_normal.compile(optimizer='adam',loss='sparse_categorical_crossentropy',metrics=['sparse_categorical_accuracy'])\n"
      ],
      "execution_count": 11,
      "outputs": []
    },
    {
      "cell_type": "code",
      "metadata": {
        "id": "i42Exq0ZvU_5"
      },
      "source": [
        "#Define The Distributed Strategy"
      ],
      "execution_count": 12,
      "outputs": []
    },
    {
      "cell_type": "code",
      "metadata": {
        "colab": {
          "base_uri": "https://localhost:8080/"
        },
        "id": "UhSy1L-DvgE8",
        "outputId": "7d73d5da-8fe3-4a5c-98e2-48d8fbc8c03b"
      },
      "source": [
        "distribute = tf.distribute.MirroredStrategy()"
      ],
      "execution_count": 13,
      "outputs": [
        {
          "output_type": "stream",
          "text": [
            "INFO:tensorflow:Using MirroredStrategy with devices ('/job:localhost/replica:0/task:0/device:GPU:0',)\n"
          ],
          "name": "stdout"
        }
      ]
    },
    {
      "cell_type": "code",
      "metadata": {
        "colab": {
          "base_uri": "https://localhost:8080/"
        },
        "id": "-MYvxAWDvtgS",
        "outputId": "baeff1e8-f84a-47fa-ad6e-e607bd3953ab"
      },
      "source": [
        "with distribute.scope():\n",
        "  model_distributed = tf.keras.models.Sequential()\n",
        "  model_distributed.add(tf.keras.layers.Dense(128,activation='relu',input_shape = [784]))\n",
        "  model_distributed.add(tf.keras.layers.Dropout(0.2))\n",
        "  model_distributed.add(tf.keras.layers.Dense(10,activation='softmax'))\n",
        "  model_distributed.compile(optimizer='adam',loss='sparse_categorical_crossentropy',metrics=['sparse_categorical_accuracy'])\n"
      ],
      "execution_count": 14,
      "outputs": [
        {
          "output_type": "stream",
          "text": [
            "INFO:tensorflow:Reduce to /job:localhost/replica:0/task:0/device:CPU:0 then broadcast to ('/job:localhost/replica:0/task:0/device:CPU:0',).\n",
            "INFO:tensorflow:Reduce to /job:localhost/replica:0/task:0/device:CPU:0 then broadcast to ('/job:localhost/replica:0/task:0/device:CPU:0',).\n",
            "INFO:tensorflow:Reduce to /job:localhost/replica:0/task:0/device:CPU:0 then broadcast to ('/job:localhost/replica:0/task:0/device:CPU:0',).\n",
            "INFO:tensorflow:Reduce to /job:localhost/replica:0/task:0/device:CPU:0 then broadcast to ('/job:localhost/replica:0/task:0/device:CPU:0',).\n"
          ],
          "name": "stdout"
        }
      ]
    },
    {
      "cell_type": "code",
      "metadata": {
        "id": "pyLytWpdv7VN"
      },
      "source": [
        "#Time Comparison"
      ],
      "execution_count": null,
      "outputs": []
    },
    {
      "cell_type": "code",
      "metadata": {
        "colab": {
          "base_uri": "https://localhost:8080/"
        },
        "id": "ZS7ALo7FwjFi",
        "outputId": "75dfa491-ac77-4d95-95ad-a7c7d8bbe927"
      },
      "source": [
        "start_time = time.time()\n",
        "model_distributed.fit(x_train,y_train,epochs = 20,batch_size=25)\n",
        "print(time.time()-start_time)"
      ],
      "execution_count": 15,
      "outputs": [
        {
          "output_type": "stream",
          "text": [
            "Epoch 1/20\n",
            "INFO:tensorflow:Reduce to /job:localhost/replica:0/task:0/device:CPU:0 then broadcast to ('/job:localhost/replica:0/task:0/device:CPU:0',).\n",
            "INFO:tensorflow:Reduce to /job:localhost/replica:0/task:0/device:CPU:0 then broadcast to ('/job:localhost/replica:0/task:0/device:CPU:0',).\n",
            "INFO:tensorflow:Reduce to /job:localhost/replica:0/task:0/device:CPU:0 then broadcast to ('/job:localhost/replica:0/task:0/device:CPU:0',).\n",
            "INFO:tensorflow:Reduce to /job:localhost/replica:0/task:0/device:CPU:0 then broadcast to ('/job:localhost/replica:0/task:0/device:CPU:0',).\n",
            "INFO:tensorflow:Reduce to /job:localhost/replica:0/task:0/device:CPU:0 then broadcast to ('/job:localhost/replica:0/task:0/device:CPU:0',).\n",
            "INFO:tensorflow:Reduce to /job:localhost/replica:0/task:0/device:CPU:0 then broadcast to ('/job:localhost/replica:0/task:0/device:CPU:0',).\n",
            "2400/2400 [==============================] - 12s 3ms/step - loss: 0.4630 - sparse_categorical_accuracy: 0.8626\n",
            "Epoch 2/20\n",
            "2400/2400 [==============================] - 8s 3ms/step - loss: 0.1424 - sparse_categorical_accuracy: 0.9579\n",
            "Epoch 3/20\n",
            "2400/2400 [==============================] - 8s 3ms/step - loss: 0.1037 - sparse_categorical_accuracy: 0.9690\n",
            "Epoch 4/20\n",
            "2400/2400 [==============================] - 8s 3ms/step - loss: 0.0811 - sparse_categorical_accuracy: 0.9738\n",
            "Epoch 5/20\n",
            "2400/2400 [==============================] - 8s 3ms/step - loss: 0.0689 - sparse_categorical_accuracy: 0.9776\n",
            "Epoch 6/20\n",
            "2400/2400 [==============================] - 8s 3ms/step - loss: 0.0599 - sparse_categorical_accuracy: 0.9816\n",
            "Epoch 7/20\n",
            "2400/2400 [==============================] - 8s 3ms/step - loss: 0.0554 - sparse_categorical_accuracy: 0.9826\n",
            "Epoch 8/20\n",
            "2400/2400 [==============================] - 8s 3ms/step - loss: 0.0483 - sparse_categorical_accuracy: 0.9837\n",
            "Epoch 9/20\n",
            "2400/2400 [==============================] - 8s 3ms/step - loss: 0.0428 - sparse_categorical_accuracy: 0.9858\n",
            "Epoch 10/20\n",
            "2400/2400 [==============================] - 8s 3ms/step - loss: 0.0427 - sparse_categorical_accuracy: 0.9859\n",
            "Epoch 11/20\n",
            "2400/2400 [==============================] - 8s 3ms/step - loss: 0.0385 - sparse_categorical_accuracy: 0.9864\n",
            "Epoch 12/20\n",
            "2400/2400 [==============================] - 8s 3ms/step - loss: 0.0382 - sparse_categorical_accuracy: 0.9870\n",
            "Epoch 13/20\n",
            "2400/2400 [==============================] - 8s 3ms/step - loss: 0.0340 - sparse_categorical_accuracy: 0.9880\n",
            "Epoch 14/20\n",
            "2400/2400 [==============================] - 8s 3ms/step - loss: 0.0320 - sparse_categorical_accuracy: 0.9896\n",
            "Epoch 15/20\n",
            "2400/2400 [==============================] - 8s 3ms/step - loss: 0.0304 - sparse_categorical_accuracy: 0.9896\n",
            "Epoch 16/20\n",
            "2400/2400 [==============================] - 7s 3ms/step - loss: 0.0289 - sparse_categorical_accuracy: 0.9902\n",
            "Epoch 17/20\n",
            "2400/2400 [==============================] - 8s 3ms/step - loss: 0.0277 - sparse_categorical_accuracy: 0.9901\n",
            "Epoch 18/20\n",
            "2400/2400 [==============================] - 8s 3ms/step - loss: 0.0251 - sparse_categorical_accuracy: 0.9906\n",
            "Epoch 19/20\n",
            "2400/2400 [==============================] - 8s 3ms/step - loss: 0.0245 - sparse_categorical_accuracy: 0.9913\n",
            "Epoch 20/20\n",
            "2400/2400 [==============================] - 8s 3ms/step - loss: 0.0249 - sparse_categorical_accuracy: 0.9917\n",
            "157.1962752342224\n"
          ],
          "name": "stdout"
        }
      ]
    },
    {
      "cell_type": "code",
      "metadata": {
        "colab": {
          "base_uri": "https://localhost:8080/"
        },
        "id": "H2bv4mlFwwmm",
        "outputId": "281e1f4d-22f3-4c3e-b91c-c3c5da3d7161"
      },
      "source": [
        "start_time = time.time()\n",
        "model_normal.fit(x_train,y_train,epochs = 20,batch_size=25)\n",
        "print(time.time()-start_time)"
      ],
      "execution_count": 16,
      "outputs": [
        {
          "output_type": "stream",
          "text": [
            "Epoch 1/20\n",
            "2400/2400 [==============================] - 6s 2ms/step - loss: 0.4692 - sparse_categorical_accuracy: 0.8647\n",
            "Epoch 2/20\n",
            "2400/2400 [==============================] - 5s 2ms/step - loss: 0.1515 - sparse_categorical_accuracy: 0.9551\n",
            "Epoch 3/20\n",
            "2400/2400 [==============================] - 5s 2ms/step - loss: 0.1091 - sparse_categorical_accuracy: 0.9666\n",
            "Epoch 4/20\n",
            "2400/2400 [==============================] - 5s 2ms/step - loss: 0.0807 - sparse_categorical_accuracy: 0.9750\n",
            "Epoch 5/20\n",
            "2400/2400 [==============================] - 5s 2ms/step - loss: 0.0709 - sparse_categorical_accuracy: 0.9780\n",
            "Epoch 6/20\n",
            "2400/2400 [==============================] - 5s 2ms/step - loss: 0.0631 - sparse_categorical_accuracy: 0.9791\n",
            "Epoch 7/20\n",
            "2400/2400 [==============================] - 5s 2ms/step - loss: 0.0552 - sparse_categorical_accuracy: 0.9821\n",
            "Epoch 8/20\n",
            "2400/2400 [==============================] - 5s 2ms/step - loss: 0.0496 - sparse_categorical_accuracy: 0.9837\n",
            "Epoch 9/20\n",
            "2400/2400 [==============================] - 5s 2ms/step - loss: 0.0438 - sparse_categorical_accuracy: 0.9854\n",
            "Epoch 10/20\n",
            "2400/2400 [==============================] - 5s 2ms/step - loss: 0.0419 - sparse_categorical_accuracy: 0.9857\n",
            "Epoch 11/20\n",
            "2400/2400 [==============================] - 5s 2ms/step - loss: 0.0375 - sparse_categorical_accuracy: 0.9873\n",
            "Epoch 12/20\n",
            "2400/2400 [==============================] - 5s 2ms/step - loss: 0.0370 - sparse_categorical_accuracy: 0.9875\n",
            "Epoch 13/20\n",
            "2400/2400 [==============================] - 5s 2ms/step - loss: 0.0348 - sparse_categorical_accuracy: 0.9882\n",
            "Epoch 14/20\n",
            "2400/2400 [==============================] - 5s 2ms/step - loss: 0.0335 - sparse_categorical_accuracy: 0.9884\n",
            "Epoch 15/20\n",
            "2400/2400 [==============================] - 5s 2ms/step - loss: 0.0303 - sparse_categorical_accuracy: 0.9901\n",
            "Epoch 16/20\n",
            "2400/2400 [==============================] - 5s 2ms/step - loss: 0.0293 - sparse_categorical_accuracy: 0.9901\n",
            "Epoch 17/20\n",
            "2400/2400 [==============================] - 5s 2ms/step - loss: 0.0275 - sparse_categorical_accuracy: 0.9911\n",
            "Epoch 18/20\n",
            "2400/2400 [==============================] - 5s 2ms/step - loss: 0.0270 - sparse_categorical_accuracy: 0.9904\n",
            "Epoch 19/20\n",
            "2400/2400 [==============================] - 5s 2ms/step - loss: 0.0255 - sparse_categorical_accuracy: 0.9911\n",
            "Epoch 20/20\n",
            "2400/2400 [==============================] - 5s 2ms/step - loss: 0.0235 - sparse_categorical_accuracy: 0.9918\n",
            "106.73350501060486\n"
          ],
          "name": "stdout"
        }
      ]
    }
  ]
}