{
  "nbformat": 4,
  "nbformat_minor": 0,
  "metadata": {
    "colab": {
      "name": "Logistic.ipynb",
      "provenance": [],
      "collapsed_sections": [],
      "authorship_tag": "ABX9TyMfX1EHso8BoEVNSKnVbZvZ",
      "include_colab_link": true
    },
    "kernelspec": {
      "name": "python3",
      "display_name": "Python 3"
    },
    "language_info": {
      "name": "python"
    },
    "accelerator": "GPU"
  },
  "cells": [
    {
      "cell_type": "markdown",
      "metadata": {
        "id": "view-in-github",
        "colab_type": "text"
      },
      "source": [
        "<a href=\"https://colab.research.google.com/github/vijayshankarrealdeal/GoogleColab/blob/main/Logistic.ipynb\" target=\"_parent\"><img src=\"https://colab.research.google.com/assets/colab-badge.svg\" alt=\"Open In Colab\"/></a>"
      ]
    },
    {
      "cell_type": "code",
      "metadata": {
        "id": "vD0qYXt7MPUn"
      },
      "source": [
        "import pandas as pd\n",
        "import numpy as np\n",
        "import torch\n",
        "import torch.nn as nn\n",
        "import matplotlib.pyplot as plt"
      ],
      "execution_count": 101,
      "outputs": []
    },
    {
      "cell_type": "code",
      "metadata": {
        "id": "x8axiNNYMjBt"
      },
      "source": [
        "from sklearn.preprocessing import StandardScaler\n",
        "from sklearn.datasets import load_breast_cancer"
      ],
      "execution_count": 102,
      "outputs": []
    },
    {
      "cell_type": "code",
      "metadata": {
        "id": "3KaLiGhHNIAM"
      },
      "source": [
        "dataset = load_breast_cancer()"
      ],
      "execution_count": 103,
      "outputs": []
    },
    {
      "cell_type": "code",
      "metadata": {
        "id": "1NGNt3VaNY4_"
      },
      "source": [
        "X,Y = dataset.data, dataset.target"
      ],
      "execution_count": 104,
      "outputs": []
    },
    {
      "cell_type": "code",
      "metadata": {
        "id": "IcWyyj_LNcQZ"
      },
      "source": [
        "scaler = StandardScaler()\n",
        "X = scaler.fit_transform(X)"
      ],
      "execution_count": 105,
      "outputs": []
    },
    {
      "cell_type": "code",
      "metadata": {
        "id": "_7DMHMDvNcpr"
      },
      "source": [
        "from sklearn.model_selection import train_test_split\n",
        "X_train,X_test,Y_train,Y_test = train_test_split(X,Y,random_state = 0,test_size = 0.2)"
      ],
      "execution_count": 106,
      "outputs": []
    },
    {
      "cell_type": "code",
      "metadata": {
        "id": "Ex-0wZx9QA4e"
      },
      "source": [
        "X_train = torch.from_numpy(X_train.astype(np.float32))\n",
        "X_test = torch.from_numpy(X_test.astype(np.float32))\n",
        "Y_train = torch.from_numpy(Y_train.astype(np.float32).reshape(-1,1))\n",
        "Y_test = torch.from_numpy(Y_test.astype(np.float32).reshape(-1,1))"
      ],
      "execution_count": 107,
      "outputs": []
    },
    {
      "cell_type": "code",
      "metadata": {
        "id": "rT0bH-9fQUDK"
      },
      "source": [
        "class Model(nn.Module):\n",
        "  def __init__(self,dim = 2,output = 1):\n",
        "    super(Model,self).__init__()\n",
        "    self.res = nn.Sequential(\n",
        "        nn.Linear(dim,output),\n",
        "        nn.Sigmoid()\n",
        "    )\n",
        "  def forward(self,x):\n",
        "    return self.res(x)"
      ],
      "execution_count": 108,
      "outputs": []
    },
    {
      "cell_type": "code",
      "metadata": {
        "colab": {
          "base_uri": "https://localhost:8080/"
        },
        "id": "ZJfyA2FnQ6li",
        "outputId": "a146a940-8d0a-4bd6-e9a8-08f3169e57a3"
      },
      "source": [
        "X_train.shape"
      ],
      "execution_count": 109,
      "outputs": [
        {
          "output_type": "execute_result",
          "data": {
            "text/plain": [
              "torch.Size([455, 30])"
            ]
          },
          "metadata": {
            "tags": []
          },
          "execution_count": 109
        }
      ]
    },
    {
      "cell_type": "code",
      "metadata": {
        "id": "kqG76vJSQ8sY"
      },
      "source": [
        "loss_fn = nn.BCELoss()\n",
        "model = Model(dim=X_train.shape[1])\n",
        "optim = torch.optim.Adam(model.parameters(),lr = 0.01)\n",
        "batch_size = 32"
      ],
      "execution_count": 110,
      "outputs": []
    },
    {
      "cell_type": "code",
      "metadata": {
        "id": "U3n4TWf4Rkv9"
      },
      "source": [
        "train_losses = []\n",
        "test_losses = []\n",
        "for i in range(17):\n",
        "  optim.zero_grad()\n",
        "  output = model(X_train)\n",
        "  loss = loss_fn(output,Y_train)\n",
        "  loss.backward()\n",
        "  optim.step()\n",
        "\n",
        "  outputs_test = model(X_test)\n",
        "  loss_test = loss_fn(outputs_test,Y_test)\n",
        "\n",
        "  train_losses.append(loss.item())\n",
        "  test_losses.append(loss_test.item())"
      ],
      "execution_count": 111,
      "outputs": []
    },
    {
      "cell_type": "code",
      "metadata": {
        "colab": {
          "base_uri": "https://localhost:8080/",
          "height": 265
        },
        "id": "ZnuSFzBOmZuW",
        "outputId": "0e908f55-5ded-46f9-b92a-f5a7655b2420"
      },
      "source": [
        "plt.plot(range(len(train_losses)),train_losses)\n",
        "plt.plot(range(len(test_losses)),test_losses)\n",
        "plt.show()"
      ],
      "execution_count": 112,
      "outputs": [
        {
          "output_type": "display_data",
          "data": {
            "image/png": "[encoded data removed]",
            "text/plain": [
              "<Figure size 432x288 with 1 Axes>"
            ]
          },
          "metadata": {
            "tags": [],
            "needs_background": "light"
          }
        }
      ]
    },
    {
      "cell_type": "code",
      "metadata": {
        "colab": {
          "base_uri": "https://localhost:8080/"
        },
        "id": "5-4cLxQXmhVJ",
        "outputId": "305bf9ee-1064-4adb-f8b1-9715318edf1c"
      },
      "source": [
        "with torch.no_grad():\n",
        "  predict = model(X_test)\n",
        "  predict = np.round(predict.numpy())\n",
        "  test_acc = np.mean(Y_test.numpy() == predict)\n",
        "print(test_acc)"
      ],
      "execution_count": 113,
      "outputs": [
        {
          "output_type": "stream",
          "text": [
            "0.9210526315789473\n"
          ],
          "name": "stdout"
        }
      ]
    },
    {
      "cell_type": "code",
      "metadata": {
        "colab": {
          "base_uri": "https://localhost:8080/"
        },
        "id": "UIeYMAxrofLA",
        "outputId": "d8781574-b1e4-4101-8f5e-e940bb0d5de3"
      },
      "source": [
        "model.state_dict()"
      ],
      "execution_count": 114,
      "outputs": [
        {
          "output_type": "execute_result",
          "data": {
            "text/plain": [
              "OrderedDict([('res.0.weight',\n",
              "              tensor([[-0.0032, -0.1802, -0.0142, -0.0346, -0.0005, -0.1986, -0.1399, -0.2044,\n",
              "                       -0.0914, -0.0375, -0.0795,  0.0489, -0.1890, -0.2597,  0.0805, -0.1243,\n",
              "                        0.0097, -0.0476,  0.0079,  0.0655, -0.3279, -0.1256, -0.0566, -0.3341,\n",
              "                       -0.1814, -0.0920, -0.0665, -0.0272, -0.1651, -0.0258]])),\n",
              "             ('res.0.bias', tensor([0.0432]))])"
            ]
          },
          "metadata": {
            "tags": []
          },
          "execution_count": 114
        }
      ]
    },
    {
      "cell_type": "code",
      "metadata": {
        "id": "3tKbCWJM0XON"
      },
      "source": [
        "torch.save(model.state_dict(),'my_model.pt')"
      ],
      "execution_count": 117,
      "outputs": []
    },
    {
      "cell_type": "code",
      "metadata": {
        "colab": {
          "base_uri": "https://localhost:8080/"
        },
        "id": "eLa-X-XC1eXa",
        "outputId": "9523a7d4-c580-4047-95c2-dd7f0abd5372"
      },
      "source": [
        "!ls"
      ],
      "execution_count": 118,
      "outputs": [
        {
          "output_type": "stream",
          "text": [
            "my_model.pt  sample_data\n"
          ],
          "name": "stdout"
        }
      ]
    },
    {
      "cell_type": "code",
      "metadata": {
        "id": "1Dt4olDs1mra"
      },
      "source": [
        "model2 = Model(dim=X_train.shape[1])"
      ],
      "execution_count": 119,
      "outputs": []
    },
    {
      "cell_type": "code",
      "metadata": {
        "colab": {
          "base_uri": "https://localhost:8080/"
        },
        "id": "z0WcVpkd133W",
        "outputId": "4f2bfeb6-0407-4a1d-8c06-4261f59703f5"
      },
      "source": [
        "model2.load_state_dict(torch.load('my_model.pt'))"
      ],
      "execution_count": 120,
      "outputs": [
        {
          "output_type": "execute_result",
          "data": {
            "text/plain": [
              "<All keys matched successfully>"
            ]
          },
          "metadata": {
            "tags": []
          },
          "execution_count": 120
        }
      ]
    },
    {
      "cell_type": "code",
      "metadata": {
        "id": "ah1siaCo1_qV"
      },
      "source": [
        ""
      ],
      "execution_count": null,
      "outputs": []
    }
  ]
}