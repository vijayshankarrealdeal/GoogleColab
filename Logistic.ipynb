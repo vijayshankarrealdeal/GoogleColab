{
  "nbformat": 4,
  "nbformat_minor": 0,
  "metadata": {
    "colab": {
      "name": "Logistic.ipynb",
      "provenance": [],
      "collapsed_sections": [],
      "authorship_tag": "ABX9TyN36KA2ubjHxS48PUdl4yyG",
      "include_colab_link": true
    },
    "kernelspec": {
      "name": "python3",
      "display_name": "Python 3"
    },
    "language_info": {
      "name": "python"
    },
    "accelerator": "GPU"
  },
  "cells": [
    {
      "cell_type": "markdown",
      "metadata": {
        "id": "view-in-github",
        "colab_type": "text"
      },
      "source": [
        "<a href=\"https://colab.research.google.com/github/vijayshankarrealdeal/GoogleColab/blob/main/Logistic.ipynb\" target=\"_parent\"><img src=\"https://colab.research.google.com/assets/colab-badge.svg\" alt=\"Open In Colab\"/></a>"
      ]
    },
    {
      "cell_type": "code",
      "metadata": {
        "id": "vD0qYXt7MPUn"
      },
      "source": [
        "import pandas as pd\n",
        "import numpy as np\n",
        "import torch\n",
        "import torch.nn as nn\n",
        "import matplotlib.pyplot as plt"
      ],
      "execution_count": 74,
      "outputs": []
    },
    {
      "cell_type": "code",
      "metadata": {
        "id": "x8axiNNYMjBt"
      },
      "source": [
        "from sklearn.preprocessing import StandardScaler\n",
        "from sklearn.datasets import load_breast_cancer"
      ],
      "execution_count": 75,
      "outputs": []
    },
    {
      "cell_type": "code",
      "metadata": {
        "id": "3KaLiGhHNIAM"
      },
      "source": [
        "dataset = load_breast_cancer()"
      ],
      "execution_count": 76,
      "outputs": []
    },
    {
      "cell_type": "code",
      "metadata": {
        "id": "1NGNt3VaNY4_"
      },
      "source": [
        "X,Y = dataset.data, dataset.target"
      ],
      "execution_count": 77,
      "outputs": []
    },
    {
      "cell_type": "code",
      "metadata": {
        "id": "IcWyyj_LNcQZ"
      },
      "source": [
        "scaler = StandardScaler()\n",
        "X = scaler.fit_transform(X)"
      ],
      "execution_count": 78,
      "outputs": []
    },
    {
      "cell_type": "code",
      "metadata": {
        "id": "_7DMHMDvNcpr"
      },
      "source": [
        "from sklearn.model_selection import train_test_split\n",
        "X_train,X_test,Y_train,Y_test = train_test_split(X,Y,random_state = 0,test_size = 0.2)"
      ],
      "execution_count": 79,
      "outputs": []
    },
    {
      "cell_type": "code",
      "metadata": {
        "id": "Ex-0wZx9QA4e"
      },
      "source": [
        "X_train = torch.from_numpy(X_train.astype(np.float32))\n",
        "X_test = torch.from_numpy(X_test.astype(np.float32))\n",
        "Y_train = torch.from_numpy(Y_train.astype(np.float32).reshape(-1,1))\n",
        "Y_test = torch.from_numpy(Y_test.astype(np.float32).reshape(-1,1))"
      ],
      "execution_count": 80,
      "outputs": []
    },
    {
      "cell_type": "code",
      "metadata": {
        "id": "rT0bH-9fQUDK"
      },
      "source": [
        "class Model(nn.Module):\n",
        "  def __init__(self,dim = 2,output = 1):\n",
        "    super(Model,self).__init__()\n",
        "    self.res = nn.Sequential(\n",
        "        nn.Linear(dim,output),\n",
        "        nn.Sigmoid()\n",
        "    )\n",
        "  def forward(self,x):\n",
        "    return self.res(x)"
      ],
      "execution_count": 81,
      "outputs": []
    },
    {
      "cell_type": "code",
      "metadata": {
        "colab": {
          "base_uri": "https://localhost:8080/"
        },
        "id": "ZJfyA2FnQ6li",
        "outputId": "828a02c8-7645-4faf-b290-bbe6c3d60d3f"
      },
      "source": [
        "X_train.shape"
      ],
      "execution_count": 82,
      "outputs": [
        {
          "output_type": "execute_result",
          "data": {
            "text/plain": [
              "torch.Size([455, 30])"
            ]
          },
          "metadata": {
            "tags": []
          },
          "execution_count": 82
        }
      ]
    },
    {
      "cell_type": "code",
      "metadata": {
        "id": "kqG76vJSQ8sY"
      },
      "source": [
        "loss_fn = nn.BCELoss()\n",
        "model = Model(dim=X_train.shape[1])\n",
        "optim = torch.optim.Adam(model.parameters(),lr = 0.01)\n",
        "batch_size = 32"
      ],
      "execution_count": 94,
      "outputs": []
    },
    {
      "cell_type": "code",
      "metadata": {
        "id": "U3n4TWf4Rkv9"
      },
      "source": [
        "train_losses = []\n",
        "test_losses = []\n",
        "for i in range(22):\n",
        "  optim.zero_grad()\n",
        "  output = model(X_train)\n",
        "  loss = loss_fn(output,Y_train)\n",
        "  loss.backward()\n",
        "  optim.step()\n",
        "\n",
        "  outputs_test = model(X_test)\n",
        "  loss_test = loss_fn(outputs_test,Y_test)\n",
        "\n",
        "  train_losses.append(loss.item())\n",
        "  test_losses.append(loss_test.item())"
      ],
      "execution_count": 95,
      "outputs": []
    },
    {
      "cell_type": "code",
      "metadata": {
        "colab": {
          "base_uri": "https://localhost:8080/",
          "height": 265
        },
        "id": "ZnuSFzBOmZuW",
        "outputId": "7eaea43a-e91b-46ab-af76-60658c8e5c19"
      },
      "source": [
        "plt.plot(range(len(train_losses)),train_losses)\n",
        "plt.plot(range(len(test_losses)),test_losses)\n",
        "plt.show()"
      ],
      "execution_count": 96,
      "outputs": [
        {
          "output_type": "display_data",
          "data": {
            "image/png": "[encoded data removed]",
            "text/plain": [
              "<Figure size 432x288 with 1 Axes>"
            ]
          },
          "metadata": {
            "tags": [],
            "needs_background": "light"
          }
        }
      ]
    },
    {
      "cell_type": "code",
      "metadata": {
        "id": "5-4cLxQXmhVJ"
      },
      "source": [
        "with torch.no_grad():\n",
        "  predict = model(X_test)\n",
        "print(predict)"
      ],
      "execution_count": null,
      "outputs": []
    },
    {
      "cell_type": "code",
      "metadata": {
        "id": "UIeYMAxrofLA"
      },
      "source": [
        ""
      ],
      "execution_count": 86,
      "outputs": []
    }
  ]
}