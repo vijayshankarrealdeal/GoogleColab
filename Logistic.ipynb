{
  "nbformat": 4,
  "nbformat_minor": 0,
  "metadata": {
    "colab": {
      "name": "Logistic.ipynb",
      "provenance": [],
      "collapsed_sections": [],
      "authorship_tag": "ABX9TyM4awiRRg4kUX7+fLF19Pq8",
      "include_colab_link": true
    },
    "kernelspec": {
      "name": "python3",
      "display_name": "Python 3"
    },
    "language_info": {
      "name": "python"
    },
    "accelerator": "GPU"
  },
  "cells": [
    {
      "cell_type": "markdown",
      "metadata": {
        "id": "view-in-github",
        "colab_type": "text"
      },
      "source": [
        "<a href=\"https://colab.research.google.com/github/vijayshankarrealdeal/GoogleColab/blob/main/Logistic.ipynb\" target=\"_parent\"><img src=\"https://colab.research.google.com/assets/colab-badge.svg\" alt=\"Open In Colab\"/></a>"
      ]
    },
    {
      "cell_type": "code",
      "metadata": {
        "id": "vD0qYXt7MPUn"
      },
      "source": [
        "import pandas as pd\n",
        "import numpy as np\n",
        "import torch\n",
        "import torch.nn as nn\n",
        "import matplotlib.pyplot as plt"
      ],
      "execution_count": 219,
      "outputs": []
    },
    {
      "cell_type": "code",
      "metadata": {
        "id": "x8axiNNYMjBt"
      },
      "source": [
        "from sklearn.preprocessing import StandardScaler\n",
        "from sklearn.datasets import load_breast_cancer"
      ],
      "execution_count": 220,
      "outputs": []
    },
    {
      "cell_type": "code",
      "metadata": {
        "id": "3KaLiGhHNIAM"
      },
      "source": [
        "dataset = load_breast_cancer()"
      ],
      "execution_count": 221,
      "outputs": []
    },
    {
      "cell_type": "code",
      "metadata": {
        "id": "1NGNt3VaNY4_"
      },
      "source": [
        "X,Y = dataset.data, dataset.target"
      ],
      "execution_count": 222,
      "outputs": []
    },
    {
      "cell_type": "code",
      "metadata": {
        "id": "IcWyyj_LNcQZ"
      },
      "source": [
        "scaler = StandardScaler()\n",
        "X = scaler.fit_transform(X)"
      ],
      "execution_count": 223,
      "outputs": []
    },
    {
      "cell_type": "code",
      "metadata": {
        "id": "_7DMHMDvNcpr"
      },
      "source": [
        "from sklearn.model_selection import train_test_split\n",
        "X_train,X_test,Y_train,Y_test = train_test_split(X,Y,random_state = 0,test_size = 0.2)"
      ],
      "execution_count": 224,
      "outputs": []
    },
    {
      "cell_type": "code",
      "metadata": {
        "id": "Ex-0wZx9QA4e"
      },
      "source": [
        "X_train = torch.from_numpy(X_train.astype(np.float32))\n",
        "X_test = torch.from_numpy(X_test.astype(np.float32))\n",
        "Y_train = torch.from_numpy(Y_train.astype(np.float32).reshape(-1,1))\n",
        "Y_test = torch.from_numpy(Y_test.astype(np.float32).reshape(-1,1))"
      ],
      "execution_count": 225,
      "outputs": []
    },
    {
      "cell_type": "code",
      "metadata": {
        "id": "rT0bH-9fQUDK"
      },
      "source": [
        "class Model(nn.Module):\n",
        "  def __init__(self,dim = 2,output = 1):\n",
        "    super(Model,self).__init__()\n",
        "    self.res = nn.Sequential(\n",
        "        nn.Linear(dim,output),\n",
        "        nn.Sigmoid()\n",
        "    )\n",
        "  def forward(self,x):\n",
        "    return self.res(x)"
      ],
      "execution_count": 226,
      "outputs": []
    },
    {
      "cell_type": "code",
      "metadata": {
        "colab": {
          "base_uri": "https://localhost:8080/"
        },
        "id": "ZJfyA2FnQ6li",
        "outputId": "2185f208-9fae-40b6-961f-1ace7d4b1b4e"
      },
      "source": [
        "X_train.shape"
      ],
      "execution_count": 227,
      "outputs": [
        {
          "output_type": "execute_result",
          "data": {
            "text/plain": [
              "torch.Size([455, 30])"
            ]
          },
          "metadata": {
            "tags": []
          },
          "execution_count": 227
        }
      ]
    },
    {
      "cell_type": "code",
      "metadata": {
        "id": "kqG76vJSQ8sY"
      },
      "source": [
        "loss_fn = nn.BCEWithLogitsLoss()\n",
        "model = Model(dim=X_train.shape[1])\n",
        "optim = torch.optim.Adam(model.parameters(),lr = 0.01)\n",
        "batch_size = 32"
      ],
      "execution_count": 228,
      "outputs": []
    },
    {
      "cell_type": "code",
      "metadata": {
        "id": "U3n4TWf4Rkv9"
      },
      "source": [
        "train_losses = []\n",
        "test_losses = []\n",
        "for i in range(1000):\n",
        "  optim.zero_grad()\n",
        "  output = model(X_train)\n",
        "  loss = loss_fn(output,Y_train)\n",
        "  loss.backward()\n",
        "  optim.step()\n",
        "\n",
        "  outputs_test = model(X_test)\n",
        "  loss_test = loss_fn(outputs_test,Y_test)\n",
        "\n",
        "  train_losses.append(loss.item())\n",
        "  test_losses.append(loss_test.item())"
      ],
      "execution_count": 229,
      "outputs": []
    },
    {
      "cell_type": "code",
      "metadata": {
        "colab": {
          "base_uri": "https://localhost:8080/",
          "height": 265
        },
        "id": "ZnuSFzBOmZuW",
        "outputId": "05bdd051-1373-4211-e70e-091069a5480d"
      },
      "source": [
        "plt.plot(range(len(train_losses)),train_losses)\n",
        "plt.plot(range(len(test_losses)),test_losses)\n",
        "plt.show()"
      ],
      "execution_count": 230,
      "outputs": [
        {
          "output_type": "display_data",
          "data": {
            "image/png": "[encoded data removed]",
            "text/plain": [
              "<Figure size 432x288 with 1 Axes>"
            ]
          },
          "metadata": {
            "tags": [],
            "needs_background": "light"
          }
        }
      ]
    },
    {
      "cell_type": "code",
      "metadata": {
        "colab": {
          "base_uri": "https://localhost:8080/"
        },
        "id": "5-4cLxQXmhVJ",
        "outputId": "18855d84-c7d6-41c7-c4a3-c7decd61c5d6"
      },
      "source": [
        "with torch.no_grad():\n",
        "  predict = model(X_test)\n",
        "  predict = (predict.numpy() > 0 )\n",
        "  test_acc = np.mean(Y_test.numpy() == predict)\n",
        "print(test_acc)"
      ],
      "execution_count": 240,
      "outputs": [
        {
          "output_type": "stream",
          "text": [
            "0.5877192982456141\n"
          ],
          "name": "stdout"
        }
      ]
    },
    {
      "cell_type": "code",
      "metadata": {
        "colab": {
          "base_uri": "https://localhost:8080/"
        },
        "id": "UIeYMAxrofLA",
        "outputId": "8ee94fd4-faf9-424e-8ec8-41ca4e8411f3"
      },
      "source": [
        "model.state_dict()"
      ],
      "execution_count": 232,
      "outputs": [
        {
          "output_type": "execute_result",
          "data": {
            "text/plain": [
              "OrderedDict([('res.0.weight',\n",
              "              tensor([[-1.1470, -1.2657, -1.0866, -1.1388, -0.5219, -0.1674, -1.3831, -1.1108,\n",
              "                       -0.9564,  1.2217, -1.7417,  0.5279, -1.6639, -1.6024, -0.1644,  1.2349,\n",
              "                       -0.3208, -0.6113,  0.4955,  2.3186, -1.3179, -1.9655, -1.2760, -1.3484,\n",
              "                       -1.2645, -0.4727, -1.5405, -1.1187, -0.9859, -1.1331]])),\n",
              "             ('res.0.bias', tensor([0.7630]))])"
            ]
          },
          "metadata": {
            "tags": []
          },
          "execution_count": 232
        }
      ]
    },
    {
      "cell_type": "code",
      "metadata": {
        "id": "3tKbCWJM0XON"
      },
      "source": [
        "torch.save(model.state_dict(),'my_model.pt')"
      ],
      "execution_count": 233,
      "outputs": []
    },
    {
      "cell_type": "code",
      "metadata": {
        "colab": {
          "base_uri": "https://localhost:8080/"
        },
        "id": "eLa-X-XC1eXa",
        "outputId": "f38e7cc2-cab5-480c-d3c5-1efabeeea6df"
      },
      "source": [
        "!ls"
      ],
      "execution_count": 234,
      "outputs": [
        {
          "output_type": "stream",
          "text": [
            "my_model.pt  sample_data\n"
          ],
          "name": "stdout"
        }
      ]
    },
    {
      "cell_type": "code",
      "metadata": {
        "id": "1Dt4olDs1mra"
      },
      "source": [
        "model2 = Model(dim=X_train.shape[1])"
      ],
      "execution_count": 235,
      "outputs": []
    },
    {
      "cell_type": "code",
      "metadata": {
        "colab": {
          "base_uri": "https://localhost:8080/"
        },
        "id": "z0WcVpkd133W",
        "outputId": "0e7acd5d-0142-4e12-af2f-eeb114b6525e"
      },
      "source": [
        "model2.load_state_dict(torch.load('my_model.pt'))"
      ],
      "execution_count": 236,
      "outputs": [
        {
          "output_type": "execute_result",
          "data": {
            "text/plain": [
              "<All keys matched successfully>"
            ]
          },
          "metadata": {
            "tags": []
          },
          "execution_count": 236
        }
      ]
    },
    {
      "cell_type": "code",
      "metadata": {
        "id": "ah1siaCo1_qV"
      },
      "source": [
        ""
      ],
      "execution_count": 236,
      "outputs": []
    }
  ]
}