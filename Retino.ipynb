{
  "nbformat": 4,
  "nbformat_minor": 0,
  "metadata": {
    "colab": {
      "name": "Retino.ipynb",
      "provenance": [],
      "collapsed_sections": [],
      "authorship_tag": "ABX9TyN/lHypOQVfAaRb804o+MVn",
      "include_colab_link": true
    },
    "kernelspec": {
      "name": "python3",
      "display_name": "Python 3"
    },
    "language_info": {
      "name": "python"
    },
    "accelerator": "GPU"
  },
  "cells": [
    {
      "cell_type": "markdown",
      "metadata": {
        "id": "view-in-github",
        "colab_type": "text"
      },
      "source": [
        "<a href=\"https://colab.research.google.com/github/vijayshankarrealdeal/GoogleColab/blob/main/Retino.ipynb\" target=\"_parent\"><img src=\"https://colab.research.google.com/assets/colab-badge.svg\" alt=\"Open In Colab\"/></a>"
      ]
    },
    {
      "cell_type": "code",
      "metadata": {
        "id": "3MO_rRY64GgK"
      },
      "source": [
        "! mkdir ~/.kaggle\n",
        "! cp kaggle.json ~/.kaggle/\n",
        "! chmod 600 ~/.kaggle/kaggle.json"
      ],
      "execution_count": 1,
      "outputs": []
    },
    {
      "cell_type": "code",
      "metadata": {
        "id": "8H_9yTjc4OdI",
        "colab": {
          "base_uri": "https://localhost:8080/"
        },
        "outputId": "894095ab-fbcd-4fb4-d974-48cb2585c3b5"
      },
      "source": [
        "!kaggle datasets download -d tanlikesmath/diabetic-retinopathy-resized"
      ],
      "execution_count": 2,
      "outputs": [
        {
          "output_type": "stream",
          "text": [
            "Downloading diabetic-retinopathy-resized.zip to /content\n",
            "100% 7.24G/7.25G [02:50<00:00, 57.0MB/s]\n",
            "100% 7.25G/7.25G [02:50<00:00, 45.6MB/s]\n"
          ],
          "name": "stdout"
        }
      ]
    },
    {
      "cell_type": "code",
      "metadata": {
        "id": "HfD8rcFD4SAT"
      },
      "source": [
        "!unzip '/content/diabetic-retinopathy-resized.zip' -d '/content/data'"
      ],
      "execution_count": null,
      "outputs": []
    },
    {
      "cell_type": "code",
      "metadata": {
        "id": "pf3FxNeY6FZH"
      },
      "source": [
        "import shutil"
      ],
      "execution_count": 4,
      "outputs": []
    },
    {
      "cell_type": "code",
      "metadata": {
        "id": "NV6Nj7uP5ChC"
      },
      "source": [
        "mydir= '/content/data/resized_train_cropped'\n",
        "shutil.rmtree(mydir)"
      ],
      "execution_count": 5,
      "outputs": []
    },
    {
      "cell_type": "code",
      "metadata": {
        "id": "Y12Vn99g6HC1"
      },
      "source": [
        "import pandas as pd\n",
        "import os\n",
        "import matplotlib.pyplot as plt\n",
        "import numpy as np"
      ],
      "execution_count": 35,
      "outputs": []
    },
    {
      "cell_type": "code",
      "metadata": {
        "id": "jdZyAVoe6fNr"
      },
      "source": [
        "data = pd.read_csv('/content/data/trainLabels.csv')"
      ],
      "execution_count": 7,
      "outputs": []
    },
    {
      "cell_type": "code",
      "metadata": {
        "colab": {
          "base_uri": "https://localhost:8080/",
          "height": 206
        },
        "id": "YuOfUTvs6p44",
        "outputId": "a582ab97-e716-45b8-ffe1-4c89dba7665e"
      },
      "source": [
        "data.head()"
      ],
      "execution_count": 8,
      "outputs": [
        {
          "output_type": "execute_result",
          "data": {
            "text/html": [
              "<div>\n",
              "<style scoped>\n",
              "    .dataframe tbody tr th:only-of-type {\n",
              "        vertical-align: middle;\n",
              "    }\n",
              "\n",
              "    .dataframe tbody tr th {\n",
              "        vertical-align: top;\n",
              "    }\n",
              "\n",
              "    .dataframe thead th {\n",
              "        text-align: right;\n",
              "    }\n",
              "</style>\n",
              "<table border=\"1\" class=\"dataframe\">\n",
              "  <thead>\n",
              "    <tr style=\"text-align: right;\">\n",
              "      <th></th>\n",
              "      <th>image</th>\n",
              "      <th>level</th>\n",
              "    </tr>\n",
              "  </thead>\n",
              "  <tbody>\n",
              "    <tr>\n",
              "      <th>0</th>\n",
              "      <td>10_left</td>\n",
              "      <td>0</td>\n",
              "    </tr>\n",
              "    <tr>\n",
              "      <th>1</th>\n",
              "      <td>10_right</td>\n",
              "      <td>0</td>\n",
              "    </tr>\n",
              "    <tr>\n",
              "      <th>2</th>\n",
              "      <td>13_left</td>\n",
              "      <td>0</td>\n",
              "    </tr>\n",
              "    <tr>\n",
              "      <th>3</th>\n",
              "      <td>13_right</td>\n",
              "      <td>0</td>\n",
              "    </tr>\n",
              "    <tr>\n",
              "      <th>4</th>\n",
              "      <td>15_left</td>\n",
              "      <td>1</td>\n",
              "    </tr>\n",
              "  </tbody>\n",
              "</table>\n",
              "</div>"
            ],
            "text/plain": [
              "      image  level\n",
              "0   10_left      0\n",
              "1  10_right      0\n",
              "2   13_left      0\n",
              "3  13_right      0\n",
              "4   15_left      1"
            ]
          },
          "metadata": {},
          "execution_count": 8
        }
      ]
    },
    {
      "cell_type": "code",
      "metadata": {
        "colab": {
          "base_uri": "https://localhost:8080/"
        },
        "id": "GRB0EzQn6spd",
        "outputId": "98e3effd-5647-4269-deae-8835302e1441"
      },
      "source": [
        "len(data)"
      ],
      "execution_count": 9,
      "outputs": [
        {
          "output_type": "execute_result",
          "data": {
            "text/plain": [
              "35126"
            ]
          },
          "metadata": {},
          "execution_count": 9
        }
      ]
    },
    {
      "cell_type": "code",
      "metadata": {
        "id": "jQy3P8O37FwI"
      },
      "source": [
        "base_path = '/content/data/resized_train/resized_train'"
      ],
      "execution_count": 10,
      "outputs": []
    },
    {
      "cell_type": "code",
      "metadata": {
        "id": "tVOig4G96x9M"
      },
      "source": [
        "os.listdir(base_path)"
      ],
      "execution_count": null,
      "outputs": []
    },
    {
      "cell_type": "code",
      "metadata": {
        "id": "xbBEOC1w-qji"
      },
      "source": [
        "# 0 - No DR\n",
        "# 1 - Mild\n",
        "# 2 - Moderate\n",
        "# 3 - Severe\n",
        "# 4 - Proliferative DR"
      ],
      "execution_count": 12,
      "outputs": []
    },
    {
      "cell_type": "code",
      "metadata": {
        "id": "7n9dMAhL-XQE"
      },
      "source": [
        "!mkdir train"
      ],
      "execution_count": 13,
      "outputs": []
    },
    {
      "cell_type": "code",
      "metadata": {
        "colab": {
          "base_uri": "https://localhost:8080/"
        },
        "id": "BCsFgdn2_QVo",
        "outputId": "1a8141fc-a32f-4e5d-bf32-c351ff79d5a9"
      },
      "source": [
        "cd train"
      ],
      "execution_count": 14,
      "outputs": [
        {
          "output_type": "stream",
          "text": [
            "/content/train\n"
          ],
          "name": "stdout"
        }
      ]
    },
    {
      "cell_type": "code",
      "metadata": {
        "id": "fq-UMI1b_RjK"
      },
      "source": [
        "!mkdir 0\n",
        "!mkdir 1\n",
        "!mkdir 2\n",
        "!mkdir 3\n",
        "!mkdir 4"
      ],
      "execution_count": 15,
      "outputs": []
    },
    {
      "cell_type": "code",
      "metadata": {
        "colab": {
          "base_uri": "https://localhost:8080/"
        },
        "id": "XdP876U7_D10",
        "outputId": "1bcd7d3b-5f50-4f67-ad06-50489384ceaf"
      },
      "source": [
        "cd .."
      ],
      "execution_count": 16,
      "outputs": [
        {
          "output_type": "stream",
          "text": [
            "/content\n"
          ],
          "name": "stdout"
        }
      ]
    },
    {
      "cell_type": "code",
      "metadata": {
        "id": "l80x6jm3-9hr"
      },
      "source": [
        "!mkdir test"
      ],
      "execution_count": 17,
      "outputs": []
    },
    {
      "cell_type": "code",
      "metadata": {
        "colab": {
          "base_uri": "https://localhost:8080/"
        },
        "id": "0RHTsRDC_Lpu",
        "outputId": "536da536-34c5-426a-d5fd-c7f9261209fd"
      },
      "source": [
        "cd test"
      ],
      "execution_count": 18,
      "outputs": [
        {
          "output_type": "stream",
          "text": [
            "/content/test\n"
          ],
          "name": "stdout"
        }
      ]
    },
    {
      "cell_type": "code",
      "metadata": {
        "id": "R53kcANj_OnR"
      },
      "source": [
        "!mkdir 0\n",
        "!mkdir 1\n",
        "!mkdir 2\n",
        "!mkdir 3\n",
        "!mkdir 4"
      ],
      "execution_count": 19,
      "outputs": []
    },
    {
      "cell_type": "code",
      "metadata": {
        "id": "Uhh7x14Y_j49"
      },
      "source": [
        "def give_folder_name(break_point,folder_value,main_path,file):\n",
        "  if break_point < 27000:\n",
        "    train_path = '/content/train/' + str(folder_value) + '/' + file\n",
        "    if folder_value == 0:\n",
        "      shutil.copy(main_path,train_path)\n",
        "    elif folder_value == 1:\n",
        "      shutil.copy(main_path,train_path)\n",
        "    elif folder_value == 2:\n",
        "      shutil.copy(main_path,train_path)\n",
        "    elif folder_value == 3:\n",
        "      shutil.copy(main_path,train_path)\n",
        "    elif folder_value == 4:\n",
        "      shutil.copy(main_path,train_path)\n",
        "\n",
        "  else:\n",
        "    test_path = '/content/test/' + str(folder_value) + '/' + file\n",
        "\n",
        "    if folder_value == 0:\n",
        "      shutil.copy( main_path,test_path)\n",
        "    elif folder_value == 1:\n",
        "      shutil.copy( main_path,test_path)\n",
        "    elif folder_value == 2:\n",
        "      shutil.copy( main_path,test_path)\n",
        "    elif folder_value == 3:\n",
        "      shutil.copy( main_path,test_path)\n",
        "    elif folder_value == 4:\n",
        "      shutil.copy( main_path,test_path)\n"
      ],
      "execution_count": 20,
      "outputs": []
    },
    {
      "cell_type": "code",
      "metadata": {
        "id": "nsxYIvUL7hUK"
      },
      "source": [
        "count = 0\n",
        "for image  in os.listdir(base_path):\n",
        "  t = data[data['image'] == image[:-5]]\n",
        "  main_path = base_path +'/'+str(t['image'].values.squeeze()) + '.jpeg'\n",
        "  value = int(t['level'].values)\n",
        "\n",
        "  file_name = str(t['image'].values.squeeze()) + '.jpeg'\n",
        "  give_folder_name(count , value , main_path , file_name)\n",
        "  count += 1 \n",
        "  print(t.values.squeeze())"
      ],
      "execution_count": null,
      "outputs": []
    },
    {
      "cell_type": "code",
      "metadata": {
        "id": "Bkpf2BiU8RYA"
      },
      "source": [
        "train_len = len(os.listdir('/content/train/0') + os.listdir('/content/train/1') +os.listdir('/content/train/2') +os.listdir('/content/train/3') ),os.listdir('/content/train/4')"
      ],
      "execution_count": 22,
      "outputs": []
    },
    {
      "cell_type": "code",
      "metadata": {
        "id": "sayJk-YmJzMc"
      },
      "source": [
        "test_len = test_len = len(os.listdir('/content/test/0') + os.listdir('/content/test/1') +os.listdir('/content/test/2') +os.listdir('/content/test/3') ),os.listdir('/content/test/4')"
      ],
      "execution_count": 23,
      "outputs": []
    },
    {
      "cell_type": "code",
      "metadata": {
        "colab": {
          "base_uri": "https://localhost:8080/"
        },
        "id": "7BHDf4nwRi4N",
        "outputId": "144d1f5a-cf39-4ef2-f894-ddfc6fec7a2d"
      },
      "source": [
        "train_test_ratio = test_len[0]/train_len[0]\n",
        "train_test_ratio*100"
      ],
      "execution_count": 24,
      "outputs": [
        {
          "output_type": "execute_result",
          "data": {
            "text/plain": [
              "30.04118336041108"
            ]
          },
          "metadata": {},
          "execution_count": 24
        }
      ]
    },
    {
      "cell_type": "code",
      "metadata": {
        "id": "QlTb_UesLzeo"
      },
      "source": [
        "import tensorflow as tf\n",
        "from keras.preprocessing.image import ImageDataGenerator"
      ],
      "execution_count": 25,
      "outputs": []
    },
    {
      "cell_type": "code",
      "metadata": {
        "id": "nLZ_-x91RJb5"
      },
      "source": [
        "datagen = ImageDataGenerator(\n",
        "    featurewise_center=False,  \n",
        "    samplewise_center=False,  \n",
        "    featurewise_std_normalization=False,  \n",
        "    samplewise_std_normalization=False,  \n",
        "    zca_whitening=False,  \n",
        "    rotation_range=10,\n",
        "    zoom_range = 0.1, \n",
        "    rescale = 1./255,\n",
        "    width_shift_range=0.1, \n",
        "    height_shift_range=0.1,\n",
        "    horizontal_flip=True, \n",
        "    vertical_flip=False)"
      ],
      "execution_count": 26,
      "outputs": []
    },
    {
      "cell_type": "code",
      "metadata": {
        "colab": {
          "base_uri": "https://localhost:8080/"
        },
        "id": "hKtHnAl0UbnF",
        "outputId": "baf7c4ee-3497-4419-9101-1f7534beffda"
      },
      "source": [
        "train_data = datagen.flow_from_directory(\n",
        "    '/content/train', \n",
        "    target_size=(256, 256), \n",
        "    class_mode='categorical',\n",
        "    batch_size=64,\n",
        "    shuffle=True,\n",
        "    )"
      ],
      "execution_count": 27,
      "outputs": [
        {
          "output_type": "stream",
          "text": [
            "Found 27000 images belonging to 5 classes.\n"
          ],
          "name": "stdout"
        }
      ]
    },
    {
      "cell_type": "code",
      "metadata": {
        "colab": {
          "base_uri": "https://localhost:8080/"
        },
        "id": "SXgMLE3pawYu",
        "outputId": "df102858-f6fc-4551-b0f2-eeb37f528c04"
      },
      "source": [
        "len(train_data.classes)"
      ],
      "execution_count": 28,
      "outputs": [
        {
          "output_type": "execute_result",
          "data": {
            "text/plain": [
              "27000"
            ]
          },
          "metadata": {},
          "execution_count": 28
        }
      ]
    },
    {
      "cell_type": "code",
      "metadata": {
        "id": "gEPIWZK_XlDj"
      },
      "source": [
        "test_genrator = ImageDataGenerator(\n",
        "    rescale = 1./255,\n",
        ")"
      ],
      "execution_count": 29,
      "outputs": []
    },
    {
      "cell_type": "code",
      "metadata": {
        "colab": {
          "base_uri": "https://localhost:8080/"
        },
        "id": "Ejf1EofoU-G2",
        "outputId": "64075bfb-7a84-4fa9-a025-576719514af5"
      },
      "source": [
        "test_data = test_genrator.flow_from_directory(\n",
        "    '/content/test'\n",
        ")"
      ],
      "execution_count": 30,
      "outputs": [
        {
          "output_type": "stream",
          "text": [
            "Found 8126 images belonging to 5 classes.\n"
          ],
          "name": "stdout"
        }
      ]
    },
    {
      "cell_type": "code",
      "metadata": {
        "id": "frdPz1RNZyem"
      },
      "source": [
        "model = tf.keras.Sequential([\n",
        "    tf.keras.layers.Conv2D(64,kernel_size=(3,3), activation='relu',input_shape=(256,256,3)),\n",
        "    tf.keras.layers.Conv2D(64,kernel_size=(3,3), activation='relu'),\n",
        "    tf.keras.layers.MaxPooling2D(pool_size = (2,2)),\n",
        "    tf.keras.layers.Conv2D(128,kernel_size=(3,3), activation='relu'),\n",
        "    tf.keras.layers.Conv2D(128,kernel_size=(3,3), activation='relu'),\n",
        "    tf.keras.layers.MaxPooling2D(pool_size = (2,2)),\n",
        "    tf.keras.layers.Conv2D(128,kernel_size=(3,3), activation='relu'),\n",
        "    tf.keras.layers.Conv2D(128,kernel_size=(3,3), activation='relu'),\n",
        "    tf.keras.layers.MaxPooling2D(pool_size = (2,2)),\n",
        "    tf.keras.layers.Flatten(),\n",
        "    tf.keras.layers.Dense(units = 256,activation='relu'),\n",
        "    tf.keras.layers.Dense(units = 5,activation='softmax')]\n",
        ")"
      ],
      "execution_count": 31,
      "outputs": []
    },
    {
      "cell_type": "code",
      "metadata": {
        "colab": {
          "base_uri": "https://localhost:8080/"
        },
        "id": "IB2HkmjQuQy_",
        "outputId": "ba23f9aa-3fb0-4458-f64f-ae97d91d3baf"
      },
      "source": [
        "model.summary()"
      ],
      "execution_count": 42,
      "outputs": [
        {
          "output_type": "stream",
          "text": [
            "Model: \"sequential\"\n",
            "_________________________________________________________________\n",
            "Layer (type)                 Output Shape              Param #   \n",
            "=================================================================\n",
            "conv2d (Conv2D)              (None, 254, 254, 64)      1792      \n",
            "_________________________________________________________________\n",
            "conv2d_1 (Conv2D)            (None, 252, 252, 64)      36928     \n",
            "_________________________________________________________________\n",
            "max_pooling2d (MaxPooling2D) (None, 126, 126, 64)      0         \n",
            "_________________________________________________________________\n",
            "conv2d_2 (Conv2D)            (None, 124, 124, 128)     73856     \n",
            "_________________________________________________________________\n",
            "conv2d_3 (Conv2D)            (None, 122, 122, 128)     147584    \n",
            "_________________________________________________________________\n",
            "max_pooling2d_1 (MaxPooling2 (None, 61, 61, 128)       0         \n",
            "_________________________________________________________________\n",
            "conv2d_4 (Conv2D)            (None, 59, 59, 128)       147584    \n",
            "_________________________________________________________________\n",
            "conv2d_5 (Conv2D)            (None, 57, 57, 128)       147584    \n",
            "_________________________________________________________________\n",
            "max_pooling2d_2 (MaxPooling2 (None, 28, 28, 128)       0         \n",
            "_________________________________________________________________\n",
            "flatten (Flatten)            (None, 100352)            0         \n",
            "_________________________________________________________________\n",
            "dense (Dense)                (None, 256)               25690368  \n",
            "_________________________________________________________________\n",
            "dense_1 (Dense)              (None, 5)                 1285      \n",
            "=================================================================\n",
            "Total params: 26,246,981\n",
            "Trainable params: 26,246,981\n",
            "Non-trainable params: 0\n",
            "_________________________________________________________________\n"
          ],
          "name": "stdout"
        }
      ]
    },
    {
      "cell_type": "code",
      "metadata": {
        "id": "ajrY9LpWdHdN"
      },
      "source": [
        "model.compile(optimizer='Adam',metrics=['accuracy'],loss='categorical_crossentropy')"
      ],
      "execution_count": 32,
      "outputs": []
    },
    {
      "cell_type": "code",
      "metadata": {
        "colab": {
          "base_uri": "https://localhost:8080/"
        },
        "id": "P3-pZp_yek-a",
        "outputId": "28f1f860-62b2-4b0e-f79e-145d39ece11e"
      },
      "source": [
        "history = model.fit(train_data,epochs=4,batch_size=64)"
      ],
      "execution_count": 38,
      "outputs": [
        {
          "output_type": "stream",
          "text": [
            "Epoch 1/4\n",
            "422/422 [==============================] - 819s 2s/step - loss: 0.8698 - accuracy: 0.7337\n",
            "Epoch 2/4\n",
            "422/422 [==============================] - 816s 2s/step - loss: 0.8695 - accuracy: 0.7337\n",
            "Epoch 3/4\n",
            "422/422 [==============================] - 802s 2s/step - loss: 0.8665 - accuracy: 0.7337\n",
            "Epoch 4/4\n",
            "422/422 [==============================] - 812s 2s/step - loss: 0.8672 - accuracy: 0.7337\n",
            "422/422 [==============================] - 812s 2s/step - loss: 0.8672 - accuracy: 0.7337\n"
          ],
          "name": "stdout"
        }
      ]
    },
    {
      "cell_type": "code",
      "metadata": {
        "colab": {
          "base_uri": "https://localhost:8080/",
          "height": 265
        },
        "id": "xsFAeHF5e3OD",
        "outputId": "e11e60be-0349-482b-f526-b1ee580b06ad"
      },
      "source": [
        "plt.plot(history.history['loss'],label='loss')\n",
        "plt.plot(history.history['accuracy'],label='accuracy')\n",
        "plt.legend()\n",
        "plt.show()"
      ],
      "execution_count": 40,
      "outputs": [
        {
          "output_type": "display_data",
          "data": {
            "image/png": "[encoded data removed]",
            "text/plain": [
              "<Figure size 432x288 with 1 Axes>"
            ]
          },
          "metadata": {
            "needs_background": "light"
          }
        }
      ]
    },
    {
      "cell_type": "code",
      "metadata": {
        "id": "HEkvn6No17cy"
      },
      "source": [
        "predict = model.predict(test_data)"
      ],
      "execution_count": 69,
      "outputs": []
    },
    {
      "cell_type": "code",
      "metadata": {
        "id": "PU8P-ymP3DSm"
      },
      "source": [
        "predict_ = []\n",
        "predict_ = np.argmax(predict,axis=1)"
      ],
      "execution_count": 71,
      "outputs": []
    },
    {
      "cell_type": "code",
      "metadata": {
        "id": "kLS5SFS_2ARU"
      },
      "source": [
        "import seaborn as sns\n",
        "from sklearn.metrics import accuracy_score\n",
        "from sklearn.metrics import classification_report\n",
        "from sklearn.metrics import confusion_matrix"
      ],
      "execution_count": 70,
      "outputs": []
    },
    {
      "cell_type": "code",
      "metadata": {
        "colab": {
          "base_uri": "https://localhost:8080/",
          "height": 287
        },
        "id": "tE9jDQ8g5JSv",
        "outputId": "7be07b7e-1114-4858-c1aa-8c9c78d7ee17"
      },
      "source": [
        "cm = confusion_matrix(test_data.classes,predict_)\n",
        "sns.heatmap(cm,annot=True)"
      ],
      "execution_count": 76,
      "outputs": [
        {
          "output_type": "execute_result",
          "data": {
            "text/plain": [
              "<matplotlib.axes._subplots.AxesSubplot at 0x7f4493fc1a50>"
            ]
          },
          "metadata": {},
          "execution_count": 76
        },
        {
          "output_type": "display_data",
          "data": {
            "image/png": "[encoded data removed]",
            "text/plain": [
              "<Figure size 432x288 with 2 Axes>"
            ]
          },
          "metadata": {
            "needs_background": "light"
          }
        }
      ]
    },
    {
      "cell_type": "code",
      "metadata": {
        "colab": {
          "base_uri": "https://localhost:8080/"
        },
        "id": "L7WkARtV2tVP",
        "outputId": "06b0fa05-2fa6-4af7-cbaa-a2bf97ff7d7d"
      },
      "source": [
        "accuracy_score(test_data.classes,predict_)*100"
      ],
      "execution_count": 72,
      "outputs": [
        {
          "output_type": "execute_result",
          "data": {
            "text/plain": [
              "73.83706620723603"
            ]
          },
          "metadata": {},
          "execution_count": 72
        }
      ]
    },
    {
      "cell_type": "code",
      "metadata": {
        "id": "qftaezGw6UTu"
      },
      "source": [
        "labels__ = {\n",
        "0 : 'No DR',\n",
        "1 : 'Mild',\n",
        "2 : 'Moderate',\n",
        "3 : 'Severe',\n",
        "4 : 'Proliferative DR',\n",
        "}"
      ],
      "execution_count": 87,
      "outputs": []
    },
    {
      "cell_type": "code",
      "metadata": {
        "colab": {
          "base_uri": "https://localhost:8080/"
        },
        "id": "yfdqyqdV7gr_",
        "outputId": "ad07a77d-f8fe-4699-83c9-917c7555fe54"
      },
      "source": [
        "labels__.values()"
      ],
      "execution_count": 91,
      "outputs": [
        {
          "output_type": "execute_result",
          "data": {
            "text/plain": [
              "dict_values(['No DR', 'Mild', 'Moderate', 'Severe', 'Proliferative DR'])"
            ]
          },
          "metadata": {},
          "execution_count": 91
        }
      ]
    },
    {
      "cell_type": "code",
      "metadata": {
        "colab": {
          "base_uri": "https://localhost:8080/"
        },
        "id": "aHZ6v0P55aVb",
        "outputId": "6cab1743-1530-4e55-90dc-e5fda63e85ed"
      },
      "source": [
        "clf = classification_report(test_data.classes,predict_,labels=list(labels__.keys()),\n",
        "                            \n",
        "                            target_names=list(labels__.values()),\n",
        "                            output_dict=True)"
      ],
      "execution_count": 96,
      "outputs": [
        {
          "output_type": "stream",
          "text": [
            "/usr/local/lib/python3.7/dist-packages/sklearn/metrics/_classification.py:1272: UndefinedMetricWarning: Precision and F-score are ill-defined and being set to 0.0 in labels with no predicted samples. Use `zero_division` parameter to control this behavior.\n",
            "  _warn_prf(average, modifier, msg_start, len(result))\n"
          ],
          "name": "stderr"
        }
      ]
    },
    {
      "cell_type": "code",
      "metadata": {
        "colab": {
          "base_uri": "https://localhost:8080/",
          "height": 287
        },
        "id": "X8PJIkpI78_U",
        "outputId": "a8ee00db-8b69-4cf7-c5f9-e7c41063aab5"
      },
      "source": [
        "sns.heatmap(pd.DataFrame(clf).iloc[:-1, :].T, annot=True)"
      ],
      "execution_count": 98,
      "outputs": [
        {
          "output_type": "execute_result",
          "data": {
            "text/plain": [
              "<matplotlib.axes._subplots.AxesSubplot at 0x7f4493db7450>"
            ]
          },
          "metadata": {},
          "execution_count": 98
        },
        {
          "output_type": "display_data",
          "data": {
            "image/png": "[encoded data removed]",
            "text/plain": [
              "<Figure size 432x288 with 2 Axes>"
            ]
          },
          "metadata": {
            "needs_background": "light"
          }
        }
      ]
    },
    {
      "cell_type": "code",
      "metadata": {
        "id": "tC-XPezYpL9Z"
      },
      "source": [
        "model.save('/content/my_model.h5')"
      ],
      "execution_count": 80,
      "outputs": []
    },
    {
      "cell_type": "code",
      "metadata": {
        "id": "JxCbW23H8L_F"
      },
      "source": [
        "import PIL.Image as Image\n",
        "def for_version_test(dir_):\n",
        "  test_oneImage = '/content/test/'+ str(dir_) \n",
        "  preX = 0\n",
        "  total = len(os.listdir(test_oneImage))\n",
        "  for i in os.listdir(test_oneImage):\n",
        "    image = test_oneImage + '/' + i\n",
        "    im = Image.open(image)\n",
        "    im = im.resize((256,256))\n",
        "    im = np.asarray(im,dtype='float32')\n",
        "    im = im.reshape(1,256,256,3)\n",
        "    j = model.predict(im)\n",
        "    if np.argmax(j) == dir_:\n",
        "      preX += 1\n",
        "  return preX,total"
      ],
      "execution_count": 131,
      "outputs": []
    },
    {
      "cell_type": "code",
      "metadata": {
        "colab": {
          "base_uri": "https://localhost:8080/"
        },
        "id": "MNX-O32w-nnm",
        "outputId": "433462d4-c025-4d95-ea1c-09165b1a575b"
      },
      "source": [
        "#for NO_DR\n",
        "for_version_test(0)"
      ],
      "execution_count": 132,
      "outputs": [
        {
          "output_type": "execute_result",
          "data": {
            "text/plain": [
              "(3806, 6000)"
            ]
          },
          "metadata": {},
          "execution_count": 132
        }
      ]
    },
    {
      "cell_type": "code",
      "metadata": {
        "colab": {
          "base_uri": "https://localhost:8080/"
        },
        "id": "LVPVpACUAGXo",
        "outputId": "9c1d0122-c24b-4768-8ae0-17f32d82115f"
      },
      "source": [
        "#For Mild\n",
        "for_version_test(1)"
      ],
      "execution_count": 133,
      "outputs": [
        {
          "output_type": "execute_result",
          "data": {
            "text/plain": [
              "(1, 565)"
            ]
          },
          "metadata": {},
          "execution_count": 133
        }
      ]
    },
    {
      "cell_type": "code",
      "metadata": {
        "colab": {
          "base_uri": "https://localhost:8080/"
        },
        "id": "oLlzXdnxAyN0",
        "outputId": "6236441b-7d18-45cd-a259-8ac25d95dd8f"
      },
      "source": [
        "#For Moderate\n",
        "for_version_test(2)"
      ],
      "execution_count": 134,
      "outputs": [
        {
          "output_type": "execute_result",
          "data": {
            "text/plain": [
              "(513, 1176)"
            ]
          },
          "metadata": {},
          "execution_count": 134
        }
      ]
    },
    {
      "cell_type": "code",
      "metadata": {
        "colab": {
          "base_uri": "https://localhost:8080/"
        },
        "id": "ieyBPZtnA3Sb",
        "outputId": "de5165c5-a6a3-4c2f-bfbc-3775d3600159"
      },
      "source": [
        "#For Severe\n",
        "for_version_test(3)"
      ],
      "execution_count": 135,
      "outputs": [
        {
          "output_type": "execute_result",
          "data": {
            "text/plain": [
              "(0, 210)"
            ]
          },
          "metadata": {},
          "execution_count": 135
        }
      ]
    },
    {
      "cell_type": "code",
      "metadata": {
        "colab": {
          "base_uri": "https://localhost:8080/"
        },
        "id": "YSZ_tUnIA3t5",
        "outputId": "184d6bc1-9ab2-4274-9ea6-ee423f7f22c3"
      },
      "source": [
        "#For Proliferative DR\n",
        "for_version_test(4)"
      ],
      "execution_count": 136,
      "outputs": [
        {
          "output_type": "execute_result",
          "data": {
            "text/plain": [
              "(0, 175)"
            ]
          },
          "metadata": {},
          "execution_count": 136
        }
      ]
    },
    {
      "cell_type": "code",
      "metadata": {
        "id": "fhKv3YSYDQvL"
      },
      "source": [
        ""
      ],
      "execution_count": null,
      "outputs": []
    }
  ]
}