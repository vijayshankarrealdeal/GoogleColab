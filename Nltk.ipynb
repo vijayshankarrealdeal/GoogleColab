{
  "nbformat": 4,
  "nbformat_minor": 0,
  "metadata": {
    "colab": {
      "name": "Nltk",
      "provenance": [],
      "collapsed_sections": [],
      "authorship_tag": "ABX9TyNnzHE8oLlwBGYIwu7Jchtk",
      "include_colab_link": true
    },
    "kernelspec": {
      "name": "python3",
      "display_name": "Python 3"
    },
    "language_info": {
      "name": "python"
    }
  },
  "cells": [
    {
      "cell_type": "markdown",
      "metadata": {
        "id": "view-in-github",
        "colab_type": "text"
      },
      "source": [
        "<a href=\"https://colab.research.google.com/github/vijayshankarrealdeal/GoogleColab/blob/main/Nltk.ipynb\" target=\"_parent\"><img src=\"https://colab.research.google.com/assets/colab-badge.svg\" alt=\"Open In Colab\"/></a>"
      ]
    },
    {
      "cell_type": "code",
      "metadata": {
        "id": "LE2u77-JNQtq"
      },
      "source": [
        "# import libraries for reading data, exploring and plotting\n",
        "import numpy as np\n",
        "import pandas as pd\n",
        "import seaborn as sns\n",
        "import matplotlib.pyplot as plt\n",
        "from wordcloud import WordCloud, STOPWORDS, ImageColorGenerator\n",
        "%matplotlib inline\n",
        "# library for train test split\n",
        "from sklearn.model_selection import train_test_split\n",
        "# deep learning libraries for text pre-processing\n",
        "import tensorflow as tf\n",
        "from tensorflow.keras.preprocessing.text import Tokenizer\n",
        "from tensorflow.keras.preprocessing.sequence import pad_sequences\n",
        "# Modeling \n",
        "from tensorflow.keras.callbacks import EarlyStopping\n",
        "from tensorflow.keras.models import Sequential\n",
        "from tensorflow.keras.layers import Embedding, GlobalAveragePooling1D, Dense, Dropout, LSTM, Bidirectional"
      ],
      "execution_count": null,
      "outputs": []
    },
    {
      "cell_type": "code",
      "metadata": {
        "colab": {
          "base_uri": "https://localhost:8080/",
          "height": 142
        },
        "id": "rKwbtLYRN5fI",
        "outputId": "863a511c-53d5-4a7b-c810-a16c0dbe246f"
      },
      "source": [
        "url = 'https://raw.githubusercontent.com/ShresthaSudip/SMS_Spam_Detection_DNN_LSTM_BiLSTM/master/SMSSpamCollection'\n",
        "messages = pd.read_csv(url, sep ='\\t',names=[\"label\", \"message\"])\n",
        "messages[:3]"
      ],
      "execution_count": null,
      "outputs": [
        {
          "output_type": "execute_result",
          "data": {
            "text/html": [
              "<div>\n",
              "<style scoped>\n",
              "    .dataframe tbody tr th:only-of-type {\n",
              "        vertical-align: middle;\n",
              "    }\n",
              "\n",
              "    .dataframe tbody tr th {\n",
              "        vertical-align: top;\n",
              "    }\n",
              "\n",
              "    .dataframe thead th {\n",
              "        text-align: right;\n",
              "    }\n",
              "</style>\n",
              "<table border=\"1\" class=\"dataframe\">\n",
              "  <thead>\n",
              "    <tr style=\"text-align: right;\">\n",
              "      <th></th>\n",
              "      <th>label</th>\n",
              "      <th>message</th>\n",
              "    </tr>\n",
              "  </thead>\n",
              "  <tbody>\n",
              "    <tr>\n",
              "      <th>0</th>\n",
              "      <td>ham</td>\n",
              "      <td>Go until jurong point, crazy.. Available only ...</td>\n",
              "    </tr>\n",
              "    <tr>\n",
              "      <th>1</th>\n",
              "      <td>ham</td>\n",
              "      <td>Ok lar... Joking wif u oni...</td>\n",
              "    </tr>\n",
              "    <tr>\n",
              "      <th>2</th>\n",
              "      <td>spam</td>\n",
              "      <td>Free entry in 2 a wkly comp to win FA Cup fina...</td>\n",
              "    </tr>\n",
              "  </tbody>\n",
              "</table>\n",
              "</div>"
            ],
            "text/plain": [
              "  label                                            message\n",
              "0   ham  Go until jurong point, crazy.. Available only ...\n",
              "1   ham                      Ok lar... Joking wif u oni...\n",
              "2  spam  Free entry in 2 a wkly comp to win FA Cup fina..."
            ]
          },
          "metadata": {
            "tags": []
          },
          "execution_count": 11
        }
      ]
    },
    {
      "cell_type": "code",
      "metadata": {
        "id": "BKFo2nk9OPnb"
      },
      "source": [
        "messages['label']= messages['label'].map({'ham': 0, 'spam': 1})\n"
      ],
      "execution_count": null,
      "outputs": []
    },
    {
      "cell_type": "code",
      "metadata": {
        "colab": {
          "base_uri": "https://localhost:8080/",
          "height": 419
        },
        "id": "SvLAL-h7O1yj",
        "outputId": "0319922a-8b45-4849-fa79-334b4a8ba7e9"
      },
      "source": [
        "messages"
      ],
      "execution_count": null,
      "outputs": [
        {
          "output_type": "execute_result",
          "data": {
            "text/html": [
              "<div>\n",
              "<style scoped>\n",
              "    .dataframe tbody tr th:only-of-type {\n",
              "        vertical-align: middle;\n",
              "    }\n",
              "\n",
              "    .dataframe tbody tr th {\n",
              "        vertical-align: top;\n",
              "    }\n",
              "\n",
              "    .dataframe thead th {\n",
              "        text-align: right;\n",
              "    }\n",
              "</style>\n",
              "<table border=\"1\" class=\"dataframe\">\n",
              "  <thead>\n",
              "    <tr style=\"text-align: right;\">\n",
              "      <th></th>\n",
              "      <th>label</th>\n",
              "      <th>message</th>\n",
              "    </tr>\n",
              "  </thead>\n",
              "  <tbody>\n",
              "    <tr>\n",
              "      <th>0</th>\n",
              "      <td>0</td>\n",
              "      <td>Go until jurong point, crazy.. Available only ...</td>\n",
              "    </tr>\n",
              "    <tr>\n",
              "      <th>1</th>\n",
              "      <td>0</td>\n",
              "      <td>Ok lar... Joking wif u oni...</td>\n",
              "    </tr>\n",
              "    <tr>\n",
              "      <th>2</th>\n",
              "      <td>1</td>\n",
              "      <td>Free entry in 2 a wkly comp to win FA Cup fina...</td>\n",
              "    </tr>\n",
              "    <tr>\n",
              "      <th>3</th>\n",
              "      <td>0</td>\n",
              "      <td>U dun say so early hor... U c already then say...</td>\n",
              "    </tr>\n",
              "    <tr>\n",
              "      <th>4</th>\n",
              "      <td>0</td>\n",
              "      <td>Nah I don't think he goes to usf, he lives aro...</td>\n",
              "    </tr>\n",
              "    <tr>\n",
              "      <th>...</th>\n",
              "      <td>...</td>\n",
              "      <td>...</td>\n",
              "    </tr>\n",
              "    <tr>\n",
              "      <th>5567</th>\n",
              "      <td>1</td>\n",
              "      <td>This is the 2nd time we have tried 2 contact u...</td>\n",
              "    </tr>\n",
              "    <tr>\n",
              "      <th>5568</th>\n",
              "      <td>0</td>\n",
              "      <td>Will ü b going to esplanade fr home?</td>\n",
              "    </tr>\n",
              "    <tr>\n",
              "      <th>5569</th>\n",
              "      <td>0</td>\n",
              "      <td>Pity, * was in mood for that. So...any other s...</td>\n",
              "    </tr>\n",
              "    <tr>\n",
              "      <th>5570</th>\n",
              "      <td>0</td>\n",
              "      <td>The guy did some bitching but I acted like i'd...</td>\n",
              "    </tr>\n",
              "    <tr>\n",
              "      <th>5571</th>\n",
              "      <td>0</td>\n",
              "      <td>Rofl. Its true to its name</td>\n",
              "    </tr>\n",
              "  </tbody>\n",
              "</table>\n",
              "<p>5572 rows × 2 columns</p>\n",
              "</div>"
            ],
            "text/plain": [
              "      label                                            message\n",
              "0         0  Go until jurong point, crazy.. Available only ...\n",
              "1         0                      Ok lar... Joking wif u oni...\n",
              "2         1  Free entry in 2 a wkly comp to win FA Cup fina...\n",
              "3         0  U dun say so early hor... U c already then say...\n",
              "4         0  Nah I don't think he goes to usf, he lives aro...\n",
              "...     ...                                                ...\n",
              "5567      1  This is the 2nd time we have tried 2 contact u...\n",
              "5568      0               Will ü b going to esplanade fr home?\n",
              "5569      0  Pity, * was in mood for that. So...any other s...\n",
              "5570      0  The guy did some bitching but I acted like i'd...\n",
              "5571      0                         Rofl. Its true to its name\n",
              "\n",
              "[5572 rows x 2 columns]"
            ]
          },
          "metadata": {
            "tags": []
          },
          "execution_count": 13
        }
      ]
    },
    {
      "cell_type": "code",
      "metadata": {
        "id": "fYQ_7yzkPGdF"
      },
      "source": [
        "X = messages.iloc[:,1].values\n",
        "y = messages.iloc[:,0].values"
      ],
      "execution_count": null,
      "outputs": []
    },
    {
      "cell_type": "code",
      "metadata": {
        "id": "eiPgziW_Pk0T"
      },
      "source": [
        ""
      ],
      "execution_count": null,
      "outputs": []
    },
    {
      "cell_type": "code",
      "metadata": {
        "colab": {
          "base_uri": "https://localhost:8080/"
        },
        "id": "4PSg7wIiPMG0",
        "outputId": "cb9ce4fb-bba2-4c70-cd00-acdafc3fdbe1"
      },
      "source": [
        "X.reshape(-1,1)"
      ],
      "execution_count": null,
      "outputs": [
        {
          "output_type": "execute_result",
          "data": {
            "text/plain": [
              "array([['Go until jurong point, crazy.. Available only in bugis n great world la e buffet... Cine there got amore wat...'],\n",
              "       ['Ok lar... Joking wif u oni...'],\n",
              "       [\"Free entry in 2 a wkly comp to win FA Cup final tkts 21st May 2005. Text FA to 87121 to receive entry question(std txt rate)T&C's apply 08452810075over18's\"],\n",
              "       ...,\n",
              "       ['Pity, * was in mood for that. So...any other suggestions?'],\n",
              "       [\"The guy did some bitching but I acted like i'd be interested in buying something else next week and he gave it to us for free\"],\n",
              "       ['Rofl. Its true to its name']], dtype=object)"
            ]
          },
          "metadata": {
            "tags": []
          },
          "execution_count": 24
        }
      ]
    },
    {
      "cell_type": "code",
      "metadata": {
        "colab": {
          "base_uri": "https://localhost:8080/"
        },
        "id": "6BC763SVPSn8",
        "outputId": "cb5e710c-107a-426d-860c-b21e8b5bdba7"
      },
      "source": [
        "type(y)"
      ],
      "execution_count": null,
      "outputs": [
        {
          "output_type": "execute_result",
          "data": {
            "text/plain": [
              "numpy.ndarray"
            ]
          },
          "metadata": {
            "tags": []
          },
          "execution_count": 22
        }
      ]
    },
    {
      "cell_type": "code",
      "metadata": {
        "id": "k_0Vaj-HPAAW"
      },
      "source": [
        "train_msg, test_msg, train_labels, test_labels = train_test_split(X, y, test_size=0.2, random_state=434)"
      ],
      "execution_count": null,
      "outputs": []
    },
    {
      "cell_type": "code",
      "metadata": {
        "colab": {
          "base_uri": "https://localhost:8080/"
        },
        "id": "0sQHjcOnPnm6",
        "outputId": "d4821f12-02d2-4201-b50f-0ef1863036f4"
      },
      "source": [
        "train_msg"
      ],
      "execution_count": null,
      "outputs": [
        {
          "output_type": "execute_result",
          "data": {
            "text/plain": [
              "array(['Lol grr my mom is taking forever with my prescription. Pharmacy is like 2 minutes away. Ugh.',\n",
              "       'From here after The performance award is calculated every two month.not for current one month period..',\n",
              "       \"It's cool, we can last a little while. Getting more any time soon?\",\n",
              "       ...,\n",
              "       'UR awarded a City Break and could WIN a £200 Summer Shopping spree every WK. Txt STORE to 88039.SkilGme.TsCs087147403231Winawk!Age16+£1.50perWKsub',\n",
              "       \"Well keep in mind I've only got enough gas for one more round trip barring a sudden influx of cash\",\n",
              "       'Aiyo a bit pai seh ü noe... Scared he dun rem who i am then die... Hee... But he become better lookin oredi leh...'],\n",
              "      dtype=object)"
            ]
          },
          "metadata": {
            "tags": []
          },
          "execution_count": 26
        }
      ]
    },
    {
      "cell_type": "code",
      "metadata": {
        "id": "Tnofyln2Ps00"
      },
      "source": [
        "max_len = 50 \n",
        "trunc_type = \"post\" \n",
        "padding_type = \"post\" \n",
        "oov_tok = \"<OOV>\" \n",
        "vocab_size = 500"
      ],
      "execution_count": null,
      "outputs": []
    },
    {
      "cell_type": "code",
      "metadata": {
        "id": "ZBUYlcHAP7DU"
      },
      "source": [
        "tokenizer = Tokenizer(num_words = vocab_size, char_level=False, oov_token = oov_tok)\n",
        "tokenizer.fit_on_texts(train_msg)"
      ],
      "execution_count": null,
      "outputs": []
    },
    {
      "cell_type": "code",
      "metadata": {
        "id": "2SHEY6GQP8c5"
      },
      "source": [
        "word_index = tokenizer.word_index\n"
      ],
      "execution_count": null,
      "outputs": []
    },
    {
      "cell_type": "code",
      "metadata": {
        "colab": {
          "base_uri": "https://localhost:8080/"
        },
        "id": "QjcmNEj_QHY8",
        "outputId": "c044e530-795a-487f-e63b-f6988446ca9e"
      },
      "source": [
        "tot_words = len(word_index)\n",
        "print('There are %s unique tokens in training data. ' % tot_words)"
      ],
      "execution_count": null,
      "outputs": [
        {
          "output_type": "stream",
          "text": [
            "There are 8027 unique tokens in training data. \n"
          ],
          "name": "stdout"
        }
      ]
    },
    {
      "cell_type": "code",
      "metadata": {
        "id": "-vHadAmUQN8X"
      },
      "source": [
        "training_sequences = tokenizer.texts_to_sequences(train_msg)\n",
        "training_padded = pad_sequences (training_sequences, maxlen = max_len, padding = padding_type, truncating = trunc_type )\n",
        "testing_sequences = tokenizer.texts_to_sequences(test_msg)\n",
        "testing_padded = pad_sequences(testing_sequences, maxlen = max_len,\n",
        "padding = padding_type, truncating = trunc_type)"
      ],
      "execution_count": null,
      "outputs": []
    },
    {
      "cell_type": "code",
      "metadata": {
        "colab": {
          "base_uri": "https://localhost:8080/"
        },
        "id": "iCTXs06MQSd9",
        "outputId": "2c520a25-088f-4cb2-9bae-234a143b376b"
      },
      "source": [
        "print('Shape of training tensor: ', training_padded.shape)\n",
        "print('Shape of testing tensor: ', testing_padded.shape)\n"
      ],
      "execution_count": null,
      "outputs": [
        {
          "output_type": "stream",
          "text": [
            "Shape of training tensor:  (4457, 50)\n",
            "Shape of testing tensor:  (1115, 50)\n"
          ],
          "name": "stdout"
        }
      ]
    },
    {
      "cell_type": "code",
      "metadata": {
        "id": "jEmlkbQOQa6G"
      },
      "source": [
        "vocab_size = 500 # As defined earlier\n",
        "embeding_dim = 16\n",
        "drop_value = 0.2 # dropout\n",
        "n_dense = 24"
      ],
      "execution_count": null,
      "outputs": []
    },
    {
      "cell_type": "code",
      "metadata": {
        "id": "NvQNKa2XQdzx"
      },
      "source": [
        "model = Sequential()\n",
        "model.add(Embedding(vocab_size, embeding_dim, input_length=max_len))\n",
        "model.add(GlobalAveragePooling1D())\n",
        "model.add(Dense(24, activation='relu'))\n",
        "model.add(Dropout(drop_value))\n",
        "model.add(Dense(1, activation='sigmoid'))"
      ],
      "execution_count": null,
      "outputs": []
    },
    {
      "cell_type": "code",
      "metadata": {
        "id": "MTOJ_-fYQheb"
      },
      "source": [
        "model.compile(loss='binary_crossentropy',optimizer='adam' ,metrics=['accuracy'])"
      ],
      "execution_count": null,
      "outputs": []
    },
    {
      "cell_type": "code",
      "metadata": {
        "colab": {
          "base_uri": "https://localhost:8080/"
        },
        "id": "OR_ATYjnQkfv",
        "outputId": "30866256-c129-4a31-801b-e78db9118ad7"
      },
      "source": [
        "num_epochs = 30\n",
        "early_stop = EarlyStopping(monitor='val_loss', patience=3)\n",
        "history = model.fit(training_padded, train_labels, epochs=num_epochs, validation_data=(testing_padded, test_labels),callbacks =[early_stop], verbose=2)"
      ],
      "execution_count": null,
      "outputs": [
        {
          "output_type": "stream",
          "text": [
            "Epoch 1/30\n",
            "140/140 - 1s - loss: 0.5142 - accuracy: 0.8578 - val_loss: 0.3306 - val_accuracy: 0.8726\n",
            "Epoch 2/30\n",
            "140/140 - 0s - loss: 0.2960 - accuracy: 0.8647 - val_loss: 0.2292 - val_accuracy: 0.8780\n",
            "Epoch 3/30\n",
            "140/140 - 0s - loss: 0.1899 - accuracy: 0.9291 - val_loss: 0.1396 - val_accuracy: 0.9552\n",
            "Epoch 4/30\n",
            "140/140 - 0s - loss: 0.1219 - accuracy: 0.9637 - val_loss: 0.0927 - val_accuracy: 0.9695\n",
            "Epoch 5/30\n",
            "140/140 - 0s - loss: 0.0904 - accuracy: 0.9733 - val_loss: 0.0681 - val_accuracy: 0.9794\n",
            "Epoch 6/30\n",
            "140/140 - 0s - loss: 0.0731 - accuracy: 0.9764 - val_loss: 0.0544 - val_accuracy: 0.9821\n",
            "Epoch 7/30\n",
            "140/140 - 0s - loss: 0.0648 - accuracy: 0.9796 - val_loss: 0.0470 - val_accuracy: 0.9839\n",
            "Epoch 8/30\n",
            "140/140 - 0s - loss: 0.0578 - accuracy: 0.9821 - val_loss: 0.0412 - val_accuracy: 0.9865\n",
            "Epoch 9/30\n",
            "140/140 - 0s - loss: 0.0519 - accuracy: 0.9832 - val_loss: 0.0376 - val_accuracy: 0.9883\n",
            "Epoch 10/30\n",
            "140/140 - 0s - loss: 0.0495 - accuracy: 0.9843 - val_loss: 0.0350 - val_accuracy: 0.9883\n",
            "Epoch 11/30\n",
            "140/140 - 0s - loss: 0.0460 - accuracy: 0.9845 - val_loss: 0.0329 - val_accuracy: 0.9883\n",
            "Epoch 12/30\n",
            "140/140 - 0s - loss: 0.0420 - accuracy: 0.9868 - val_loss: 0.0315 - val_accuracy: 0.9901\n",
            "Epoch 13/30\n",
            "140/140 - 0s - loss: 0.0377 - accuracy: 0.9888 - val_loss: 0.0299 - val_accuracy: 0.9901\n",
            "Epoch 14/30\n",
            "140/140 - 0s - loss: 0.0366 - accuracy: 0.9901 - val_loss: 0.0291 - val_accuracy: 0.9910\n",
            "Epoch 15/30\n",
            "140/140 - 0s - loss: 0.0348 - accuracy: 0.9892 - val_loss: 0.0285 - val_accuracy: 0.9901\n",
            "Epoch 16/30\n",
            "140/140 - 0s - loss: 0.0317 - accuracy: 0.9904 - val_loss: 0.0278 - val_accuracy: 0.9901\n",
            "Epoch 17/30\n",
            "140/140 - 0s - loss: 0.0302 - accuracy: 0.9921 - val_loss: 0.0294 - val_accuracy: 0.9919\n",
            "Epoch 18/30\n",
            "140/140 - 0s - loss: 0.0283 - accuracy: 0.9917 - val_loss: 0.0274 - val_accuracy: 0.9937\n",
            "Epoch 19/30\n",
            "140/140 - 0s - loss: 0.0290 - accuracy: 0.9906 - val_loss: 0.0275 - val_accuracy: 0.9919\n",
            "Epoch 20/30\n",
            "140/140 - 0s - loss: 0.0266 - accuracy: 0.9924 - val_loss: 0.0272 - val_accuracy: 0.9892\n",
            "Epoch 21/30\n",
            "140/140 - 0s - loss: 0.0258 - accuracy: 0.9924 - val_loss: 0.0267 - val_accuracy: 0.9910\n",
            "Epoch 22/30\n",
            "140/140 - 0s - loss: 0.0241 - accuracy: 0.9928 - val_loss: 0.0294 - val_accuracy: 0.9883\n",
            "Epoch 23/30\n",
            "140/140 - 0s - loss: 0.0246 - accuracy: 0.9926 - val_loss: 0.0270 - val_accuracy: 0.9910\n",
            "Epoch 24/30\n",
            "140/140 - 0s - loss: 0.0220 - accuracy: 0.9933 - val_loss: 0.0280 - val_accuracy: 0.9901\n"
          ],
          "name": "stdout"
        }
      ]
    },
    {
      "cell_type": "code",
      "metadata": {
        "colab": {
          "base_uri": "https://localhost:8080/"
        },
        "id": "GvWGf668QqGb",
        "outputId": "15bc9d61-0471-4b3c-8801-684cb60d88a9"
      },
      "source": [
        "model.evaluate(testing_padded, test_labels)"
      ],
      "execution_count": null,
      "outputs": [
        {
          "output_type": "stream",
          "text": [
            "35/35 [==============================] - 0s 1ms/step - loss: 0.0280 - accuracy: 0.9901\n"
          ],
          "name": "stdout"
        },
        {
          "output_type": "execute_result",
          "data": {
            "text/plain": [
              "[0.02801038883626461, 0.9901345372200012]"
            ]
          },
          "metadata": {
            "tags": []
          },
          "execution_count": 39
        }
      ]
    },
    {
      "cell_type": "code",
      "metadata": {
        "id": "7uEMGul5Qu3e"
      },
      "source": [
        "# Read as a dataframe \n",
        "metrics = pd.DataFrame(history.history)\n",
        "# Rename column\n",
        "metrics.rename(columns = {'loss': 'Training_Loss', 'accuracy': 'Training_Accuracy', 'val_loss': 'Validation_Loss', 'val_accuracy': 'Validation_Accuracy'}, inplace = True)\n",
        "def plot_graphs1(var1, var2, string):\n",
        "    metrics[[var1, var2]].plot()\n",
        "    plt.title('Training and Validation ' + string)\n",
        "    plt.xlabel ('Number of epochs')\n",
        "    plt.ylabel(string)\n",
        "    plt.legend([var1, var2])"
      ],
      "execution_count": null,
      "outputs": []
    },
    {
      "cell_type": "code",
      "metadata": {
        "colab": {
          "base_uri": "https://localhost:8080/",
          "height": 295
        },
        "id": "8bKZfGQXQx5i",
        "outputId": "b1ee928b-6ce0-4498-f885-e627df026fd7"
      },
      "source": [
        "plot_graphs1('Training_Loss', 'Validation_Loss', 'loss')"
      ],
      "execution_count": null,
      "outputs": [
        {
          "output_type": "display_data",
          "data": {
            "image/png": "[encoded data removed]",
            "text/plain": [
              "<Figure size 432x288 with 1 Axes>"
            ]
          },
          "metadata": {
            "tags": [],
            "needs_background": "light"
          }
        }
      ]
    },
    {
      "cell_type": "code",
      "metadata": {
        "colab": {
          "base_uri": "https://localhost:8080/",
          "height": 295
        },
        "id": "5gBLPZU7Q3VO",
        "outputId": "1a98a146-b284-41e3-c59a-6887b8585cb3"
      },
      "source": [
        "plot_graphs1('Training_Accuracy', 'Validation_Accuracy', 'accuracy')"
      ],
      "execution_count": null,
      "outputs": [
        {
          "output_type": "display_data",
          "data": {
            "image/png": "[encoded data removed]",
            "text/plain": [
              "<Figure size 432x288 with 1 Axes>"
            ]
          },
          "metadata": {
            "tags": [],
            "needs_background": "light"
          }
        }
      ]
    },
    {
      "cell_type": "code",
      "metadata": {
        "colab": {
          "base_uri": "https://localhost:8080/",
          "height": 142
        },
        "id": "Q51DsIH5Rl1s",
        "outputId": "702dbef2-6cf2-48f4-fd9e-3a912ee0be1f"
      },
      "source": [
        "# display long string \n",
        "pd.options.display.max_colwidth=100\n",
        "messages[9:12]"
      ],
      "execution_count": null,
      "outputs": [
        {
          "output_type": "execute_result",
          "data": {
            "text/html": [
              "<div>\n",
              "<style scoped>\n",
              "    .dataframe tbody tr th:only-of-type {\n",
              "        vertical-align: middle;\n",
              "    }\n",
              "\n",
              "    .dataframe tbody tr th {\n",
              "        vertical-align: top;\n",
              "    }\n",
              "\n",
              "    .dataframe thead th {\n",
              "        text-align: right;\n",
              "    }\n",
              "</style>\n",
              "<table border=\"1\" class=\"dataframe\">\n",
              "  <thead>\n",
              "    <tr style=\"text-align: right;\">\n",
              "      <th></th>\n",
              "      <th>label</th>\n",
              "      <th>message</th>\n",
              "    </tr>\n",
              "  </thead>\n",
              "  <tbody>\n",
              "    <tr>\n",
              "      <th>9</th>\n",
              "      <td>1</td>\n",
              "      <td>Had your mobile 11 months or more? U R entitled to Update to the latest colour mobiles with came...</td>\n",
              "    </tr>\n",
              "    <tr>\n",
              "      <th>10</th>\n",
              "      <td>0</td>\n",
              "      <td>I'm gonna be home soon and i don't want to talk about this stuff anymore tonight, k? I've cried ...</td>\n",
              "    </tr>\n",
              "    <tr>\n",
              "      <th>11</th>\n",
              "      <td>1</td>\n",
              "      <td>SIX chances to win CASH! From 100 to 20,000 pounds txt&gt; CSH11 and send to 87575. Cost 150p/day, ...</td>\n",
              "    </tr>\n",
              "  </tbody>\n",
              "</table>\n",
              "</div>"
            ],
            "text/plain": [
              "    label                                                                                              message\n",
              "9       1  Had your mobile 11 months or more? U R entitled to Update to the latest colour mobiles with came...\n",
              "10      0  I'm gonna be home soon and i don't want to talk about this stuff anymore tonight, k? I've cried ...\n",
              "11      1  SIX chances to win CASH! From 100 to 20,000 pounds txt> CSH11 and send to 87575. Cost 150p/day, ..."
            ]
          },
          "metadata": {
            "tags": []
          },
          "execution_count": 78
        }
      ]
    },
    {
      "cell_type": "code",
      "metadata": {
        "id": "4nCwEC_SRnyl"
      },
      "source": [
        "predict_msg = [\n",
        "               \n",
        "\"Had your mobile 11 months or more? U R entitled to Update to the latest colour mobiles with came...\",\n",
        "\"I'm gonna be home soon and i don't want to talk about this stuff anymore tonight, k? I've cried\",\n",
        "\"SIX chances to win CASH! From 100 to 20,000 pounds txt> CSH11 and send to 87575. Cost 150p/day\",\n",
        "\n",
        "]"
      ],
      "execution_count": null,
      "outputs": []
    },
    {
      "cell_type": "code",
      "metadata": {
        "id": "niRvAJ8gRp-a"
      },
      "source": [
        "def predict_spam(predict_msg):\n",
        "    new_seq = tokenizer.texts_to_sequences(predict_msg)\n",
        "    padded = pad_sequences(new_seq, maxlen =max_len,\n",
        "                      padding = padding_type,\n",
        "                      truncating=trunc_type)\n",
        "    return (model.predict(padded))\n"
      ],
      "execution_count": null,
      "outputs": []
    },
    {
      "cell_type": "code",
      "metadata": {
        "colab": {
          "base_uri": "https://localhost:8080/"
        },
        "id": "juIj0EJqT2N8",
        "outputId": "876cd8fe-b8f8-436f-c56e-5b5c9c790b9b"
      },
      "source": [
        "predict_spam(predict_msg)"
      ],
      "execution_count": null,
      "outputs": [
        {
          "output_type": "execute_result",
          "data": {
            "text/plain": [
              "array([[0.9639963 ],\n",
              "       [0.00810209],\n",
              "       [0.00166291]], dtype=float32)"
            ]
          },
          "metadata": {
            "tags": []
          },
          "execution_count": 84
        }
      ]
    },
    {
      "cell_type": "code",
      "metadata": {
        "colab": {
          "base_uri": "https://localhost:8080/"
        },
        "id": "lCXN1c6ERsXJ",
        "outputId": "e752ed84-4ca4-43e3-d4ce-c4c04d73ddfc"
      },
      "source": [
        "predict_msg = [\"You are awarded a Nikon Digital Camera. Call now\",\n",
        "               \"Call me\",\n",
        "          \"What's up?\"]\n",
        "predict_spam(predict_msg)"
      ],
      "execution_count": null,
      "outputs": [
        {
          "output_type": "execute_result",
          "data": {
            "text/plain": [
              "array([[0.9639963 ],\n",
              "       [0.00810209],\n",
              "       [0.00166291]], dtype=float32)"
            ]
          },
          "metadata": {
            "tags": []
          },
          "execution_count": 81
        }
      ]
    },
    {
      "cell_type": "code",
      "metadata": {
        "colab": {
          "base_uri": "https://localhost:8080/"
        },
        "id": "_7juIUloUQbu",
        "outputId": "3fa9a9a1-ed1d-4cea-9e6d-d856f6e5d86b"
      },
      "source": [
        "# Convert the model.\n",
        "converter = tf.lite.TFLiteConverter.from_keras_model(model)\n",
        "tflite_model = converter.convert()\n",
        "\n",
        "# Save the model.\n",
        "with open('ClassifierSpamAndHam.tflite', 'wb') as f:\n",
        "  f.write(tflite_model)"
      ],
      "execution_count": null,
      "outputs": [
        {
          "output_type": "stream",
          "text": [
            "INFO:tensorflow:Assets written to: /tmp/tmp0a92acge/assets\n"
          ],
          "name": "stdout"
        },
        {
          "output_type": "stream",
          "text": [
            "INFO:tensorflow:Assets written to: /tmp/tmp0a92acge/assets\n"
          ],
          "name": "stderr"
        }
      ]
    },
    {
      "cell_type": "code",
      "metadata": {
        "id": "ruO4HxpTVsVF"
      },
      "source": [
        "def makeText(predict_msg):\n",
        "    new_seq = tokenizer.texts_to_sequences(predict_msg)\n",
        "    padded = pad_sequences(new_seq, maxlen =max_len,\n",
        "                      padding = padding_type,\n",
        "                      truncating=trunc_type)\n",
        "    return padded\n",
        "data = makeText(predict_msg[0])"
      ],
      "execution_count": null,
      "outputs": []
    }
  ]
}