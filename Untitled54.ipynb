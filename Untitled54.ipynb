{
  "nbformat": 4,
  "nbformat_minor": 0,
  "metadata": {
    "colab": {
      "name": "Untitled54.ipynb",
      "provenance": [],
      "authorship_tag": "ABX9TyPrRXdKqpN423UAENgCcbNc",
      "include_colab_link": true
    },
    "kernelspec": {
      "name": "python3",
      "display_name": "Python 3"
    },
    "language_info": {
      "name": "python"
    }
  },
  "cells": [
    {
      "cell_type": "markdown",
      "metadata": {
        "id": "view-in-github",
        "colab_type": "text"
      },
      "source": [
        "<a href=\"https://colab.research.google.com/github/vijayshankarrealdeal/GoogleColab/blob/main/Untitled54.ipynb\" target=\"_parent\"><img src=\"https://colab.research.google.com/assets/colab-badge.svg\" alt=\"Open In Colab\"/></a>"
      ]
    },
    {
      "cell_type": "code",
      "metadata": {
        "colab": {
          "base_uri": "https://localhost:8080/"
        },
        "id": "x_MnYpIJPGlt",
        "outputId": "fbcf2afc-a3bb-44e1-e800-f5dc80c6c850"
      },
      "source": [
        "from google.colab import drive\n",
        "drive.mount('/content/drive', force_remount=True)"
      ],
      "execution_count": 15,
      "outputs": [
        {
          "output_type": "stream",
          "text": [
            "Mounted at /content/drive\n"
          ],
          "name": "stdout"
        }
      ]
    },
    {
      "cell_type": "code",
      "metadata": {
        "colab": {
          "base_uri": "https://localhost:8080/"
        },
        "id": "1qw1miFSPVZ4",
        "outputId": "b4e6a3d0-45d6-4e00-fb36-3ecf3a6543cf"
      },
      "source": [
        "%tensorflow_version 1.x\n",
        "import tensorflow\n",
        "print(tensorflow.__version__)"
      ],
      "execution_count": 16,
      "outputs": [
        {
          "output_type": "stream",
          "text": [
            "1.15.2\n"
          ],
          "name": "stdout"
        }
      ]
    },
    {
      "cell_type": "code",
      "metadata": {
        "colab": {
          "base_uri": "https://localhost:8080/"
        },
        "id": "nYLvZ2HcPabF",
        "outputId": "94a57d84-4718-4df1-f669-6ed9412de545"
      },
      "source": [
        "!git clone https://github.com/NVlabs/stylegan.git\n",
        "!ls /content/stylegan/\n"
      ],
      "execution_count": 17,
      "outputs": [
        {
          "output_type": "stream",
          "text": [
            "fatal: destination path 'stylegan' already exists and is not an empty directory.\n",
            "config.py\t generate_figures.py\tREADME.md\t     train.py\n",
            "datasets\t LICENSE.txt\t\trun_metrics.py\n",
            "dataset_tool.py  metrics\t\tstylegan-teaser.png\n",
            "dnnlib\t\t pretrained_example.py\ttraining\n"
          ],
          "name": "stdout"
        }
      ]
    },
    {
      "cell_type": "code",
      "metadata": {
        "id": "3UHaMCsRPluB"
      },
      "source": [
        "import sys"
      ],
      "execution_count": 18,
      "outputs": []
    },
    {
      "cell_type": "code",
      "metadata": {
        "id": "sNRquI6yP0XB"
      },
      "source": [
        "sys.path.insert(0, \"/content/stylegan\")\n",
        "import dnnlib"
      ],
      "execution_count": 19,
      "outputs": []
    },
    {
      "cell_type": "code",
      "metadata": {
        "id": "h_XeuEdZRg9T"
      },
      "source": [
        "import zipfile"
      ],
      "execution_count": 20,
      "outputs": []
    },
    {
      "cell_type": "code",
      "metadata": {
        "id": "coBVcxDwRjds"
      },
      "source": [
        "zip_ref = zipfile.ZipFile(\"/content/drive/MyDrive/Kaggle/NightSky.zip\", 'r')\n",
        "zip_ref.extractall(\"/content/CData/\")\n",
        "zip_ref.close()"
      ],
      "execution_count": 21,
      "outputs": []
    },
    {
      "cell_type": "code",
      "metadata": {
        "colab": {
          "base_uri": "https://localhost:8080/"
        },
        "id": "9JHHK7_5P7NI",
        "outputId": "37f10ebd-8115-4554-d3b8-0634ed00e953"
      },
      "source": [
        "# resize all the images to same size\n",
        "import os\n",
        "from tqdm import tqdm\n",
        "import cv2\n",
        "from PIL import Image\n",
        "from resizeimage import resizeimage\n",
        "path = '/content/CData/'\n",
        "for filename in tqdm(os.listdir(path),desc ='reading images ...'):\n",
        "  image = Image.open(path+filename)\n",
        "  image = image.resize((64,64))\n",
        "  image.save(path+filename, image.format)"
      ],
      "execution_count": 22,
      "outputs": [
        {
          "output_type": "stream",
          "text": [
            "reading images ...: 100%|██████████| 4319/4319 [01:39<00:00, 43.49it/s]\n"
          ],
          "name": "stderr"
        }
      ]
    },
    {
      "cell_type": "code",
      "metadata": {
        "colab": {
          "base_uri": "https://localhost:8080/"
        },
        "id": "vDQ7AtOFQbL2",
        "outputId": "f9d38edb-4dd9-4246-b30b-2d6d9e42a06f"
      },
      "source": [
        "! python /content/stylegan/dataset_tool.py create_from_images /content/stylegan/datasets/custom-dataset /content/CData"
      ],
      "execution_count": 25,
      "outputs": [
        {
          "output_type": "stream",
          "text": [
            "WARNING:tensorflow:From /content/stylegan/dnnlib/tflib/tfutil.py:34: The name tf.Dimension is deprecated. Please use tf.compat.v1.Dimension instead.\n",
            "\n",
            "WARNING:tensorflow:From /content/stylegan/dnnlib/tflib/tfutil.py:74: The name tf.variable_scope is deprecated. Please use tf.compat.v1.variable_scope instead.\n",
            "\n",
            "WARNING:tensorflow:From /content/stylegan/dnnlib/tflib/tfutil.py:128: The name tf.Session is deprecated. Please use tf.compat.v1.Session instead.\n",
            "\n",
            "Loading images from \"/content/CData\"\n",
            "Creating dataset \"/content/stylegan/datasets/custom-dataset\"\n",
            "0 / 4319\rWARNING:tensorflow:From /content/stylegan/dataset_tool.py:75: The name tf.python_io.TFRecordOptions is deprecated. Please use tf.io.TFRecordOptions instead.\n",
            "\n",
            "WARNING:tensorflow:From /content/stylegan/dataset_tool.py:75: The name tf.python_io.TFRecordCompressionType is deprecated. Please use tf.compat.v1.python_io.TFRecordCompressionType instead.\n",
            "\n",
            "WARNING:tensorflow:From /content/stylegan/dataset_tool.py:78: The name tf.python_io.TFRecordWriter is deprecated. Please use tf.io.TFRecordWriter instead.\n",
            "\n",
            "/content/stylegan/dataset_tool.py:87: DeprecationWarning: tostring() is deprecated. Use tobytes() instead.\n",
            "  'data': tf.train.Feature(bytes_list=tf.train.BytesList(value=[quant.tostring()]))}))\n",
            "Added 708 images.\n",
            "Traceback (most recent call last):\n",
            "  File \"/content/stylegan/dataset_tool.py\", line 643, in <module>\n",
            "    execute_cmdline(sys.argv)\n",
            "  File \"/content/stylegan/dataset_tool.py\", line 638, in execute_cmdline\n",
            "    func(**vars(args))\n",
            "  File \"/content/stylegan/dataset_tool.py\", line 526, in create_from_images\n",
            "    img = img.transpose([2, 0, 1]) # HWC => CHW\n",
            "ValueError: axes don't match array\n"
          ],
          "name": "stdout"
        }
      ]
    },
    {
      "cell_type": "code",
      "metadata": {
        "id": "IqJombjVSpIY"
      },
      "source": [
        ""
      ],
      "execution_count": null,
      "outputs": []
    }
  ]
}