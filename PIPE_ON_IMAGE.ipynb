{
  "nbformat": 4,
  "nbformat_minor": 0,
  "metadata": {
    "colab": {
      "name": "PIPE ON IMAGE.ipynb",
      "provenance": [],
      "authorship_tag": "ABX9TyOqPi5VmCiEGocsKxHOH+vb",
      "include_colab_link": true
    },
    "kernelspec": {
      "name": "python3",
      "display_name": "Python 3"
    },
    "language_info": {
      "name": "python"
    }
  },
  "cells": [
    {
      "cell_type": "markdown",
      "metadata": {
        "id": "view-in-github",
        "colab_type": "text"
      },
      "source": [
        "<a href=\"https://colab.research.google.com/github/vijayshankarrealdeal/GoogleColab/blob/main/PIPE_ON_IMAGE.ipynb\" target=\"_parent\"><img src=\"https://colab.research.google.com/assets/colab-badge.svg\" alt=\"Open In Colab\"/></a>"
      ]
    },
    {
      "cell_type": "code",
      "metadata": {
        "id": "n4Jx7gxFEh20"
      },
      "source": [
        "%tensorflow_version 1.x\n",
        "!pip install --upgrade h5py==2.10.0\n",
        "!git clone https://github.com/pysource7/Mask_RCNN\n",
        "import sys\n",
        "sys.path.append(\"/content/Mask_RCNN/demo\")\n",
        "from train_mask_rcnn_demo import *\n",
        "%matplotlib inline"
      ],
      "execution_count": null,
      "outputs": []
    },
    {
      "cell_type": "code",
      "metadata": {
        "id": "skOlvKF6EnEN"
      },
      "source": [
        "# Load Image\n",
        "img = cv2.imread(\"/content/IMG_20210731_162020.jpg\")\n",
        "\n",
        "test_model, inference_config = load_test_model(1)\n",
        "image = cv2.cvtColor(img, cv2.COLOR_BGR2RGB)\n",
        "\n",
        "# Detect results\n",
        "r = model.detect([image])[0]\n",
        "colors = random_colors(num_classes)"
      ],
      "execution_count": null,
      "outputs": []
    },
    {
      "cell_type": "code",
      "metadata": {
        "id": "NjhLFYJDEoqQ"
      },
      "source": [
        "# Get Coordinates and show it on the image\n",
        "object_count = len(r[\"class_ids\"])\n",
        "for i in range(object_count):\n",
        "    # 1. Mask\n",
        "    mask = r[\"masks\"][:, :, i]\n",
        "    contours = get_mask_contours(mask)\n",
        "    for cnt in contours:\n",
        "        cv2.polylines(img, [cnt], True, colors[i], 2)\n",
        "        img = draw_mask(img, [cnt], colors[i])"
      ],
      "execution_count": null,
      "outputs": []
    }
  ]
}