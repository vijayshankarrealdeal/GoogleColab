{
  "nbformat": 4,
  "nbformat_minor": 0,
  "metadata": {
    "colab": {
      "name": "lookattesorflow.ipynb",
      "provenance": [],
      "collapsed_sections": [],
      "authorship_tag": "ABX9TyMlwEbC2RKP+MRlVFWsRTJl",
      "include_colab_link": true
    },
    "kernelspec": {
      "name": "python3",
      "display_name": "Python 3"
    },
    "language_info": {
      "name": "python"
    }
  },
  "cells": [
    {
      "cell_type": "markdown",
      "metadata": {
        "id": "view-in-github",
        "colab_type": "text"
      },
      "source": [
        "<a href=\"https://colab.research.google.com/github/vijayshankarrealdeal/GoogleColab/blob/main/lookattesorflow.ipynb\" target=\"_parent\"><img src=\"https://colab.research.google.com/assets/colab-badge.svg\" alt=\"Open In Colab\"/></a>"
      ]
    },
    {
      "cell_type": "code",
      "metadata": {
        "id": "IAq8KYf-ris2"
      },
      "source": [
        "import tensorflow as tf"
      ],
      "execution_count": null,
      "outputs": []
    },
    {
      "cell_type": "code",
      "metadata": {
        "colab": {
          "base_uri": "https://localhost:8080/"
        },
        "id": "FG3TjuXmtGjW",
        "outputId": "482a7d44-849b-442a-afe5-6bda283a33f9"
      },
      "source": [
        "a = tf.constant([2])\n",
        "b = tf.constant([3])\n",
        "\n",
        "c = tf.add(a,b)\n",
        "c"
      ],
      "execution_count": null,
      "outputs": [
        {
          "output_type": "execute_result",
          "data": {
            "text/plain": [
              "<tf.Tensor: shape=(1,), dtype=int32, numpy=array([5], dtype=int32)>"
            ]
          },
          "metadata": {
            "tags": []
          },
          "execution_count": 61
        }
      ]
    },
    {
      "cell_type": "code",
      "metadata": {
        "colab": {
          "base_uri": "https://localhost:8080/"
        },
        "id": "tM39qRl6tZ2F",
        "outputId": "7461f89d-863a-4fa1-d491-44d351b96e1b"
      },
      "source": [
        "session = tf.print(c)"
      ],
      "execution_count": null,
      "outputs": [
        {
          "output_type": "stream",
          "text": [
            "[5]\n"
          ],
          "name": "stdout"
        }
      ]
    },
    {
      "cell_type": "code",
      "metadata": {
        "colab": {
          "base_uri": "https://localhost:8080/"
        },
        "id": "lb1Jz6ERuSGT",
        "outputId": "023a9d81-e37d-41e6-df67-17056d6fc712"
      },
      "source": [
        "tf.device"
      ],
      "execution_count": null,
      "outputs": [
        {
          "output_type": "execute_result",
          "data": {
            "text/plain": [
              "<function tensorflow.python.framework.ops.device_v2>"
            ]
          },
          "metadata": {
            "tags": []
          },
          "execution_count": 63
        }
      ]
    },
    {
      "cell_type": "code",
      "metadata": {
        "id": "nYrfgdoDuydk"
      },
      "source": [
        "Scaler = tf.constant([2])\n",
        "Vector = tf.constant([2,3,5])\n",
        "Matrix = tf.constant([[2,3],[4,5]])\n",
        "Tensor = tf.constant([ [[1,23,4],[5,6,7],[21,3,5]],[[1,123,4],[5,46,7],[1,3,5]] ])\n"
      ],
      "execution_count": null,
      "outputs": []
    },
    {
      "cell_type": "code",
      "metadata": {
        "colab": {
          "base_uri": "https://localhost:8080/"
        },
        "id": "Uam5qMjhvvu0",
        "outputId": "66240ef1-425d-4c66-efd1-deed957ddf98"
      },
      "source": [
        "tf.print(Vector)"
      ],
      "execution_count": null,
      "outputs": [
        {
          "output_type": "stream",
          "text": [
            "[2 3 5]\n"
          ],
          "name": "stdout"
        }
      ]
    },
    {
      "cell_type": "code",
      "metadata": {
        "id": "9CGOi-_ww2ra"
      },
      "source": [
        "import numpy as np\n",
        "import matplotlib.pyplot as plt\n",
        "import tensorflow as tf\n",
        "\n",
        "def line(x):\n",
        "  return 2*x+4\n",
        "X = np.arange(0,20)\n",
        "y = tf.constant(np.array([k for k in line(X)], dtype=np.float32))\n",
        "a = tf.Variable(1.0, trainable=True)\n",
        "b = tf.Variable(0.2, trainable=True)\n",
        "\n",
        "def objective_fun(X):\n",
        "    y_in = a * X + b\n",
        "    return y_in\n",
        "\n",
        "\n",
        "def loss_fun(y_true, y_pred):\n",
        "    # loss = tf.reduce_mean(tf.square(y_true - y_pred))\n",
        "    loss = tf.reduce_mean(tf.abs(y_pred - y_true))\n",
        "    return loss\n",
        "\n",
        "optimizer = tf.optimizers.SGD (0.01)\n",
        "\n"
      ],
      "execution_count": 1,
      "outputs": []
    },
    {
      "cell_type": "code",
      "metadata": {
        "id": "tpDyA6tUAEsb"
      },
      "source": [
        "MAX_ITER = 1000\n",
        "for it in range(MAX_ITER):\n",
        "    with tf.GradientTape() as tape:\n",
        "        y_pred = objective_fun(X)\n",
        "        loss = loss_fun(y_pred, y)\n",
        "    grad = tape.gradient(loss, [a, b])\n",
        "    optimizer.apply_gradients(zip(grad, [a, b]))\n",
        "    print(loss.numpy())"
      ],
      "execution_count": null,
      "outputs": []
    },
    {
      "cell_type": "code",
      "metadata": {
        "id": "tW9VeaG3AJkp"
      },
      "source": [
        "new_a,new_b = a.numpy(),b.numpy()"
      ],
      "execution_count": 6,
      "outputs": []
    },
    {
      "cell_type": "code",
      "metadata": {
        "id": "46eC4v5RAQKZ"
      },
      "source": [
        "def pridict(X):\n",
        "  return new_a*X + new_b\n",
        "\n"
      ],
      "execution_count": 7,
      "outputs": []
    },
    {
      "cell_type": "code",
      "metadata": {
        "id": "ppRUaibOAgPz"
      },
      "source": [
        "X_new = np.arange(0,20)\n",
        "y_new = tf.constant(np.array([k for k in pridict(X)], dtype=np.float32))"
      ],
      "execution_count": 8,
      "outputs": []
    },
    {
      "cell_type": "code",
      "metadata": {
        "colab": {
          "base_uri": "https://localhost:8080/",
          "height": 282
        },
        "id": "SKWG_frJAmoj",
        "outputId": "a8175f46-b9d8-408f-c16a-b4dbdb593f8e"
      },
      "source": [
        "plt.plot(X,y,color = \"r\")\n",
        "plt.plot(X_new,y_new,color = \"b\")\n",
        "plt.show"
      ],
      "execution_count": 11,
      "outputs": [
        {
          "output_type": "execute_result",
          "data": {
            "text/plain": [
              "<function matplotlib.pyplot.show>"
            ]
          },
          "metadata": {
            "tags": []
          },
          "execution_count": 11
        },
        {
          "output_type": "display_data",
          "data": {
            "image/png": "[encoded data removed]",
            "text/plain": [
              "<Figure size 432x288 with 1 Axes>"
            ]
          },
          "metadata": {
            "tags": [],
            "needs_background": "light"
          }
        }
      ]
    }
  ]
}