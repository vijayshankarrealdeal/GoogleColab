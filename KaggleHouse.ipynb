{
  "nbformat": 4,
  "nbformat_minor": 0,
  "metadata": {
    "colab": {
      "name": "KaggleHouse.ipynb",
      "provenance": [],
      "collapsed_sections": [],
      "authorship_tag": "ABX9TyNs+wMBwV9kwPDvlVdazDsA",
      "include_colab_link": true
    },
    "kernelspec": {
      "name": "python3",
      "display_name": "Python 3"
    },
    "language_info": {
      "name": "python"
    },
    "accelerator": "GPU"
  },
  "cells": [
    {
      "cell_type": "markdown",
      "metadata": {
        "id": "view-in-github",
        "colab_type": "text"
      },
      "source": [
        "<a href=\"https://colab.research.google.com/github/vijayshankarrealdeal/GoogleColab/blob/main/KaggleHouse.ipynb\" target=\"_parent\"><img src=\"https://colab.research.google.com/assets/colab-badge.svg\" alt=\"Open In Colab\"/></a>"
      ]
    },
    {
      "cell_type": "code",
      "metadata": {
        "id": "-_VXJvkRH1Yb"
      },
      "source": [
        "import pandas as pd\n",
        "import numpy as np\n",
        "df  = pd.read_csv('/content/train.csv')\n",
        "def pre_porcess(df):\n",
        "  df.drop(['Alley','PoolQC','Fence','MiscFeature'],axis = 1,inplace = True)\n",
        "  val = ['OverallQual','OverallCond','YearBuilt','LotArea','SaleCondition','GarageCars','GarageArea','GarageQual','MSSubClass','LotArea','Neighborhood']\n",
        "  lk = df[val]\n",
        "  lk.GarageQual = lk.GarageQual.fillna('TA')\n",
        "  di = ['SaleCondition','GarageQual','Neighborhood']\n",
        "  for val in di:\n",
        "    one_hot = pd.get_dummies(lk[val])\n",
        "    lk = lk.drop(val,axis = 1)\n",
        "    lk = lk.join(one_hot.iloc[:,1:])\n",
        "  return lk \n",
        "Y = df.SalePrice"
      ],
      "execution_count": null,
      "outputs": []
    },
    {
      "cell_type": "code",
      "metadata": {
        "colab": {
          "base_uri": "https://localhost:8080/"
        },
        "id": "JB74AYuAfyiK",
        "outputId": "55ee52ce-fd16-40e0-d35c-c5f9e1659c0c"
      },
      "source": [
        "lk = pre_porcess(df)\n"
      ],
      "execution_count": null,
      "outputs": [
        {
          "output_type": "stream",
          "text": [
            "/usr/local/lib/python3.7/dist-packages/pandas/core/generic.py:5170: SettingWithCopyWarning: \n",
            "A value is trying to be set on a copy of a slice from a DataFrame.\n",
            "Try using .loc[row_indexer,col_indexer] = value instead\n",
            "\n",
            "See the caveats in the documentation: https://pandas.pydata.org/pandas-docs/stable/user_guide/indexing.html#returning-a-view-versus-a-copy\n",
            "  self[name] = value\n"
          ],
          "name": "stderr"
        }
      ]
    },
    {
      "cell_type": "code",
      "metadata": {
        "id": "5KDmPEC5hZ_V"
      },
      "source": [
        "from sklearn.preprocessing import StandardScaler\n",
        "scaler = StandardScaler()"
      ],
      "execution_count": null,
      "outputs": []
    },
    {
      "cell_type": "code",
      "metadata": {
        "id": "SPjK7flWh0GG"
      },
      "source": [
        "X = lk.values"
      ],
      "execution_count": null,
      "outputs": []
    },
    {
      "cell_type": "code",
      "metadata": {
        "id": "GLozavF5hqHK"
      },
      "source": [
        "X = scaler.fit_transform(X)"
      ],
      "execution_count": null,
      "outputs": []
    },
    {
      "cell_type": "code",
      "metadata": {
        "colab": {
          "base_uri": "https://localhost:8080/"
        },
        "id": "h-zg0K0Uhwt3",
        "outputId": "3ac53002-31a0-4b0f-cd08-e1a0041e5c46"
      },
      "source": [
        "X.shape"
      ],
      "execution_count": null,
      "outputs": [
        {
          "output_type": "execute_result",
          "data": {
            "text/plain": [
              "(1460, 41)"
            ]
          },
          "metadata": {
            "tags": []
          },
          "execution_count": 28
        }
      ]
    },
    {
      "cell_type": "code",
      "metadata": {
        "id": "jHEsFRlNh6y3"
      },
      "source": [
        "from sklearn.model_selection import train_test_split\n",
        "x_train,x_test,y_train,y_test = train_test_split(X,Y.values,random_state = 42,test_size = 0.2)"
      ],
      "execution_count": null,
      "outputs": []
    },
    {
      "cell_type": "code",
      "metadata": {
        "id": "20jM0O03iYWW"
      },
      "source": [
        "import torch\n",
        "import torch.nn as nn\n",
        "import matplotlib.pyplot as plt"
      ],
      "execution_count": null,
      "outputs": []
    },
    {
      "cell_type": "code",
      "metadata": {
        "id": "ao01BXoJkBYX"
      },
      "source": [
        "device = torch.device('cuda' if torch.cuda.is_available()  else 'cpu')"
      ],
      "execution_count": null,
      "outputs": []
    },
    {
      "cell_type": "code",
      "metadata": {
        "id": "axnpkDvkj48j"
      },
      "source": [
        "X_train = torch.from_numpy(x_train.astype(np.float32)).to(device)\n",
        "Y_train = torch.from_numpy(y_train.astype(np.float32)).to(device)\n",
        "X_test = torch.from_numpy(x_test.astype(np.float32)).to(device)\n",
        "Y_test = torch.from_numpy(y_test.astype(np.float32)).to(device)"
      ],
      "execution_count": null,
      "outputs": []
    },
    {
      "cell_type": "code",
      "metadata": {
        "id": "MbMGv9i3icqI"
      },
      "source": [
        "class Model(nn.Module):\n",
        "  def __init__(self,input_layer = 41,hidden_units = 64,output_dim = 1):\n",
        "    super(Model,self).__init__()\n",
        "    self.model = nn.Sequential(\n",
        "        nn.Linear(input_layer,hidden_units),\n",
        "        nn.ReLU(),\n",
        "        nn.Linear(hidden_units,hidden_units*2),\n",
        "        nn.ReLU(),\n",
        "        nn.Dropout(0.2),\n",
        "        nn.Linear(hidden_units*2,hidden_units*4),\n",
        "        nn.Dropout(0.2),\n",
        "        nn.ReLU(),\n",
        "        nn.Linear(hidden_units*4,1)\n",
        "    )\n",
        "\n",
        "  def forward(self,x):\n",
        "    return self.model(x)"
      ],
      "execution_count": null,
      "outputs": []
    },
    {
      "cell_type": "code",
      "metadata": {
        "id": "ohdIEP7sjSbz"
      },
      "source": [
        "loss_fn = nn.MSELoss()\n",
        "model = Model().to(device)\n",
        "optimizer = torch.optim.Adam(model.parameters(),lr=1e-4 * 2)"
      ],
      "execution_count": null,
      "outputs": []
    },
    {
      "cell_type": "code",
      "metadata": {
        "id": "N8vA-dIVlZR3"
      },
      "source": [
        "n_epochs = 400\n",
        "batch_size = 32\n",
        "train_losses = []\n",
        "test_losses = []\n",
        "for ep in range(n_epochs):\n",
        "  permutation = torch.randperm(X_train.size()[0])\n",
        "  train_loss = []\n",
        "  for i in range(0,X_train.size()[0], batch_size):\n",
        "    optimizer.zero_grad()\n",
        "    indices = permutation[i:i+batch_size]\n",
        "    batch_x, batch_y = X_train[indices], Y_train[indices]\n",
        "    outputs = model(batch_x).squeeze()\n",
        "    loss = loss_fn(outputs,batch_y)\n",
        "    train_loss.append(loss.item())\n",
        "    loss.backward()\n",
        "    optimizer.step()\n",
        "  train_loss = np.mean(train_loss)\n",
        "\n",
        "  permutation_test = torch.randperm(X_test.size()[0])\n",
        "  test_loss = []\n",
        "  for i in range(0,X_test.size()[0], batch_size):\n",
        "    indices_test = permutation_test[i:i+batch_size]\n",
        "    batch_x_test, batch_y_test = X_test[indices_test], Y_test[indices_test]\n",
        "    outputs = model(batch_x_test).squeeze()\n",
        "    loss = loss_fn(outputs,batch_y_test)\n",
        "    test_loss.append(loss.item())\n",
        "  test_loss = np.mean(test_loss)\n",
        "\n",
        "  train_losses.append(train_loss)\n",
        "  test_losses.append(test_loss)"
      ],
      "execution_count": null,
      "outputs": []
    },
    {
      "cell_type": "code",
      "metadata": {
        "colab": {
          "base_uri": "https://localhost:8080/",
          "height": 276
        },
        "id": "qkJzQ1gupFqt",
        "outputId": "3d399c56-f056-41a2-c832-34541e43645a"
      },
      "source": [
        "plt.plot(train_losses,color = 'b')\n",
        "plt.plot(test_losses,color = 'r')\n",
        "plt.show()"
      ],
      "execution_count": null,
      "outputs": [
        {
          "output_type": "display_data",
          "data": {
            "image/png": "[encoded data removed]",
            "text/plain": [
              "<Figure size 432x288 with 1 Axes>"
            ]
          },
          "metadata": {
            "tags": [],
            "needs_background": "light"
          }
        }
      ]
    },
    {
      "cell_type": "code",
      "metadata": {
        "id": "2PQ2FfKupKNO"
      },
      "source": [
        "test_df = pd.read_csv('/content/test.csv')\n",
        "sub = pd.read_csv('/content/sample_submission.csv')"
      ],
      "execution_count": null,
      "outputs": []
    },
    {
      "cell_type": "code",
      "metadata": {
        "colab": {
          "base_uri": "https://localhost:8080/"
        },
        "id": "ITbK4hzssPvt",
        "outputId": "51380f3b-f0de-4c1f-d70b-ce37e02a3540"
      },
      "source": [
        "test_d = pre_porcess(test_df)"
      ],
      "execution_count": null,
      "outputs": [
        {
          "output_type": "stream",
          "text": [
            "/usr/local/lib/python3.7/dist-packages/pandas/core/generic.py:5170: SettingWithCopyWarning: \n",
            "A value is trying to be set on a copy of a slice from a DataFrame.\n",
            "Try using .loc[row_indexer,col_indexer] = value instead\n",
            "\n",
            "See the caveats in the documentation: https://pandas.pydata.org/pandas-docs/stable/user_guide/indexing.html#returning-a-view-versus-a-copy\n",
            "  self[name] = value\n"
          ],
          "name": "stderr"
        }
      ]
    },
    {
      "cell_type": "code",
      "metadata": {
        "id": "5CORhsE4slHL"
      },
      "source": [
        "test_d = scaler.fit_transform(test_d)\n",
        "test_d = torch.from_numpy(test_d.astype(np.float32)).to(device)"
      ],
      "execution_count": null,
      "outputs": []
    },
    {
      "cell_type": "code",
      "metadata": {
        "id": "luC1yHTY3M1H"
      },
      "source": [
        "ID = sub.Id"
      ],
      "execution_count": null,
      "outputs": []
    },
    {
      "cell_type": "code",
      "metadata": {
        "id": "xee3kjgCxMQK"
      },
      "source": [
        "X_VAl = sub.iloc[:,1:].values "
      ],
      "execution_count": null,
      "outputs": []
    },
    {
      "cell_type": "code",
      "metadata": {
        "id": "KQaC-kMQsnIq"
      },
      "source": [
        "with torch.no_grad():\n",
        "  pred = model(test_d)"
      ],
      "execution_count": null,
      "outputs": []
    },
    {
      "cell_type": "code",
      "metadata": {
        "id": "BhBQ9qh32W-D"
      },
      "source": [
        "pred = np.array(pred.cpu())"
      ],
      "execution_count": null,
      "outputs": []
    },
    {
      "cell_type": "code",
      "metadata": {
        "id": "Lz8bhDpEs7vC"
      },
      "source": [
        "pred,sub =  pred.squeeze(),X_VAl.squeeze()"
      ],
      "execution_count": null,
      "outputs": []
    },
    {
      "cell_type": "code",
      "metadata": {
        "colab": {
          "base_uri": "https://localhost:8080/",
          "height": 205
        },
        "id": "uIUdxhd430e4",
        "outputId": "2476146c-ea1e-40e0-e89e-da1cfa05aba4"
      },
      "source": [
        "res = pd.concat([ID,res_temp],axis =1)\n",
        "res.head(5)"
      ],
      "execution_count": null,
      "outputs": [
        {
          "output_type": "execute_result",
          "data": {
            "text/html": [
              "<div>\n",
              "<style scoped>\n",
              "    .dataframe tbody tr th:only-of-type {\n",
              "        vertical-align: middle;\n",
              "    }\n",
              "\n",
              "    .dataframe tbody tr th {\n",
              "        vertical-align: top;\n",
              "    }\n",
              "\n",
              "    .dataframe thead th {\n",
              "        text-align: right;\n",
              "    }\n",
              "</style>\n",
              "<table border=\"1\" class=\"dataframe\">\n",
              "  <thead>\n",
              "    <tr style=\"text-align: right;\">\n",
              "      <th></th>\n",
              "      <th>Id</th>\n",
              "      <th>SalePrice</th>\n",
              "    </tr>\n",
              "  </thead>\n",
              "  <tbody>\n",
              "    <tr>\n",
              "      <th>0</th>\n",
              "      <td>1461</td>\n",
              "      <td>89611.578125</td>\n",
              "    </tr>\n",
              "    <tr>\n",
              "      <th>1</th>\n",
              "      <td>1462</td>\n",
              "      <td>104646.359375</td>\n",
              "    </tr>\n",
              "    <tr>\n",
              "      <th>2</th>\n",
              "      <td>1463</td>\n",
              "      <td>144048.703125</td>\n",
              "    </tr>\n",
              "    <tr>\n",
              "      <th>3</th>\n",
              "      <td>1464</td>\n",
              "      <td>170482.171875</td>\n",
              "    </tr>\n",
              "    <tr>\n",
              "      <th>4</th>\n",
              "      <td>1465</td>\n",
              "      <td>213582.531250</td>\n",
              "    </tr>\n",
              "  </tbody>\n",
              "</table>\n",
              "</div>"
            ],
            "text/plain": [
              "     Id      SalePrice\n",
              "0  1461   89611.578125\n",
              "1  1462  104646.359375\n",
              "2  1463  144048.703125\n",
              "3  1464  170482.171875\n",
              "4  1465  213582.531250"
            ]
          },
          "metadata": {
            "tags": []
          },
          "execution_count": 90
        }
      ]
    },
    {
      "cell_type": "code",
      "metadata": {
        "id": "2xFEspRxv1MG"
      },
      "source": [
        "res.to_csv('./submission.csv', index=True)"
      ],
      "execution_count": null,
      "outputs": []
    },
    {
      "cell_type": "code",
      "metadata": {
        "id": "KBJd-pfWtELn",
        "colab": {
          "base_uri": "https://localhost:8080/"
        },
        "outputId": "4bbf1816-8b80-4431-a895-1adc2ba3b8d2"
      },
      "source": [
        "n_correct = 0\n",
        "n_total = sub.shape[0]\n",
        "for i in range(n_total):\n",
        "  if pred[i] == sub[i]:\n",
        "    n_correct += 1\n",
        "\n",
        "print(f'Accuracy {n_correct/n_total}')"
      ],
      "execution_count": null,
      "outputs": [
        {
          "output_type": "stream",
          "text": [
            "Accuracy 0.0\n"
          ],
          "name": "stdout"
        }
      ]
    },
    {
      "cell_type": "code",
      "metadata": {
        "id": "JdwK-j_2xbo5"
      },
      "source": [
        ""
      ],
      "execution_count": null,
      "outputs": []
    }
  ]
}