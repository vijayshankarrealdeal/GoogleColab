{
  "nbformat": 4,
  "nbformat_minor": 0,
  "metadata": {
    "colab": {
      "name": "KaggleHouse.ipynb",
      "provenance": [],
      "collapsed_sections": [],
      "authorship_tag": "ABX9TyPpIeyblX2UwAPzTssgwlce",
      "include_colab_link": true
    },
    "kernelspec": {
      "name": "python3",
      "display_name": "Python 3"
    },
    "language_info": {
      "name": "python"
    },
    "accelerator": "GPU"
  },
  "cells": [
    {
      "cell_type": "markdown",
      "metadata": {
        "id": "view-in-github",
        "colab_type": "text"
      },
      "source": [
        "<a href=\"https://colab.research.google.com/github/vijayshankarrealdeal/GoogleColab/blob/main/KaggleHouse.ipynb\" target=\"_parent\"><img src=\"https://colab.research.google.com/assets/colab-badge.svg\" alt=\"Open In Colab\"/></a>"
      ]
    },
    {
      "cell_type": "code",
      "metadata": {
        "id": "-_VXJvkRH1Yb"
      },
      "source": [
        "import pandas as pd\n",
        "import numpy as np\n",
        "df  = pd.read_csv('/content/train.csv')\n",
        "def pre_porcess(df):\n",
        "  df.drop(['Alley','PoolQC','Fence','MiscFeature'],axis = 1,inplace = True)\n",
        "  val = ['OverallQual','OverallCond','YearBuilt','LotArea','SaleCondition','GarageCars','GarageArea','GarageQual','MSSubClass','LotArea','Neighborhood']\n",
        "  lk = df[val]\n",
        "  lk.GarageQual = lk.GarageQual.fillna('TA')\n",
        "  di = ['SaleCondition','GarageQual','Neighborhood']\n",
        "  for val in di:\n",
        "    one_hot = pd.get_dummies(lk[val])\n",
        "    lk = lk.drop(val,axis = 1)\n",
        "    lk = lk.join(one_hot.iloc[:,1:])\n",
        "  return lk \n",
        "Y = df.SalePrice"
      ],
      "execution_count": 1,
      "outputs": []
    },
    {
      "cell_type": "code",
      "metadata": {
        "colab": {
          "base_uri": "https://localhost:8080/"
        },
        "id": "JB74AYuAfyiK",
        "outputId": "6c915733-c745-4fcc-ffcf-e00e293f313d"
      },
      "source": [
        "lk = pre_porcess(df)\n"
      ],
      "execution_count": 2,
      "outputs": [
        {
          "output_type": "stream",
          "text": [
            "/usr/local/lib/python3.7/dist-packages/pandas/core/generic.py:5170: SettingWithCopyWarning: \n",
            "A value is trying to be set on a copy of a slice from a DataFrame.\n",
            "Try using .loc[row_indexer,col_indexer] = value instead\n",
            "\n",
            "See the caveats in the documentation: https://pandas.pydata.org/pandas-docs/stable/user_guide/indexing.html#returning-a-view-versus-a-copy\n",
            "  self[name] = value\n"
          ],
          "name": "stderr"
        }
      ]
    },
    {
      "cell_type": "code",
      "metadata": {
        "id": "5KDmPEC5hZ_V"
      },
      "source": [
        "from sklearn.preprocessing import StandardScaler\n",
        "scaler = StandardScaler()"
      ],
      "execution_count": 3,
      "outputs": []
    },
    {
      "cell_type": "code",
      "metadata": {
        "id": "SPjK7flWh0GG"
      },
      "source": [
        "X = lk.values"
      ],
      "execution_count": 4,
      "outputs": []
    },
    {
      "cell_type": "code",
      "metadata": {
        "id": "GLozavF5hqHK"
      },
      "source": [
        "X = scaler.fit_transform(X)"
      ],
      "execution_count": 5,
      "outputs": []
    },
    {
      "cell_type": "code",
      "metadata": {
        "colab": {
          "base_uri": "https://localhost:8080/"
        },
        "id": "h-zg0K0Uhwt3",
        "outputId": "f9d99675-444d-43e0-87e7-3c306d539865"
      },
      "source": [
        "X.shape"
      ],
      "execution_count": 6,
      "outputs": [
        {
          "output_type": "execute_result",
          "data": {
            "text/plain": [
              "(1460, 41)"
            ]
          },
          "metadata": {
            "tags": []
          },
          "execution_count": 6
        }
      ]
    },
    {
      "cell_type": "code",
      "metadata": {
        "id": "jHEsFRlNh6y3"
      },
      "source": [
        "from sklearn.model_selection import train_test_split\n",
        "x_train,x_test,y_train,y_test = train_test_split(X,Y.values,random_state = 42,test_size = 0.2)"
      ],
      "execution_count": 7,
      "outputs": []
    },
    {
      "cell_type": "code",
      "metadata": {
        "id": "20jM0O03iYWW"
      },
      "source": [
        "import torch\n",
        "import torch.nn as nn\n",
        "import matplotlib.pyplot as plt"
      ],
      "execution_count": 8,
      "outputs": []
    },
    {
      "cell_type": "code",
      "metadata": {
        "id": "ao01BXoJkBYX"
      },
      "source": [
        "device = torch.device('cuda' if torch.cuda.is_available()  else 'cpu')"
      ],
      "execution_count": 9,
      "outputs": []
    },
    {
      "cell_type": "code",
      "metadata": {
        "id": "axnpkDvkj48j"
      },
      "source": [
        "X_train = torch.from_numpy(x_train.astype(np.float32)).to(device)\n",
        "Y_train = torch.from_numpy(y_train.astype(np.float32)).to(device)\n",
        "X_test = torch.from_numpy(x_test.astype(np.float32)).to(device)\n",
        "Y_test = torch.from_numpy(y_test.astype(np.float32)).to(device)"
      ],
      "execution_count": 10,
      "outputs": []
    },
    {
      "cell_type": "code",
      "metadata": {
        "id": "MbMGv9i3icqI"
      },
      "source": [
        "class Model(nn.Module):\n",
        "  def __init__(self,input_layer = 41,hidden_units = 64,output_dim = 1):\n",
        "    super(Model,self).__init__()\n",
        "    self.model = nn.Sequential(\n",
        "        nn.Linear(input_layer,hidden_units),\n",
        "        nn.ReLU(),\n",
        "        nn.Linear(hidden_units,hidden_units*2),\n",
        "        nn.ReLU(),\n",
        "        nn.Dropout(0.2),\n",
        "        nn.Linear(hidden_units*2,hidden_units*4),\n",
        "        nn.Dropout(0.2),\n",
        "        nn.ReLU(),\n",
        "        nn.Linear(hidden_units*4,1)\n",
        "    )\n",
        "\n",
        "  def forward(self,x):\n",
        "    return self.model(x)"
      ],
      "execution_count": 11,
      "outputs": []
    },
    {
      "cell_type": "code",
      "metadata": {
        "id": "ohdIEP7sjSbz"
      },
      "source": [
        "loss_fn = nn.MSELoss()\n",
        "model = Model().to(device)\n",
        "optimizer = torch.optim.Adam(model.parameters(),lr=1e-4)"
      ],
      "execution_count": 12,
      "outputs": []
    },
    {
      "cell_type": "code",
      "metadata": {
        "id": "N8vA-dIVlZR3"
      },
      "source": [
        "n_epochs = 750\n",
        "batch_size = 128\n",
        "train_losses = []\n",
        "test_losses = []\n",
        "for ep in range(n_epochs):\n",
        "  permutation = torch.randperm(X_train.size()[0])\n",
        "  train_loss = []\n",
        "  for i in range(0,X_train.size()[0], batch_size):\n",
        "    optimizer.zero_grad()\n",
        "    indices = permutation[i:i+batch_size]\n",
        "    batch_x, batch_y = X_train[indices], Y_train[indices]\n",
        "    outputs = model(batch_x).squeeze()\n",
        "    loss = loss_fn(outputs,batch_y)\n",
        "    train_loss.append(loss.item())\n",
        "    loss.backward()\n",
        "    optimizer.step()\n",
        "  train_loss = np.mean(train_loss)\n",
        "\n",
        "  permutation_test = torch.randperm(X_test.size()[0])\n",
        "  test_loss = []\n",
        "  for i in range(0,X_test.size()[0], batch_size):\n",
        "    indices_test = permutation_test[i:i+batch_size]\n",
        "    batch_x_test, batch_y_test = X_test[indices_test], Y_test[indices_test]\n",
        "    outputs = model(batch_x_test).squeeze()\n",
        "    loss = loss_fn(outputs,batch_y_test)\n",
        "    test_loss.append(loss.item())\n",
        "  test_loss = np.mean(test_loss)\n",
        "\n",
        "  train_losses.append(train_loss)\n",
        "  test_losses.append(test_loss)"
      ],
      "execution_count": 13,
      "outputs": []
    },
    {
      "cell_type": "code",
      "metadata": {
        "colab": {
          "base_uri": "https://localhost:8080/",
          "height": 276
        },
        "id": "qkJzQ1gupFqt",
        "outputId": "ebef576a-357e-4cea-d45a-5fe2fb99ef95"
      },
      "source": [
        "plt.plot(train_losses,color = 'b')\n",
        "plt.plot(test_losses,color = 'r')\n",
        "plt.show()"
      ],
      "execution_count": 14,
      "outputs": [
        {
          "output_type": "display_data",
          "data": {
            "image/png": "[encoded data removed]",
            "text/plain": [
              "<Figure size 432x288 with 1 Axes>"
            ]
          },
          "metadata": {
            "tags": [],
            "needs_background": "light"
          }
        }
      ]
    },
    {
      "cell_type": "code",
      "metadata": {
        "colab": {
          "base_uri": "https://localhost:8080/"
        },
        "id": "ITbK4hzssPvt",
        "outputId": "a9c43eb2-710d-444a-a215-cf5702f786f8"
      },
      "source": [
        "test_df = pd.read_csv('/content/test.csv')\n",
        "sub = pd.read_csv('/content/sample_submission.csv')\n",
        "test_d = pre_porcess(test_df)\n",
        "test_d = scaler.fit_transform(test_d)\n",
        "test_d = torch.from_numpy(test_d.astype(np.float32)).to(device)\n",
        "X_VAl = sub.iloc[:,1:].values "
      ],
      "execution_count": 15,
      "outputs": [
        {
          "output_type": "stream",
          "text": [
            "/usr/local/lib/python3.7/dist-packages/pandas/core/generic.py:5170: SettingWithCopyWarning: \n",
            "A value is trying to be set on a copy of a slice from a DataFrame.\n",
            "Try using .loc[row_indexer,col_indexer] = value instead\n",
            "\n",
            "See the caveats in the documentation: https://pandas.pydata.org/pandas-docs/stable/user_guide/indexing.html#returning-a-view-versus-a-copy\n",
            "  self[name] = value\n"
          ],
          "name": "stderr"
        }
      ]
    },
    {
      "cell_type": "code",
      "metadata": {
        "id": "KQaC-kMQsnIq"
      },
      "source": [
        "with torch.no_grad():\n",
        "  pred = model(test_d)\n",
        "pred = np.array(pred.cpu())"
      ],
      "execution_count": 16,
      "outputs": []
    },
    {
      "cell_type": "code",
      "metadata": {
        "id": "kud_FJfMGi0D"
      },
      "source": [
        "pred,sub =  pred.squeeze(),X_VAl.squeeze()"
      ],
      "execution_count": 17,
      "outputs": []
    },
    {
      "cell_type": "code",
      "metadata": {
        "colab": {
          "base_uri": "https://localhost:8080/"
        },
        "id": "i6n16eB5FQW-",
        "outputId": "5a3bc838-525a-46f6-d3b2-3518a4de7fbc"
      },
      "source": [
        "pred[200],sub[200]"
      ],
      "execution_count": 18,
      "outputs": [
        {
          "output_type": "execute_result",
          "data": {
            "text/plain": [
              "(17544620.0, 201912.27062288302)"
            ]
          },
          "metadata": {
            "tags": []
          },
          "execution_count": 18
        }
      ]
    },
    {
      "cell_type": "code",
      "metadata": {
        "id": "KBJd-pfWtELn",
        "colab": {
          "base_uri": "https://localhost:8080/"
        },
        "outputId": "006a0815-52f3-441a-81c7-549bd71927f7"
      },
      "source": [
        "n_correct = 0\n",
        "n_total = sub.shape[0]\n",
        "for i in range(n_total):\n",
        "  if pred[i] == sub[i]:\n",
        "    n_correct += 1\n",
        "\n",
        "print(f'Accuracy {n_correct/n_total}')"
      ],
      "execution_count": 19,
      "outputs": [
        {
          "output_type": "stream",
          "text": [
            "Accuracy 0.0\n"
          ],
          "name": "stdout"
        }
      ]
    },
    {
      "cell_type": "code",
      "metadata": {
        "id": "JdwK-j_2xbo5",
        "colab": {
          "base_uri": "https://localhost:8080/",
          "height": 276
        },
        "outputId": "f0f14530-f51d-4f8d-c73a-880d782efd88"
      },
      "source": [
        "plt.plot(range(len(pred)),pred,color = 'g')\n",
        "plt.plot(range(len(sub)),sub,color = 'b')\n",
        "plt.show()"
      ],
      "execution_count": 20,
      "outputs": [
        {
          "output_type": "display_data",
          "data": {
            "image/png": "[encoded data removed]",
            "text/plain": [
              "<Figure size 432x288 with 1 Axes>"
            ]
          },
          "metadata": {
            "tags": [],
            "needs_background": "light"
          }
        }
      ]
    }
  ]
}