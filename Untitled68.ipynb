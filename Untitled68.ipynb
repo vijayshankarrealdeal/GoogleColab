{
  "nbformat": 4,
  "nbformat_minor": 0,
  "metadata": {
    "colab": {
      "name": "Untitled68.ipynb",
      "provenance": [],
      "collapsed_sections": [],
      "authorship_tag": "ABX9TyP1sr5jxXDSIFoajXIbGUYY",
      "include_colab_link": true
    },
    "kernelspec": {
      "name": "python3",
      "display_name": "Python 3"
    },
    "language_info": {
      "name": "python"
    }
  },
  "cells": [
    {
      "cell_type": "markdown",
      "metadata": {
        "id": "view-in-github",
        "colab_type": "text"
      },
      "source": [
        "<a href=\"https://colab.research.google.com/github/vijayshankarrealdeal/GoogleColab/blob/main/Untitled68.ipynb\" target=\"_parent\"><img src=\"https://colab.research.google.com/assets/colab-badge.svg\" alt=\"Open In Colab\"/></a>"
      ]
    },
    {
      "cell_type": "code",
      "metadata": {
        "id": "3MO_rRY64GgK"
      },
      "source": [
        "! mkdir ~/.kaggle\n",
        "! cp kaggle.json ~/.kaggle/\n",
        "! chmod 600 ~/.kaggle/kaggle.json"
      ],
      "execution_count": 1,
      "outputs": []
    },
    {
      "cell_type": "code",
      "metadata": {
        "id": "8H_9yTjc4OdI"
      },
      "source": [
        "!kaggle datasets download -d tanlikesmath/diabetic-retinopathy-resized"
      ],
      "execution_count": null,
      "outputs": []
    },
    {
      "cell_type": "code",
      "metadata": {
        "id": "HfD8rcFD4SAT"
      },
      "source": [
        "!unzip '/content/diabetic-retinopathy-resized.zip' -d '/content/data'"
      ],
      "execution_count": null,
      "outputs": []
    },
    {
      "cell_type": "code",
      "metadata": {
        "id": "pf3FxNeY6FZH"
      },
      "source": [
        "import shutil"
      ],
      "execution_count": 5,
      "outputs": []
    },
    {
      "cell_type": "code",
      "metadata": {
        "id": "NV6Nj7uP5ChC"
      },
      "source": [
        "mydir= '/content/data/resized_train_cropped'\n",
        "shutil.rmtree(mydir)"
      ],
      "execution_count": 6,
      "outputs": []
    },
    {
      "cell_type": "code",
      "metadata": {
        "id": "Y12Vn99g6HC1"
      },
      "source": [
        "import pandas as pd\n",
        "import os\n",
        "import numpy as np"
      ],
      "execution_count": 7,
      "outputs": []
    },
    {
      "cell_type": "code",
      "metadata": {
        "id": "jdZyAVoe6fNr"
      },
      "source": [
        "data = pd.read_csv('/content/data/trainLabels.csv')"
      ],
      "execution_count": 8,
      "outputs": []
    },
    {
      "cell_type": "code",
      "metadata": {
        "colab": {
          "base_uri": "https://localhost:8080/",
          "height": 206
        },
        "id": "YuOfUTvs6p44",
        "outputId": "42618f04-4a64-43bf-b452-5017f54b12b2"
      },
      "source": [
        "data.head()"
      ],
      "execution_count": 9,
      "outputs": [
        {
          "output_type": "execute_result",
          "data": {
            "text/html": [
              "<div>\n",
              "<style scoped>\n",
              "    .dataframe tbody tr th:only-of-type {\n",
              "        vertical-align: middle;\n",
              "    }\n",
              "\n",
              "    .dataframe tbody tr th {\n",
              "        vertical-align: top;\n",
              "    }\n",
              "\n",
              "    .dataframe thead th {\n",
              "        text-align: right;\n",
              "    }\n",
              "</style>\n",
              "<table border=\"1\" class=\"dataframe\">\n",
              "  <thead>\n",
              "    <tr style=\"text-align: right;\">\n",
              "      <th></th>\n",
              "      <th>image</th>\n",
              "      <th>level</th>\n",
              "    </tr>\n",
              "  </thead>\n",
              "  <tbody>\n",
              "    <tr>\n",
              "      <th>0</th>\n",
              "      <td>10_left</td>\n",
              "      <td>0</td>\n",
              "    </tr>\n",
              "    <tr>\n",
              "      <th>1</th>\n",
              "      <td>10_right</td>\n",
              "      <td>0</td>\n",
              "    </tr>\n",
              "    <tr>\n",
              "      <th>2</th>\n",
              "      <td>13_left</td>\n",
              "      <td>0</td>\n",
              "    </tr>\n",
              "    <tr>\n",
              "      <th>3</th>\n",
              "      <td>13_right</td>\n",
              "      <td>0</td>\n",
              "    </tr>\n",
              "    <tr>\n",
              "      <th>4</th>\n",
              "      <td>15_left</td>\n",
              "      <td>1</td>\n",
              "    </tr>\n",
              "  </tbody>\n",
              "</table>\n",
              "</div>"
            ],
            "text/plain": [
              "      image  level\n",
              "0   10_left      0\n",
              "1  10_right      0\n",
              "2   13_left      0\n",
              "3  13_right      0\n",
              "4   15_left      1"
            ]
          },
          "metadata": {},
          "execution_count": 9
        }
      ]
    },
    {
      "cell_type": "code",
      "metadata": {
        "colab": {
          "base_uri": "https://localhost:8080/"
        },
        "id": "GRB0EzQn6spd",
        "outputId": "a388d466-fc77-4365-bcbe-6f4d0cb28f36"
      },
      "source": [
        "len(data)"
      ],
      "execution_count": 10,
      "outputs": [
        {
          "output_type": "execute_result",
          "data": {
            "text/plain": [
              "35126"
            ]
          },
          "metadata": {},
          "execution_count": 10
        }
      ]
    },
    {
      "cell_type": "code",
      "metadata": {
        "id": "jQy3P8O37FwI"
      },
      "source": [
        "base_path = '/content/data/resized_train/resized_train'"
      ],
      "execution_count": 11,
      "outputs": []
    },
    {
      "cell_type": "code",
      "metadata": {
        "id": "tVOig4G96x9M"
      },
      "source": [
        "os.listdir(base_path)"
      ],
      "execution_count": null,
      "outputs": []
    },
    {
      "cell_type": "code",
      "metadata": {
        "id": "xbBEOC1w-qji"
      },
      "source": [
        "# 0 - No DR\n",
        "# 1 - Mild\n",
        "# 2 - Moderate\n",
        "# 3 - Severe\n",
        "# 4 - Proliferative DR"
      ],
      "execution_count": null,
      "outputs": []
    },
    {
      "cell_type": "code",
      "metadata": {
        "id": "7n9dMAhL-XQE"
      },
      "source": [
        "!mkdir train"
      ],
      "execution_count": 13,
      "outputs": []
    },
    {
      "cell_type": "code",
      "metadata": {
        "colab": {
          "base_uri": "https://localhost:8080/"
        },
        "id": "BCsFgdn2_QVo",
        "outputId": "d98a6779-0a6c-4f75-bedb-8fe886bebf3b"
      },
      "source": [
        "cd train"
      ],
      "execution_count": 14,
      "outputs": [
        {
          "output_type": "stream",
          "text": [
            "/content/train\n"
          ],
          "name": "stdout"
        }
      ]
    },
    {
      "cell_type": "code",
      "metadata": {
        "id": "fq-UMI1b_RjK"
      },
      "source": [
        "!mkdir 0\n",
        "!mkdir 1\n",
        "!mkdir 2\n",
        "!mkdir 3\n",
        "!mkdir 4"
      ],
      "execution_count": 15,
      "outputs": []
    },
    {
      "cell_type": "code",
      "metadata": {
        "colab": {
          "base_uri": "https://localhost:8080/"
        },
        "id": "XdP876U7_D10",
        "outputId": "02f1d3d7-2e23-497d-89a7-515c1fe67d99"
      },
      "source": [
        "cd .."
      ],
      "execution_count": 17,
      "outputs": [
        {
          "output_type": "stream",
          "text": [
            "/content\n"
          ],
          "name": "stdout"
        }
      ]
    },
    {
      "cell_type": "code",
      "metadata": {
        "id": "l80x6jm3-9hr"
      },
      "source": [
        "!mkdir test"
      ],
      "execution_count": 19,
      "outputs": []
    },
    {
      "cell_type": "code",
      "metadata": {
        "colab": {
          "base_uri": "https://localhost:8080/"
        },
        "id": "0RHTsRDC_Lpu",
        "outputId": "f4e2c93e-91eb-47ae-ad14-244d6802f8aa"
      },
      "source": [
        "cd test"
      ],
      "execution_count": 20,
      "outputs": [
        {
          "output_type": "stream",
          "text": [
            "/content/test\n"
          ],
          "name": "stdout"
        }
      ]
    },
    {
      "cell_type": "code",
      "metadata": {
        "id": "R53kcANj_OnR"
      },
      "source": [
        "!mkdir 0\n",
        "!mkdir 1\n",
        "!mkdir 2\n",
        "!mkdir 3\n",
        "!mkdir 4"
      ],
      "execution_count": 21,
      "outputs": []
    },
    {
      "cell_type": "code",
      "metadata": {
        "id": "Uhh7x14Y_j49"
      },
      "source": [
        "def give_folder_name(break_point,folder_value,main_path,file):\n",
        "  if break_point < 27000:\n",
        "    train_path = '/content/train/'\n",
        "    if folder_value == '0':\n",
        "      shutil.copy(train_path + folder_value + '/' + file,main_path)\n",
        "    elif folder_value == '1':\n",
        "      shutil.copy(train_path + folder_value + '/' + file,main_path)\n",
        "    elif folder_value == '2':\n",
        "      shutil.copy(train_path + folder_value + '/' + file,main_path)\n",
        "    elif folder_value == '3':\n",
        "      shutil.copy(train_path + folder_value + '/' + file,main_path)\n",
        "    elif folder_value == '4':\n",
        "      shutil.copy(train_path + folder_value + '/' + file,main_path)\n",
        "  else:\n",
        "    test_path = '/content/test/'\n",
        "    if folder_value == '0':\n",
        "      shutil.copy(test_path + folder_value + '/' + file,main_path)\n",
        "    elif folder_value == '1':\n",
        "      shutil.copy(test_path + folder_value + '/' + file,main_path)\n",
        "    elif folder_value == '2':\n",
        "      shutil.copy(test_path + folder_value + '/' + file,main_path)\n",
        "    elif folder_value == '3':\n",
        "      shutil.copy(test_path + folder_value + '/' + file,main_path)\n",
        "    elif folder_value == '4':\n",
        "      shutil.copy(test_path + folder_value + '/' + file,main_path)\n"
      ],
      "execution_count": 88,
      "outputs": []
    },
    {
      "cell_type": "code",
      "metadata": {
        "colab": {
          "base_uri": "https://localhost:8080/"
        },
        "id": "nsxYIvUL7hUK",
        "outputId": "ac4adcb2-9205-41f2-d810-655c30577469"
      },
      "source": [
        "count = 0\n",
        "for image  in os.listdir(base_path):\n",
        "  t = data[data['image'] == image[:-5]]\n",
        "  main_path = base_path +'/'+str(t['image'].values.squeeze()) + '.jpeg'\n",
        "  value = int(t['level'].values)\n",
        "\n",
        "  file_name = str(t['image'].values.squeeze()) + '.jpeg'\n",
        "  give_folder_name(count , value , main_path , file_name)\n",
        "  count += 1 \n",
        "  print(value)\n",
        "\n",
        "  print(t.values.squeeze())\n",
        "  break"
      ],
      "execution_count": 93,
      "outputs": [
        {
          "output_type": "stream",
          "text": [
            "2\n",
            "['17004_left' 2]\n"
          ],
          "name": "stdout"
        }
      ]
    },
    {
      "cell_type": "code",
      "metadata": {
        "colab": {
          "base_uri": "https://localhost:8080/"
        },
        "id": "Bkpf2BiU8RYA",
        "outputId": "eefc723c-0470-4e64-c3e8-b8bde3fde224"
      },
      "source": [
        "os.listdir('/content/train/0'),os.listdir('/content/train/1')"
      ],
      "execution_count": 90,
      "outputs": [
        {
          "output_type": "execute_result",
          "data": {
            "text/plain": [
              "([], [])"
            ]
          },
          "metadata": {},
          "execution_count": 90
        }
      ]
    },
    {
      "cell_type": "code",
      "metadata": {
        "colab": {
          "base_uri": "https://localhost:8080/"
        },
        "id": "sayJk-YmJzMc",
        "outputId": "522405f0-f36f-41da-9a32-eab6caac24d5"
      },
      "source": [
        "os.listdir('/content/train/2'),os.listdir('/content/train/3'),os.listdir('/content/train/4')"
      ],
      "execution_count": 91,
      "outputs": [
        {
          "output_type": "execute_result",
          "data": {
            "text/plain": [
              "([], [], [])"
            ]
          },
          "metadata": {},
          "execution_count": 91
        }
      ]
    },
    {
      "cell_type": "code",
      "metadata": {
        "id": "QlTb_UesLzeo"
      },
      "source": [
        ""
      ],
      "execution_count": null,
      "outputs": []
    }
  ]
}